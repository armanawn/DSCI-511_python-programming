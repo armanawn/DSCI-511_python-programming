{
 "cells": [
  {
   "cell_type": "markdown",
   "metadata": {},
   "source": [
    "<img src=\"img/dsci511_header.png\" width=\"600\">"
   ]
  },
  {
   "cell_type": "markdown",
   "metadata": {},
   "source": [
    "# Lecture 3: Classes, debugging & testing"
   ]
  },
  {
   "cell_type": "markdown",
   "metadata": {},
   "source": [
    "## Lecture learning objectives"
   ]
  },
  {
   "cell_type": "markdown",
   "metadata": {},
   "source": [
    "- Describe the difference between a `class` and a `function` in Python\n",
    "- Be able to create a `class`\n",
    "- Differentiate between `instance attributes` and `class attributes`\n",
    "- Differentiate between `methods`, `class methods` and `static methods`\n",
    "- Understand and implement `subclassing`/`inheritance` with Python classes\n",
    "- Formulate a test case to prove a function design specification\n",
    "- Use an `assert` statement to validate a test case"
   ]
  },
  {
   "cell_type": "markdown",
   "metadata": {},
   "source": [
    "## Python classes"
   ]
  },
  {
   "cell_type": "markdown",
   "metadata": {},
   "source": [
    "- We've seen data types like `dict` and `list` which are built into Python.\n",
    "- Today we'll see how to create our own data types. \n",
    "- The general approach to programming using classes and objects is called [object-oriented programming](https://en.wikipedia.org/wiki/Object-oriented_programming)"
   ]
  },
  {
   "cell_type": "code",
   "execution_count": 1,
   "metadata": {},
   "outputs": [],
   "source": [
    "list_1 = ['Vancouver', 'Edmonto', 'Toronto']\n",
    "temp_city = [34.2, 30.3, 25.5]\n",
    "comp_1 = [i**3 for i in range(20) if i % 2 == 0]"
   ]
  },
  {
   "cell_type": "code",
   "execution_count": 2,
   "metadata": {},
   "outputs": [
    {
     "data": {
      "text/plain": [
       "list"
      ]
     },
     "execution_count": 2,
     "metadata": {},
     "output_type": "execute_result"
    }
   ],
   "source": [
    "type(list_1)"
   ]
  },
  {
   "cell_type": "code",
   "execution_count": 3,
   "metadata": {},
   "outputs": [
    {
     "data": {
      "text/plain": [
       "list"
      ]
     },
     "execution_count": 3,
     "metadata": {},
     "output_type": "execute_result"
    }
   ],
   "source": [
    "type(temp_city)"
   ]
  },
  {
   "cell_type": "code",
   "execution_count": 4,
   "metadata": {},
   "outputs": [
    {
     "data": {
      "text/plain": [
       "list"
      ]
     },
     "execution_count": 4,
     "metadata": {},
     "output_type": "execute_result"
    }
   ],
   "source": [
    "type(comp_1)"
   ]
  },
  {
   "cell_type": "markdown",
   "metadata": {},
   "source": [
    "- Try doing this: type `list_1.` and hit TAB (_note the dot at the end_). You should see a list of methods for `list_1.`.\n",
    "- Try doing the same thing with `temp_city.`. The methods should be similar to those of `list_1.`.\n",
    "- Same goes for `comp_1.`, because all of these objects are of the same class/type (`list`), and have the same methods!"
   ]
  },
  {
   "cell_type": "code",
   "execution_count": 5,
   "metadata": {},
   "outputs": [],
   "source": [
    "info = {'name': 'stu1', 'id': 2134, 'passwd': 'lkd98@(*k@()!@'}\n",
    "car1 = {'make': 'Bugatti', 'hp': 968, 'color': 'dark red', 'owners': ['Mike', 'Arman']}"
   ]
  },
  {
   "cell_type": "code",
   "execution_count": 6,
   "metadata": {},
   "outputs": [
    {
     "data": {
      "text/plain": [
       "dict"
      ]
     },
     "execution_count": 6,
     "metadata": {},
     "output_type": "execute_result"
    }
   ],
   "source": [
    "type(info)"
   ]
  },
  {
   "cell_type": "code",
   "execution_count": 7,
   "metadata": {},
   "outputs": [
    {
     "data": {
      "text/plain": [
       "dict"
      ]
     },
     "execution_count": 7,
     "metadata": {},
     "output_type": "execute_result"
    }
   ],
   "source": [
    "type(car1)"
   ]
  },
  {
   "cell_type": "markdown",
   "metadata": {},
   "source": [
    "- Type `info.` (and hit TAB if you're using JupyterLab) and see how different methods should appear.\n",
    "- Try doing the same thing with `car1.`. The methods should be similar to those of `info.`.\n",
    "- Once again, `info` and `car1` are of the same class/type (`dict`), and therefore have the same methods!"
   ]
  },
  {
   "cell_type": "markdown",
   "metadata": {},
   "source": [
    "- `list` and `dict` here are called **classes** and `temp_city` or `car1` are instances of those classes, which are also called **objects** (classes documentation [here](https://docs.python.org/3/tutorial/classes.html)).\n",
    "- We say `info` is an **instance** of the **class** `dict`. Hence:"
   ]
  },
  {
   "cell_type": "code",
   "execution_count": 8,
   "metadata": {},
   "outputs": [
    {
     "data": {
      "text/plain": [
       "True"
      ]
     },
     "execution_count": 8,
     "metadata": {},
     "output_type": "execute_result"
    }
   ],
   "source": [
    "isinstance(info, dict)"
   ]
  },
  {
   "cell_type": "code",
   "execution_count": 9,
   "metadata": {},
   "outputs": [
    {
     "data": {
      "text/plain": [
       "False"
      ]
     },
     "execution_count": 9,
     "metadata": {},
     "output_type": "execute_result"
    }
   ],
   "source": [
    "isinstance(car1, list)"
   ]
  },
  {
   "cell_type": "markdown",
   "metadata": {},
   "source": [
    "### Why create your own types/classes?\n",
    "\n",
    "- \"_Classes provide a means of bundling data and functionality together_\" (from the [Python docs](https://docs.python.org/3/tutorial/classes.html)), in a way that's easy to use, reuse and build upon\n",
    "- It's easiest to discover the utility of classes through an example so let's get started!"
   ]
  },
  {
   "cell_type": "markdown",
   "metadata": {},
   "source": [
    "- Say we want to start storing information about MDS students and instructors\n",
    "- We'll start with first name, last name, and email address in a dictionary:"
   ]
  },
  {
   "cell_type": "code",
   "execution_count": 10,
   "metadata": {},
   "outputs": [],
   "source": [
    "mds_1 = {'first': 'Arman',\n",
    "         'last': 'Ahmadi',\n",
    "         'email': 'arman.ahmadi@ubc.ca'}"
   ]
  },
  {
   "cell_type": "markdown",
   "metadata": {},
   "source": [
    "- We also want to be able to extract a member's full name from their first and last name, but don't want to have to write out this information again\n",
    "- A function could be good for this:"
   ]
  },
  {
   "cell_type": "code",
   "execution_count": 11,
   "metadata": {},
   "outputs": [],
   "source": [
    "def full_name(first, last):\n",
    "    \"\"\"Concatenate first and last with a space.\"\"\"\n",
    "    return f\"{first} {last}\""
   ]
  },
  {
   "cell_type": "code",
   "execution_count": 12,
   "metadata": {},
   "outputs": [
    {
     "data": {
      "text/plain": [
       "'Arman Ahmadi'"
      ]
     },
     "execution_count": 12,
     "metadata": {},
     "output_type": "execute_result"
    }
   ],
   "source": [
    "full_name(mds_1['first'], mds_1['last'])"
   ]
  },
  {
   "cell_type": "markdown",
   "metadata": {},
   "source": [
    "- We can just copy-paste the same code to create new members:"
   ]
  },
  {
   "cell_type": "code",
   "execution_count": 13,
   "metadata": {},
   "outputs": [
    {
     "data": {
      "text/plain": [
       "'Tiffany Timbers'"
      ]
     },
     "execution_count": 13,
     "metadata": {},
     "output_type": "execute_result"
    }
   ],
   "source": [
    "mds_2 = {'first': 'Tiffany',\n",
    "         'last': 'Timbers',\n",
    "         'email': 'tiffany.timbers@ubc.ca'}\n",
    "\n",
    "full_name(mds_2['first'], mds_2['last'])"
   ]
  },
  {
   "cell_type": "markdown",
   "metadata": {},
   "source": [
    "### Creating a class\n",
    "\n",
    "- The above was pretty inefficient.\n",
    "- You can imagine that the more objects we want and the more complicated the objects get (more data, more functions) the worse this problem becomes!\n",
    "- However, this is a perfect use case for a class!\n",
    "- A class can be thought of as a **blueprint** for creating objects, in this case MDS members\n",
    "- **Terminology alert**:\n",
    "    - Class data = \"Attributes\"\n",
    "    - Class functions = \"Methods\"\n",
    "- **Syntax alert**:\n",
    "    - We define a class with the `class` keyword, followed by a name and a colon (`:`):\n",
    "    \n",
    "> **A class bundles _data_ and _functions_ together.**"
   ]
  },
  {
   "cell_type": "code",
   "execution_count": 14,
   "metadata": {},
   "outputs": [],
   "source": [
    "class MdsMember:\n",
    "    pass"
   ]
  },
  {
   "cell_type": "code",
   "execution_count": 15,
   "metadata": {},
   "outputs": [
    {
     "data": {
      "text/plain": [
       "<__main__.MdsMember at 0x10d334df0>"
      ]
     },
     "execution_count": 15,
     "metadata": {},
     "output_type": "execute_result"
    }
   ],
   "source": [
    "mds_1 = MdsMember()\n",
    "mds_1"
   ]
  },
  {
   "cell_type": "markdown",
   "metadata": {},
   "source": [
    "- We can add an `__init__` method to our class which will be run every time we create a new instance, for example, to add data to the instance\n",
    "- Let's add an `__init__` method to our `MdsMember` class\n",
    "- **Note:** `self` refers to the instance of a class and should always be passed to class method **definitions** as the first argument"
   ]
  },
  {
   "cell_type": "code",
   "execution_count": 16,
   "metadata": {},
   "outputs": [],
   "source": [
    "class MdsMember:\n",
    "\n",
    "    def __init__(self, first, last):\n",
    "        # the below are called \"attributes\"\n",
    "        self.first = first\n",
    "        self.last = last\n",
    "        self.email = first.lower() + \".\" + last.lower() + \"@ubc.ca\""
   ]
  },
  {
   "cell_type": "code",
   "execution_count": 17,
   "metadata": {},
   "outputs": [],
   "source": [
    "mds_1 = MdsMember('Varada', 'Kolhatkar')"
   ]
  },
  {
   "cell_type": "code",
   "execution_count": 18,
   "metadata": {},
   "outputs": [
    {
     "data": {
      "text/plain": [
       "'Varada'"
      ]
     },
     "execution_count": 18,
     "metadata": {},
     "output_type": "execute_result"
    }
   ],
   "source": [
    "mds_1.first"
   ]
  },
  {
   "cell_type": "code",
   "execution_count": 19,
   "metadata": {},
   "outputs": [
    {
     "data": {
      "text/plain": [
       "'Kolhatkar'"
      ]
     },
     "execution_count": 19,
     "metadata": {},
     "output_type": "execute_result"
    }
   ],
   "source": [
    "mds_1.last"
   ]
  },
  {
   "cell_type": "code",
   "execution_count": 20,
   "metadata": {},
   "outputs": [
    {
     "data": {
      "text/plain": [
       "'varada.kolhatkar@ubc.ca'"
      ]
     },
     "execution_count": 20,
     "metadata": {},
     "output_type": "execute_result"
    }
   ],
   "source": [
    "mds_1.email"
   ]
  },
  {
   "cell_type": "markdown",
   "metadata": {},
   "source": [
    "- To get the full name, we can use the function we defined earlier"
   ]
  },
  {
   "cell_type": "code",
   "execution_count": 21,
   "metadata": {},
   "outputs": [
    {
     "data": {
      "text/plain": [
       "'Varada Kolhatkar'"
      ]
     },
     "execution_count": 21,
     "metadata": {},
     "output_type": "execute_result"
    }
   ],
   "source": [
    "full_name(mds_1.first, mds_1.last)"
   ]
  },
  {
   "cell_type": "markdown",
   "metadata": {},
   "source": [
    "- But a better way to do this is to integrate this function into our class as a `method`"
   ]
  },
  {
   "cell_type": "code",
   "execution_count": 22,
   "metadata": {},
   "outputs": [],
   "source": [
    "class MdsMember:\n",
    "\n",
    "    def __init__(self, first, last):\n",
    "        self.first = first\n",
    "        self.last = last\n",
    "        self.email = first.lower() + \".\" + last.lower() + \"@ubc.ca\"\n",
    "\n",
    "    def full_name(self):\n",
    "        return f\"{self.first} {self.last}\""
   ]
  },
  {
   "cell_type": "code",
   "execution_count": 23,
   "metadata": {},
   "outputs": [],
   "source": [
    "mds_1 = MdsMember('Varada', 'Kolhatkar')"
   ]
  },
  {
   "cell_type": "code",
   "execution_count": 24,
   "metadata": {},
   "outputs": [
    {
     "data": {
      "text/plain": [
       "'Varada'"
      ]
     },
     "execution_count": 24,
     "metadata": {},
     "output_type": "execute_result"
    }
   ],
   "source": [
    "mds_1.first"
   ]
  },
  {
   "cell_type": "code",
   "execution_count": 25,
   "metadata": {},
   "outputs": [
    {
     "data": {
      "text/plain": [
       "'Kolhatkar'"
      ]
     },
     "execution_count": 25,
     "metadata": {},
     "output_type": "execute_result"
    }
   ],
   "source": [
    "mds_1.last"
   ]
  },
  {
   "cell_type": "code",
   "execution_count": 26,
   "metadata": {},
   "outputs": [
    {
     "data": {
      "text/plain": [
       "'varada.kolhatkar@ubc.ca'"
      ]
     },
     "execution_count": 26,
     "metadata": {},
     "output_type": "execute_result"
    }
   ],
   "source": [
    "mds_1.email"
   ]
  },
  {
   "cell_type": "code",
   "execution_count": 27,
   "metadata": {},
   "outputs": [
    {
     "data": {
      "text/plain": [
       "'Varada Kolhatkar'"
      ]
     },
     "execution_count": 27,
     "metadata": {},
     "output_type": "execute_result"
    }
   ],
   "source": [
    "mds_1.full_name()"
   ]
  },
  {
   "cell_type": "markdown",
   "metadata": {},
   "source": [
    "- **NOTE**: Notice that we need the parentheses above because we are calling a `method` (i.e., a function), not an `attribute`"
   ]
  },
  {
   "cell_type": "markdown",
   "metadata": {},
   "source": [
    "### Instance & class attributes\n",
    "\n",
    "- Attributes like `mds_1.first` are sometimes called `instance attributes`\n",
    "- They are specific to the object we have created\n",
    "- But we can also set `class attributes` which are the same amongst all instances of a class, they are defined outside of the `__init__` method"
   ]
  },
  {
   "cell_type": "code",
   "execution_count": 28,
   "metadata": {},
   "outputs": [],
   "source": [
    "class MdsMember:\n",
    "\n",
    "    role = \"MDS member\"  # class attributes\n",
    "    campus = \"UBC\"\n",
    "\n",
    "    def __init__(self, first, last):\n",
    "        self.first = first\n",
    "        self.last = last\n",
    "        self.email = first.lower() + \".\" + last.lower() + \"@ubc.ca\"\n",
    "\n",
    "    def full_name(self):\n",
    "        return f\"{self.first} {self.last}\""
   ]
  },
  {
   "cell_type": "markdown",
   "metadata": {},
   "source": [
    "- All instances of our class share the class attribute"
   ]
  },
  {
   "cell_type": "code",
   "execution_count": 29,
   "metadata": {},
   "outputs": [],
   "source": [
    "mds_1 = MdsMember('Arman', 'Ahmadi')\n",
    "mds_2 = MdsMember('Joel', 'Ostblom')"
   ]
  },
  {
   "cell_type": "code",
   "execution_count": 30,
   "metadata": {},
   "outputs": [
    {
     "name": "stdout",
     "output_type": "stream",
     "text": [
      "Arman is at campus UBC.\n",
      "Joel is at campus UBC.\n"
     ]
    }
   ],
   "source": [
    "print(f\"{mds_1.first} is at campus {mds_1.campus}.\")\n",
    "print(f\"{mds_2.first} is at campus {mds_2.campus}.\")"
   ]
  },
  {
   "cell_type": "markdown",
   "metadata": {},
   "source": [
    "- We can even change the class attribute after our instances have been created\n",
    "- This will affect all of our created instances"
   ]
  },
  {
   "cell_type": "code",
   "execution_count": 31,
   "metadata": {},
   "outputs": [],
   "source": [
    "mds_1 = MdsMember('Arman', 'Ahmadi')\n",
    "mds_2 = MdsMember('Mike', 'Gelbart')\n",
    "MdsMember.campus = 'UBC Okanagan'"
   ]
  },
  {
   "cell_type": "code",
   "execution_count": 32,
   "metadata": {},
   "outputs": [
    {
     "name": "stdout",
     "output_type": "stream",
     "text": [
      "Arman is at campus UBC Okanagan.\n",
      "Mike is at campus UBC Okanagan.\n"
     ]
    }
   ],
   "source": [
    "print(f\"{mds_1.first} is at campus {mds_1.campus}.\")\n",
    "print(f\"{mds_2.first} is at campus {mds_2.campus}.\")"
   ]
  },
  {
   "cell_type": "markdown",
   "metadata": {},
   "source": [
    "- You can also change the class attribute for just a single instance\n",
    "- But this is typically not recommended because if you want differing attributes for instances, you should probably use `instance attributes`"
   ]
  },
  {
   "cell_type": "code",
   "execution_count": 33,
   "metadata": {},
   "outputs": [],
   "source": [
    "class MdsMember:\n",
    "\n",
    "    role = \"MDS member\"\n",
    "    campus = \"UBC\"\n",
    "\n",
    "    def __init__(self, first, last):\n",
    "        self.first = first\n",
    "        self.last = last\n",
    "        self.email = first.lower() + \".\" + last.lower() + \"@ubc.ca\"\n",
    "\n",
    "    def full_name(self):\n",
    "        return f\"{self.first} {self.last}\""
   ]
  },
  {
   "cell_type": "code",
   "execution_count": 34,
   "metadata": {},
   "outputs": [],
   "source": [
    "mds_1 = MdsMember('Arman', 'Ahmadi')\n",
    "mds_2 = MdsMember('Mike', 'Gelbart')\n",
    "mds_1.campus = 'UBC Okanagan'"
   ]
  },
  {
   "cell_type": "code",
   "execution_count": 35,
   "metadata": {},
   "outputs": [
    {
     "name": "stdout",
     "output_type": "stream",
     "text": [
      "Arman is at campus UBC Okanagan.\n",
      "Mike is at campus UBC.\n"
     ]
    }
   ],
   "source": [
    "print(f\"{mds_1.first} is at campus {mds_1.campus}.\")\n",
    "print(f\"{mds_2.first} is at campus {mds_2.campus}.\")"
   ]
  },
  {
   "cell_type": "markdown",
   "metadata": {},
   "source": [
    "### Instance, class, and static methods\n",
    "\n",
    "- The `methods` we've seen so far are sometimes calls \"regular\" `methods`, they act on an instance of the class (i.e., take `self` as an argument)\n",
    "- We also have `class methods` that act on the actual class\n",
    "- `class methods` are often used as \"**alternative constructors**\"\n",
    "- As an example, let's say that somebody commonly wants to use our class with comma-separated names like the following:"
   ]
  },
  {
   "cell_type": "code",
   "execution_count": 36,
   "metadata": {},
   "outputs": [],
   "source": [
    "name = 'Arman,Ahmadi'"
   ]
  },
  {
   "cell_type": "markdown",
   "metadata": {},
   "source": [
    "- Unfortunately, those users can't do this:"
   ]
  },
  {
   "cell_type": "code",
   "execution_count": 37,
   "metadata": {
    "tags": [
     "raises-exception"
    ]
   },
   "outputs": [
    {
     "ename": "TypeError",
     "evalue": "MdsMember.__init__() missing 1 required positional argument: 'last'",
     "output_type": "error",
     "traceback": [
      "\u001b[0;31m---------------------------------------------------------------------------\u001b[0m",
      "\u001b[0;31mTypeError\u001b[0m                                 Traceback (most recent call last)",
      "Cell \u001b[0;32mIn [37], line 1\u001b[0m\n\u001b[0;32m----> 1\u001b[0m \u001b[43mMdsMember\u001b[49m\u001b[43m(\u001b[49m\u001b[43mname\u001b[49m\u001b[43m)\u001b[49m\n",
      "\u001b[0;31mTypeError\u001b[0m: MdsMember.__init__() missing 1 required positional argument: 'last'"
     ]
    }
   ],
   "source": [
    "MdsMember(name)"
   ]
  },
  {
   "cell_type": "markdown",
   "metadata": {},
   "source": [
    "- To use our class, they would need to parse this string into `first` and `last`"
   ]
  },
  {
   "cell_type": "code",
   "execution_count": 38,
   "metadata": {
    "tags": []
   },
   "outputs": [],
   "source": [
    "first, last = name.split(',')"
   ]
  },
  {
   "cell_type": "code",
   "execution_count": 39,
   "metadata": {},
   "outputs": [
    {
     "data": {
      "text/plain": [
       "'Arman'"
      ]
     },
     "execution_count": 39,
     "metadata": {},
     "output_type": "execute_result"
    }
   ],
   "source": [
    "first"
   ]
  },
  {
   "cell_type": "code",
   "execution_count": 40,
   "metadata": {},
   "outputs": [
    {
     "data": {
      "text/plain": [
       "'Ahmadi'"
      ]
     },
     "execution_count": 40,
     "metadata": {},
     "output_type": "execute_result"
    }
   ],
   "source": [
    "last"
   ]
  },
  {
   "cell_type": "markdown",
   "metadata": {},
   "source": [
    "- Then they could make an instance of our class"
   ]
  },
  {
   "cell_type": "code",
   "execution_count": 41,
   "metadata": {},
   "outputs": [],
   "source": [
    "mds_1 = MdsMember(first, last)"
   ]
  },
  {
   "cell_type": "markdown",
   "metadata": {},
   "source": [
    "- If this is a common use case for the users of our code, we don't want them to have to coerce the data every time before using our class\n",
    "- Instead, we can facilitate their use-case with a `class method`\n",
    "- There are two things we need to do to use a `class method`:\n",
    "    - Identify our method as `class method` using the decorator `@classmethod` (more on decorators in a bit)\n",
    "    - Pass `cls` instead of `self` as the first argument"
   ]
  },
  {
   "cell_type": "code",
   "execution_count": 42,
   "metadata": {},
   "outputs": [],
   "source": [
    "class MdsMember:\n",
    "\n",
    "    role = \"MDS member\"\n",
    "    campus = \"UBC\"\n",
    "\n",
    "    def __init__(self, first, last):\n",
    "        self.first = first\n",
    "        self.last = last\n",
    "        self.email = first.lower() + \".\" + last.lower() + \"@ubc.ca\"\n",
    "\n",
    "    def full_name(self):\n",
    "        return f\"{self.first} {self.last}\"\n",
    "\n",
    "    @classmethod\n",
    "    def from_csv(cls, csv_name):\n",
    "        first, last = csv_name.split(',')\n",
    "        return cls(first, last)"
   ]
  },
  {
   "cell_type": "markdown",
   "metadata": {},
   "source": [
    "- Now we can use our comma-separated values directly!"
   ]
  },
  {
   "cell_type": "code",
   "execution_count": 43,
   "metadata": {},
   "outputs": [
    {
     "data": {
      "text/plain": [
       "'Arman Ahmadi'"
      ]
     },
     "execution_count": 43,
     "metadata": {},
     "output_type": "execute_result"
    }
   ],
   "source": [
    "mds_1 = MdsMember.from_csv('Arman,Ahmadi')\n",
    "mds_1.full_name()"
   ]
  },
  {
   "cell_type": "markdown",
   "metadata": {},
   "source": [
    "- There is a third kind of method called a `static method`\n",
    "- `static methods` do not operate on either the instance or the class, they are just simple functions\n",
    "- But we might want to include them in our class because they are somehow related to our class\n",
    "- They are defined using the `@staticmethod` decorator"
   ]
  },
  {
   "cell_type": "code",
   "execution_count": 44,
   "metadata": {},
   "outputs": [],
   "source": [
    "class MdsMember:\n",
    "\n",
    "    role = \"MDS member\"\n",
    "    campus = \"UBC\"\n",
    "\n",
    "    def __init__(self, first, last):\n",
    "        self.first = first\n",
    "        self.last = last\n",
    "        self.email = first.lower() + \".\" + last.lower() + \"@ubc.ca\"\n",
    "\n",
    "    def full_name(self):\n",
    "        return f\"{self.first} {self.last}\"\n",
    "\n",
    "    @classmethod\n",
    "    def from_csv(cls, csv_name):\n",
    "        first, last = csv_name.split(',')\n",
    "        return cls(first, last)\n",
    "\n",
    "    @staticmethod\n",
    "    def is_quizweek(week):\n",
    "        return True if week in [3, 5] else False"
   ]
  },
  {
   "cell_type": "markdown",
   "metadata": {},
   "source": [
    "- Note that the method `is_quizweek()` does not accept or use the `self` argument\n",
    "- But it is still MDS-related, so we might want to include it here"
   ]
  },
  {
   "cell_type": "code",
   "execution_count": 45,
   "metadata": {},
   "outputs": [
    {
     "name": "stdout",
     "output_type": "stream",
     "text": [
      "Is week 1 a quiz week? False\n",
      "Is week 3 a quiz week? True\n"
     ]
    }
   ],
   "source": [
    "mds_1 = MdsMember.from_csv('Arman,Ahmadi')\n",
    "print(f\"Is week 1 a quiz week? {mds_1.is_quizweek(1)}\")\n",
    "print(f\"Is week 3 a quiz week? {mds_1.is_quizweek(3)}\")"
   ]
  },
  {
   "cell_type": "markdown",
   "metadata": {},
   "source": [
    "### Inheritance & subclasses\n",
    "\n",
    "- Just like it sounds, inheritance allows us to \"inherit\" methods and attributes from another class\n",
    "- So far, we've been working with an `MdsMember` class\n",
    "- But let's get more specific and create a `MdsStudent` and `MdsInstructor` class\n",
    "- Recall this was `MdsMember`:"
   ]
  },
  {
   "cell_type": "code",
   "execution_count": 46,
   "metadata": {},
   "outputs": [],
   "source": [
    "class MdsMember:\n",
    "    \n",
    "    role = \"MDS member\"\n",
    "    campus = \"UBC\"\n",
    "    \n",
    "    def __init__(self, first, last):\n",
    "        self.first = first\n",
    "        self.last = last\n",
    "        self.email = first.lower() + \".\" + last.lower() + \"@ubc.ca\"\n",
    "        \n",
    "    def full_name(self):\n",
    "        return f\"{self.first} {self.last}\"\n",
    "    \n",
    "    @classmethod\n",
    "    def from_csv(cls, csv_name):\n",
    "        first, last = csv_name.split(',')\n",
    "        return cls(first, last)\n",
    "    \n",
    "    @staticmethod\n",
    "    def is_quizweek(week):\n",
    "        return True if week in [3, 5] else False"
   ]
  },
  {
   "cell_type": "markdown",
   "metadata": {},
   "source": [
    "- We can create an `MdsStudent` class that inherits all of the attributes and methods from our `MdsMember` class by  by simply passing the `MdsMember` class as an argument to an `MdsStudent` class definition:"
   ]
  },
  {
   "cell_type": "code",
   "execution_count": 47,
   "metadata": {},
   "outputs": [],
   "source": [
    "class MdsStudent(MdsMember):\n",
    "    pass"
   ]
  },
  {
   "cell_type": "code",
   "execution_count": 48,
   "metadata": {},
   "outputs": [],
   "source": [
    "student_1 = MdsStudent('Craig', 'Smith')\n",
    "student_2 = MdsStudent('Megan', 'Scott')"
   ]
  },
  {
   "cell_type": "code",
   "execution_count": 49,
   "metadata": {},
   "outputs": [
    {
     "data": {
      "text/plain": [
       "'Craig Smith'"
      ]
     },
     "execution_count": 49,
     "metadata": {},
     "output_type": "execute_result"
    }
   ],
   "source": [
    "student_1.full_name()"
   ]
  },
  {
   "cell_type": "code",
   "execution_count": 50,
   "metadata": {},
   "outputs": [
    {
     "data": {
      "text/plain": [
       "'Megan Scott'"
      ]
     },
     "execution_count": 50,
     "metadata": {},
     "output_type": "execute_result"
    }
   ],
   "source": [
    "student_2.full_name()"
   ]
  },
  {
   "cell_type": "markdown",
   "metadata": {},
   "source": [
    "> We call `MdsStudent` a **child** class of the **parent** `MdsMember` class!"
   ]
  },
  {
   "cell_type": "markdown",
   "metadata": {},
   "source": [
    "- What happened here is that our `MdsStudent` instance first looked in the `MdsStudent` class for an `__init__` method, which it didn't find\n",
    "- It then looked for the `__init__` method in the inherited `MdsMember` class and found something to use!\n",
    "- This order is called the \"[method resolution order](https://www.python.org/download/releases/2.3/mro/)\"\n",
    "- We can inspect it directly using the `help()` function"
   ]
  },
  {
   "cell_type": "code",
   "execution_count": 51,
   "metadata": {},
   "outputs": [
    {
     "name": "stdout",
     "output_type": "stream",
     "text": [
      "Help on class MdsStudent in module __main__:\n",
      "\n",
      "class MdsStudent(MdsMember)\n",
      " |  MdsStudent(first, last)\n",
      " |  \n",
      " |  Method resolution order:\n",
      " |      MdsStudent\n",
      " |      MdsMember\n",
      " |      builtins.object\n",
      " |  \n",
      " |  Methods inherited from MdsMember:\n",
      " |  \n",
      " |  __init__(self, first, last)\n",
      " |      Initialize self.  See help(type(self)) for accurate signature.\n",
      " |  \n",
      " |  full_name(self)\n",
      " |  \n",
      " |  ----------------------------------------------------------------------\n",
      " |  Class methods inherited from MdsMember:\n",
      " |  \n",
      " |  from_csv(csv_name) from builtins.type\n",
      " |  \n",
      " |  ----------------------------------------------------------------------\n",
      " |  Static methods inherited from MdsMember:\n",
      " |  \n",
      " |  is_quizweek(week)\n",
      " |  \n",
      " |  ----------------------------------------------------------------------\n",
      " |  Data descriptors inherited from MdsMember:\n",
      " |  \n",
      " |  __dict__\n",
      " |      dictionary for instance variables (if defined)\n",
      " |  \n",
      " |  __weakref__\n",
      " |      list of weak references to the object (if defined)\n",
      " |  \n",
      " |  ----------------------------------------------------------------------\n",
      " |  Data and other attributes inherited from MdsMember:\n",
      " |  \n",
      " |  campus = 'UBC'\n",
      " |  \n",
      " |  role = 'MDS member'\n",
      "\n"
     ]
    }
   ],
   "source": [
    "help(MdsStudent)"
   ]
  },
  {
   "cell_type": "markdown",
   "metadata": {},
   "source": [
    "- Okay, let's fine-tune our `MdsStudent` class\n",
    "- The first thing we might want to do is change the role of the student instances to \"MDS Student\"\n",
    "- We can do that by simply adding a `class attribute` to our `MdsStudent` class\n",
    "- Any attributes or methods not \"over-ridden\" in the `MdsStudent` class will just be inherited from the `MdsMember` class"
   ]
  },
  {
   "cell_type": "code",
   "execution_count": 52,
   "metadata": {},
   "outputs": [],
   "source": [
    "class MdsStudent(MdsMember):\n",
    "    role = \"MDS student\""
   ]
  },
  {
   "cell_type": "code",
   "execution_count": 53,
   "metadata": {},
   "outputs": [],
   "source": [
    "student_1 = MdsStudent('John', 'Smith')"
   ]
  },
  {
   "cell_type": "code",
   "execution_count": 54,
   "metadata": {},
   "outputs": [
    {
     "data": {
      "text/plain": [
       "'MDS student'"
      ]
     },
     "execution_count": 54,
     "metadata": {},
     "output_type": "execute_result"
    }
   ],
   "source": [
    "student_1.role"
   ]
  },
  {
   "cell_type": "code",
   "execution_count": 55,
   "metadata": {},
   "outputs": [
    {
     "data": {
      "text/plain": [
       "'UBC'"
      ]
     },
     "execution_count": 55,
     "metadata": {},
     "output_type": "execute_result"
    }
   ],
   "source": [
    "student_1.campus"
   ]
  },
  {
   "cell_type": "code",
   "execution_count": 56,
   "metadata": {},
   "outputs": [
    {
     "data": {
      "text/plain": [
       "'John Smith'"
      ]
     },
     "execution_count": 56,
     "metadata": {},
     "output_type": "execute_result"
    }
   ],
   "source": [
    "student_1.full_name()"
   ]
  },
  {
   "cell_type": "markdown",
   "metadata": {},
   "source": [
    "- Now let's add an `instance attribute` to our class called `grade`\n",
    "- You might be tempted to do something like this:"
   ]
  },
  {
   "cell_type": "code",
   "execution_count": 57,
   "metadata": {},
   "outputs": [],
   "source": [
    "class MdsStudent(MdsMember):\n",
    "    role = \"MDS student\"\n",
    "    \n",
    "    def __init__(self, first, last, grade):\n",
    "        self.first = first\n",
    "        self.last = last\n",
    "        self.email = first.lower() + \".\" + last.lower() + \"@ubc.ca\"\n",
    "        self.grade = grade"
   ]
  },
  {
   "cell_type": "code",
   "execution_count": 58,
   "metadata": {},
   "outputs": [],
   "source": [
    "student_1 = MdsStudent('John', 'Smith', 'B+')"
   ]
  },
  {
   "cell_type": "code",
   "execution_count": 59,
   "metadata": {},
   "outputs": [
    {
     "data": {
      "text/plain": [
       "'john.smith@ubc.ca'"
      ]
     },
     "execution_count": 59,
     "metadata": {},
     "output_type": "execute_result"
    }
   ],
   "source": [
    "student_1.email"
   ]
  },
  {
   "cell_type": "code",
   "execution_count": 60,
   "metadata": {},
   "outputs": [
    {
     "data": {
      "text/plain": [
       "'B+'"
      ]
     },
     "execution_count": 60,
     "metadata": {},
     "output_type": "execute_result"
    }
   ],
   "source": [
    "student_1.grade"
   ]
  },
  {
   "cell_type": "markdown",
   "metadata": {},
   "source": [
    "- But this is not DRY code, remember that we've already typed most of this in our `MdsMember` class\n",
    "- So what we can do is let the `MdsMember` class handle our `first` and `last` argument and we'll just worry about `grade`\n",
    "- We can do this easily with the `super()` function\n",
    "- (things can get pretty complicated with `super()`, read more [here](https://realpython.com/python-super/#an-overview-of-pythons-super-function))\n",
    "- (all you really need to know is that `super()` allows you to inherit attributes/methods from other classes)"
   ]
  },
  {
   "cell_type": "code",
   "execution_count": 61,
   "metadata": {},
   "outputs": [],
   "source": [
    "class MdsStudent(MdsMember):\n",
    "    role = \"MDS student\"\n",
    "    \n",
    "    def __init__(self, first, last, grade):\n",
    "        super().__init__(first, last)\n",
    "        self.grade = grade"
   ]
  },
  {
   "cell_type": "code",
   "execution_count": 62,
   "metadata": {},
   "outputs": [],
   "source": [
    "student_1 = MdsStudent('John', 'Smith', 'B+')"
   ]
  },
  {
   "cell_type": "code",
   "execution_count": 63,
   "metadata": {},
   "outputs": [
    {
     "data": {
      "text/plain": [
       "'john.smith@ubc.ca'"
      ]
     },
     "execution_count": 63,
     "metadata": {},
     "output_type": "execute_result"
    }
   ],
   "source": [
    "student_1.email"
   ]
  },
  {
   "cell_type": "code",
   "execution_count": 64,
   "metadata": {},
   "outputs": [
    {
     "data": {
      "text/plain": [
       "'B+'"
      ]
     },
     "execution_count": 64,
     "metadata": {},
     "output_type": "execute_result"
    }
   ],
   "source": [
    "student_1.grade"
   ]
  },
  {
   "cell_type": "markdown",
   "metadata": {},
   "source": [
    "- Amazing! Hopefully you can start to see how powerful inheritance can be\n",
    "- Let's create another subclass called `MdsInstructor`, which has two new methods `add_course()` and `remove_course()`"
   ]
  },
  {
   "cell_type": "code",
   "execution_count": 65,
   "metadata": {},
   "outputs": [],
   "source": [
    "class MdsInstructor(MdsMember):\n",
    "    role = \"MDS instructor\"\n",
    "    \n",
    "    def __init__(self, first, last, courses=None):\n",
    "        super().__init__(first, last)\n",
    "        self.courses = ([] if courses is None else courses)\n",
    "        \n",
    "    def add_course(self, course):\n",
    "        self.courses.append(course)\n",
    "        \n",
    "    def remove_course(self, course):\n",
    "        self.courses.remove(course)"
   ]
  },
  {
   "cell_type": "code",
   "execution_count": 66,
   "metadata": {},
   "outputs": [],
   "source": [
    "instructor_1 = MdsInstructor('Arman', 'Ahmadi', ['511', '513', '572'])"
   ]
  },
  {
   "cell_type": "code",
   "execution_count": 67,
   "metadata": {},
   "outputs": [
    {
     "data": {
      "text/plain": [
       "'Arman Ahmadi'"
      ]
     },
     "execution_count": 67,
     "metadata": {},
     "output_type": "execute_result"
    }
   ],
   "source": [
    "instructor_1.full_name()"
   ]
  },
  {
   "cell_type": "code",
   "execution_count": 68,
   "metadata": {},
   "outputs": [
    {
     "data": {
      "text/plain": [
       "['511', '513', '572']"
      ]
     },
     "execution_count": 68,
     "metadata": {},
     "output_type": "execute_result"
    }
   ],
   "source": [
    "instructor_1.courses"
   ]
  },
  {
   "cell_type": "code",
   "execution_count": 69,
   "metadata": {},
   "outputs": [],
   "source": [
    "instructor_1.add_course('599')\n",
    "instructor_1.remove_course('513')"
   ]
  },
  {
   "cell_type": "code",
   "execution_count": 70,
   "metadata": {},
   "outputs": [
    {
     "data": {
      "text/plain": [
       "['511', '572', '599']"
      ]
     },
     "execution_count": 70,
     "metadata": {},
     "output_type": "execute_result"
    }
   ],
   "source": [
    "instructor_1.courses"
   ]
  },
  {
   "cell_type": "markdown",
   "metadata": {},
   "source": [
    "### (OPTIONAL) Decorators\n",
    "\n",
    "- Decorators can be quite a complex topic, you can read more about them [here](https://realpython.com/primer-on-python-decorators/)\n",
    "- Briefly, they are what they sounds like, they \"decorate\" functions/methods with additional functionality\n",
    "- You can think of a decorator as a function that takes another function and adds functionality (recall last lecture we discussed how functions are objects in Python and can be passed around into other functions!)"
   ]
  },
  {
   "cell_type": "markdown",
   "metadata": {},
   "source": [
    "- Let's create a decorator as an example\n",
    "- Recall that functions are data types in Python, they can be passed to other functions\n",
    "- So a decorator simply takes a function as an argument, adds some more functionality to it, and returns a \"decorated function\" that can be executed"
   ]
  },
  {
   "cell_type": "code",
   "execution_count": 71,
   "metadata": {},
   "outputs": [],
   "source": [
    "# some function we wish to decorate\n",
    "def original_func():\n",
    "    print(\"I'm the original function!\")\n",
    "\n",
    "\n",
    "# a decorator\n",
    "def my_decorator(original_func):  # takes our original function as input\n",
    "\n",
    "    def wrapper():  # wraps our original function with some extra functionality\n",
    "        print(f\"A decoration before {original_func.__name__}.\")\n",
    "        result = original_func()\n",
    "        print(f\"A decoration after {original_func.__name__}.\")\n",
    "        return result\n",
    "\n",
    "    return wrapper  # returns the unexecuted wrapper function which we can can execute later"
   ]
  },
  {
   "cell_type": "markdown",
   "metadata": {},
   "source": [
    "- The `my_decorator()` function will return to us a function which is the decorated version of our original function"
   ]
  },
  {
   "cell_type": "code",
   "execution_count": 72,
   "metadata": {},
   "outputs": [
    {
     "data": {
      "text/plain": [
       "<function __main__.my_decorator.<locals>.wrapper()>"
      ]
     },
     "execution_count": 72,
     "metadata": {},
     "output_type": "execute_result"
    }
   ],
   "source": [
    "my_decorator(original_func)"
   ]
  },
  {
   "cell_type": "markdown",
   "metadata": {},
   "source": [
    "- As a function was returned to us, we can execute it by adding parentheses"
   ]
  },
  {
   "cell_type": "code",
   "execution_count": 73,
   "metadata": {},
   "outputs": [
    {
     "name": "stdout",
     "output_type": "stream",
     "text": [
      "A decoration before original_func.\n",
      "I'm the original function!\n",
      "A decoration after original_func.\n"
     ]
    }
   ],
   "source": [
    "my_decorator(original_func)()"
   ]
  },
  {
   "cell_type": "markdown",
   "metadata": {},
   "source": [
    "- We can decorate any arbitrary function with our decorator"
   ]
  },
  {
   "cell_type": "code",
   "execution_count": 74,
   "metadata": {},
   "outputs": [],
   "source": [
    "def another_func():\n",
    "    print(\"I'm a different function!\")"
   ]
  },
  {
   "cell_type": "code",
   "execution_count": 75,
   "metadata": {},
   "outputs": [
    {
     "name": "stdout",
     "output_type": "stream",
     "text": [
      "A decoration before another_func.\n",
      "I'm a different function!\n",
      "A decoration after another_func.\n"
     ]
    }
   ],
   "source": [
    "my_decorator(another_func)()"
   ]
  },
  {
   "cell_type": "markdown",
   "metadata": {},
   "source": [
    "- The syntax of calling our decorator is not that readable\n",
    "- Instead, we use the `@` symbol as \"syntactic sugar\" to improve readability and reuseability of decorators"
   ]
  },
  {
   "cell_type": "code",
   "execution_count": 76,
   "metadata": {},
   "outputs": [],
   "source": [
    "@my_decorator\n",
    "def one_more_func():\n",
    "    print(\"One more function...\")"
   ]
  },
  {
   "cell_type": "code",
   "execution_count": 77,
   "metadata": {},
   "outputs": [
    {
     "name": "stdout",
     "output_type": "stream",
     "text": [
      "A decoration before one_more_func.\n",
      "One more function...\n",
      "A decoration after one_more_func.\n"
     ]
    }
   ],
   "source": [
    "one_more_func()"
   ]
  },
  {
   "cell_type": "markdown",
   "metadata": {},
   "source": [
    "- Okay, let's make something a little more useful\n",
    "- We will create a decorator that times the execution time of any arbitrary function"
   ]
  },
  {
   "cell_type": "code",
   "execution_count": 78,
   "metadata": {},
   "outputs": [],
   "source": [
    "import time  # import the time module, we'll learn about imports next lecture\n",
    "\n",
    "\n",
    "def timer(my_function):  # the decorator\n",
    "\n",
    "    def wrapper():  # the added functionality\n",
    "        t1 = time.time()\n",
    "        result = my_function()  # the original function\n",
    "        t2 = time.time()\n",
    "        print(f\"{my_function.__name__} ran in {t2 - t1:.3f} sec\")  # print the execution time\n",
    "        return result\n",
    "    return wrapper"
   ]
  },
  {
   "cell_type": "code",
   "execution_count": 79,
   "metadata": {},
   "outputs": [],
   "source": [
    "@timer\n",
    "def silly_function():\n",
    "    for i in range(10_000_000):\n",
    "        if (i % 1_000_000) == 0:\n",
    "            print(i)\n",
    "        else:\n",
    "            pass"
   ]
  },
  {
   "cell_type": "code",
   "execution_count": 80,
   "metadata": {},
   "outputs": [
    {
     "name": "stdout",
     "output_type": "stream",
     "text": [
      "0\n",
      "1000000\n",
      "2000000\n",
      "3000000\n",
      "4000000\n",
      "5000000\n",
      "6000000\n",
      "7000000\n",
      "8000000\n",
      "9000000\n",
      "silly_function ran in 0.286 sec\n"
     ]
    }
   ],
   "source": [
    "silly_function()"
   ]
  },
  {
   "cell_type": "markdown",
   "metadata": {},
   "source": [
    "- Python's built-in decorators like `classmethod` and `staticmethod` are coded in C so I'm not showing them here\n",
    "- I don't often create my own decorators, but I use the built-in decorators all the time"
   ]
  },
  {
   "cell_type": "markdown",
   "metadata": {},
   "source": [
    "### (OPTIONAL) Getters/setters/deleters\n",
    "\n",
    "- There's one more import topic to talk about with Python classes and that is getters/setters/deleters\n",
    "- (You might be familiar with these terms coming from other OOP languages)\n",
    "- The necessity for these actions is best illustrated by example\n",
    "- Here's a stripped down version of the `MdsMember` class from earlier"
   ]
  },
  {
   "cell_type": "code",
   "execution_count": 81,
   "metadata": {},
   "outputs": [],
   "source": [
    "class MdsMember:\n",
    "    \n",
    "    def __init__(self, first, last):\n",
    "        self.first = first\n",
    "        self.last = last\n",
    "        self.email = first.lower() + \".\" + last.lower() + \"@ubc.ca\"\n",
    "        \n",
    "    def full_name(self):\n",
    "        return f\"{self.first} {self.last}\""
   ]
  },
  {
   "cell_type": "code",
   "execution_count": 82,
   "metadata": {},
   "outputs": [
    {
     "name": "stdout",
     "output_type": "stream",
     "text": [
      "Arman\n",
      "Ahmadi\n",
      "arman.ahmadi@ubc.ca\n",
      "Arman Ahmadi\n"
     ]
    }
   ],
   "source": [
    "mds_1 = MdsMember('Arman', 'Ahmadi')\n",
    "print(mds_1.first)\n",
    "print(mds_1.last)\n",
    "print(mds_1.email)\n",
    "print(mds_1.full_name())"
   ]
  },
  {
   "cell_type": "markdown",
   "metadata": {},
   "source": [
    "- Imagine that I mis-spelled the name of this class instance and wanted to correct it\n",
    "- Watch what happens..."
   ]
  },
  {
   "cell_type": "code",
   "execution_count": 83,
   "metadata": {},
   "outputs": [
    {
     "name": "stdout",
     "output_type": "stream",
     "text": [
      "Atman\n",
      "Ahmadi\n",
      "arman.ahmadi@ubc.ca\n",
      "Atman Ahmadi\n"
     ]
    }
   ],
   "source": [
    "mds_1.first = 'Atman'\n",
    "print(mds_1.first)\n",
    "print(mds_1.last)\n",
    "print(mds_1.email)\n",
    "print(mds_1.full_name())"
   ]
  },
  {
   "cell_type": "markdown",
   "metadata": {},
   "source": [
    "- Uh oh... the email didn't update with the new first name!\n",
    "- We didn't have this problem with the `full_name()` method because it just calls the current `first` and `last` name\n",
    "- You might think that the best thing to do here is to create a method for `email()` like we have for `full_name()`\n",
    "- But this is bad coding for a variety of reasons, for example it means that users of your code will have to change every reference to the `email` attribute to a call to the `email()` method. We'd call that a breaking change to our software and we want to avoid that where possible.\n",
    "- What we can do instead, is define our `email` like a method, but keep it as an attribute using the `@property` decorator"
   ]
  },
  {
   "cell_type": "code",
   "execution_count": 84,
   "metadata": {},
   "outputs": [],
   "source": [
    "class MdsMember:\n",
    "    \n",
    "    def __init__(self, first, last):\n",
    "        self.first = first\n",
    "        self.last = last\n",
    "        \n",
    "    def full_name(self):\n",
    "        return f\"{self.first} {self.last}\"\n",
    "    \n",
    "    @property\n",
    "    def email(self):\n",
    "        return self.first.lower() + \".\" + self.last.lower() + \"@ubc.ca\""
   ]
  },
  {
   "cell_type": "code",
   "execution_count": 85,
   "metadata": {},
   "outputs": [
    {
     "name": "stdout",
     "output_type": "stream",
     "text": [
      "Arman\n",
      "Ahmadi\n",
      "arman.ahmadi@ubc.ca\n",
      "Arman Ahmadi\n"
     ]
    }
   ],
   "source": [
    "mds_1 = MdsMember('Atman', 'Ahmadi')\n",
    "mds_1.first = 'Arman'\n",
    "print(mds_1.first)\n",
    "print(mds_1.last)\n",
    "print(mds_1.email)\n",
    "print(mds_1.full_name())"
   ]
  },
  {
   "cell_type": "markdown",
   "metadata": {},
   "source": [
    "- We could do the same with the `full_name()` method if we wanted too..."
   ]
  },
  {
   "cell_type": "code",
   "execution_count": 86,
   "metadata": {},
   "outputs": [],
   "source": [
    "class MdsMember:\n",
    "    \n",
    "    def __init__(self, first, last):\n",
    "        self.first = first\n",
    "        self.last = last\n",
    "    \n",
    "    @property\n",
    "    def full_name(self):\n",
    "        return f\"{self.first} {self.last}\"\n",
    "    \n",
    "    @property\n",
    "    def email(self):\n",
    "        return self.first.lower() + \".\" + self.last.lower() + \"@ubc.ca\""
   ]
  },
  {
   "cell_type": "code",
   "execution_count": 87,
   "metadata": {},
   "outputs": [
    {
     "data": {
      "text/plain": [
       "'Arman Ahamdi'"
      ]
     },
     "execution_count": 87,
     "metadata": {},
     "output_type": "execute_result"
    }
   ],
   "source": [
    "mds_1 = MdsMember('Arman', 'Ahamdi')\n",
    "mds_1.full_name"
   ]
  },
  {
   "cell_type": "markdown",
   "metadata": {},
   "source": [
    "- But what happens if we instead want to make a change to the full name now?"
   ]
  },
  {
   "cell_type": "code",
   "execution_count": 88,
   "metadata": {
    "tags": [
     "raises-exception"
    ]
   },
   "outputs": [
    {
     "ename": "AttributeError",
     "evalue": "can't set attribute 'full_name'",
     "output_type": "error",
     "traceback": [
      "\u001b[0;31m---------------------------------------------------------------------------\u001b[0m",
      "\u001b[0;31mAttributeError\u001b[0m                            Traceback (most recent call last)",
      "Cell \u001b[0;32mIn [88], line 1\u001b[0m\n\u001b[0;32m----> 1\u001b[0m \u001b[43mmds_1\u001b[49m\u001b[38;5;241;43m.\u001b[39;49m\u001b[43mfull_name\u001b[49m \u001b[38;5;241m=\u001b[39m \u001b[38;5;124m'\u001b[39m\u001b[38;5;124mArman Ahmadi\u001b[39m\u001b[38;5;124m'\u001b[39m\n",
      "\u001b[0;31mAttributeError\u001b[0m: can't set attribute 'full_name'"
     ]
    }
   ],
   "source": [
    "mds_1.full_name = 'Arman Ahmadi'"
   ]
  },
  {
   "cell_type": "markdown",
   "metadata": {},
   "source": [
    "- We get an error...\n",
    "- Our class instance doesn't know what to do with the value it was passed\n",
    "- Ideally, we'd like our class instance to use this full name information to update `self.first` and `self.last`\n",
    "- To handle this action, we need a `setter`, defined using the decorator `@<attribute>.setter`"
   ]
  },
  {
   "cell_type": "code",
   "execution_count": 89,
   "metadata": {},
   "outputs": [],
   "source": [
    "class MdsMember:\n",
    "    \n",
    "    def __init__(self, first, last):\n",
    "        self.first = first\n",
    "        self.last = last\n",
    "    \n",
    "    @property\n",
    "    def full_name(self):\n",
    "        return f\"{self.first} {self.last}\"\n",
    "    \n",
    "    @full_name.setter\n",
    "    def full_name(self, name):\n",
    "        first, last = name.split(' ')\n",
    "        self.first = first\n",
    "        self.last = last\n",
    "    \n",
    "    @property\n",
    "    def email(self):\n",
    "        return self.first.lower() + \".\" + self.last.lower() + \"@ubc.ca\""
   ]
  },
  {
   "cell_type": "code",
   "execution_count": 90,
   "metadata": {},
   "outputs": [
    {
     "name": "stdout",
     "output_type": "stream",
     "text": [
      "Arman\n",
      "Ahmadi\n",
      "arman.ahmadi@ubc.ca\n",
      "Arman Ahmadi\n"
     ]
    }
   ],
   "source": [
    "mds_1 = MdsMember('Arman', 'Ahmadi')\n",
    "mds_1.full_name = 'Arman Ahmadi'\n",
    "print(mds_1.first)\n",
    "print(mds_1.last)\n",
    "print(mds_1.email)\n",
    "print(mds_1.full_name)"
   ]
  },
  {
   "cell_type": "markdown",
   "metadata": {},
   "source": [
    "- Almost there! We've talked about getting information and setting information, but what about deleting information?\n",
    "- This is typically used to do some clean up and is defined with the `@<attribute>.deleter` decorator\n",
    "- I rarely use this method but I want you to see it"
   ]
  },
  {
   "cell_type": "code",
   "execution_count": 91,
   "metadata": {},
   "outputs": [],
   "source": [
    "class MdsMember:\n",
    "    \n",
    "    def __init__(self, first, last):\n",
    "        self.first = first\n",
    "        self.last = last\n",
    "    \n",
    "    @property\n",
    "    def full_name(self):\n",
    "        return f\"{self.first} {self.last}\"\n",
    "    \n",
    "    @full_name.setter\n",
    "    def full_name(self, name):\n",
    "        first, last = name.split(' ')\n",
    "        self.first = first\n",
    "        self.last = last\n",
    "        \n",
    "    @full_name.deleter\n",
    "    def full_name(self):\n",
    "        print('Name deleted!')\n",
    "        self.first = None\n",
    "        self.last = None\n",
    "    \n",
    "    @property\n",
    "    def email(self):\n",
    "        return self.first.lower() + \".\" + self.last.lower() + \"@ubc.ca\""
   ]
  },
  {
   "cell_type": "code",
   "execution_count": 92,
   "metadata": {},
   "outputs": [
    {
     "name": "stdout",
     "output_type": "stream",
     "text": [
      "Name deleted!\n",
      "None\n",
      "None\n"
     ]
    }
   ],
   "source": [
    "mds_1 = MdsMember('Arman', 'Ahmadi')\n",
    "delattr(mds_1, \"full_name\")\n",
    "print(mds_1.first)\n",
    "print(mds_1.last)"
   ]
  },
  {
   "cell_type": "markdown",
   "metadata": {},
   "source": [
    "## Unit tests"
   ]
  },
  {
   "cell_type": "markdown",
   "metadata": {},
   "source": [
    "- Last lecture we discussed Python functions\n",
    "- But how can we be sure that our function is doing exactly what we expect it to do?\n",
    "- **Unit testing** is the process of testing our function to ensure it's giving us the results we expect\n",
    "- You'll explore testing in more detail in DSCI 524, including automating testing and designing robust testing regimes\n",
    "- Let's briefly introduce the concept here"
   ]
  },
  {
   "cell_type": "markdown",
   "metadata": {},
   "source": [
    "### `assert` statements\n",
    "\n",
    "- `assert` statements are the most common way to test your functions\n",
    "- They cause your program to fail if the tested condition is `False`\n",
    "- The syntax is:\n",
    "\n",
    "```python\n",
    "assert expression, \"Error message if expression is False or raises an error.\"\n",
    "```"
   ]
  },
  {
   "cell_type": "code",
   "execution_count": 93,
   "metadata": {
    "tags": [
     "raises-exception"
    ]
   },
   "outputs": [
    {
     "ename": "AssertionError",
     "evalue": "1 is not equal to 2.",
     "output_type": "error",
     "traceback": [
      "\u001b[0;31m---------------------------------------------------------------------------\u001b[0m",
      "\u001b[0;31mAssertionError\u001b[0m                            Traceback (most recent call last)",
      "Cell \u001b[0;32mIn [93], line 1\u001b[0m\n\u001b[0;32m----> 1\u001b[0m \u001b[38;5;28;01massert\u001b[39;00m \u001b[38;5;241m1\u001b[39m \u001b[38;5;241m==\u001b[39m \u001b[38;5;241m2\u001b[39m, \u001b[38;5;124m\"\u001b[39m\u001b[38;5;124m1 is not equal to 2.\u001b[39m\u001b[38;5;124m\"\u001b[39m\n",
      "\u001b[0;31mAssertionError\u001b[0m: 1 is not equal to 2."
     ]
    }
   ],
   "source": [
    "assert 1 == 2, \"1 is not equal to 2.\""
   ]
  },
  {
   "cell_type": "markdown",
   "metadata": {},
   "source": [
    "- Asserting that two numbers are approximately equal can also be helpful\n",
    "- Due to the limitations of floating-point arithmetic in computers, numbers we expect to be equal are sometimes not (more on that in DSCI 572)"
   ]
  },
  {
   "cell_type": "code",
   "execution_count": 94,
   "metadata": {
    "tags": [
     "raises-exception"
    ]
   },
   "outputs": [
    {
     "ename": "AssertionError",
     "evalue": "Not equal!",
     "output_type": "error",
     "traceback": [
      "\u001b[0;31m---------------------------------------------------------------------------\u001b[0m",
      "\u001b[0;31mAssertionError\u001b[0m                            Traceback (most recent call last)",
      "Cell \u001b[0;32mIn [94], line 1\u001b[0m\n\u001b[0;32m----> 1\u001b[0m \u001b[38;5;28;01massert\u001b[39;00m \u001b[38;5;241m0.1\u001b[39m \u001b[38;5;241m+\u001b[39m \u001b[38;5;241m0.2\u001b[39m \u001b[38;5;241m==\u001b[39m \u001b[38;5;241m0.3\u001b[39m, \u001b[38;5;124m\"\u001b[39m\u001b[38;5;124mNot equal!\u001b[39m\u001b[38;5;124m\"\u001b[39m\n",
      "\u001b[0;31mAssertionError\u001b[0m: Not equal!"
     ]
    }
   ],
   "source": [
    "assert 0.1 + 0.2 == 0.3, \"Not equal!\""
   ]
  },
  {
   "cell_type": "code",
   "execution_count": 95,
   "metadata": {},
   "outputs": [],
   "source": [
    "import math  # we'll learn about importing modules next lecture\n",
    "assert math.isclose(0.1 + 0.2, 0.3), \"Not equal!\""
   ]
  },
  {
   "cell_type": "markdown",
   "metadata": {},
   "source": [
    "- You can test any statement that evaluates to a boolean"
   ]
  },
  {
   "cell_type": "code",
   "execution_count": null,
   "metadata": {
    "tags": [
     "raises-exception"
    ]
   },
   "outputs": [],
   "source": [
    "assert 'varada' in ['mike', 'arman', 'tiffany'], \"Instructor not present!\""
   ]
  },
  {
   "cell_type": "markdown",
   "metadata": {},
   "source": [
    "### Test driven development"
   ]
  },
  {
   "cell_type": "markdown",
   "metadata": {},
   "source": [
    "- Test Driven Development (TDD) is where you write your tests before your actual function\n",
    "- This may seem a little counter-intuitive, but you're creating the expectations of your function before the actual function\n",
    "- This can be helpful for several reasons:\n",
    "    - you will better understand exactly what code you need to write;\n",
    "    - you are forced to write tests upfront;\n",
    "    - you will not encounter large time-consuming bugs down the line; and,\n",
    "    - it helps to keep your workflow manageable by focusing on small, incremental code improvements and additions."
   ]
  },
  {
   "cell_type": "markdown",
   "metadata": {},
   "source": [
    "- In general, the approach is as follows:\n",
    "    1. Write a stub: a function that does nothing but accept all input parameters and return the correct datatype.\n",
    "    2. Write tests to satisfy your design specifications.\n",
    "    3. Outline the program with pseudo-code.\n",
    "    4. Write code and test frequently.\n",
    "    5. Write documentation."
   ]
  },
  {
   "cell_type": "markdown",
   "metadata": {},
   "source": [
    "- **You do not have to do TDD in MDS**, but you may find it helpful, especially when it comes to designing more complex programs/packages."
   ]
  },
  {
   "cell_type": "markdown",
   "metadata": {},
   "source": [
    "### Testing woes - false positives\n",
    "\n",
    "- **Just because all your tests pass, this does not mean your program is correct!!**\n",
    "- This happens all the time. How to deal with it?\n",
    "  - Write a lot of tests!\n",
    "  - Write documentation.\n",
    "  - Don't be overconfident, even after writing a lot of tests!"
   ]
  },
  {
   "cell_type": "code",
   "execution_count": 96,
   "metadata": {},
   "outputs": [],
   "source": [
    "def sample_median(x):\n",
    "    \"\"\"Finds the median of a list of numbers.\"\"\"\n",
    "    x_sorted = sorted(x)\n",
    "    return x_sorted[len(x_sorted) // 2]\n",
    "\n",
    "\n",
    "assert sample_median([1, 3, 2]) == 2, \"test failed!\"\n",
    "assert sample_median([0, 0, 0, 0]) == 0, \"test failed!\"\n",
    "assert sample_median([1, 2, 3, 4, 5]) == 3, \"test failed!\""
   ]
  },
  {
   "cell_type": "markdown",
   "metadata": {},
   "source": [
    "- Looks like our tests passed! We must be good to go...\n",
    "- But wait..."
   ]
  },
  {
   "cell_type": "code",
   "execution_count": 97,
   "metadata": {
    "tags": [
     "raises-exception"
    ]
   },
   "outputs": [
    {
     "ename": "AssertionError",
     "evalue": "test failed!",
     "output_type": "error",
     "traceback": [
      "\u001b[0;31m---------------------------------------------------------------------------\u001b[0m",
      "\u001b[0;31mAssertionError\u001b[0m                            Traceback (most recent call last)",
      "Cell \u001b[0;32mIn [97], line 1\u001b[0m\n\u001b[0;32m----> 1\u001b[0m \u001b[38;5;28;01massert\u001b[39;00m sample_median([\u001b[38;5;241m1\u001b[39m, \u001b[38;5;241m2\u001b[39m, \u001b[38;5;241m3\u001b[39m, \u001b[38;5;241m4\u001b[39m]) \u001b[38;5;241m==\u001b[39m \u001b[38;5;241m2.5\u001b[39m, \u001b[38;5;124m\"\u001b[39m\u001b[38;5;124mtest failed!\u001b[39m\u001b[38;5;124m\"\u001b[39m\n",
      "\u001b[0;31mAssertionError\u001b[0m: test failed!"
     ]
    }
   ],
   "source": [
    "assert sample_median([1, 2, 3, 4]) == 2.5, \"test failed!\""
   ]
  },
  {
   "cell_type": "markdown",
   "metadata": {},
   "source": [
    "### Corner cases\n",
    "\n",
    "- A **corner case** is an input that is reasonable but a bit unusual, and may trip up your code.\n",
    "- For example, taking the median of an empty list, or a list with only one element. \n",
    "- Often it is desirable to add test cases to address corner cases."
   ]
  },
  {
   "cell_type": "code",
   "execution_count": 98,
   "metadata": {},
   "outputs": [],
   "source": [
    "assert sample_median([1]) == 1"
   ]
  },
  {
   "cell_type": "markdown",
   "metadata": {},
   "source": [
    "- In this case the code worked with no extra effort, but sometimes we need `if` statements to handle the weird cases.\n",
    "- For example, sometimes we want the code to throw a particular error\n",
    "- You'll learn about writing tests for code that raises a specified error in DSCI 524"
   ]
  },
  {
   "cell_type": "markdown",
   "metadata": {},
   "source": [
    "### EAFP versus LBYL"
   ]
  },
  {
   "cell_type": "markdown",
   "metadata": {},
   "source": [
    "- Somewhat related to testing and function design are the philosophies EAFP and LBYL\n",
    "- EAFP = \"Easier to ask for forgiveness than permission\"\n",
    "    - In coding lingo: try doing something, and if it doesn't work, catch the error\n",
    "- LBYL = \"Look before you leap\"\n",
    "    - In coding lingo: check that you can do something before trying to do it\n",
    "- These two acronyms refer to coding philosophies about how to write your code\n",
    "- Let's see an example"
   ]
  },
  {
   "cell_type": "code",
   "execution_count": 99,
   "metadata": {},
   "outputs": [],
   "source": [
    "d = {'name': 'Doctor Python',\n",
    "     'superpower': 'programming',\n",
    "     'weakness': 'mountain dew',\n",
    "     'enemies': 10}"
   ]
  },
  {
   "cell_type": "code",
   "execution_count": 100,
   "metadata": {},
   "outputs": [
    {
     "name": "stdout",
     "output_type": "stream",
     "text": [
      "Please forgive me!\n"
     ]
    }
   ],
   "source": [
    "# EAFP\n",
    "try:\n",
    "    d['address']\n",
    "except KeyError:\n",
    "    print('Please forgive me!')"
   ]
  },
  {
   "cell_type": "code",
   "execution_count": 101,
   "metadata": {},
   "outputs": [
    {
     "name": "stdout",
     "output_type": "stream",
     "text": [
      "Saved you before you leapt!\n"
     ]
    }
   ],
   "source": [
    "# LBYL\n",
    "if 'address' in d.keys():\n",
    "    d['address']\n",
    "else:\n",
    "    print('Saved you before you leapt!')"
   ]
  },
  {
   "cell_type": "markdown",
   "metadata": {},
   "source": [
    "- While EAFP is often vouched for in Python, there's no right and wrong way to code and it's often context-specific"
   ]
  },
  {
   "cell_type": "markdown",
   "metadata": {},
   "source": [
    "## Debugging"
   ]
  },
  {
   "cell_type": "markdown",
   "metadata": {},
   "source": [
    "- My Python code doesn't work: what do I do?\n",
    "- At the moment, most of you probably do \"manual testing\" or \"exploratory testing\"\n",
    "- You keep changing your code until it works, maybe add some `print()` statements around the place to isolate any problems\n",
    "\n",
    "For example, recall the `random_walker` from [lab 1](../labs/lab1/lab1.ipynb), which is adopted with permission from COS 126, [Conditionals and Loops](http://www.cs.princeton.edu/courses/archive/fall10/cos126/assignments/loops.html). I have slightly changed the code to demonstrate how we can debug it:"
   ]
  },
  {
   "cell_type": "code",
   "execution_count": 103,
   "metadata": {
    "tags": [
     "ignore"
    ]
   },
   "outputs": [],
   "source": [
    "from random import random"
   ]
  },
  {
   "cell_type": "code",
   "execution_count": 104,
   "metadata": {
    "tags": [
     "ignore"
    ]
   },
   "outputs": [
    {
     "name": "stdout",
     "output_type": "stream",
     "text": [
      "(0, 1)\n",
      "(0, 2)\n",
      "(-1, 3)\n",
      "(-1, 2)\n",
      "(-1, 3)\n"
     ]
    },
    {
     "data": {
      "text/plain": [
       "3.16"
      ]
     },
     "execution_count": 104,
     "metadata": {},
     "output_type": "execute_result"
    }
   ],
   "source": [
    "def random_walker(T):\n",
    "    \"\"\"\n",
    "    Simulates T steps of a 2D random walk, and prints the result of each step.\n",
    "    Returns the squared distance from the origin.\n",
    "\n",
    "    Parameters\n",
    "    ----------\n",
    "    T : int\n",
    "        Number of steps to take\n",
    "\n",
    "    Returns\n",
    "    -------\n",
    "    out : float\n",
    "        Euclidean distance from the origin rounded to 2 decimal places\n",
    "\n",
    "    Examples\n",
    "    --------\n",
    "    >>> random_walker(1)\n",
    "    1.0\n",
    "\n",
    "    >>> random_walker(1)\n",
    "    1.41  # this randomly gives 1.41, 2.0, or 0.0\n",
    "    \"\"\"\n",
    "\n",
    "    x = 0\n",
    "    y = 0\n",
    "\n",
    "    for i in range(T):\n",
    "        rand = random()\n",
    "        if rand < 0.25:\n",
    "            x += 1\n",
    "        if rand < 0.5:\n",
    "            x -= 1\n",
    "        if rand < 0.75:\n",
    "            y += 1\n",
    "        else:\n",
    "            y -= 1\n",
    "        print((x, y))\n",
    "\n",
    "    return round((x ** 2 + y ** 2) ** 0.5, 2)\n",
    "\n",
    "\n",
    "random_walker(5)"
   ]
  },
  {
   "cell_type": "markdown",
   "metadata": {},
   "source": [
    "- If we re-run the code above, our random walker never goes right (the x-coordinate is never positive)...\n",
    "- We might try to add some print statement here to see what's going on"
   ]
  },
  {
   "cell_type": "code",
   "execution_count": 1,
   "metadata": {},
   "outputs": [],
   "source": [
    "from random import random"
   ]
  },
  {
   "cell_type": "code",
   "execution_count": 4,
   "metadata": {
    "tags": [
     "ignore"
    ]
   },
   "outputs": [
    {
     "name": "stdout",
     "output_type": "stream",
     "text": [
      "0.9339539630147301\n",
      "I'm going down!\n",
      "(0, -1) \n",
      "\n",
      "0.31688593185283287\n",
      "I'm going left!\n",
      "I'm going up!\n",
      "(-1, 0) \n",
      "\n",
      "0.4185476729627359\n",
      "I'm going left!\n",
      "I'm going up!\n",
      "(-2, 1) \n",
      "\n",
      "0.7688975328198254\n",
      "I'm going down!\n",
      "(-2, 0) \n",
      "\n",
      "0.030449957254398474\n",
      "I'm going right!\n",
      "I'm going left!\n",
      "I'm going up!\n",
      "(-2, 1) \n",
      "\n"
     ]
    },
    {
     "data": {
      "text/plain": [
       "2.24"
      ]
     },
     "execution_count": 4,
     "metadata": {},
     "output_type": "execute_result"
    }
   ],
   "source": [
    "def random_walker(T):\n",
    "    \"\"\"\n",
    "    Simulates T steps of a 2D random walk, and prints the result of each step.\n",
    "    Returns the squared distance from the origin.\n",
    "\n",
    "    Parameters\n",
    "    ----------\n",
    "    T : int\n",
    "        Number of steps to take\n",
    "\n",
    "    Returns\n",
    "    -------\n",
    "    out : float\n",
    "        Euclidean distance from the origin rounded to 2 decimal places\n",
    "\n",
    "    Examples\n",
    "    --------\n",
    "    >>> random_walker(1)\n",
    "    1.0\n",
    "\n",
    "    >>> random_walker(1)\n",
    "    1.41  # this randomly gives 1.41, 2.0, or 0.0\n",
    "    \"\"\"\n",
    "\n",
    "    x = 0\n",
    "    y = 0\n",
    "\n",
    "    for i in range(T):\n",
    "        rand = random()\n",
    "        print(rand)\n",
    "        if rand < 0.25:\n",
    "            print(\"I'm going right!\")\n",
    "            x += 1\n",
    "        if rand < 0.5:\n",
    "            print(\"I'm going left!\")\n",
    "            x -= 1\n",
    "        if rand < 0.75:\n",
    "            y += 1\n",
    "            print(\"I'm going up!\")\n",
    "        else:\n",
    "            print(\"I'm going down!\")\n",
    "            y -= 1\n",
    "        print((x, y), '\\n')\n",
    "\n",
    "    return round((x ** 2 + y ** 2) ** 0.5, 2)\n",
    "\n",
    "\n",
    "random_walker(5)"
   ]
  },
  {
   "cell_type": "markdown",
   "metadata": {},
   "source": [
    "- Ah! We see that even every time after a `\"I'm going right!\"` we immediately get a `\"I'm going left!\"` and a `\"I'm going up!\"`\n",
    "- Note that a left or right move is always followed by an up move as well!\n",
    "- The problem is in our `if` statements, we should be using `elif` for each statement after the initial `if`, otherwise multiple conditions may be met each time..."
   ]
  },
  {
   "cell_type": "markdown",
   "metadata": {},
   "source": [
    "- This was a pretty simple debugging case, adding print statements is not always helpful or efficient\n",
    "- Alternative: `pdb`\n",
    "- [`pdb` is the Python Debugger](https://docs.python.org/3/library/pdb.html) included with the standard library\n",
    "- We can use `breakpoint()` to leverage `pdb` and set a \"break point\" at any point in our code and then inspect our variables\n",
    "- See the `pdb` docs [here](https://docs.python.org/3/library/pdb.html) and this [cheatsheet](https://appletree.or.kr/quick_reference_cards/Python/Python%20Debugger%20Cheatsheet.pdf) for help interacting with the debugger console"
   ]
  },
  {
   "cell_type": "code",
   "execution_count": null,
   "metadata": {
    "tags": [
     "raises-exception"
    ]
   },
   "outputs": [],
   "source": [
    "def random_walker(T):\n",
    "    \"\"\"\n",
    "    Simulates T steps of a 2D random walk, and prints the result of each step.\n",
    "    Returns the squared distance from the origin.\n",
    "\n",
    "    Parameters\n",
    "    ----------\n",
    "    T : int\n",
    "        Number of steps to take\n",
    "\n",
    "    Returns\n",
    "    -------\n",
    "    out : float\n",
    "        Euclidean distance from the origin rounded to 2 decimal places\n",
    "\n",
    "    Examples\n",
    "    --------\n",
    "    >>> random_walker(1)\n",
    "    1.0\n",
    "\n",
    "    >>> random_walker(1)\n",
    "    1.41  # this randomly gives 1.41, 2.0, or 0.0\n",
    "    \"\"\"\n",
    "\n",
    "    x = 0\n",
    "    y = 0\n",
    "\n",
    "    for i in range(T):\n",
    "        rand = random()\n",
    "        print(rand)\n",
    "        \n",
    "        breakpoint()\n",
    "        \n",
    "        if rand < 0.25:\n",
    "            print(\"I'm going right!\")\n",
    "            x += 1\n",
    "        if rand < 0.5:\n",
    "            print(\"I'm going left!\")\n",
    "            x -= 1\n",
    "        if rand < 0.75:\n",
    "            print(\"I'm going up!\")\n",
    "            y += 1\n",
    "        else:\n",
    "            print(\"I'm going down!\")\n",
    "            y -= 1\n",
    "        print((x, y), '\\n')\n",
    "        \n",
    "    return round((x ** 2 + y ** 2) ** 0.5, 2)\n",
    "\n",
    "\n",
    "random_walker(5)"
   ]
  },
  {
   "cell_type": "markdown",
   "metadata": {},
   "source": [
    "- So the correct code should be:"
   ]
  },
  {
   "cell_type": "code",
   "execution_count": 5,
   "metadata": {
    "tags": [
     "ignore"
    ]
   },
   "outputs": [
    {
     "name": "stdout",
     "output_type": "stream",
     "text": [
      "I'm going left!\n",
      "(-1, 0) \n",
      "\n",
      "I'm going left!\n",
      "(-2, 0) \n",
      "\n",
      "I'm going right!\n",
      "(-1, 0) \n",
      "\n",
      "I'm going left!\n",
      "(-2, 0) \n",
      "\n",
      "I'm going up!\n",
      "(-2, 1) \n",
      "\n"
     ]
    },
    {
     "data": {
      "text/plain": [
       "2.24"
      ]
     },
     "execution_count": 5,
     "metadata": {},
     "output_type": "execute_result"
    }
   ],
   "source": [
    "from random import random\n",
    "\n",
    "def random_walker(T):\n",
    "    \"\"\"\n",
    "    Simulates T steps of a 2D random walk, and prints the result of each step.\n",
    "    Returns the squared distance from the origin.\n",
    "\n",
    "    Parameters\n",
    "    ----------\n",
    "    T : int\n",
    "        Number of steps to take\n",
    "\n",
    "    Returns\n",
    "    -------\n",
    "    out : float\n",
    "        Euclidean distance from the origin rounded to 2 decimal places\n",
    "\n",
    "    Examples\n",
    "    --------\n",
    "    >>> random_walker(1)\n",
    "    1.0\n",
    "\n",
    "    >>> random_walker(1)\n",
    "    1.41  # this randomly gives 1.41, 2.0, or 0.0\n",
    "    \"\"\"\n",
    "\n",
    "    x = 0\n",
    "    y = 0\n",
    "\n",
    "    for i in range(T):\n",
    "        rand = random()\n",
    "        # print(rand)\n",
    "        \n",
    "        if rand < 0.25:\n",
    "            print(\"I'm going right!\")\n",
    "            x += 1\n",
    "        elif rand < 0.5:\n",
    "            print(\"I'm going left!\")\n",
    "            x -= 1\n",
    "        elif rand < 0.75:\n",
    "            print(\"I'm going up!\")\n",
    "            y += 1\n",
    "        else:\n",
    "            print(\"I'm going down!\")\n",
    "            y -= 1\n",
    "        print((x, y), '\\n')\n",
    "        \n",
    "    return round((x ** 2 + y ** 2) ** 0.5, 2)\n",
    "\n",
    "\n",
    "random_walker(5)"
   ]
  },
  {
   "cell_type": "markdown",
   "metadata": {},
   "source": [
    "- Most Python IDE's also have their own debugging workflow, including the visual debugger of VSCode and JupyterLab."
   ]
  }
 ],
 "metadata": {
  "anaconda-cloud": {},
  "kernelspec": {
   "display_name": "Python [conda env:dsci511]",
   "language": "python",
   "name": "conda-env-dsci511-py"
  },
  "language_info": {
   "codemirror_mode": {
    "name": "ipython",
    "version": 3
   },
   "file_extension": ".py",
   "mimetype": "text/x-python",
   "name": "python",
   "nbconvert_exporter": "python",
   "pygments_lexer": "ipython3",
   "version": "3.10.6"
  },
  "toc": {
   "base_numbering": 1,
   "nav_menu": {},
   "number_sections": false,
   "sideBar": true,
   "skip_h1_title": true,
   "title_cell": "Table of Contents",
   "title_sidebar": "Contents",
   "toc_cell": true,
   "toc_position": {},
   "toc_section_display": true,
   "toc_window_display": true
  },
  "vscode": {
   "interpreter": {
    "hash": "b0fa6594d8f4cbf19f97940f81e996739fb7646882a419484c72d19e05852a7e"
   }
  }
 },
 "nbformat": 4,
 "nbformat_minor": 4
}
