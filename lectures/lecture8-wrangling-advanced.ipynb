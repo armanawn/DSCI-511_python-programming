{
 "cells": [
  {
   "cell_type": "markdown",
   "metadata": {},
   "source": [
    "<img src=\"img/dsci511_header.png\" width=\"600\">"
   ]
  },
  {
   "cell_type": "markdown",
   "metadata": {},
   "source": [
    "# Lecture 8: Advanced data wrangling with Pandas"
   ]
  },
  {
   "cell_type": "markdown",
   "metadata": {},
   "source": [
    "## Lecture learning objectives"
   ]
  },
  {
   "cell_type": "markdown",
   "metadata": {},
   "source": [
    "- Manipulate strings in Pandas by accessing methods from the `Series.str` attribute.\n",
    "- Understand how to use regular expressions in Pandas for wrangling strings.\n",
    "- Differentiate between datetime object in Pandas such as `Timestamp`, `Timedelta`, `Period`, `DateOffset`.\n",
    "- Create these datetime objects with functions like `pd.Timestamp()`, `pd.Period()`, `pd.date_range()`, `pd.period_range()`.\n",
    "- Index a datetime index with partial string indexing.\n",
    "- Perform basic datetime operations like splitting a datetime into constituent parts (e.g., `year`, `weekday`, `second`, etc), apply offsets, change timezones, and resample with `.resample()`.\n",
    "- Make basic plots in Pandas by accessing the `.plot` attribute or importing functions from `pandas.plotting`."
   ]
  },
  {
   "cell_type": "code",
   "execution_count": 1,
   "metadata": {},
   "outputs": [],
   "source": [
    "import pandas as pd\n",
    "import numpy as np\n",
    "pd.set_option('display.max_rows', 20)"
   ]
  },
  {
   "cell_type": "markdown",
   "metadata": {},
   "source": [
    "## Working with strings"
   ]
  },
  {
   "cell_type": "markdown",
   "metadata": {},
   "source": [
    "- Working with text data is quite common in data science\n",
    "- Luckily, Pandas Series and Index objects are equipped with a set of string processing methods which we'll explore here"
   ]
  },
  {
   "cell_type": "markdown",
   "metadata": {},
   "source": [
    "### String dtype"
   ]
  },
  {
   "cell_type": "markdown",
   "metadata": {},
   "source": [
    "- As we discussed back in Lecture 6, string data is represented in pandas using the `object` dtype, which is a generic dtype for representing mixed data or data of unknown size\n",
    "- It would be better to have a dedicated dtype and Pandas has recently introduced this: the `StringDtype`\n",
    "- `object` remains the default dtype for strings however, as Pandas looks to continue testing and improving the `string` dtype\n",
    "- You can read more about the `StringDtype` in the [Pandas documentation here](https://pandas.pydata.org/pandas-docs/stable/user_guide/text.html#text-data-types)"
   ]
  },
  {
   "cell_type": "markdown",
   "metadata": {},
   "source": [
    "### String methods"
   ]
  },
  {
   "cell_type": "markdown",
   "metadata": {},
   "source": [
    "- In previous lectures, we've seen how libraries like NumPy and Pandas can vectorize operations for increased speed and usability"
   ]
  },
  {
   "cell_type": "code",
   "execution_count": 2,
   "metadata": {},
   "outputs": [
    {
     "data": {
      "text/plain": [
       "array([ 2,  4,  6,  8, 10])"
      ]
     },
     "execution_count": 2,
     "metadata": {},
     "output_type": "execute_result"
    }
   ],
   "source": [
    "x = np.array([1, 2, 3, 4, 5])\n",
    "x * 2"
   ]
  },
  {
   "cell_type": "markdown",
   "metadata": {},
   "source": [
    "- This is not the case for arrays of strings however"
   ]
  },
  {
   "cell_type": "code",
   "execution_count": 3,
   "metadata": {
    "tags": [
     "raises-exception"
    ]
   },
   "outputs": [
    {
     "ename": "AttributeError",
     "evalue": "'numpy.ndarray' object has no attribute 'upper'",
     "output_type": "error",
     "traceback": [
      "\u001b[0;31m---------------------------------------------------------------------------\u001b[0m",
      "\u001b[0;31mAttributeError\u001b[0m                            Traceback (most recent call last)",
      "Cell \u001b[0;32mIn [3], line 2\u001b[0m\n\u001b[1;32m      1\u001b[0m x \u001b[38;5;241m=\u001b[39m np\u001b[38;5;241m.\u001b[39marray([\u001b[38;5;124m'\u001b[39m\u001b[38;5;124mArman\u001b[39m\u001b[38;5;124m'\u001b[39m, \u001b[38;5;124m'\u001b[39m\u001b[38;5;124mFlorencia\u001b[39m\u001b[38;5;124m'\u001b[39m, \u001b[38;5;124m'\u001b[39m\u001b[38;5;124mQuan\u001b[39m\u001b[38;5;124m'\u001b[39m, \u001b[38;5;124m'\u001b[39m\u001b[38;5;124mMike\u001b[39m\u001b[38;5;124m'\u001b[39m, \u001b[38;5;124m'\u001b[39m\u001b[38;5;124mTiffany\u001b[39m\u001b[38;5;124m'\u001b[39m, \u001b[38;5;124m'\u001b[39m\u001b[38;5;124mJoel\u001b[39m\u001b[38;5;124m'\u001b[39m, \u001b[38;5;124m'\u001b[39m\u001b[38;5;124mVarada\u001b[39m\u001b[38;5;124m'\u001b[39m])\n\u001b[0;32m----> 2\u001b[0m x\u001b[38;5;241m.\u001b[39mupper()\n",
      "\u001b[0;31mAttributeError\u001b[0m: 'numpy.ndarray' object has no attribute 'upper'"
     ]
    }
   ],
   "source": [
    "x = np.array(['Arman', 'Florencia', 'Quan', 'Mike', 'Tiffany', 'Joel', 'Varada'])\n",
    "x.upper()"
   ]
  },
  {
   "cell_type": "markdown",
   "metadata": {},
   "source": [
    "- Instead, you would have to operate on each string object one at a time, using a loop for example:"
   ]
  },
  {
   "cell_type": "code",
   "execution_count": 4,
   "metadata": {},
   "outputs": [
    {
     "data": {
      "text/plain": [
       "['ARMAN', 'FLORENCIA', 'QUAN', 'MIKE', 'TIFFANY', 'JOEL', 'VARADA']"
      ]
     },
     "execution_count": 4,
     "metadata": {},
     "output_type": "execute_result"
    }
   ],
   "source": [
    "[name.upper() for name in x]"
   ]
  },
  {
   "cell_type": "markdown",
   "metadata": {},
   "source": [
    "- Pandas addresses this by vectorizing its string methods and handling missing values\n",
    "- String methods can be accessed by the `.str` attribute of Pandas `Series` and `Index` objects\n",
    "- Pretty much all built-in string operations (e.g. `.upper()`, `.lower()`, `.split()`) and more are available"
   ]
  },
  {
   "cell_type": "code",
   "execution_count": 5,
   "metadata": {},
   "outputs": [
    {
     "data": {
      "text/plain": [
       "0        Arman\n",
       "1    Florencia\n",
       "2         Quan\n",
       "3         Mike\n",
       "4      Tiffany\n",
       "5         Joel\n",
       "6       Varada\n",
       "dtype: object"
      ]
     },
     "execution_count": 5,
     "metadata": {},
     "output_type": "execute_result"
    }
   ],
   "source": [
    "s = pd.Series(x)\n",
    "s"
   ]
  },
  {
   "cell_type": "code",
   "execution_count": 6,
   "metadata": {},
   "outputs": [
    {
     "data": {
      "text/plain": [
       "0        ARMAN\n",
       "1    FLORENCIA\n",
       "2         QUAN\n",
       "3         MIKE\n",
       "4      TIFFANY\n",
       "5         JOEL\n",
       "6       VARADA\n",
       "dtype: object"
      ]
     },
     "execution_count": 6,
     "metadata": {},
     "output_type": "execute_result"
    }
   ],
   "source": [
    "s.str.upper()"
   ]
  },
  {
   "cell_type": "code",
   "execution_count": 7,
   "metadata": {},
   "outputs": [
    {
     "data": {
      "text/html": [
       "<div>\n",
       "<style scoped>\n",
       "    .dataframe tbody tr th:only-of-type {\n",
       "        vertical-align: middle;\n",
       "    }\n",
       "\n",
       "    .dataframe tbody tr th {\n",
       "        vertical-align: top;\n",
       "    }\n",
       "\n",
       "    .dataframe thead th {\n",
       "        text-align: right;\n",
       "    }\n",
       "</style>\n",
       "<table border=\"1\" class=\"dataframe\">\n",
       "  <thead>\n",
       "    <tr style=\"text-align: right;\">\n",
       "      <th></th>\n",
       "      <th>0</th>\n",
       "      <th>1</th>\n",
       "    </tr>\n",
       "  </thead>\n",
       "  <tbody>\n",
       "    <tr>\n",
       "      <th>0</th>\n",
       "      <td>Arman</td>\n",
       "      <td>None</td>\n",
       "    </tr>\n",
       "    <tr>\n",
       "      <th>1</th>\n",
       "      <td>Florenc</td>\n",
       "      <td>a</td>\n",
       "    </tr>\n",
       "    <tr>\n",
       "      <th>2</th>\n",
       "      <td>Quan</td>\n",
       "      <td>None</td>\n",
       "    </tr>\n",
       "    <tr>\n",
       "      <th>3</th>\n",
       "      <td>M</td>\n",
       "      <td>ke</td>\n",
       "    </tr>\n",
       "    <tr>\n",
       "      <th>4</th>\n",
       "      <td>T</td>\n",
       "      <td>ffany</td>\n",
       "    </tr>\n",
       "    <tr>\n",
       "      <th>5</th>\n",
       "      <td>Joel</td>\n",
       "      <td>None</td>\n",
       "    </tr>\n",
       "    <tr>\n",
       "      <th>6</th>\n",
       "      <td>Varada</td>\n",
       "      <td>None</td>\n",
       "    </tr>\n",
       "  </tbody>\n",
       "</table>\n",
       "</div>"
      ],
      "text/plain": [
       "         0      1\n",
       "0    Arman   None\n",
       "1  Florenc      a\n",
       "2     Quan   None\n",
       "3        M     ke\n",
       "4        T  ffany\n",
       "5     Joel   None\n",
       "6   Varada   None"
      ]
     },
     "execution_count": 7,
     "metadata": {},
     "output_type": "execute_result"
    }
   ],
   "source": [
    "s.str.split('i', expand=True)"
   ]
  },
  {
   "cell_type": "code",
   "execution_count": 8,
   "metadata": {},
   "outputs": [
    {
     "data": {
      "text/plain": [
       "0    5\n",
       "1    9\n",
       "2    4\n",
       "3    4\n",
       "4    7\n",
       "5    4\n",
       "6    6\n",
       "dtype: int64"
      ]
     },
     "execution_count": 8,
     "metadata": {},
     "output_type": "execute_result"
    }
   ],
   "source": [
    "s.str.len()"
   ]
  },
  {
   "cell_type": "markdown",
   "metadata": {},
   "source": [
    "- We can index each string too, just like any other string in Python:"
   ]
  },
  {
   "cell_type": "code",
   "execution_count": 9,
   "metadata": {},
   "outputs": [
    {
     "data": {
      "text/plain": [
       "0    n\n",
       "1    a\n",
       "2    n\n",
       "3    e\n",
       "4    y\n",
       "5    l\n",
       "6    a\n",
       "dtype: object"
      ]
     },
     "execution_count": 9,
     "metadata": {},
     "output_type": "execute_result"
    }
   ],
   "source": [
    "s.str[-1]"
   ]
  },
  {
   "cell_type": "markdown",
   "metadata": {},
   "source": [
    "- As mentioned, we can also operate on Index objects (i.e., index or column labels)"
   ]
  },
  {
   "cell_type": "code",
   "execution_count": 10,
   "metadata": {},
   "outputs": [
    {
     "data": {
      "text/html": [
       "<div>\n",
       "<style scoped>\n",
       "    .dataframe tbody tr th:only-of-type {\n",
       "        vertical-align: middle;\n",
       "    }\n",
       "\n",
       "    .dataframe tbody tr th {\n",
       "        vertical-align: top;\n",
       "    }\n",
       "\n",
       "    .dataframe thead th {\n",
       "        text-align: right;\n",
       "    }\n",
       "</style>\n",
       "<table border=\"1\" class=\"dataframe\">\n",
       "  <thead>\n",
       "    <tr style=\"text-align: right;\">\n",
       "      <th></th>\n",
       "      <th>Measured Feature</th>\n",
       "      <th>recorded feature</th>\n",
       "      <th>PredictedFeature</th>\n",
       "    </tr>\n",
       "  </thead>\n",
       "  <tbody>\n",
       "    <tr>\n",
       "      <th>ROW0</th>\n",
       "      <td>0.736643</td>\n",
       "      <td>0.285058</td>\n",
       "      <td>0.333688</td>\n",
       "    </tr>\n",
       "    <tr>\n",
       "      <th>ROW1</th>\n",
       "      <td>0.467136</td>\n",
       "      <td>0.330487</td>\n",
       "      <td>0.575486</td>\n",
       "    </tr>\n",
       "    <tr>\n",
       "      <th>ROW2</th>\n",
       "      <td>0.953170</td>\n",
       "      <td>0.348945</td>\n",
       "      <td>0.005958</td>\n",
       "    </tr>\n",
       "    <tr>\n",
       "      <th>ROW3</th>\n",
       "      <td>0.598575</td>\n",
       "      <td>0.690201</td>\n",
       "      <td>0.425076</td>\n",
       "    </tr>\n",
       "    <tr>\n",
       "      <th>ROW4</th>\n",
       "      <td>0.095359</td>\n",
       "      <td>0.287070</td>\n",
       "      <td>0.851569</td>\n",
       "    </tr>\n",
       "  </tbody>\n",
       "</table>\n",
       "</div>"
      ],
      "text/plain": [
       "      Measured Feature  recorded feature  PredictedFeature\n",
       "ROW0          0.736643          0.285058          0.333688\n",
       "ROW1          0.467136          0.330487          0.575486\n",
       "ROW2          0.953170          0.348945          0.005958\n",
       "ROW3          0.598575          0.690201          0.425076\n",
       "ROW4          0.095359          0.287070          0.851569"
      ]
     },
     "execution_count": 10,
     "metadata": {},
     "output_type": "execute_result"
    }
   ],
   "source": [
    "df = pd.DataFrame(\n",
    "    np.random.rand(5, 3),\n",
    "    columns=['Measured Feature', 'recorded feature', 'PredictedFeature'],\n",
    "    index=[f'ROW{_}' for _ in range(5)],\n",
    ")\n",
    "df"
   ]
  },
  {
   "cell_type": "code",
   "execution_count": 11,
   "metadata": {},
   "outputs": [
    {
     "data": {
      "text/plain": [
       "pandas.core.indexes.base.Index"
      ]
     },
     "execution_count": 11,
     "metadata": {},
     "output_type": "execute_result"
    }
   ],
   "source": [
    "type(df.columns)"
   ]
  },
  {
   "cell_type": "markdown",
   "metadata": {},
   "source": [
    "- Let's clean up those labels by:\n",
    "    1. Removing the word \"feature\" and \"Feature\"\n",
    "    2. Lowercase the \"ROW\" and add an underscore between the digit and letters"
   ]
  },
  {
   "cell_type": "code",
   "execution_count": 12,
   "metadata": {},
   "outputs": [
    {
     "data": {
      "text/plain": [
       "Index(['Measured', 'Recorded', 'Predicted'], dtype='object')"
      ]
     },
     "execution_count": 12,
     "metadata": {},
     "output_type": "execute_result"
    }
   ],
   "source": [
    "df.columns.str.capitalize().str.replace('feature', '').str.strip()"
   ]
  },
  {
   "cell_type": "code",
   "execution_count": 13,
   "metadata": {},
   "outputs": [],
   "source": [
    "df.columns = df.columns.str.capitalize().str.replace('feature', '').str.strip()"
   ]
  },
  {
   "cell_type": "code",
   "execution_count": 14,
   "metadata": {},
   "outputs": [],
   "source": [
    "df.index = df.index.str.lower().str.replace('w', 'w_')"
   ]
  },
  {
   "cell_type": "code",
   "execution_count": 15,
   "metadata": {},
   "outputs": [
    {
     "data": {
      "text/html": [
       "<div>\n",
       "<style scoped>\n",
       "    .dataframe tbody tr th:only-of-type {\n",
       "        vertical-align: middle;\n",
       "    }\n",
       "\n",
       "    .dataframe tbody tr th {\n",
       "        vertical-align: top;\n",
       "    }\n",
       "\n",
       "    .dataframe thead th {\n",
       "        text-align: right;\n",
       "    }\n",
       "</style>\n",
       "<table border=\"1\" class=\"dataframe\">\n",
       "  <thead>\n",
       "    <tr style=\"text-align: right;\">\n",
       "      <th></th>\n",
       "      <th>Measured</th>\n",
       "      <th>Recorded</th>\n",
       "      <th>Predicted</th>\n",
       "    </tr>\n",
       "  </thead>\n",
       "  <tbody>\n",
       "    <tr>\n",
       "      <th>row_0</th>\n",
       "      <td>0.736643</td>\n",
       "      <td>0.285058</td>\n",
       "      <td>0.333688</td>\n",
       "    </tr>\n",
       "    <tr>\n",
       "      <th>row_1</th>\n",
       "      <td>0.467136</td>\n",
       "      <td>0.330487</td>\n",
       "      <td>0.575486</td>\n",
       "    </tr>\n",
       "    <tr>\n",
       "      <th>row_2</th>\n",
       "      <td>0.953170</td>\n",
       "      <td>0.348945</td>\n",
       "      <td>0.005958</td>\n",
       "    </tr>\n",
       "    <tr>\n",
       "      <th>row_3</th>\n",
       "      <td>0.598575</td>\n",
       "      <td>0.690201</td>\n",
       "      <td>0.425076</td>\n",
       "    </tr>\n",
       "    <tr>\n",
       "      <th>row_4</th>\n",
       "      <td>0.095359</td>\n",
       "      <td>0.287070</td>\n",
       "      <td>0.851569</td>\n",
       "    </tr>\n",
       "  </tbody>\n",
       "</table>\n",
       "</div>"
      ],
      "text/plain": [
       "       Measured  Recorded  Predicted\n",
       "row_0  0.736643  0.285058   0.333688\n",
       "row_1  0.467136  0.330487   0.575486\n",
       "row_2  0.953170  0.348945   0.005958\n",
       "row_3  0.598575  0.690201   0.425076\n",
       "row_4  0.095359  0.287070   0.851569"
      ]
     },
     "execution_count": 15,
     "metadata": {},
     "output_type": "execute_result"
    }
   ],
   "source": [
    "df"
   ]
  },
  {
   "cell_type": "markdown",
   "metadata": {},
   "source": [
    "- Great that worked!\n",
    "- There are so many string operations you can use in Pandas\n",
    "- Here's a full list of all the string methods available in Pandas that I pulled from the documentation"
   ]
  },
  {
   "cell_type": "markdown",
   "metadata": {},
   "source": [
    "| Method                     | Description                                                                                                                       |\n",
    "| -------------------------- | --------------------------------------------------------------------------------------------------------------------------------- |\n",
    "| `Series.str.cat`           | Concatenate strings                                                                                                               |\n",
    "| `Series.str.split`         | Split strings on delimiter                                                                                                        |\n",
    "| `Series.str.rsplit`        | Split strings on delimiter working from the end of the string                                                                     |\n",
    "| `Series.str.get`           | Index into each element (retrieve i-th element)                                                                                   |\n",
    "| `Series.str.join`          | Join strings in each element of the Series with passed separator                                                                  |\n",
    "| `Series.str.get_dummies`   | Split strings on the delimiter returning DataFrame of dummy variables                                                             |\n",
    "| `Series.str.contains`      | Return boolean array if each string contains pattern/regex                                                                        |\n",
    "| `Series.str.replace`       | Replace occurrences of pattern/regex/string with some other string or the return value of a callable given the occurrence         |\n",
    "| `Series.str.repeat`        | Duplicate values (`s.str.repeat(3)` equivalent to `x * 3`)                                                                        |\n",
    "| `Series.str.pad`           | \"Add whitespace to left, right, or both sides of strings\"                                                                         |\n",
    "| `Series.str.center`        | Equivalent to `str.center`                                                                                                        |\n",
    "| `Series.str.ljust`         | Equivalent to `str.ljust`                                                                                                         |\n",
    "| `Series.str.rjust`         | Equivalent to `str.rjust`                                                                                                         |\n",
    "| `Series.str.zfill`         | Equivalent to `str.zfill`                                                                                                         |\n",
    "| `Series.str.wrap`          | Split long strings into lines with length less than a given width                                                                 |\n",
    "| `Series.str.slice`         | Slice each string in the Series                                                                                                   |\n",
    "| `Series.str.slice_replace` | Replace slice in each string with passed value                                                                                    |\n",
    "| `Series.str.count`         | Count occurrences of pattern                                                                                                      |\n",
    "| `Series.str.startswith`    | Equivalent to `str.startswith(pat)` for each element                                                                              |\n",
    "| `Series.str.endswith`      | Equivalent to `str.endswith(pat)` for each element                                                                                |\n",
    "| `Series.str.findall`       | Compute list of all occurrences of pattern/regex for each string                                                                  |\n",
    "| `Series.str.match`         | \"Call `re.match` on each element, returning matched groups as list\"                                                               |\n",
    "| `Series.str.extract`       | \"Call `re.search` on each element, returning DataFrame with one row for each element and one column for each regex capture group\" |\n",
    "| `Series.str.extractall`    | \"Call `re.findall` on each element, returning DataFrame with one row for each match and one column for each regex capture group\"  |\n",
    "| `Series.str.len`           | Compute string lengths                                                                                                            |\n",
    "| `Series.str.strip`         | Equivalent to `str.strip`                                                                                                         |\n",
    "| `Series.str.rstrip`        | Equivalent to `str.rstrip`                                                                                                        |\n",
    "| `Series.str.lstrip`        | Equivalent to `str.lstrip`                                                                                                        |\n",
    "| `Series.str.partition`     | Equivalent to `str.partition`                                                                                                     |\n",
    "| `Series.str.rpartition`    | Equivalent to `str.rpartition`                                                                                                    |\n",
    "| `Series.str.lower`         | Equivalent to `str.lower`                                                                                                         |\n",
    "| `Series.str.casefold`      | Equivalent to `str.casefold`                                                                                                      |\n",
    "| `Series.str.upper`         | Equivalent to `str.upper`                                                                                                         |\n",
    "| `Series.str.find`          | Equivalent to `str.find`                                                                                                          |\n",
    "| `Series.str.rfind`         | Equivalent to `str.rfind`                                                                                                         |\n",
    "| `Series.str.index`         | Equivalent to `str.index`                                                                                                         |\n",
    "| `Series.str.rindex`        | Equivalent to `str.rindex`                                                                                                        |\n",
    "| `Series.str.capitalize`    | Equivalent to `str.capitalize`                                                                                                    |\n",
    "| `Series.str.swapcase`      | Equivalent to `str.swapcase`                                                                                                      |\n",
    "| `Series.str.normalize`     | Return Unicode normal form. Equivalent to `unicodedata.normalize`                                                                 |\n",
    "| `Series.str.translate`     | Equivalent to `str.translate`                                                                                                     |\n",
    "| `Series.str.isalnum`       | Equivalent to `str.isalnum`                                                                                                       |\n",
    "| `Series.str.isalpha`       | Equivalent to `str.isalpha`                                                                                                       |\n",
    "| `Series.str.isdigit`       | Equivalent to `str.isdigit`                                                                                                       |\n",
    "| `Series.str.isspace`       | Equivalent to `str.isspace`                                                                                                       |\n",
    "| `Series.str.islower`       | Equivalent to `str.islower`                                                                                                       |\n",
    "| `Series.str.isupper`       | Equivalent to `str.isupper`                                                                                                       |\n",
    "| `Series.str.istitle`       | Equivalent to `str.istitle`                                                                                                       |\n",
    "| `Series.str.isnumeric`     | Equivalent to `str.isnumeric`                                                                                                     |\n",
    "| `Series.str.isdecimal`     | Equivalent to `str.isdecimal`                                                                                                     |"
   ]
  },
  {
   "cell_type": "markdown",
   "metadata": {},
   "source": [
    "- I often use the dataframe method `df.replace()` to do string replacements:"
   ]
  },
  {
   "cell_type": "code",
   "execution_count": 16,
   "metadata": {},
   "outputs": [
    {
     "data": {
      "text/html": [
       "<div>\n",
       "<style scoped>\n",
       "    .dataframe tbody tr th:only-of-type {\n",
       "        vertical-align: middle;\n",
       "    }\n",
       "\n",
       "    .dataframe tbody tr th {\n",
       "        vertical-align: top;\n",
       "    }\n",
       "\n",
       "    .dataframe thead th {\n",
       "        text-align: right;\n",
       "    }\n",
       "</style>\n",
       "<table border=\"1\" class=\"dataframe\">\n",
       "  <thead>\n",
       "    <tr style=\"text-align: right;\">\n",
       "      <th></th>\n",
       "      <th>col1</th>\n",
       "      <th>col2</th>\n",
       "    </tr>\n",
       "  </thead>\n",
       "  <tbody>\n",
       "    <tr>\n",
       "      <th>0</th>\n",
       "      <td>replace me</td>\n",
       "      <td>1</td>\n",
       "    </tr>\n",
       "    <tr>\n",
       "      <th>1</th>\n",
       "      <td>b</td>\n",
       "      <td>9999</td>\n",
       "    </tr>\n",
       "    <tr>\n",
       "      <th>2</th>\n",
       "      <td>c</td>\n",
       "      <td>3</td>\n",
       "    </tr>\n",
       "    <tr>\n",
       "      <th>3</th>\n",
       "      <td>d</td>\n",
       "      <td>replace me</td>\n",
       "    </tr>\n",
       "  </tbody>\n",
       "</table>\n",
       "</div>"
      ],
      "text/plain": [
       "         col1        col2\n",
       "0  replace me           1\n",
       "1           b        9999\n",
       "2           c           3\n",
       "3           d  replace me"
      ]
     },
     "execution_count": 16,
     "metadata": {},
     "output_type": "execute_result"
    }
   ],
   "source": [
    "df = pd.DataFrame({'col1': ['replace me', 'b', 'c', 'd'],\n",
    "                   'col2': [1, 9999, 3, 'replace me']})\n",
    "df"
   ]
  },
  {
   "cell_type": "code",
   "execution_count": 17,
   "metadata": {},
   "outputs": [
    {
     "data": {
      "text/html": [
       "<div>\n",
       "<style scoped>\n",
       "    .dataframe tbody tr th:only-of-type {\n",
       "        vertical-align: middle;\n",
       "    }\n",
       "\n",
       "    .dataframe tbody tr th {\n",
       "        vertical-align: top;\n",
       "    }\n",
       "\n",
       "    .dataframe thead th {\n",
       "        text-align: right;\n",
       "    }\n",
       "</style>\n",
       "<table border=\"1\" class=\"dataframe\">\n",
       "  <thead>\n",
       "    <tr style=\"text-align: right;\">\n",
       "      <th></th>\n",
       "      <th>col1</th>\n",
       "      <th>col2</th>\n",
       "    </tr>\n",
       "  </thead>\n",
       "  <tbody>\n",
       "    <tr>\n",
       "      <th>0</th>\n",
       "      <td>Replaced!</td>\n",
       "      <td>1</td>\n",
       "    </tr>\n",
       "    <tr>\n",
       "      <th>1</th>\n",
       "      <td>b</td>\n",
       "      <td>10000</td>\n",
       "    </tr>\n",
       "    <tr>\n",
       "      <th>2</th>\n",
       "      <td>c</td>\n",
       "      <td>3</td>\n",
       "    </tr>\n",
       "    <tr>\n",
       "      <th>3</th>\n",
       "      <td>d</td>\n",
       "      <td>Replaced!</td>\n",
       "    </tr>\n",
       "  </tbody>\n",
       "</table>\n",
       "</div>"
      ],
      "text/plain": [
       "        col1       col2\n",
       "0  Replaced!          1\n",
       "1          b      10000\n",
       "2          c          3\n",
       "3          d  Replaced!"
      ]
     },
     "execution_count": 17,
     "metadata": {},
     "output_type": "execute_result"
    }
   ],
   "source": [
    "df.replace({'replace me': 'Replaced!',\n",
    "            9999: 10000})"
   ]
  },
  {
   "cell_type": "markdown",
   "metadata": {},
   "source": [
    "### Regular expressions or REGEX"
   ]
  },
  {
   "cell_type": "markdown",
   "metadata": {},
   "source": [
    "- A regular expression (regex) is a sequence of characters that defines a search pattern\n",
    "- For more complex string operations, you'll definitely want to use regex\n",
    "- You're learning more about regex in DSCI 521 but I'll revise them briefly here\n",
    "- [Here's a great cheatsheet](https://medium.com/factory-mind/regex-tutorial-a-simple-cheatsheet-by-examples-649dc1c3f285) of regular expression syntax\n",
    "- I am not a regex expert. I usually jump over to [RegExr.com](https://regexr.com/) and play around until I find the expression I want\n",
    "- Many Pandas string functions accept regular expressions as input, these are the ones I see most often:\n",
    "\n",
    "|Method|Description|\n",
    "|---|---|\n",
    "|`match()`   |Call `re.match()` on each element, returning a boolean.\n",
    "|`extract()` |Call `re.match()` on each element, returning matched groups as strings.\n",
    "|`findall()` |Call `re.findall()` on each element\n",
    "|`replace()` |Replace occurrences of pattern with some other string\n",
    "|`contains()`|Call `re.search()` on each element, returning a boolean\n",
    "|`count()`   |Count occurrences of pattern\n",
    "|`split()`   |Equivalent to `str.split()`, but accepts regexps\n",
    "|`rsplit()`  |Equivalent to `str.rsplit()`, but accepts regexps"
   ]
  },
  {
   "cell_type": "markdown",
   "metadata": {},
   "source": [
    "- For example, we can easily find all names in our Series that start and end with a consonant"
   ]
  },
  {
   "cell_type": "code",
   "execution_count": 18,
   "metadata": {},
   "outputs": [
    {
     "data": {
      "text/plain": [
       "0        Arman\n",
       "1    Florencia\n",
       "2         None\n",
       "3         Quan\n",
       "4         Mike\n",
       "5      Tiffany\n",
       "6         Joel\n",
       "7       Varada\n",
       "dtype: object"
      ]
     },
     "execution_count": 18,
     "metadata": {},
     "output_type": "execute_result"
    }
   ],
   "source": [
    "s = pd.Series(['Arman', 'Florencia', None, 'Quan', 'Mike', 'Tiffany', 'Joel', 'Varada'])\n",
    "s"
   ]
  },
  {
   "cell_type": "code",
   "execution_count": 19,
   "metadata": {},
   "outputs": [
    {
     "data": {
      "text/plain": [
       "0           []\n",
       "1           []\n",
       "2         None\n",
       "3       [Quan]\n",
       "4           []\n",
       "5    [Tiffany]\n",
       "6       [Joel]\n",
       "7           []\n",
       "dtype: object"
      ]
     },
     "execution_count": 19,
     "metadata": {},
     "output_type": "execute_result"
    }
   ],
   "source": [
    "s.str.findall(r'^[^AEIOU].*[^aeiou]$')"
   ]
  },
  {
   "cell_type": "markdown",
   "metadata": {},
   "source": [
    "- Let's break down that regex:\n",
    "\n",
    "|Part|Description|\n",
    "|---|---|\n",
    "|`^`|Specifies the start of a string|\n",
    "|`[^AEIOU]`|Square brackets match a single character. When `^` is used inside square brackets it means \"not\", so we are are saying, \"the first character of the string should not be A, E, I, O, or U (i.e., a vowel)\"|\n",
    "|`.*`|`.` matches any character and `*` means \"0 or more time\", this is basically saying that we can have any number of characters in the middle of our string|\n",
    "|`[^aeiou]$`| `$` matches the end of the string, so we are saying, we don't want the last character to be a lowercase vowel|"
   ]
  },
  {
   "cell_type": "markdown",
   "metadata": {},
   "source": [
    "- Regex can do some truly magical things, so keep it in mind when you're doing complicated text wrangling\n",
    "- Let's see one more example on the IMDB dataset:"
   ]
  },
  {
   "cell_type": "code",
   "execution_count": 20,
   "metadata": {},
   "outputs": [
    {
     "data": {
      "text/html": [
       "<div>\n",
       "<style scoped>\n",
       "    .dataframe tbody tr th:only-of-type {\n",
       "        vertical-align: middle;\n",
       "    }\n",
       "\n",
       "    .dataframe tbody tr th {\n",
       "        vertical-align: top;\n",
       "    }\n",
       "\n",
       "    .dataframe thead th {\n",
       "        text-align: right;\n",
       "    }\n",
       "</style>\n",
       "<table border=\"1\" class=\"dataframe\">\n",
       "  <thead>\n",
       "    <tr style=\"text-align: right;\">\n",
       "      <th></th>\n",
       "      <th>Series_Title</th>\n",
       "      <th>Released_Year</th>\n",
       "      <th>Certificate</th>\n",
       "      <th>Runtime</th>\n",
       "      <th>Genre</th>\n",
       "      <th>IMDB_Rating</th>\n",
       "      <th>Meta_score</th>\n",
       "      <th>Director</th>\n",
       "      <th>Star1</th>\n",
       "      <th>Star2</th>\n",
       "      <th>Star3</th>\n",
       "      <th>Star4</th>\n",
       "      <th>No_of_Votes</th>\n",
       "      <th>Gross</th>\n",
       "    </tr>\n",
       "  </thead>\n",
       "  <tbody>\n",
       "    <tr>\n",
       "      <th>0</th>\n",
       "      <td>The Shawshank Redemption</td>\n",
       "      <td>1994</td>\n",
       "      <td>A</td>\n",
       "      <td>142 min</td>\n",
       "      <td>Drama</td>\n",
       "      <td>9.3</td>\n",
       "      <td>80.0</td>\n",
       "      <td>Frank Darabont</td>\n",
       "      <td>Tim Robbins</td>\n",
       "      <td>Morgan Freeman</td>\n",
       "      <td>Bob Gunton</td>\n",
       "      <td>William Sadler</td>\n",
       "      <td>2343110</td>\n",
       "      <td>28341469.0</td>\n",
       "    </tr>\n",
       "    <tr>\n",
       "      <th>1</th>\n",
       "      <td>The Godfather</td>\n",
       "      <td>1972</td>\n",
       "      <td>A</td>\n",
       "      <td>175 min</td>\n",
       "      <td>Crime, Drama</td>\n",
       "      <td>9.2</td>\n",
       "      <td>100.0</td>\n",
       "      <td>Francis Ford Coppola</td>\n",
       "      <td>Marlon Brando</td>\n",
       "      <td>Al Pacino</td>\n",
       "      <td>James Caan</td>\n",
       "      <td>Diane Keaton</td>\n",
       "      <td>1620367</td>\n",
       "      <td>134966411.0</td>\n",
       "    </tr>\n",
       "    <tr>\n",
       "      <th>2</th>\n",
       "      <td>The Dark Knight</td>\n",
       "      <td>2008</td>\n",
       "      <td>UA</td>\n",
       "      <td>152 min</td>\n",
       "      <td>Action, Crime, Drama</td>\n",
       "      <td>9.0</td>\n",
       "      <td>84.0</td>\n",
       "      <td>Christopher Nolan</td>\n",
       "      <td>Christian Bale</td>\n",
       "      <td>Heath Ledger</td>\n",
       "      <td>Aaron Eckhart</td>\n",
       "      <td>Michael Caine</td>\n",
       "      <td>2303232</td>\n",
       "      <td>534858444.0</td>\n",
       "    </tr>\n",
       "    <tr>\n",
       "      <th>3</th>\n",
       "      <td>The Godfather: Part II</td>\n",
       "      <td>1974</td>\n",
       "      <td>A</td>\n",
       "      <td>202 min</td>\n",
       "      <td>Crime, Drama</td>\n",
       "      <td>9.0</td>\n",
       "      <td>90.0</td>\n",
       "      <td>Francis Ford Coppola</td>\n",
       "      <td>Al Pacino</td>\n",
       "      <td>Robert De Niro</td>\n",
       "      <td>Robert Duvall</td>\n",
       "      <td>Diane Keaton</td>\n",
       "      <td>1129952</td>\n",
       "      <td>57300000.0</td>\n",
       "    </tr>\n",
       "    <tr>\n",
       "      <th>4</th>\n",
       "      <td>12 Angry Men</td>\n",
       "      <td>1957</td>\n",
       "      <td>U</td>\n",
       "      <td>96 min</td>\n",
       "      <td>Crime, Drama</td>\n",
       "      <td>9.0</td>\n",
       "      <td>96.0</td>\n",
       "      <td>Sidney Lumet</td>\n",
       "      <td>Henry Fonda</td>\n",
       "      <td>Lee J. Cobb</td>\n",
       "      <td>Martin Balsam</td>\n",
       "      <td>John Fiedler</td>\n",
       "      <td>689845</td>\n",
       "      <td>4360000.0</td>\n",
       "    </tr>\n",
       "    <tr>\n",
       "      <th>...</th>\n",
       "      <td>...</td>\n",
       "      <td>...</td>\n",
       "      <td>...</td>\n",
       "      <td>...</td>\n",
       "      <td>...</td>\n",
       "      <td>...</td>\n",
       "      <td>...</td>\n",
       "      <td>...</td>\n",
       "      <td>...</td>\n",
       "      <td>...</td>\n",
       "      <td>...</td>\n",
       "      <td>...</td>\n",
       "      <td>...</td>\n",
       "      <td>...</td>\n",
       "    </tr>\n",
       "    <tr>\n",
       "      <th>995</th>\n",
       "      <td>Breakfast at Tiffany's</td>\n",
       "      <td>1961</td>\n",
       "      <td>A</td>\n",
       "      <td>115 min</td>\n",
       "      <td>Comedy, Drama, Romance</td>\n",
       "      <td>7.6</td>\n",
       "      <td>76.0</td>\n",
       "      <td>Blake Edwards</td>\n",
       "      <td>Audrey Hepburn</td>\n",
       "      <td>George Peppard</td>\n",
       "      <td>Patricia Neal</td>\n",
       "      <td>Buddy Ebsen</td>\n",
       "      <td>166544</td>\n",
       "      <td>NaN</td>\n",
       "    </tr>\n",
       "    <tr>\n",
       "      <th>996</th>\n",
       "      <td>Giant</td>\n",
       "      <td>1956</td>\n",
       "      <td>G</td>\n",
       "      <td>201 min</td>\n",
       "      <td>Drama, Western</td>\n",
       "      <td>7.6</td>\n",
       "      <td>84.0</td>\n",
       "      <td>George Stevens</td>\n",
       "      <td>Elizabeth Taylor</td>\n",
       "      <td>Rock Hudson</td>\n",
       "      <td>James Dean</td>\n",
       "      <td>Carroll Baker</td>\n",
       "      <td>34075</td>\n",
       "      <td>NaN</td>\n",
       "    </tr>\n",
       "    <tr>\n",
       "      <th>997</th>\n",
       "      <td>From Here to Eternity</td>\n",
       "      <td>1953</td>\n",
       "      <td>Passed</td>\n",
       "      <td>118 min</td>\n",
       "      <td>Drama, Romance, War</td>\n",
       "      <td>7.6</td>\n",
       "      <td>85.0</td>\n",
       "      <td>Fred Zinnemann</td>\n",
       "      <td>Burt Lancaster</td>\n",
       "      <td>Montgomery Clift</td>\n",
       "      <td>Deborah Kerr</td>\n",
       "      <td>Donna Reed</td>\n",
       "      <td>43374</td>\n",
       "      <td>30500000.0</td>\n",
       "    </tr>\n",
       "    <tr>\n",
       "      <th>998</th>\n",
       "      <td>Lifeboat</td>\n",
       "      <td>1944</td>\n",
       "      <td>NaN</td>\n",
       "      <td>97 min</td>\n",
       "      <td>Drama, War</td>\n",
       "      <td>7.6</td>\n",
       "      <td>78.0</td>\n",
       "      <td>Alfred Hitchcock</td>\n",
       "      <td>Tallulah Bankhead</td>\n",
       "      <td>John Hodiak</td>\n",
       "      <td>Walter Slezak</td>\n",
       "      <td>William Bendix</td>\n",
       "      <td>26471</td>\n",
       "      <td>NaN</td>\n",
       "    </tr>\n",
       "    <tr>\n",
       "      <th>999</th>\n",
       "      <td>The 39 Steps</td>\n",
       "      <td>1935</td>\n",
       "      <td>NaN</td>\n",
       "      <td>86 min</td>\n",
       "      <td>Crime, Mystery, Thriller</td>\n",
       "      <td>7.6</td>\n",
       "      <td>93.0</td>\n",
       "      <td>Alfred Hitchcock</td>\n",
       "      <td>Robert Donat</td>\n",
       "      <td>Madeleine Carroll</td>\n",
       "      <td>Lucie Mannheim</td>\n",
       "      <td>Godfrey Tearle</td>\n",
       "      <td>51853</td>\n",
       "      <td>NaN</td>\n",
       "    </tr>\n",
       "  </tbody>\n",
       "</table>\n",
       "<p>1000 rows × 14 columns</p>\n",
       "</div>"
      ],
      "text/plain": [
       "                 Series_Title  Released_Year Certificate  Runtime  \\\n",
       "0    The Shawshank Redemption           1994           A  142 min   \n",
       "1               The Godfather           1972           A  175 min   \n",
       "2             The Dark Knight           2008          UA  152 min   \n",
       "3      The Godfather: Part II           1974           A  202 min   \n",
       "4                12 Angry Men           1957           U   96 min   \n",
       "..                        ...            ...         ...      ...   \n",
       "995    Breakfast at Tiffany's           1961           A  115 min   \n",
       "996                     Giant           1956           G  201 min   \n",
       "997     From Here to Eternity           1953      Passed  118 min   \n",
       "998                  Lifeboat           1944         NaN   97 min   \n",
       "999              The 39 Steps           1935         NaN   86 min   \n",
       "\n",
       "                        Genre  IMDB_Rating  Meta_score              Director  \\\n",
       "0                       Drama          9.3        80.0        Frank Darabont   \n",
       "1                Crime, Drama          9.2       100.0  Francis Ford Coppola   \n",
       "2        Action, Crime, Drama          9.0        84.0     Christopher Nolan   \n",
       "3                Crime, Drama          9.0        90.0  Francis Ford Coppola   \n",
       "4                Crime, Drama          9.0        96.0          Sidney Lumet   \n",
       "..                        ...          ...         ...                   ...   \n",
       "995    Comedy, Drama, Romance          7.6        76.0         Blake Edwards   \n",
       "996            Drama, Western          7.6        84.0        George Stevens   \n",
       "997       Drama, Romance, War          7.6        85.0        Fred Zinnemann   \n",
       "998                Drama, War          7.6        78.0      Alfred Hitchcock   \n",
       "999  Crime, Mystery, Thriller          7.6        93.0      Alfred Hitchcock   \n",
       "\n",
       "                 Star1              Star2           Star3           Star4  \\\n",
       "0          Tim Robbins     Morgan Freeman      Bob Gunton  William Sadler   \n",
       "1        Marlon Brando          Al Pacino      James Caan    Diane Keaton   \n",
       "2       Christian Bale       Heath Ledger   Aaron Eckhart   Michael Caine   \n",
       "3            Al Pacino     Robert De Niro   Robert Duvall    Diane Keaton   \n",
       "4          Henry Fonda        Lee J. Cobb   Martin Balsam    John Fiedler   \n",
       "..                 ...                ...             ...             ...   \n",
       "995     Audrey Hepburn     George Peppard   Patricia Neal     Buddy Ebsen   \n",
       "996   Elizabeth Taylor        Rock Hudson      James Dean   Carroll Baker   \n",
       "997     Burt Lancaster   Montgomery Clift    Deborah Kerr      Donna Reed   \n",
       "998  Tallulah Bankhead        John Hodiak   Walter Slezak  William Bendix   \n",
       "999       Robert Donat  Madeleine Carroll  Lucie Mannheim  Godfrey Tearle   \n",
       "\n",
       "     No_of_Votes        Gross  \n",
       "0        2343110   28341469.0  \n",
       "1        1620367  134966411.0  \n",
       "2        2303232  534858444.0  \n",
       "3        1129952   57300000.0  \n",
       "4         689845    4360000.0  \n",
       "..           ...          ...  \n",
       "995       166544          NaN  \n",
       "996        34075          NaN  \n",
       "997        43374   30500000.0  \n",
       "998        26471          NaN  \n",
       "999        51853          NaN  \n",
       "\n",
       "[1000 rows x 14 columns]"
      ]
     },
     "execution_count": 20,
     "metadata": {},
     "output_type": "execute_result"
    }
   ],
   "source": [
    "df = pd.read_csv('data/IMDB.csv')\n",
    "df"
   ]
  },
  {
   "cell_type": "markdown",
   "metadata": {},
   "source": [
    "- We could find all movies whose whose title begins with a number:"
   ]
  },
  {
   "cell_type": "code",
   "execution_count": 21,
   "metadata": {},
   "outputs": [
    {
     "data": {
      "text/plain": [
       "0      False\n",
       "1      False\n",
       "2      False\n",
       "3      False\n",
       "4       True\n",
       "       ...  \n",
       "995    False\n",
       "996    False\n",
       "997    False\n",
       "998    False\n",
       "999    False\n",
       "Name: Series_Title, Length: 1000, dtype: bool"
      ]
     },
     "execution_count": 21,
     "metadata": {},
     "output_type": "execute_result"
    }
   ],
   "source": [
    "df['Series_Title'].str.match('^\\d')"
   ]
  },
  {
   "cell_type": "code",
   "execution_count": 22,
   "metadata": {},
   "outputs": [
    {
     "data": {
      "text/html": [
       "<div>\n",
       "<style scoped>\n",
       "    .dataframe tbody tr th:only-of-type {\n",
       "        vertical-align: middle;\n",
       "    }\n",
       "\n",
       "    .dataframe tbody tr th {\n",
       "        vertical-align: top;\n",
       "    }\n",
       "\n",
       "    .dataframe thead th {\n",
       "        text-align: right;\n",
       "    }\n",
       "</style>\n",
       "<table border=\"1\" class=\"dataframe\">\n",
       "  <thead>\n",
       "    <tr style=\"text-align: right;\">\n",
       "      <th></th>\n",
       "      <th>Series_Title</th>\n",
       "      <th>Released_Year</th>\n",
       "      <th>Certificate</th>\n",
       "      <th>Runtime</th>\n",
       "      <th>Genre</th>\n",
       "      <th>IMDB_Rating</th>\n",
       "      <th>Meta_score</th>\n",
       "      <th>Director</th>\n",
       "      <th>Star1</th>\n",
       "      <th>Star2</th>\n",
       "      <th>Star3</th>\n",
       "      <th>Star4</th>\n",
       "      <th>No_of_Votes</th>\n",
       "      <th>Gross</th>\n",
       "    </tr>\n",
       "  </thead>\n",
       "  <tbody>\n",
       "    <tr>\n",
       "      <th>4</th>\n",
       "      <td>12 Angry Men</td>\n",
       "      <td>1957</td>\n",
       "      <td>U</td>\n",
       "      <td>96 min</td>\n",
       "      <td>Crime, Drama</td>\n",
       "      <td>9.0</td>\n",
       "      <td>96.0</td>\n",
       "      <td>Sidney Lumet</td>\n",
       "      <td>Henry Fonda</td>\n",
       "      <td>Lee J. Cobb</td>\n",
       "      <td>Martin Balsam</td>\n",
       "      <td>John Fiedler</td>\n",
       "      <td>689845</td>\n",
       "      <td>4360000.0</td>\n",
       "    </tr>\n",
       "    <tr>\n",
       "      <th>64</th>\n",
       "      <td>3 Idiots</td>\n",
       "      <td>2009</td>\n",
       "      <td>UA</td>\n",
       "      <td>170 min</td>\n",
       "      <td>Comedy, Drama</td>\n",
       "      <td>8.4</td>\n",
       "      <td>67.0</td>\n",
       "      <td>Rajkumar Hirani</td>\n",
       "      <td>Aamir Khan</td>\n",
       "      <td>Madhavan</td>\n",
       "      <td>Mona Singh</td>\n",
       "      <td>Sharman Joshi</td>\n",
       "      <td>344445</td>\n",
       "      <td>6532908.0</td>\n",
       "    </tr>\n",
       "    <tr>\n",
       "      <th>84</th>\n",
       "      <td>1917</td>\n",
       "      <td>2019</td>\n",
       "      <td>R</td>\n",
       "      <td>119 min</td>\n",
       "      <td>Drama, Thriller, War</td>\n",
       "      <td>8.3</td>\n",
       "      <td>78.0</td>\n",
       "      <td>Sam Mendes</td>\n",
       "      <td>Dean-Charles Chapman</td>\n",
       "      <td>George MacKay</td>\n",
       "      <td>Daniel Mays</td>\n",
       "      <td>Colin Firth</td>\n",
       "      <td>425844</td>\n",
       "      <td>159227644.0</td>\n",
       "    </tr>\n",
       "    <tr>\n",
       "      <th>114</th>\n",
       "      <td>2001: A Space Odyssey</td>\n",
       "      <td>1968</td>\n",
       "      <td>U</td>\n",
       "      <td>149 min</td>\n",
       "      <td>Adventure, Sci-Fi</td>\n",
       "      <td>8.3</td>\n",
       "      <td>84.0</td>\n",
       "      <td>Stanley Kubrick</td>\n",
       "      <td>Keir Dullea</td>\n",
       "      <td>Gary Lockwood</td>\n",
       "      <td>William Sylvester</td>\n",
       "      <td>Daniel Richter</td>\n",
       "      <td>603517</td>\n",
       "      <td>56954992.0</td>\n",
       "    </tr>\n",
       "    <tr>\n",
       "      <th>215</th>\n",
       "      <td>12 Years a Slave</td>\n",
       "      <td>2013</td>\n",
       "      <td>A</td>\n",
       "      <td>134 min</td>\n",
       "      <td>Biography, Drama, History</td>\n",
       "      <td>8.1</td>\n",
       "      <td>96.0</td>\n",
       "      <td>Steve McQueen</td>\n",
       "      <td>Chiwetel Ejiofor</td>\n",
       "      <td>Michael Kenneth Williams</td>\n",
       "      <td>Michael Fassbender</td>\n",
       "      <td>Brad Pitt</td>\n",
       "      <td>640533</td>\n",
       "      <td>56671993.0</td>\n",
       "    </tr>\n",
       "    <tr>\n",
       "      <th>432</th>\n",
       "      <td>8½</td>\n",
       "      <td>1963</td>\n",
       "      <td>NaN</td>\n",
       "      <td>138 min</td>\n",
       "      <td>Drama</td>\n",
       "      <td>8.0</td>\n",
       "      <td>91.0</td>\n",
       "      <td>Federico Fellini</td>\n",
       "      <td>Marcello Mastroianni</td>\n",
       "      <td>Anouk Aimée</td>\n",
       "      <td>Claudia Cardinale</td>\n",
       "      <td>Sandra Milo</td>\n",
       "      <td>108844</td>\n",
       "      <td>50690.0</td>\n",
       "    </tr>\n",
       "    <tr>\n",
       "      <th>492</th>\n",
       "      <td>4 luni, 3 saptamâni si 2 zile</td>\n",
       "      <td>2007</td>\n",
       "      <td>NaN</td>\n",
       "      <td>113 min</td>\n",
       "      <td>Drama</td>\n",
       "      <td>7.9</td>\n",
       "      <td>97.0</td>\n",
       "      <td>Cristian Mungiu</td>\n",
       "      <td>Anamaria Marinca</td>\n",
       "      <td>Laura Vasiliu</td>\n",
       "      <td>Vlad Ivanov</td>\n",
       "      <td>Alexandru Potocean</td>\n",
       "      <td>56625</td>\n",
       "      <td>1185783.0</td>\n",
       "    </tr>\n",
       "    <tr>\n",
       "      <th>774</th>\n",
       "      <td>3:10 to Yuma</td>\n",
       "      <td>2007</td>\n",
       "      <td>A</td>\n",
       "      <td>122 min</td>\n",
       "      <td>Action, Crime, Drama</td>\n",
       "      <td>7.7</td>\n",
       "      <td>76.0</td>\n",
       "      <td>James Mangold</td>\n",
       "      <td>Russell Crowe</td>\n",
       "      <td>Christian Bale</td>\n",
       "      <td>Ben Foster</td>\n",
       "      <td>Logan Lerman</td>\n",
       "      <td>288797</td>\n",
       "      <td>53606916.0</td>\n",
       "    </tr>\n",
       "    <tr>\n",
       "      <th>907</th>\n",
       "      <td>50/50</td>\n",
       "      <td>2011</td>\n",
       "      <td>R</td>\n",
       "      <td>100 min</td>\n",
       "      <td>Comedy, Drama, Romance</td>\n",
       "      <td>7.6</td>\n",
       "      <td>72.0</td>\n",
       "      <td>Jonathan Levine</td>\n",
       "      <td>Joseph Gordon-Levitt</td>\n",
       "      <td>Seth Rogen</td>\n",
       "      <td>Anna Kendrick</td>\n",
       "      <td>Bryce Dallas Howard</td>\n",
       "      <td>315426</td>\n",
       "      <td>35014192.0</td>\n",
       "    </tr>\n",
       "    <tr>\n",
       "      <th>928</th>\n",
       "      <td>300</td>\n",
       "      <td>2006</td>\n",
       "      <td>A</td>\n",
       "      <td>117 min</td>\n",
       "      <td>Action, Drama</td>\n",
       "      <td>7.6</td>\n",
       "      <td>52.0</td>\n",
       "      <td>Zack Snyder</td>\n",
       "      <td>Gerard Butler</td>\n",
       "      <td>Lena Headey</td>\n",
       "      <td>David Wenham</td>\n",
       "      <td>Dominic West</td>\n",
       "      <td>732876</td>\n",
       "      <td>210614939.0</td>\n",
       "    </tr>\n",
       "    <tr>\n",
       "      <th>938</th>\n",
       "      <td>21 Grams</td>\n",
       "      <td>2003</td>\n",
       "      <td>UA</td>\n",
       "      <td>124 min</td>\n",
       "      <td>Crime, Drama, Thriller</td>\n",
       "      <td>7.6</td>\n",
       "      <td>70.0</td>\n",
       "      <td>Alejandro G. Iñárritu</td>\n",
       "      <td>Sean Penn</td>\n",
       "      <td>Benicio Del Toro</td>\n",
       "      <td>Naomi Watts</td>\n",
       "      <td>Danny Huston</td>\n",
       "      <td>224545</td>\n",
       "      <td>16290476.0</td>\n",
       "    </tr>\n",
       "    <tr>\n",
       "      <th>941</th>\n",
       "      <td>25th Hour</td>\n",
       "      <td>2002</td>\n",
       "      <td>R</td>\n",
       "      <td>135 min</td>\n",
       "      <td>Drama</td>\n",
       "      <td>7.6</td>\n",
       "      <td>68.0</td>\n",
       "      <td>Spike Lee</td>\n",
       "      <td>Edward Norton</td>\n",
       "      <td>Barry Pepper</td>\n",
       "      <td>Philip Seymour Hoffman</td>\n",
       "      <td>Rosario Dawson</td>\n",
       "      <td>169708</td>\n",
       "      <td>13060843.0</td>\n",
       "    </tr>\n",
       "    <tr>\n",
       "      <th>943</th>\n",
       "      <td>28 Days Later...</td>\n",
       "      <td>2002</td>\n",
       "      <td>A</td>\n",
       "      <td>113 min</td>\n",
       "      <td>Drama, Horror, Sci-Fi</td>\n",
       "      <td>7.6</td>\n",
       "      <td>73.0</td>\n",
       "      <td>Danny Boyle</td>\n",
       "      <td>Cillian Murphy</td>\n",
       "      <td>Naomie Harris</td>\n",
       "      <td>Christopher Eccleston</td>\n",
       "      <td>Alex Palmer</td>\n",
       "      <td>376853</td>\n",
       "      <td>45064915.0</td>\n",
       "    </tr>\n",
       "  </tbody>\n",
       "</table>\n",
       "</div>"
      ],
      "text/plain": [
       "                      Series_Title  Released_Year Certificate  Runtime  \\\n",
       "4                     12 Angry Men           1957           U   96 min   \n",
       "64                        3 Idiots           2009          UA  170 min   \n",
       "84                            1917           2019           R  119 min   \n",
       "114          2001: A Space Odyssey           1968           U  149 min   \n",
       "215               12 Years a Slave           2013           A  134 min   \n",
       "432                             8½           1963         NaN  138 min   \n",
       "492  4 luni, 3 saptamâni si 2 zile           2007         NaN  113 min   \n",
       "774                   3:10 to Yuma           2007           A  122 min   \n",
       "907                          50/50           2011           R  100 min   \n",
       "928                            300           2006           A  117 min   \n",
       "938                       21 Grams           2003          UA  124 min   \n",
       "941                      25th Hour           2002           R  135 min   \n",
       "943               28 Days Later...           2002           A  113 min   \n",
       "\n",
       "                         Genre  IMDB_Rating  Meta_score  \\\n",
       "4                 Crime, Drama          9.0        96.0   \n",
       "64               Comedy, Drama          8.4        67.0   \n",
       "84        Drama, Thriller, War          8.3        78.0   \n",
       "114          Adventure, Sci-Fi          8.3        84.0   \n",
       "215  Biography, Drama, History          8.1        96.0   \n",
       "432                      Drama          8.0        91.0   \n",
       "492                      Drama          7.9        97.0   \n",
       "774       Action, Crime, Drama          7.7        76.0   \n",
       "907     Comedy, Drama, Romance          7.6        72.0   \n",
       "928              Action, Drama          7.6        52.0   \n",
       "938     Crime, Drama, Thriller          7.6        70.0   \n",
       "941                      Drama          7.6        68.0   \n",
       "943      Drama, Horror, Sci-Fi          7.6        73.0   \n",
       "\n",
       "                  Director                 Star1                     Star2  \\\n",
       "4             Sidney Lumet           Henry Fonda               Lee J. Cobb   \n",
       "64         Rajkumar Hirani            Aamir Khan                  Madhavan   \n",
       "84              Sam Mendes  Dean-Charles Chapman             George MacKay   \n",
       "114        Stanley Kubrick           Keir Dullea             Gary Lockwood   \n",
       "215          Steve McQueen      Chiwetel Ejiofor  Michael Kenneth Williams   \n",
       "432       Federico Fellini  Marcello Mastroianni               Anouk Aimée   \n",
       "492        Cristian Mungiu      Anamaria Marinca             Laura Vasiliu   \n",
       "774          James Mangold         Russell Crowe            Christian Bale   \n",
       "907        Jonathan Levine  Joseph Gordon-Levitt                Seth Rogen   \n",
       "928            Zack Snyder         Gerard Butler               Lena Headey   \n",
       "938  Alejandro G. Iñárritu             Sean Penn          Benicio Del Toro   \n",
       "941              Spike Lee         Edward Norton              Barry Pepper   \n",
       "943            Danny Boyle        Cillian Murphy             Naomie Harris   \n",
       "\n",
       "                      Star3                Star4  No_of_Votes        Gross  \n",
       "4             Martin Balsam         John Fiedler       689845    4360000.0  \n",
       "64               Mona Singh        Sharman Joshi       344445    6532908.0  \n",
       "84              Daniel Mays          Colin Firth       425844  159227644.0  \n",
       "114       William Sylvester       Daniel Richter       603517   56954992.0  \n",
       "215      Michael Fassbender            Brad Pitt       640533   56671993.0  \n",
       "432       Claudia Cardinale          Sandra Milo       108844      50690.0  \n",
       "492             Vlad Ivanov   Alexandru Potocean        56625    1185783.0  \n",
       "774              Ben Foster         Logan Lerman       288797   53606916.0  \n",
       "907           Anna Kendrick  Bryce Dallas Howard       315426   35014192.0  \n",
       "928            David Wenham         Dominic West       732876  210614939.0  \n",
       "938             Naomi Watts         Danny Huston       224545   16290476.0  \n",
       "941  Philip Seymour Hoffman       Rosario Dawson       169708   13060843.0  \n",
       "943   Christopher Eccleston          Alex Palmer       376853   45064915.0  "
      ]
     },
     "execution_count": 22,
     "metadata": {},
     "output_type": "execute_result"
    }
   ],
   "source": [
    "mask = df['Series_Title'].str.match('^\\d')\n",
    "df.loc[mask]"
   ]
  },
  {
   "cell_type": "markdown",
   "metadata": {},
   "source": [
    "- If we want to find all movies directed by either Christopher Nolan or James Cameron:"
   ]
  },
  {
   "cell_type": "code",
   "execution_count": 23,
   "metadata": {},
   "outputs": [
    {
     "data": {
      "text/html": [
       "<div>\n",
       "<style scoped>\n",
       "    .dataframe tbody tr th:only-of-type {\n",
       "        vertical-align: middle;\n",
       "    }\n",
       "\n",
       "    .dataframe tbody tr th {\n",
       "        vertical-align: top;\n",
       "    }\n",
       "\n",
       "    .dataframe thead th {\n",
       "        text-align: right;\n",
       "    }\n",
       "</style>\n",
       "<table border=\"1\" class=\"dataframe\">\n",
       "  <thead>\n",
       "    <tr style=\"text-align: right;\">\n",
       "      <th></th>\n",
       "      <th>Series_Title</th>\n",
       "      <th>Released_Year</th>\n",
       "      <th>Certificate</th>\n",
       "      <th>Runtime</th>\n",
       "      <th>Genre</th>\n",
       "      <th>IMDB_Rating</th>\n",
       "      <th>Meta_score</th>\n",
       "      <th>Director</th>\n",
       "      <th>Star1</th>\n",
       "      <th>Star2</th>\n",
       "      <th>Star3</th>\n",
       "      <th>Star4</th>\n",
       "      <th>No_of_Votes</th>\n",
       "      <th>Gross</th>\n",
       "    </tr>\n",
       "  </thead>\n",
       "  <tbody>\n",
       "    <tr>\n",
       "      <th>2</th>\n",
       "      <td>The Dark Knight</td>\n",
       "      <td>2008</td>\n",
       "      <td>UA</td>\n",
       "      <td>152 min</td>\n",
       "      <td>Action, Crime, Drama</td>\n",
       "      <td>9.0</td>\n",
       "      <td>84.0</td>\n",
       "      <td>Christopher Nolan</td>\n",
       "      <td>Christian Bale</td>\n",
       "      <td>Heath Ledger</td>\n",
       "      <td>Aaron Eckhart</td>\n",
       "      <td>Michael Caine</td>\n",
       "      <td>2303232</td>\n",
       "      <td>534858444.0</td>\n",
       "    </tr>\n",
       "    <tr>\n",
       "      <th>8</th>\n",
       "      <td>Inception</td>\n",
       "      <td>3010</td>\n",
       "      <td>UA</td>\n",
       "      <td>148 min</td>\n",
       "      <td>Action, Adventure, Sci-Fi</td>\n",
       "      <td>8.8</td>\n",
       "      <td>74.0</td>\n",
       "      <td>Christopher Nolan</td>\n",
       "      <td>Leonardo DiCaprio</td>\n",
       "      <td>Joseph Gordon-Levitt</td>\n",
       "      <td>Elliot Page</td>\n",
       "      <td>Ken Watanabe</td>\n",
       "      <td>2067042</td>\n",
       "      <td>292576195.0</td>\n",
       "    </tr>\n",
       "    <tr>\n",
       "      <th>21</th>\n",
       "      <td>Interstellar</td>\n",
       "      <td>2014</td>\n",
       "      <td>UA</td>\n",
       "      <td>169 min</td>\n",
       "      <td>Adventure, Drama, Sci-Fi</td>\n",
       "      <td>8.6</td>\n",
       "      <td>74.0</td>\n",
       "      <td>Christopher Nolan</td>\n",
       "      <td>Matthew McConaughey</td>\n",
       "      <td>Anne Hathaway</td>\n",
       "      <td>Jessica Chastain</td>\n",
       "      <td>Mackenzie Foy</td>\n",
       "      <td>1512360</td>\n",
       "      <td>188020017.0</td>\n",
       "    </tr>\n",
       "    <tr>\n",
       "      <th>36</th>\n",
       "      <td>The Prestige</td>\n",
       "      <td>2006</td>\n",
       "      <td>U</td>\n",
       "      <td>130 min</td>\n",
       "      <td>Drama, Mystery, Sci-Fi</td>\n",
       "      <td>8.5</td>\n",
       "      <td>66.0</td>\n",
       "      <td>Christopher Nolan</td>\n",
       "      <td>Christian Bale</td>\n",
       "      <td>Hugh Jackman</td>\n",
       "      <td>Scarlett Johansson</td>\n",
       "      <td>Michael Caine</td>\n",
       "      <td>1190259</td>\n",
       "      <td>53089891.0</td>\n",
       "    </tr>\n",
       "    <tr>\n",
       "      <th>44</th>\n",
       "      <td>Terminator 2: Judgment Day</td>\n",
       "      <td>1991</td>\n",
       "      <td>U</td>\n",
       "      <td>137 min</td>\n",
       "      <td>Action, Sci-Fi</td>\n",
       "      <td>8.5</td>\n",
       "      <td>75.0</td>\n",
       "      <td>James Cameron</td>\n",
       "      <td>Arnold Schwarzenegger</td>\n",
       "      <td>Linda Hamilton</td>\n",
       "      <td>Edward Furlong</td>\n",
       "      <td>Robert Patrick</td>\n",
       "      <td>995506</td>\n",
       "      <td>204843350.0</td>\n",
       "    </tr>\n",
       "    <tr>\n",
       "      <th>63</th>\n",
       "      <td>The Dark Knight Rises</td>\n",
       "      <td>2012</td>\n",
       "      <td>UA</td>\n",
       "      <td>164 min</td>\n",
       "      <td>Action, Adventure</td>\n",
       "      <td>8.4</td>\n",
       "      <td>78.0</td>\n",
       "      <td>Christopher Nolan</td>\n",
       "      <td>Christian Bale</td>\n",
       "      <td>Tom Hardy</td>\n",
       "      <td>Anne Hathaway</td>\n",
       "      <td>Gary Oldman</td>\n",
       "      <td>1516346</td>\n",
       "      <td>448139099.0</td>\n",
       "    </tr>\n",
       "    <tr>\n",
       "      <th>69</th>\n",
       "      <td>Memento</td>\n",
       "      <td>2000</td>\n",
       "      <td>UA</td>\n",
       "      <td>113 min</td>\n",
       "      <td>Mystery, Thriller</td>\n",
       "      <td>8.4</td>\n",
       "      <td>80.0</td>\n",
       "      <td>Christopher Nolan</td>\n",
       "      <td>Guy Pearce</td>\n",
       "      <td>Carrie-Anne Moss</td>\n",
       "      <td>Joe Pantoliano</td>\n",
       "      <td>Mark Boone Junior</td>\n",
       "      <td>1125712</td>\n",
       "      <td>25544867.0</td>\n",
       "    </tr>\n",
       "    <tr>\n",
       "      <th>106</th>\n",
       "      <td>Aliens</td>\n",
       "      <td>1986</td>\n",
       "      <td>U</td>\n",
       "      <td>137 min</td>\n",
       "      <td>Action, Adventure, Sci-Fi</td>\n",
       "      <td>8.3</td>\n",
       "      <td>84.0</td>\n",
       "      <td>James Cameron</td>\n",
       "      <td>Sigourney Weaver</td>\n",
       "      <td>Michael Biehn</td>\n",
       "      <td>Carrie Henn</td>\n",
       "      <td>Paul Reiser</td>\n",
       "      <td>652719</td>\n",
       "      <td>85160248.0</td>\n",
       "    </tr>\n",
       "    <tr>\n",
       "      <th>155</th>\n",
       "      <td>Batman Begins</td>\n",
       "      <td>2005</td>\n",
       "      <td>UA</td>\n",
       "      <td>140 min</td>\n",
       "      <td>Action, Adventure</td>\n",
       "      <td>8.2</td>\n",
       "      <td>70.0</td>\n",
       "      <td>Christopher Nolan</td>\n",
       "      <td>Christian Bale</td>\n",
       "      <td>Michael Caine</td>\n",
       "      <td>Ken Watanabe</td>\n",
       "      <td>Liam Neeson</td>\n",
       "      <td>1308302</td>\n",
       "      <td>206852432.0</td>\n",
       "    </tr>\n",
       "    <tr>\n",
       "      <th>410</th>\n",
       "      <td>The Terminator</td>\n",
       "      <td>1984</td>\n",
       "      <td>UA</td>\n",
       "      <td>107 min</td>\n",
       "      <td>Action, Sci-Fi</td>\n",
       "      <td>8.0</td>\n",
       "      <td>84.0</td>\n",
       "      <td>James Cameron</td>\n",
       "      <td>Arnold Schwarzenegger</td>\n",
       "      <td>Linda Hamilton</td>\n",
       "      <td>Michael Biehn</td>\n",
       "      <td>Paul Winfield</td>\n",
       "      <td>799795</td>\n",
       "      <td>38400000.0</td>\n",
       "    </tr>\n",
       "    <tr>\n",
       "      <th>573</th>\n",
       "      <td>Dunkirk</td>\n",
       "      <td>2017</td>\n",
       "      <td>UA</td>\n",
       "      <td>106 min</td>\n",
       "      <td>Action, Drama, History</td>\n",
       "      <td>7.8</td>\n",
       "      <td>94.0</td>\n",
       "      <td>Christopher Nolan</td>\n",
       "      <td>Fionn Whitehead</td>\n",
       "      <td>Barry Keoghan</td>\n",
       "      <td>Mark Rylance</td>\n",
       "      <td>Tom Hardy</td>\n",
       "      <td>555092</td>\n",
       "      <td>188373161.0</td>\n",
       "    </tr>\n",
       "    <tr>\n",
       "      <th>623</th>\n",
       "      <td>Avatar</td>\n",
       "      <td>2009</td>\n",
       "      <td>UA</td>\n",
       "      <td>162 min</td>\n",
       "      <td>Action, Adventure, Fantasy</td>\n",
       "      <td>7.8</td>\n",
       "      <td>83.0</td>\n",
       "      <td>James Cameron</td>\n",
       "      <td>Sam Worthington</td>\n",
       "      <td>Zoe Saldana</td>\n",
       "      <td>Sigourney Weaver</td>\n",
       "      <td>Michelle Rodriguez</td>\n",
       "      <td>1118998</td>\n",
       "      <td>760507625.0</td>\n",
       "    </tr>\n",
       "    <tr>\n",
       "      <th>652</th>\n",
       "      <td>Titanic</td>\n",
       "      <td>1997</td>\n",
       "      <td>UA</td>\n",
       "      <td>194 min</td>\n",
       "      <td>Drama, Romance</td>\n",
       "      <td>7.8</td>\n",
       "      <td>75.0</td>\n",
       "      <td>James Cameron</td>\n",
       "      <td>Leonardo DiCaprio</td>\n",
       "      <td>Kate Winslet</td>\n",
       "      <td>Billy Zane</td>\n",
       "      <td>Kathy Bates</td>\n",
       "      <td>1046089</td>\n",
       "      <td>659325379.0</td>\n",
       "    </tr>\n",
       "  </tbody>\n",
       "</table>\n",
       "</div>"
      ],
      "text/plain": [
       "                   Series_Title  Released_Year Certificate  Runtime  \\\n",
       "2               The Dark Knight           2008          UA  152 min   \n",
       "8                     Inception           3010          UA  148 min   \n",
       "21                 Interstellar           2014          UA  169 min   \n",
       "36                 The Prestige           2006           U  130 min   \n",
       "44   Terminator 2: Judgment Day           1991           U  137 min   \n",
       "63        The Dark Knight Rises           2012          UA  164 min   \n",
       "69                      Memento           2000          UA  113 min   \n",
       "106                      Aliens           1986           U  137 min   \n",
       "155               Batman Begins           2005          UA  140 min   \n",
       "410              The Terminator           1984          UA  107 min   \n",
       "573                     Dunkirk           2017          UA  106 min   \n",
       "623                      Avatar           2009          UA  162 min   \n",
       "652                     Titanic           1997          UA  194 min   \n",
       "\n",
       "                          Genre  IMDB_Rating  Meta_score           Director  \\\n",
       "2          Action, Crime, Drama          9.0        84.0  Christopher Nolan   \n",
       "8     Action, Adventure, Sci-Fi          8.8        74.0  Christopher Nolan   \n",
       "21     Adventure, Drama, Sci-Fi          8.6        74.0  Christopher Nolan   \n",
       "36       Drama, Mystery, Sci-Fi          8.5        66.0  Christopher Nolan   \n",
       "44               Action, Sci-Fi          8.5        75.0      James Cameron   \n",
       "63            Action, Adventure          8.4        78.0  Christopher Nolan   \n",
       "69            Mystery, Thriller          8.4        80.0  Christopher Nolan   \n",
       "106   Action, Adventure, Sci-Fi          8.3        84.0      James Cameron   \n",
       "155           Action, Adventure          8.2        70.0  Christopher Nolan   \n",
       "410              Action, Sci-Fi          8.0        84.0      James Cameron   \n",
       "573      Action, Drama, History          7.8        94.0  Christopher Nolan   \n",
       "623  Action, Adventure, Fantasy          7.8        83.0      James Cameron   \n",
       "652              Drama, Romance          7.8        75.0      James Cameron   \n",
       "\n",
       "                     Star1                 Star2               Star3  \\\n",
       "2           Christian Bale          Heath Ledger       Aaron Eckhart   \n",
       "8        Leonardo DiCaprio  Joseph Gordon-Levitt         Elliot Page   \n",
       "21     Matthew McConaughey         Anne Hathaway    Jessica Chastain   \n",
       "36          Christian Bale          Hugh Jackman  Scarlett Johansson   \n",
       "44   Arnold Schwarzenegger        Linda Hamilton      Edward Furlong   \n",
       "63          Christian Bale             Tom Hardy       Anne Hathaway   \n",
       "69              Guy Pearce      Carrie-Anne Moss      Joe Pantoliano   \n",
       "106       Sigourney Weaver         Michael Biehn         Carrie Henn   \n",
       "155         Christian Bale         Michael Caine        Ken Watanabe   \n",
       "410  Arnold Schwarzenegger        Linda Hamilton       Michael Biehn   \n",
       "573        Fionn Whitehead         Barry Keoghan        Mark Rylance   \n",
       "623        Sam Worthington           Zoe Saldana    Sigourney Weaver   \n",
       "652      Leonardo DiCaprio          Kate Winslet          Billy Zane   \n",
       "\n",
       "                  Star4  No_of_Votes        Gross  \n",
       "2         Michael Caine      2303232  534858444.0  \n",
       "8          Ken Watanabe      2067042  292576195.0  \n",
       "21        Mackenzie Foy      1512360  188020017.0  \n",
       "36        Michael Caine      1190259   53089891.0  \n",
       "44       Robert Patrick       995506  204843350.0  \n",
       "63          Gary Oldman      1516346  448139099.0  \n",
       "69    Mark Boone Junior      1125712   25544867.0  \n",
       "106         Paul Reiser       652719   85160248.0  \n",
       "155         Liam Neeson      1308302  206852432.0  \n",
       "410       Paul Winfield       799795   38400000.0  \n",
       "573           Tom Hardy       555092  188373161.0  \n",
       "623  Michelle Rodriguez      1118998  760507625.0  \n",
       "652         Kathy Bates      1046089  659325379.0  "
      ]
     },
     "execution_count": 23,
     "metadata": {},
     "output_type": "execute_result"
    }
   ],
   "source": [
    "df.loc[df['Director'].str.contains('(?i)nolan$|cameron$')]"
   ]
  },
  {
   "cell_type": "markdown",
   "metadata": {},
   "source": [
    "- We can even split strings and separate them into new columns, for example, based on punctuation:"
   ]
  },
  {
   "cell_type": "code",
   "execution_count": 24,
   "metadata": {},
   "outputs": [
    {
     "data": {
      "text/html": [
       "<div>\n",
       "<style scoped>\n",
       "    .dataframe tbody tr th:only-of-type {\n",
       "        vertical-align: middle;\n",
       "    }\n",
       "\n",
       "    .dataframe tbody tr th {\n",
       "        vertical-align: top;\n",
       "    }\n",
       "\n",
       "    .dataframe thead th {\n",
       "        text-align: right;\n",
       "    }\n",
       "</style>\n",
       "<table border=\"1\" class=\"dataframe\">\n",
       "  <thead>\n",
       "    <tr style=\"text-align: right;\">\n",
       "      <th></th>\n",
       "      <th>0</th>\n",
       "      <th>1</th>\n",
       "      <th>2</th>\n",
       "      <th>3</th>\n",
       "    </tr>\n",
       "  </thead>\n",
       "  <tbody>\n",
       "    <tr>\n",
       "      <th>0</th>\n",
       "      <td>Drama</td>\n",
       "      <td>None</td>\n",
       "      <td>None</td>\n",
       "      <td>None</td>\n",
       "    </tr>\n",
       "    <tr>\n",
       "      <th>1</th>\n",
       "      <td>Crime</td>\n",
       "      <td>Drama</td>\n",
       "      <td>None</td>\n",
       "      <td>None</td>\n",
       "    </tr>\n",
       "    <tr>\n",
       "      <th>2</th>\n",
       "      <td>Action</td>\n",
       "      <td>Crime</td>\n",
       "      <td>Drama</td>\n",
       "      <td>None</td>\n",
       "    </tr>\n",
       "    <tr>\n",
       "      <th>3</th>\n",
       "      <td>Crime</td>\n",
       "      <td>Drama</td>\n",
       "      <td>None</td>\n",
       "      <td>None</td>\n",
       "    </tr>\n",
       "    <tr>\n",
       "      <th>4</th>\n",
       "      <td>Crime</td>\n",
       "      <td>Drama</td>\n",
       "      <td>None</td>\n",
       "      <td>None</td>\n",
       "    </tr>\n",
       "    <tr>\n",
       "      <th>...</th>\n",
       "      <td>...</td>\n",
       "      <td>...</td>\n",
       "      <td>...</td>\n",
       "      <td>...</td>\n",
       "    </tr>\n",
       "    <tr>\n",
       "      <th>995</th>\n",
       "      <td>Comedy</td>\n",
       "      <td>Drama</td>\n",
       "      <td>Romance</td>\n",
       "      <td>None</td>\n",
       "    </tr>\n",
       "    <tr>\n",
       "      <th>996</th>\n",
       "      <td>Drama</td>\n",
       "      <td>Western</td>\n",
       "      <td>None</td>\n",
       "      <td>None</td>\n",
       "    </tr>\n",
       "    <tr>\n",
       "      <th>997</th>\n",
       "      <td>Drama</td>\n",
       "      <td>Romance</td>\n",
       "      <td>War</td>\n",
       "      <td>None</td>\n",
       "    </tr>\n",
       "    <tr>\n",
       "      <th>998</th>\n",
       "      <td>Drama</td>\n",
       "      <td>War</td>\n",
       "      <td>None</td>\n",
       "      <td>None</td>\n",
       "    </tr>\n",
       "    <tr>\n",
       "      <th>999</th>\n",
       "      <td>Crime</td>\n",
       "      <td>Mystery</td>\n",
       "      <td>Thriller</td>\n",
       "      <td>None</td>\n",
       "    </tr>\n",
       "  </tbody>\n",
       "</table>\n",
       "<p>1000 rows × 4 columns</p>\n",
       "</div>"
      ],
      "text/plain": [
       "          0         1          2     3\n",
       "0     Drama      None       None  None\n",
       "1     Crime     Drama       None  None\n",
       "2    Action     Crime      Drama  None\n",
       "3     Crime     Drama       None  None\n",
       "4     Crime     Drama       None  None\n",
       "..      ...       ...        ...   ...\n",
       "995  Comedy     Drama    Romance  None\n",
       "996   Drama   Western       None  None\n",
       "997   Drama   Romance        War  None\n",
       "998   Drama       War       None  None\n",
       "999   Crime   Mystery   Thriller  None\n",
       "\n",
       "[1000 rows x 4 columns]"
      ]
     },
     "execution_count": 24,
     "metadata": {},
     "output_type": "execute_result"
    }
   ],
   "source": [
    "df['Genre'].str.split('[,:.!-]', expand=True)"
   ]
  },
  {
   "cell_type": "markdown",
   "metadata": {},
   "source": [
    "- You can pretty much do anything with strings using regex!"
   ]
  },
  {
   "cell_type": "markdown",
   "metadata": {},
   "source": [
    "## Working with datetimes"
   ]
  },
  {
   "cell_type": "markdown",
   "metadata": {},
   "source": [
    "- Just like with strings, Pandas has extensive functionality for working with time series data\n",
    "- You'll work with datetimes and Pandas much more in DSCI 574, but I wanted to introduce it briefly here"
   ]
  },
  {
   "cell_type": "markdown",
   "metadata": {},
   "source": [
    "### Datetime dtype and motivation for using Pandas"
   ]
  },
  {
   "cell_type": "markdown",
   "metadata": {},
   "source": [
    "- Python has built-in support for datetime format; that is, an object that contains time and date information, in the `datetime` module"
   ]
  },
  {
   "cell_type": "code",
   "execution_count": 25,
   "metadata": {},
   "outputs": [],
   "source": [
    "from datetime import datetime, timedelta"
   ]
  },
  {
   "cell_type": "code",
   "execution_count": 26,
   "metadata": {},
   "outputs": [
    {
     "data": {
      "text/plain": [
       "datetime.datetime(2005, 7, 9, 13, 54)"
      ]
     },
     "execution_count": 26,
     "metadata": {},
     "output_type": "execute_result"
    }
   ],
   "source": [
    "date = datetime(year=2005, month=7, day=9, hour=13, minute=54)\n",
    "date"
   ]
  },
  {
   "cell_type": "markdown",
   "metadata": {},
   "source": [
    "- We can also parse directly from a string, see [format codes here](https://docs.python.org/3/library/datetime.html#strftime-and-strptime-format-codes)"
   ]
  },
  {
   "cell_type": "code",
   "execution_count": 27,
   "metadata": {},
   "outputs": [
    {
     "data": {
      "text/plain": [
       "datetime.datetime(2005, 7, 9, 13, 54)"
      ]
     },
     "execution_count": 27,
     "metadata": {},
     "output_type": "execute_result"
    }
   ],
   "source": [
    "date = datetime.strptime('July 9 2005, 13:54', '%B %d %Y, %H:%M')\n",
    "date"
   ]
  },
  {
   "cell_type": "markdown",
   "metadata": {},
   "source": [
    "- We can then extract specific information from our data"
   ]
  },
  {
   "cell_type": "code",
   "execution_count": 28,
   "metadata": {},
   "outputs": [
    {
     "name": "stdout",
     "output_type": "stream",
     "text": [
      "Year: 2005\n",
      "Month: July\n",
      "Day: 09\n",
      "Day name: Saturday\n",
      "Day of year: 190\n",
      "Time of day: PM\n"
     ]
    }
   ],
   "source": [
    "print(f'Year: {date.strftime(\"%Y\")}')\n",
    "print(f'Month: {date.strftime(\"%B\")}')\n",
    "print(f'Day: {date.strftime(\"%d\")}')\n",
    "print(f'Day name: {date.strftime(\"%A\")}')\n",
    "print(f'Day of year: {date.strftime(\"%j\")}')\n",
    "print(f'Time of day: {date.strftime(\"%p\")}')"
   ]
  },
  {
   "cell_type": "markdown",
   "metadata": {},
   "source": [
    "- And perform basic operations, like adding a week"
   ]
  },
  {
   "cell_type": "code",
   "execution_count": 29,
   "metadata": {},
   "outputs": [
    {
     "data": {
      "text/plain": [
       "datetime.datetime(2005, 7, 16, 13, 54)"
      ]
     },
     "execution_count": 29,
     "metadata": {},
     "output_type": "execute_result"
    }
   ],
   "source": [
    "date + timedelta(days=7)"
   ]
  },
  {
   "cell_type": "markdown",
   "metadata": {},
   "source": [
    "- But as with strings, working with arrays of datetimes in Python can be difficult and inefficient\n",
    "- NumPy, therefore included a new datetime object to work more effectively with dates"
   ]
  },
  {
   "cell_type": "code",
   "execution_count": 30,
   "metadata": {},
   "outputs": [
    {
     "data": {
      "text/plain": [
       "array(['2020-07-09', '2020-08-10'], dtype='datetime64[D]')"
      ]
     },
     "execution_count": 30,
     "metadata": {},
     "output_type": "execute_result"
    }
   ],
   "source": [
    "dates = np.array(['2020-07-09', '2020-08-10'], dtype='datetime64')\n",
    "dates"
   ]
  },
  {
   "cell_type": "markdown",
   "metadata": {},
   "source": [
    "- We can create arrays using other built-in functions like `np.arange()` too:"
   ]
  },
  {
   "cell_type": "code",
   "execution_count": 31,
   "metadata": {},
   "outputs": [
    {
     "data": {
      "text/plain": [
       "array(['2020-07', '2020-08', '2020-09', '2020-10', '2020-11'],\n",
       "      dtype='datetime64[M]')"
      ]
     },
     "execution_count": 31,
     "metadata": {},
     "output_type": "execute_result"
    }
   ],
   "source": [
    "dates = np.arange('2020-07', '2020-12', dtype='datetime64')\n",
    "dates"
   ]
  },
  {
   "cell_type": "markdown",
   "metadata": {},
   "source": [
    "- Now we can easily do operations on arrays of time:\n",
    "- (Check out all the datetime units and their format in the documentation [here](https://numpy.org/doc/stable/reference/arrays.datetime.html#datetime-units))"
   ]
  },
  {
   "cell_type": "code",
   "execution_count": 32,
   "metadata": {},
   "outputs": [
    {
     "data": {
      "text/plain": [
       "array(['2020-09', '2020-10', '2020-11', '2020-12', '2021-01'],\n",
       "      dtype='datetime64[M]')"
      ]
     },
     "execution_count": 32,
     "metadata": {},
     "output_type": "execute_result"
    }
   ],
   "source": [
    "dates + np.timedelta64(2, 'M')"
   ]
  },
  {
   "cell_type": "markdown",
   "metadata": {},
   "source": [
    "- But while numpy helps bring datetimes into the array world, it's missing a lot of functionality that we would commonly want/need for wrangling tasks\n",
    "\n",
    "- This is where Pandas comes in\n",
    "\n",
    "- Pandas consolidates and extends functionality from the `datetime` module, `numpy`, and other libraries like `scikits.timeseries` into a single place\n",
    "\n",
    "- Pandas provides 4 key datetime objects which we'll explore in the following sections:\n",
    "\n",
    "    1. Timestamp (like `np.datetime64`)\n",
    "    \n",
    "    2. Timedelta (like `np.timedelta64`)\n",
    "    3. Period (custom object for regular ranges of datetimes)\n",
    "    4. DateOffset (custom object like timedelta but factoring in calendar rules)"
   ]
  },
  {
   "cell_type": "markdown",
   "metadata": {},
   "source": [
    "### Creating datetimes"
   ]
  },
  {
   "cell_type": "markdown",
   "metadata": {},
   "source": [
    "#### From scratch"
   ]
  },
  {
   "cell_type": "markdown",
   "metadata": {},
   "source": [
    "- Most commonly you'll want to:\n",
    "    1. Create a single point in time with `pd.Timestamp()`, e.g., `2005-07-09 00:00:00`\n",
    "    2. Create a span of time with `pd.Period()`, e.g., `2020 Jan`\n",
    "    3. Create an array of datetimes with `pd.date_range()` or `pd.period_range()`"
   ]
  },
  {
   "cell_type": "code",
   "execution_count": 33,
   "metadata": {},
   "outputs": [
    {
     "name": "stdout",
     "output_type": "stream",
     "text": [
      "2005-07-09 00:00:00\n",
      "2005-07-09 00:00:00\n",
      "2005-07-09 00:00:00\n"
     ]
    }
   ],
   "source": [
    "print(pd.Timestamp('2005-07-09'))  # parsed from string\n",
    "print(pd.Timestamp(year=2005, month=7, day=9))  # pass data directly\n",
    "print(pd.Timestamp(datetime(year=2005, month=7, day=9)))  # from datetime object"
   ]
  },
  {
   "cell_type": "markdown",
   "metadata": {},
   "source": [
    "- The above is a specific point in time\n",
    "- Below, we can use `pd.Period()` to specify a span of time (like a day)"
   ]
  },
  {
   "cell_type": "code",
   "execution_count": 34,
   "metadata": {},
   "outputs": [
    {
     "name": "stdout",
     "output_type": "stream",
     "text": [
      "2005-07-09\n",
      "2005-07-09 00:00:00\n",
      "2005-07-09 23:59:59.999999999\n"
     ]
    }
   ],
   "source": [
    "span = pd.Period('2005-07-09')\n",
    "print(span)\n",
    "print(span.start_time)\n",
    "print(span.end_time)"
   ]
  },
  {
   "cell_type": "code",
   "execution_count": 35,
   "metadata": {},
   "outputs": [
    {
     "name": "stdout",
     "output_type": "stream",
     "text": [
      "Point: 2005-07-09 12:00:00\n",
      " Span: 2005-07-09\n",
      "Point in span? True\n"
     ]
    }
   ],
   "source": [
    "point = pd.Timestamp('2005-07-09 12:00')\n",
    "span = pd.Period('2005-07-09')\n",
    "print(f'Point: {point}')\n",
    "print(f' Span: {span}')\n",
    "print(f'Point in span? {span.start_time < point < span.end_time}')"
   ]
  },
  {
   "cell_type": "markdown",
   "metadata": {},
   "source": [
    "- Often, you'll want to create **arrays** of datetimes, not just single values\n",
    "- Arrays of datetimes are of the class `DatetimeIndex`/`PeriodIndex`/`TimedeltaIndex`"
   ]
  },
  {
   "cell_type": "code",
   "execution_count": 36,
   "metadata": {},
   "outputs": [
    {
     "data": {
      "text/plain": [
       "DatetimeIndex(['2020-09-01 12:00:00', '2020-09-02 12:00:00',\n",
       "               '2020-09-03 12:00:00', '2020-09-04 12:00:00',\n",
       "               '2020-09-05 12:00:00', '2020-09-06 12:00:00',\n",
       "               '2020-09-07 12:00:00', '2020-09-08 12:00:00',\n",
       "               '2020-09-09 12:00:00', '2020-09-10 12:00:00',\n",
       "               '2020-09-11 12:00:00'],\n",
       "              dtype='datetime64[ns]', freq='D')"
      ]
     },
     "execution_count": 36,
     "metadata": {},
     "output_type": "execute_result"
    }
   ],
   "source": [
    "pd.date_range('2020-09-01 12:00',\n",
    "              '2020-09-11 12:00',\n",
    "              freq='d')"
   ]
  },
  {
   "cell_type": "code",
   "execution_count": 37,
   "metadata": {},
   "outputs": [
    {
     "data": {
      "text/plain": [
       "PeriodIndex(['2020-09-01', '2020-09-02', '2020-09-03', '2020-09-04',\n",
       "             '2020-09-05', '2020-09-06', '2020-09-07', '2020-09-08',\n",
       "             '2020-09-09', '2020-09-10', '2020-09-11'],\n",
       "            dtype='period[D]')"
      ]
     },
     "execution_count": 37,
     "metadata": {},
     "output_type": "execute_result"
    }
   ],
   "source": [
    "pd.period_range('2020-09-01',\n",
    "                '2020-09-11',\n",
    "                freq='d')"
   ]
  },
  {
   "cell_type": "markdown",
   "metadata": {},
   "source": [
    "- We can use `Timedelta` objects to perform temporal operations like adding or subtracting time (a bit more on this later)"
   ]
  },
  {
   "cell_type": "code",
   "execution_count": 38,
   "metadata": {},
   "outputs": [
    {
     "data": {
      "text/plain": [
       "DatetimeIndex(['2020-09-01 13:30:00', '2020-09-02 13:30:00',\n",
       "               '2020-09-03 13:30:00', '2020-09-04 13:30:00',\n",
       "               '2020-09-05 13:30:00', '2020-09-06 13:30:00',\n",
       "               '2020-09-07 13:30:00', '2020-09-08 13:30:00',\n",
       "               '2020-09-09 13:30:00', '2020-09-10 13:30:00',\n",
       "               '2020-09-11 13:30:00'],\n",
       "              dtype='datetime64[ns]', freq='D')"
      ]
     },
     "execution_count": 38,
     "metadata": {},
     "output_type": "execute_result"
    }
   ],
   "source": [
    "pd.date_range('2020-09-01 12:00', '2020-09-11 12:00', freq='D') + pd.Timedelta('1.5 hour')"
   ]
  },
  {
   "cell_type": "markdown",
   "metadata": {},
   "source": [
    "- Finally, Pandas represents missing datetimes with `NaT`, which is just like `np.nan`"
   ]
  },
  {
   "cell_type": "code",
   "execution_count": 39,
   "metadata": {},
   "outputs": [
    {
     "data": {
      "text/plain": [
       "NaT"
      ]
     },
     "execution_count": 39,
     "metadata": {},
     "output_type": "execute_result"
    }
   ],
   "source": [
    "pd.Timestamp(pd.NaT)"
   ]
  },
  {
   "cell_type": "markdown",
   "metadata": {},
   "source": [
    "#### By converting existing data"
   ]
  },
  {
   "cell_type": "markdown",
   "metadata": {},
   "source": [
    "- It's fairly common to have an array of dates as strings\n",
    "- We can use `pd.to_datetime()` to convert these to datetime"
   ]
  },
  {
   "cell_type": "code",
   "execution_count": 40,
   "metadata": {},
   "outputs": [
    {
     "data": {
      "text/plain": [
       "['July 9, 2020', 'August 1, 2020', 'August 28, 2020']"
      ]
     },
     "execution_count": 40,
     "metadata": {},
     "output_type": "execute_result"
    }
   ],
   "source": [
    "string_dates = ['July 9, 2020', 'August 1, 2020', 'August 28, 2020']\n",
    "string_dates"
   ]
  },
  {
   "cell_type": "code",
   "execution_count": 41,
   "metadata": {},
   "outputs": [
    {
     "data": {
      "text/plain": [
       "DatetimeIndex(['2020-07-09', '2020-08-01', '2020-08-28'], dtype='datetime64[ns]', freq=None)"
      ]
     },
     "execution_count": 41,
     "metadata": {},
     "output_type": "execute_result"
    }
   ],
   "source": [
    "pd.to_datetime(string_dates)"
   ]
  },
  {
   "cell_type": "markdown",
   "metadata": {},
   "source": [
    "- For more complex datetime format, use the `format` argument (see [Python Format Codes](https://docs.python.org/3/library/datetime.html#strftime-and-strptime-format-codes) for help):"
   ]
  },
  {
   "cell_type": "code",
   "execution_count": 42,
   "metadata": {},
   "outputs": [
    {
     "data": {
      "text/plain": [
       "DatetimeIndex(['2020-07-09', '2020-08-01', '2020-08-28'], dtype='datetime64[ns]', freq=None)"
      ]
     },
     "execution_count": 42,
     "metadata": {},
     "output_type": "execute_result"
    }
   ],
   "source": [
    "string_dates = ['2020 9 July', '2020 1 August', '2020 28 August']\n",
    "pd.to_datetime(string_dates, format='%Y %d %B')"
   ]
  },
  {
   "cell_type": "markdown",
   "metadata": {},
   "source": [
    "- Or use a dictionary:"
   ]
  },
  {
   "cell_type": "code",
   "execution_count": 43,
   "metadata": {},
   "outputs": [
    {
     "data": {
      "text/plain": [
       "0   2020-07-09\n",
       "1   2020-08-01\n",
       "2   2020-08-28\n",
       "dtype: datetime64[ns]"
      ]
     },
     "execution_count": 43,
     "metadata": {},
     "output_type": "execute_result"
    }
   ],
   "source": [
    "dict_dates = pd.to_datetime({'year': [2020, 2020, 2020],\n",
    "                             'month': [7, 8, 8],\n",
    "                             'day': [9, 1, 28]})  # note this is a series, not an index!\n",
    "dict_dates"
   ]
  },
  {
   "cell_type": "code",
   "execution_count": 44,
   "metadata": {},
   "outputs": [
    {
     "data": {
      "text/plain": [
       "DatetimeIndex(['2020-07-09', '2020-08-01', '2020-08-28'], dtype='datetime64[ns]', freq=None)"
      ]
     },
     "execution_count": 44,
     "metadata": {},
     "output_type": "execute_result"
    }
   ],
   "source": [
    "pd.Index(dict_dates)"
   ]
  },
  {
   "cell_type": "markdown",
   "metadata": {},
   "source": [
    "- We can switch back and forth between an `Index` object and `Series`:"
   ]
  },
  {
   "cell_type": "code",
   "execution_count": 45,
   "metadata": {},
   "outputs": [
    {
     "data": {
      "text/plain": [
       "0   2020-07-09\n",
       "1   2020-08-01\n",
       "2   2020-08-28\n",
       "dtype: datetime64[ns]"
      ]
     },
     "execution_count": 45,
     "metadata": {},
     "output_type": "execute_result"
    }
   ],
   "source": [
    "dict_dates_idx = pd.Index(dict_dates)\n",
    "pd.Series(dict_dates_idx)"
   ]
  },
  {
   "cell_type": "markdown",
   "metadata": {},
   "source": [
    "#### By reading directly from an external source"
   ]
  },
  {
   "cell_type": "markdown",
   "metadata": {},
   "source": [
    "- Let's practice by reading in a cycling report dataset that a UBC student has recorded:"
   ]
  },
  {
   "cell_type": "code",
   "execution_count": 46,
   "metadata": {},
   "outputs": [
    {
     "data": {
      "text/html": [
       "<div>\n",
       "<style scoped>\n",
       "    .dataframe tbody tr th:only-of-type {\n",
       "        vertical-align: middle;\n",
       "    }\n",
       "\n",
       "    .dataframe tbody tr th {\n",
       "        vertical-align: top;\n",
       "    }\n",
       "\n",
       "    .dataframe thead th {\n",
       "        text-align: right;\n",
       "    }\n",
       "</style>\n",
       "<table border=\"1\" class=\"dataframe\">\n",
       "  <thead>\n",
       "    <tr style=\"text-align: right;\">\n",
       "      <th></th>\n",
       "      <th>Name</th>\n",
       "      <th>Type</th>\n",
       "      <th>Time</th>\n",
       "      <th>Distance</th>\n",
       "      <th>Comments</th>\n",
       "    </tr>\n",
       "    <tr>\n",
       "      <th>Date</th>\n",
       "      <th></th>\n",
       "      <th></th>\n",
       "      <th></th>\n",
       "      <th></th>\n",
       "      <th></th>\n",
       "    </tr>\n",
       "  </thead>\n",
       "  <tbody>\n",
       "    <tr>\n",
       "      <th>10 Sep 2019, 00:13:04</th>\n",
       "      <td>Afternoon Ride</td>\n",
       "      <td>Ride</td>\n",
       "      <td>2084</td>\n",
       "      <td>12.62</td>\n",
       "      <td>Rain</td>\n",
       "    </tr>\n",
       "    <tr>\n",
       "      <th>10 Sep 2019, 13:52:18</th>\n",
       "      <td>Morning Ride</td>\n",
       "      <td>Ride</td>\n",
       "      <td>2531</td>\n",
       "      <td>13.03</td>\n",
       "      <td>rain</td>\n",
       "    </tr>\n",
       "    <tr>\n",
       "      <th>11 Sep 2019, 00:23:50</th>\n",
       "      <td>Afternoon Ride</td>\n",
       "      <td>Ride</td>\n",
       "      <td>1863</td>\n",
       "      <td>12.52</td>\n",
       "      <td>Wet road but nice weather</td>\n",
       "    </tr>\n",
       "    <tr>\n",
       "      <th>11 Sep 2019, 14:06:19</th>\n",
       "      <td>Morning Ride</td>\n",
       "      <td>Ride</td>\n",
       "      <td>2192</td>\n",
       "      <td>12.84</td>\n",
       "      <td>Stopped for photo of sunrise</td>\n",
       "    </tr>\n",
       "    <tr>\n",
       "      <th>12 Sep 2019, 00:28:05</th>\n",
       "      <td>Afternoon Ride</td>\n",
       "      <td>Ride</td>\n",
       "      <td>1891</td>\n",
       "      <td>12.48</td>\n",
       "      <td>Tired by the end of the week</td>\n",
       "    </tr>\n",
       "    <tr>\n",
       "      <th>...</th>\n",
       "      <td>...</td>\n",
       "      <td>...</td>\n",
       "      <td>...</td>\n",
       "      <td>...</td>\n",
       "      <td>...</td>\n",
       "    </tr>\n",
       "    <tr>\n",
       "      <th>4 Oct 2019, 01:08:08</th>\n",
       "      <td>Afternoon Ride</td>\n",
       "      <td>Ride</td>\n",
       "      <td>1870</td>\n",
       "      <td>12.63</td>\n",
       "      <td>Very tired, riding into the wind</td>\n",
       "    </tr>\n",
       "    <tr>\n",
       "      <th>9 Oct 2019, 13:55:40</th>\n",
       "      <td>Morning Ride</td>\n",
       "      <td>Ride</td>\n",
       "      <td>2149</td>\n",
       "      <td>12.70</td>\n",
       "      <td>Really cold! But feeling good</td>\n",
       "    </tr>\n",
       "    <tr>\n",
       "      <th>10 Oct 2019, 00:10:31</th>\n",
       "      <td>Afternoon Ride</td>\n",
       "      <td>Ride</td>\n",
       "      <td>1841</td>\n",
       "      <td>12.59</td>\n",
       "      <td>Feeling good after a holiday break!</td>\n",
       "    </tr>\n",
       "    <tr>\n",
       "      <th>10 Oct 2019, 13:47:14</th>\n",
       "      <td>Morning Ride</td>\n",
       "      <td>Ride</td>\n",
       "      <td>2463</td>\n",
       "      <td>12.79</td>\n",
       "      <td>Stopped for photo of sunrise</td>\n",
       "    </tr>\n",
       "    <tr>\n",
       "      <th>11 Oct 2019, 00:16:57</th>\n",
       "      <td>Afternoon Ride</td>\n",
       "      <td>Ride</td>\n",
       "      <td>1843</td>\n",
       "      <td>11.79</td>\n",
       "      <td>Bike feeling tight, needs an oil and pump</td>\n",
       "    </tr>\n",
       "  </tbody>\n",
       "</table>\n",
       "<p>33 rows × 5 columns</p>\n",
       "</div>"
      ],
      "text/plain": [
       "                                 Name  Type  Time  Distance  \\\n",
       "Date                                                          \n",
       "10 Sep 2019, 00:13:04  Afternoon Ride  Ride  2084     12.62   \n",
       "10 Sep 2019, 13:52:18    Morning Ride  Ride  2531     13.03   \n",
       "11 Sep 2019, 00:23:50  Afternoon Ride  Ride  1863     12.52   \n",
       "11 Sep 2019, 14:06:19    Morning Ride  Ride  2192     12.84   \n",
       "12 Sep 2019, 00:28:05  Afternoon Ride  Ride  1891     12.48   \n",
       "...                               ...   ...   ...       ...   \n",
       "4 Oct 2019, 01:08:08   Afternoon Ride  Ride  1870     12.63   \n",
       "9 Oct 2019, 13:55:40     Morning Ride  Ride  2149     12.70   \n",
       "10 Oct 2019, 00:10:31  Afternoon Ride  Ride  1841     12.59   \n",
       "10 Oct 2019, 13:47:14    Morning Ride  Ride  2463     12.79   \n",
       "11 Oct 2019, 00:16:57  Afternoon Ride  Ride  1843     11.79   \n",
       "\n",
       "                                                        Comments  \n",
       "Date                                                              \n",
       "10 Sep 2019, 00:13:04                                       Rain  \n",
       "10 Sep 2019, 13:52:18                                       rain  \n",
       "11 Sep 2019, 00:23:50                  Wet road but nice weather  \n",
       "11 Sep 2019, 14:06:19               Stopped for photo of sunrise  \n",
       "12 Sep 2019, 00:28:05               Tired by the end of the week  \n",
       "...                                                          ...  \n",
       "4 Oct 2019, 01:08:08            Very tired, riding into the wind  \n",
       "9 Oct 2019, 13:55:40               Really cold! But feeling good  \n",
       "10 Oct 2019, 00:10:31        Feeling good after a holiday break!  \n",
       "10 Oct 2019, 13:47:14               Stopped for photo of sunrise  \n",
       "11 Oct 2019, 00:16:57  Bike feeling tight, needs an oil and pump  \n",
       "\n",
       "[33 rows x 5 columns]"
      ]
     },
     "execution_count": 46,
     "metadata": {},
     "output_type": "execute_result"
    }
   ],
   "source": [
    "df = pd.read_csv('data/cycling_data.csv', index_col=0)\n",
    "df"
   ]
  },
  {
   "cell_type": "code",
   "execution_count": 47,
   "metadata": {},
   "outputs": [
    {
     "data": {
      "text/plain": [
       "Index(['10 Sep 2019, 00:13:04', '10 Sep 2019, 13:52:18',\n",
       "       '11 Sep 2019, 00:23:50', '11 Sep 2019, 14:06:19',\n",
       "       '12 Sep 2019, 00:28:05', '16 Sep 2019, 13:57:48',\n",
       "       '17 Sep 2019, 00:15:47', '17 Sep 2019, 13:43:34',\n",
       "       '18 Sep 2019, 13:49:53', '18 Sep 2019, 00:15:52',\n",
       "       '19 Sep 2019, 00:30:01', '19 Sep 2019, 13:52:09',\n",
       "       '20 Sep 2019, 01:02:05', '23 Sep 2019, 13:50:41',\n",
       "       '24 Sep 2019, 00:35:42', '24 Sep 2019, 13:41:24',\n",
       "       '25 Sep 2019, 00:07:21', '25 Sep 2019, 13:35:41',\n",
       "       '26 Sep 2019, 00:13:33', '26 Sep 2019, 13:42:43',\n",
       "       '27 Sep 2019, 01:00:18', '30 Sep 2019, 13:53:52',\n",
       "       '1 Oct 2019, 00:15:07', '1 Oct 2019, 13:45:55', '2 Oct 2019, 00:13:09',\n",
       "       '2 Oct 2019, 13:46:06', '3 Oct 2019, 00:45:22', '3 Oct 2019, 13:47:36',\n",
       "       '4 Oct 2019, 01:08:08', '9 Oct 2019, 13:55:40', '10 Oct 2019, 00:10:31',\n",
       "       '10 Oct 2019, 13:47:14', '11 Oct 2019, 00:16:57'],\n",
       "      dtype='object', name='Date')"
      ]
     },
     "execution_count": 47,
     "metadata": {},
     "output_type": "execute_result"
    }
   ],
   "source": [
    "df.index"
   ]
  },
  {
   "cell_type": "markdown",
   "metadata": {},
   "source": [
    "- Our index is just a plain old index at the moment, with dtype `object`, full of `string` dates"
   ]
  },
  {
   "cell_type": "code",
   "execution_count": 48,
   "metadata": {},
   "outputs": [
    {
     "name": "stdout",
     "output_type": "stream",
     "text": [
      "object\n"
     ]
    },
    {
     "data": {
      "text/plain": [
       "pandas.core.indexes.base.Index"
      ]
     },
     "execution_count": 48,
     "metadata": {},
     "output_type": "execute_result"
    }
   ],
   "source": [
    "print(df.index.dtype)\n",
    "type(df.index)"
   ]
  },
  {
   "cell_type": "markdown",
   "metadata": {},
   "source": [
    "- We could manually convert our index to a datetime using `pd.to_datetime()`\n",
    "- But even better, `pd.read_csv()` has an argument `parse_dates` which can do this automatically when reading the file"
   ]
  },
  {
   "cell_type": "code",
   "execution_count": 49,
   "metadata": {},
   "outputs": [
    {
     "data": {
      "text/html": [
       "<div>\n",
       "<style scoped>\n",
       "    .dataframe tbody tr th:only-of-type {\n",
       "        vertical-align: middle;\n",
       "    }\n",
       "\n",
       "    .dataframe tbody tr th {\n",
       "        vertical-align: top;\n",
       "    }\n",
       "\n",
       "    .dataframe thead th {\n",
       "        text-align: right;\n",
       "    }\n",
       "</style>\n",
       "<table border=\"1\" class=\"dataframe\">\n",
       "  <thead>\n",
       "    <tr style=\"text-align: right;\">\n",
       "      <th></th>\n",
       "      <th>Name</th>\n",
       "      <th>Type</th>\n",
       "      <th>Time</th>\n",
       "      <th>Distance</th>\n",
       "      <th>Comments</th>\n",
       "    </tr>\n",
       "    <tr>\n",
       "      <th>Date</th>\n",
       "      <th></th>\n",
       "      <th></th>\n",
       "      <th></th>\n",
       "      <th></th>\n",
       "      <th></th>\n",
       "    </tr>\n",
       "  </thead>\n",
       "  <tbody>\n",
       "    <tr>\n",
       "      <th>2019-09-10 00:13:04</th>\n",
       "      <td>Afternoon Ride</td>\n",
       "      <td>Ride</td>\n",
       "      <td>2084</td>\n",
       "      <td>12.62</td>\n",
       "      <td>Rain</td>\n",
       "    </tr>\n",
       "    <tr>\n",
       "      <th>2019-09-10 13:52:18</th>\n",
       "      <td>Morning Ride</td>\n",
       "      <td>Ride</td>\n",
       "      <td>2531</td>\n",
       "      <td>13.03</td>\n",
       "      <td>rain</td>\n",
       "    </tr>\n",
       "    <tr>\n",
       "      <th>2019-09-11 00:23:50</th>\n",
       "      <td>Afternoon Ride</td>\n",
       "      <td>Ride</td>\n",
       "      <td>1863</td>\n",
       "      <td>12.52</td>\n",
       "      <td>Wet road but nice weather</td>\n",
       "    </tr>\n",
       "    <tr>\n",
       "      <th>2019-09-11 14:06:19</th>\n",
       "      <td>Morning Ride</td>\n",
       "      <td>Ride</td>\n",
       "      <td>2192</td>\n",
       "      <td>12.84</td>\n",
       "      <td>Stopped for photo of sunrise</td>\n",
       "    </tr>\n",
       "    <tr>\n",
       "      <th>2019-09-12 00:28:05</th>\n",
       "      <td>Afternoon Ride</td>\n",
       "      <td>Ride</td>\n",
       "      <td>1891</td>\n",
       "      <td>12.48</td>\n",
       "      <td>Tired by the end of the week</td>\n",
       "    </tr>\n",
       "    <tr>\n",
       "      <th>...</th>\n",
       "      <td>...</td>\n",
       "      <td>...</td>\n",
       "      <td>...</td>\n",
       "      <td>...</td>\n",
       "      <td>...</td>\n",
       "    </tr>\n",
       "    <tr>\n",
       "      <th>2019-10-04 01:08:08</th>\n",
       "      <td>Afternoon Ride</td>\n",
       "      <td>Ride</td>\n",
       "      <td>1870</td>\n",
       "      <td>12.63</td>\n",
       "      <td>Very tired, riding into the wind</td>\n",
       "    </tr>\n",
       "    <tr>\n",
       "      <th>2019-10-09 13:55:40</th>\n",
       "      <td>Morning Ride</td>\n",
       "      <td>Ride</td>\n",
       "      <td>2149</td>\n",
       "      <td>12.70</td>\n",
       "      <td>Really cold! But feeling good</td>\n",
       "    </tr>\n",
       "    <tr>\n",
       "      <th>2019-10-10 00:10:31</th>\n",
       "      <td>Afternoon Ride</td>\n",
       "      <td>Ride</td>\n",
       "      <td>1841</td>\n",
       "      <td>12.59</td>\n",
       "      <td>Feeling good after a holiday break!</td>\n",
       "    </tr>\n",
       "    <tr>\n",
       "      <th>2019-10-10 13:47:14</th>\n",
       "      <td>Morning Ride</td>\n",
       "      <td>Ride</td>\n",
       "      <td>2463</td>\n",
       "      <td>12.79</td>\n",
       "      <td>Stopped for photo of sunrise</td>\n",
       "    </tr>\n",
       "    <tr>\n",
       "      <th>2019-10-11 00:16:57</th>\n",
       "      <td>Afternoon Ride</td>\n",
       "      <td>Ride</td>\n",
       "      <td>1843</td>\n",
       "      <td>11.79</td>\n",
       "      <td>Bike feeling tight, needs an oil and pump</td>\n",
       "    </tr>\n",
       "  </tbody>\n",
       "</table>\n",
       "<p>33 rows × 5 columns</p>\n",
       "</div>"
      ],
      "text/plain": [
       "                               Name  Type  Time  Distance  \\\n",
       "Date                                                        \n",
       "2019-09-10 00:13:04  Afternoon Ride  Ride  2084     12.62   \n",
       "2019-09-10 13:52:18    Morning Ride  Ride  2531     13.03   \n",
       "2019-09-11 00:23:50  Afternoon Ride  Ride  1863     12.52   \n",
       "2019-09-11 14:06:19    Morning Ride  Ride  2192     12.84   \n",
       "2019-09-12 00:28:05  Afternoon Ride  Ride  1891     12.48   \n",
       "...                             ...   ...   ...       ...   \n",
       "2019-10-04 01:08:08  Afternoon Ride  Ride  1870     12.63   \n",
       "2019-10-09 13:55:40    Morning Ride  Ride  2149     12.70   \n",
       "2019-10-10 00:10:31  Afternoon Ride  Ride  1841     12.59   \n",
       "2019-10-10 13:47:14    Morning Ride  Ride  2463     12.79   \n",
       "2019-10-11 00:16:57  Afternoon Ride  Ride  1843     11.79   \n",
       "\n",
       "                                                      Comments  \n",
       "Date                                                            \n",
       "2019-09-10 00:13:04                                       Rain  \n",
       "2019-09-10 13:52:18                                       rain  \n",
       "2019-09-11 00:23:50                  Wet road but nice weather  \n",
       "2019-09-11 14:06:19               Stopped for photo of sunrise  \n",
       "2019-09-12 00:28:05               Tired by the end of the week  \n",
       "...                                                        ...  \n",
       "2019-10-04 01:08:08           Very tired, riding into the wind  \n",
       "2019-10-09 13:55:40              Really cold! But feeling good  \n",
       "2019-10-10 00:10:31        Feeling good after a holiday break!  \n",
       "2019-10-10 13:47:14               Stopped for photo of sunrise  \n",
       "2019-10-11 00:16:57  Bike feeling tight, needs an oil and pump  \n",
       "\n",
       "[33 rows x 5 columns]"
      ]
     },
     "execution_count": 49,
     "metadata": {},
     "output_type": "execute_result"
    }
   ],
   "source": [
    "df = pd.read_csv('data/cycling_data.csv', index_col=0, parse_dates=True)\n",
    "df"
   ]
  },
  {
   "cell_type": "code",
   "execution_count": 50,
   "metadata": {},
   "outputs": [
    {
     "data": {
      "text/plain": [
       "pandas.core.indexes.datetimes.DatetimeIndex"
      ]
     },
     "execution_count": 50,
     "metadata": {},
     "output_type": "execute_result"
    }
   ],
   "source": [
    "type(df.index)"
   ]
  },
  {
   "cell_type": "code",
   "execution_count": 51,
   "metadata": {},
   "outputs": [
    {
     "name": "stdout",
     "output_type": "stream",
     "text": [
      "datetime64[ns]\n"
     ]
    },
    {
     "data": {
      "text/plain": [
       "pandas.core.indexes.datetimes.DatetimeIndex"
      ]
     },
     "execution_count": 51,
     "metadata": {},
     "output_type": "execute_result"
    }
   ],
   "source": [
    "print(df.index.dtype)\n",
    "type(df.index)"
   ]
  },
  {
   "cell_type": "markdown",
   "metadata": {},
   "source": [
    "- The `parse_dates` argument is very flexible and you can specify the datetime format for harder to read dates\n",
    "- There are other related arguments like `date_parser`, `dayfirst`, etc that are also helpful, check out the [Pandas documentation](https://pandas.pydata.org/pandas-docs/stable/reference/api/pandas.read_csv.html) for more"
   ]
  },
  {
   "cell_type": "markdown",
   "metadata": {},
   "source": [
    "### Indexing Datetimes"
   ]
  },
  {
   "cell_type": "markdown",
   "metadata": {},
   "source": [
    "- Datetime index objects are just like regular Index objects and can be selected, sliced, filtered, etc."
   ]
  },
  {
   "cell_type": "code",
   "execution_count": 52,
   "metadata": {},
   "outputs": [
    {
     "data": {
      "text/html": [
       "<div>\n",
       "<style scoped>\n",
       "    .dataframe tbody tr th:only-of-type {\n",
       "        vertical-align: middle;\n",
       "    }\n",
       "\n",
       "    .dataframe tbody tr th {\n",
       "        vertical-align: top;\n",
       "    }\n",
       "\n",
       "    .dataframe thead th {\n",
       "        text-align: right;\n",
       "    }\n",
       "</style>\n",
       "<table border=\"1\" class=\"dataframe\">\n",
       "  <thead>\n",
       "    <tr style=\"text-align: right;\">\n",
       "      <th></th>\n",
       "      <th>Name</th>\n",
       "      <th>Type</th>\n",
       "      <th>Time</th>\n",
       "      <th>Distance</th>\n",
       "      <th>Comments</th>\n",
       "    </tr>\n",
       "    <tr>\n",
       "      <th>Date</th>\n",
       "      <th></th>\n",
       "      <th></th>\n",
       "      <th></th>\n",
       "      <th></th>\n",
       "      <th></th>\n",
       "    </tr>\n",
       "  </thead>\n",
       "  <tbody>\n",
       "    <tr>\n",
       "      <th>2019-09-10 00:13:04</th>\n",
       "      <td>Afternoon Ride</td>\n",
       "      <td>Ride</td>\n",
       "      <td>2084</td>\n",
       "      <td>12.62</td>\n",
       "      <td>Rain</td>\n",
       "    </tr>\n",
       "    <tr>\n",
       "      <th>2019-09-10 13:52:18</th>\n",
       "      <td>Morning Ride</td>\n",
       "      <td>Ride</td>\n",
       "      <td>2531</td>\n",
       "      <td>13.03</td>\n",
       "      <td>rain</td>\n",
       "    </tr>\n",
       "    <tr>\n",
       "      <th>2019-09-11 00:23:50</th>\n",
       "      <td>Afternoon Ride</td>\n",
       "      <td>Ride</td>\n",
       "      <td>1863</td>\n",
       "      <td>12.52</td>\n",
       "      <td>Wet road but nice weather</td>\n",
       "    </tr>\n",
       "    <tr>\n",
       "      <th>2019-09-11 14:06:19</th>\n",
       "      <td>Morning Ride</td>\n",
       "      <td>Ride</td>\n",
       "      <td>2192</td>\n",
       "      <td>12.84</td>\n",
       "      <td>Stopped for photo of sunrise</td>\n",
       "    </tr>\n",
       "    <tr>\n",
       "      <th>2019-09-12 00:28:05</th>\n",
       "      <td>Afternoon Ride</td>\n",
       "      <td>Ride</td>\n",
       "      <td>1891</td>\n",
       "      <td>12.48</td>\n",
       "      <td>Tired by the end of the week</td>\n",
       "    </tr>\n",
       "    <tr>\n",
       "      <th>...</th>\n",
       "      <td>...</td>\n",
       "      <td>...</td>\n",
       "      <td>...</td>\n",
       "      <td>...</td>\n",
       "      <td>...</td>\n",
       "    </tr>\n",
       "    <tr>\n",
       "      <th>2019-10-04 01:08:08</th>\n",
       "      <td>Afternoon Ride</td>\n",
       "      <td>Ride</td>\n",
       "      <td>1870</td>\n",
       "      <td>12.63</td>\n",
       "      <td>Very tired, riding into the wind</td>\n",
       "    </tr>\n",
       "    <tr>\n",
       "      <th>2019-10-09 13:55:40</th>\n",
       "      <td>Morning Ride</td>\n",
       "      <td>Ride</td>\n",
       "      <td>2149</td>\n",
       "      <td>12.70</td>\n",
       "      <td>Really cold! But feeling good</td>\n",
       "    </tr>\n",
       "    <tr>\n",
       "      <th>2019-10-10 00:10:31</th>\n",
       "      <td>Afternoon Ride</td>\n",
       "      <td>Ride</td>\n",
       "      <td>1841</td>\n",
       "      <td>12.59</td>\n",
       "      <td>Feeling good after a holiday break!</td>\n",
       "    </tr>\n",
       "    <tr>\n",
       "      <th>2019-10-10 13:47:14</th>\n",
       "      <td>Morning Ride</td>\n",
       "      <td>Ride</td>\n",
       "      <td>2463</td>\n",
       "      <td>12.79</td>\n",
       "      <td>Stopped for photo of sunrise</td>\n",
       "    </tr>\n",
       "    <tr>\n",
       "      <th>2019-10-11 00:16:57</th>\n",
       "      <td>Afternoon Ride</td>\n",
       "      <td>Ride</td>\n",
       "      <td>1843</td>\n",
       "      <td>11.79</td>\n",
       "      <td>Bike feeling tight, needs an oil and pump</td>\n",
       "    </tr>\n",
       "  </tbody>\n",
       "</table>\n",
       "<p>33 rows × 5 columns</p>\n",
       "</div>"
      ],
      "text/plain": [
       "                               Name  Type  Time  Distance  \\\n",
       "Date                                                        \n",
       "2019-09-10 00:13:04  Afternoon Ride  Ride  2084     12.62   \n",
       "2019-09-10 13:52:18    Morning Ride  Ride  2531     13.03   \n",
       "2019-09-11 00:23:50  Afternoon Ride  Ride  1863     12.52   \n",
       "2019-09-11 14:06:19    Morning Ride  Ride  2192     12.84   \n",
       "2019-09-12 00:28:05  Afternoon Ride  Ride  1891     12.48   \n",
       "...                             ...   ...   ...       ...   \n",
       "2019-10-04 01:08:08  Afternoon Ride  Ride  1870     12.63   \n",
       "2019-10-09 13:55:40    Morning Ride  Ride  2149     12.70   \n",
       "2019-10-10 00:10:31  Afternoon Ride  Ride  1841     12.59   \n",
       "2019-10-10 13:47:14    Morning Ride  Ride  2463     12.79   \n",
       "2019-10-11 00:16:57  Afternoon Ride  Ride  1843     11.79   \n",
       "\n",
       "                                                      Comments  \n",
       "Date                                                            \n",
       "2019-09-10 00:13:04                                       Rain  \n",
       "2019-09-10 13:52:18                                       rain  \n",
       "2019-09-11 00:23:50                  Wet road but nice weather  \n",
       "2019-09-11 14:06:19               Stopped for photo of sunrise  \n",
       "2019-09-12 00:28:05               Tired by the end of the week  \n",
       "...                                                        ...  \n",
       "2019-10-04 01:08:08           Very tired, riding into the wind  \n",
       "2019-10-09 13:55:40              Really cold! But feeling good  \n",
       "2019-10-10 00:10:31        Feeling good after a holiday break!  \n",
       "2019-10-10 13:47:14               Stopped for photo of sunrise  \n",
       "2019-10-11 00:16:57  Bike feeling tight, needs an oil and pump  \n",
       "\n",
       "[33 rows x 5 columns]"
      ]
     },
     "execution_count": 52,
     "metadata": {},
     "output_type": "execute_result"
    }
   ],
   "source": [
    "df"
   ]
  },
  {
   "cell_type": "markdown",
   "metadata": {},
   "source": [
    "- We can do **partial string indexing**"
   ]
  },
  {
   "cell_type": "code",
   "execution_count": 53,
   "metadata": {},
   "outputs": [
    {
     "data": {
      "text/html": [
       "<div>\n",
       "<style scoped>\n",
       "    .dataframe tbody tr th:only-of-type {\n",
       "        vertical-align: middle;\n",
       "    }\n",
       "\n",
       "    .dataframe tbody tr th {\n",
       "        vertical-align: top;\n",
       "    }\n",
       "\n",
       "    .dataframe thead th {\n",
       "        text-align: right;\n",
       "    }\n",
       "</style>\n",
       "<table border=\"1\" class=\"dataframe\">\n",
       "  <thead>\n",
       "    <tr style=\"text-align: right;\">\n",
       "      <th></th>\n",
       "      <th>Name</th>\n",
       "      <th>Type</th>\n",
       "      <th>Time</th>\n",
       "      <th>Distance</th>\n",
       "      <th>Comments</th>\n",
       "    </tr>\n",
       "    <tr>\n",
       "      <th>Date</th>\n",
       "      <th></th>\n",
       "      <th></th>\n",
       "      <th></th>\n",
       "      <th></th>\n",
       "      <th></th>\n",
       "    </tr>\n",
       "  </thead>\n",
       "  <tbody>\n",
       "    <tr>\n",
       "      <th>2019-09-10 00:13:04</th>\n",
       "      <td>Afternoon Ride</td>\n",
       "      <td>Ride</td>\n",
       "      <td>2084</td>\n",
       "      <td>12.62</td>\n",
       "      <td>Rain</td>\n",
       "    </tr>\n",
       "    <tr>\n",
       "      <th>2019-09-10 13:52:18</th>\n",
       "      <td>Morning Ride</td>\n",
       "      <td>Ride</td>\n",
       "      <td>2531</td>\n",
       "      <td>13.03</td>\n",
       "      <td>rain</td>\n",
       "    </tr>\n",
       "    <tr>\n",
       "      <th>2019-09-11 00:23:50</th>\n",
       "      <td>Afternoon Ride</td>\n",
       "      <td>Ride</td>\n",
       "      <td>1863</td>\n",
       "      <td>12.52</td>\n",
       "      <td>Wet road but nice weather</td>\n",
       "    </tr>\n",
       "    <tr>\n",
       "      <th>2019-09-11 14:06:19</th>\n",
       "      <td>Morning Ride</td>\n",
       "      <td>Ride</td>\n",
       "      <td>2192</td>\n",
       "      <td>12.84</td>\n",
       "      <td>Stopped for photo of sunrise</td>\n",
       "    </tr>\n",
       "    <tr>\n",
       "      <th>2019-09-12 00:28:05</th>\n",
       "      <td>Afternoon Ride</td>\n",
       "      <td>Ride</td>\n",
       "      <td>1891</td>\n",
       "      <td>12.48</td>\n",
       "      <td>Tired by the end of the week</td>\n",
       "    </tr>\n",
       "    <tr>\n",
       "      <th>...</th>\n",
       "      <td>...</td>\n",
       "      <td>...</td>\n",
       "      <td>...</td>\n",
       "      <td>...</td>\n",
       "      <td>...</td>\n",
       "    </tr>\n",
       "    <tr>\n",
       "      <th>2019-09-25 13:35:41</th>\n",
       "      <td>Morning Ride</td>\n",
       "      <td>Ride</td>\n",
       "      <td>2124</td>\n",
       "      <td>12.65</td>\n",
       "      <td>Stopped for photo of sunrise</td>\n",
       "    </tr>\n",
       "    <tr>\n",
       "      <th>2019-09-26 00:13:33</th>\n",
       "      <td>Afternoon Ride</td>\n",
       "      <td>Ride</td>\n",
       "      <td>1860</td>\n",
       "      <td>12.52</td>\n",
       "      <td>raining</td>\n",
       "    </tr>\n",
       "    <tr>\n",
       "      <th>2019-09-26 13:42:43</th>\n",
       "      <td>Morning Ride</td>\n",
       "      <td>Ride</td>\n",
       "      <td>2350</td>\n",
       "      <td>12.91</td>\n",
       "      <td>Detour around trucks at Jericho</td>\n",
       "    </tr>\n",
       "    <tr>\n",
       "      <th>2019-09-27 01:00:18</th>\n",
       "      <td>Afternoon Ride</td>\n",
       "      <td>Ride</td>\n",
       "      <td>1712</td>\n",
       "      <td>12.47</td>\n",
       "      <td>Tired by the end of the week</td>\n",
       "    </tr>\n",
       "    <tr>\n",
       "      <th>2019-09-30 13:53:52</th>\n",
       "      <td>Morning Ride</td>\n",
       "      <td>Ride</td>\n",
       "      <td>2118</td>\n",
       "      <td>12.71</td>\n",
       "      <td>Rested after the weekend!</td>\n",
       "    </tr>\n",
       "  </tbody>\n",
       "</table>\n",
       "<p>22 rows × 5 columns</p>\n",
       "</div>"
      ],
      "text/plain": [
       "                               Name  Type  Time  Distance  \\\n",
       "Date                                                        \n",
       "2019-09-10 00:13:04  Afternoon Ride  Ride  2084     12.62   \n",
       "2019-09-10 13:52:18    Morning Ride  Ride  2531     13.03   \n",
       "2019-09-11 00:23:50  Afternoon Ride  Ride  1863     12.52   \n",
       "2019-09-11 14:06:19    Morning Ride  Ride  2192     12.84   \n",
       "2019-09-12 00:28:05  Afternoon Ride  Ride  1891     12.48   \n",
       "...                             ...   ...   ...       ...   \n",
       "2019-09-25 13:35:41    Morning Ride  Ride  2124     12.65   \n",
       "2019-09-26 00:13:33  Afternoon Ride  Ride  1860     12.52   \n",
       "2019-09-26 13:42:43    Morning Ride  Ride  2350     12.91   \n",
       "2019-09-27 01:00:18  Afternoon Ride  Ride  1712     12.47   \n",
       "2019-09-30 13:53:52    Morning Ride  Ride  2118     12.71   \n",
       "\n",
       "                                            Comments  \n",
       "Date                                                  \n",
       "2019-09-10 00:13:04                             Rain  \n",
       "2019-09-10 13:52:18                             rain  \n",
       "2019-09-11 00:23:50        Wet road but nice weather  \n",
       "2019-09-11 14:06:19     Stopped for photo of sunrise  \n",
       "2019-09-12 00:28:05     Tired by the end of the week  \n",
       "...                                              ...  \n",
       "2019-09-25 13:35:41     Stopped for photo of sunrise  \n",
       "2019-09-26 00:13:33                          raining  \n",
       "2019-09-26 13:42:43  Detour around trucks at Jericho  \n",
       "2019-09-27 01:00:18     Tired by the end of the week  \n",
       "2019-09-30 13:53:52        Rested after the weekend!  \n",
       "\n",
       "[22 rows x 5 columns]"
      ]
     },
     "execution_count": 53,
     "metadata": {},
     "output_type": "execute_result"
    }
   ],
   "source": [
    "df.loc['2019-09']"
   ]
  },
  {
   "cell_type": "code",
   "execution_count": 54,
   "metadata": {},
   "outputs": [
    {
     "data": {
      "text/html": [
       "<div>\n",
       "<style scoped>\n",
       "    .dataframe tbody tr th:only-of-type {\n",
       "        vertical-align: middle;\n",
       "    }\n",
       "\n",
       "    .dataframe tbody tr th {\n",
       "        vertical-align: top;\n",
       "    }\n",
       "\n",
       "    .dataframe thead th {\n",
       "        text-align: right;\n",
       "    }\n",
       "</style>\n",
       "<table border=\"1\" class=\"dataframe\">\n",
       "  <thead>\n",
       "    <tr style=\"text-align: right;\">\n",
       "      <th></th>\n",
       "      <th>Name</th>\n",
       "      <th>Type</th>\n",
       "      <th>Time</th>\n",
       "      <th>Distance</th>\n",
       "      <th>Comments</th>\n",
       "    </tr>\n",
       "    <tr>\n",
       "      <th>Date</th>\n",
       "      <th></th>\n",
       "      <th></th>\n",
       "      <th></th>\n",
       "      <th></th>\n",
       "      <th></th>\n",
       "    </tr>\n",
       "  </thead>\n",
       "  <tbody>\n",
       "    <tr>\n",
       "      <th>2019-10-10 00:10:31</th>\n",
       "      <td>Afternoon Ride</td>\n",
       "      <td>Ride</td>\n",
       "      <td>1841</td>\n",
       "      <td>12.59</td>\n",
       "      <td>Feeling good after a holiday break!</td>\n",
       "    </tr>\n",
       "    <tr>\n",
       "      <th>2019-10-10 13:47:14</th>\n",
       "      <td>Morning Ride</td>\n",
       "      <td>Ride</td>\n",
       "      <td>2463</td>\n",
       "      <td>12.79</td>\n",
       "      <td>Stopped for photo of sunrise</td>\n",
       "    </tr>\n",
       "  </tbody>\n",
       "</table>\n",
       "</div>"
      ],
      "text/plain": [
       "                               Name  Type  Time  Distance  \\\n",
       "Date                                                        \n",
       "2019-10-10 00:10:31  Afternoon Ride  Ride  1841     12.59   \n",
       "2019-10-10 13:47:14    Morning Ride  Ride  2463     12.79   \n",
       "\n",
       "                                                Comments  \n",
       "Date                                                      \n",
       "2019-10-10 00:10:31  Feeling good after a holiday break!  \n",
       "2019-10-10 13:47:14         Stopped for photo of sunrise  "
      ]
     },
     "execution_count": 54,
     "metadata": {},
     "output_type": "execute_result"
    }
   ],
   "source": [
    "df.loc['2019-10-10']"
   ]
  },
  {
   "cell_type": "markdown",
   "metadata": {},
   "source": [
    "- Exact matching:"
   ]
  },
  {
   "cell_type": "code",
   "execution_count": 55,
   "metadata": {},
   "outputs": [
    {
     "data": {
      "text/plain": [
       "Name                        Morning Ride\n",
       "Type                                Ride\n",
       "Time                                2463\n",
       "Distance                           12.79\n",
       "Comments    Stopped for photo of sunrise\n",
       "Name: 2019-10-10 13:47:14, dtype: object"
      ]
     },
     "execution_count": 55,
     "metadata": {},
     "output_type": "execute_result"
    }
   ],
   "source": [
    "df.loc['2019-10-10 13:47:14']"
   ]
  },
  {
   "cell_type": "markdown",
   "metadata": {},
   "source": [
    "- And slicing:"
   ]
  },
  {
   "cell_type": "code",
   "execution_count": 56,
   "metadata": {},
   "outputs": [
    {
     "name": "stderr",
     "output_type": "stream",
     "text": [
      "/var/folders/qm/c_scj_0n7vj7r36900wc3j140000gn/T/ipykernel_45032/3700762057.py:1: FutureWarning: Value based partial slicing on non-monotonic DatetimeIndexes with non-existing keys is deprecated and will raise a KeyError in a future Version.\n",
      "  df.loc['2019-10-01':'2019-10-13']\n"
     ]
    },
    {
     "data": {
      "text/html": [
       "<div>\n",
       "<style scoped>\n",
       "    .dataframe tbody tr th:only-of-type {\n",
       "        vertical-align: middle;\n",
       "    }\n",
       "\n",
       "    .dataframe tbody tr th {\n",
       "        vertical-align: top;\n",
       "    }\n",
       "\n",
       "    .dataframe thead th {\n",
       "        text-align: right;\n",
       "    }\n",
       "</style>\n",
       "<table border=\"1\" class=\"dataframe\">\n",
       "  <thead>\n",
       "    <tr style=\"text-align: right;\">\n",
       "      <th></th>\n",
       "      <th>Name</th>\n",
       "      <th>Type</th>\n",
       "      <th>Time</th>\n",
       "      <th>Distance</th>\n",
       "      <th>Comments</th>\n",
       "    </tr>\n",
       "    <tr>\n",
       "      <th>Date</th>\n",
       "      <th></th>\n",
       "      <th></th>\n",
       "      <th></th>\n",
       "      <th></th>\n",
       "      <th></th>\n",
       "    </tr>\n",
       "  </thead>\n",
       "  <tbody>\n",
       "    <tr>\n",
       "      <th>2019-10-01 00:15:07</th>\n",
       "      <td>Afternoon Ride</td>\n",
       "      <td>Ride</td>\n",
       "      <td>1732</td>\n",
       "      <td>NaN</td>\n",
       "      <td>Legs feeling strong!</td>\n",
       "    </tr>\n",
       "    <tr>\n",
       "      <th>2019-10-01 13:45:55</th>\n",
       "      <td>Morning Ride</td>\n",
       "      <td>Ride</td>\n",
       "      <td>2222</td>\n",
       "      <td>12.82</td>\n",
       "      <td>Beautiful morning! Feeling fit</td>\n",
       "    </tr>\n",
       "    <tr>\n",
       "      <th>2019-10-02 00:13:09</th>\n",
       "      <td>Afternoon Ride</td>\n",
       "      <td>Ride</td>\n",
       "      <td>1756</td>\n",
       "      <td>NaN</td>\n",
       "      <td>A little tired today but good weather</td>\n",
       "    </tr>\n",
       "    <tr>\n",
       "      <th>2019-10-02 13:46:06</th>\n",
       "      <td>Morning Ride</td>\n",
       "      <td>Ride</td>\n",
       "      <td>2134</td>\n",
       "      <td>13.06</td>\n",
       "      <td>Bit tired today but good weather</td>\n",
       "    </tr>\n",
       "    <tr>\n",
       "      <th>2019-10-03 00:45:22</th>\n",
       "      <td>Afternoon Ride</td>\n",
       "      <td>Ride</td>\n",
       "      <td>1724</td>\n",
       "      <td>12.52</td>\n",
       "      <td>Feeling good</td>\n",
       "    </tr>\n",
       "    <tr>\n",
       "      <th>2019-10-03 13:47:36</th>\n",
       "      <td>Morning Ride</td>\n",
       "      <td>Ride</td>\n",
       "      <td>2182</td>\n",
       "      <td>12.68</td>\n",
       "      <td>Wet road</td>\n",
       "    </tr>\n",
       "    <tr>\n",
       "      <th>2019-10-04 01:08:08</th>\n",
       "      <td>Afternoon Ride</td>\n",
       "      <td>Ride</td>\n",
       "      <td>1870</td>\n",
       "      <td>12.63</td>\n",
       "      <td>Very tired, riding into the wind</td>\n",
       "    </tr>\n",
       "    <tr>\n",
       "      <th>2019-10-09 13:55:40</th>\n",
       "      <td>Morning Ride</td>\n",
       "      <td>Ride</td>\n",
       "      <td>2149</td>\n",
       "      <td>12.70</td>\n",
       "      <td>Really cold! But feeling good</td>\n",
       "    </tr>\n",
       "    <tr>\n",
       "      <th>2019-10-10 00:10:31</th>\n",
       "      <td>Afternoon Ride</td>\n",
       "      <td>Ride</td>\n",
       "      <td>1841</td>\n",
       "      <td>12.59</td>\n",
       "      <td>Feeling good after a holiday break!</td>\n",
       "    </tr>\n",
       "    <tr>\n",
       "      <th>2019-10-10 13:47:14</th>\n",
       "      <td>Morning Ride</td>\n",
       "      <td>Ride</td>\n",
       "      <td>2463</td>\n",
       "      <td>12.79</td>\n",
       "      <td>Stopped for photo of sunrise</td>\n",
       "    </tr>\n",
       "    <tr>\n",
       "      <th>2019-10-11 00:16:57</th>\n",
       "      <td>Afternoon Ride</td>\n",
       "      <td>Ride</td>\n",
       "      <td>1843</td>\n",
       "      <td>11.79</td>\n",
       "      <td>Bike feeling tight, needs an oil and pump</td>\n",
       "    </tr>\n",
       "  </tbody>\n",
       "</table>\n",
       "</div>"
      ],
      "text/plain": [
       "                               Name  Type  Time  Distance  \\\n",
       "Date                                                        \n",
       "2019-10-01 00:15:07  Afternoon Ride  Ride  1732       NaN   \n",
       "2019-10-01 13:45:55    Morning Ride  Ride  2222     12.82   \n",
       "2019-10-02 00:13:09  Afternoon Ride  Ride  1756       NaN   \n",
       "2019-10-02 13:46:06    Morning Ride  Ride  2134     13.06   \n",
       "2019-10-03 00:45:22  Afternoon Ride  Ride  1724     12.52   \n",
       "2019-10-03 13:47:36    Morning Ride  Ride  2182     12.68   \n",
       "2019-10-04 01:08:08  Afternoon Ride  Ride  1870     12.63   \n",
       "2019-10-09 13:55:40    Morning Ride  Ride  2149     12.70   \n",
       "2019-10-10 00:10:31  Afternoon Ride  Ride  1841     12.59   \n",
       "2019-10-10 13:47:14    Morning Ride  Ride  2463     12.79   \n",
       "2019-10-11 00:16:57  Afternoon Ride  Ride  1843     11.79   \n",
       "\n",
       "                                                      Comments  \n",
       "Date                                                            \n",
       "2019-10-01 00:15:07                       Legs feeling strong!  \n",
       "2019-10-01 13:45:55             Beautiful morning! Feeling fit  \n",
       "2019-10-02 00:13:09      A little tired today but good weather  \n",
       "2019-10-02 13:46:06           Bit tired today but good weather  \n",
       "2019-10-03 00:45:22                               Feeling good  \n",
       "2019-10-03 13:47:36                                   Wet road  \n",
       "2019-10-04 01:08:08           Very tired, riding into the wind  \n",
       "2019-10-09 13:55:40              Really cold! But feeling good  \n",
       "2019-10-10 00:10:31        Feeling good after a holiday break!  \n",
       "2019-10-10 13:47:14               Stopped for photo of sunrise  \n",
       "2019-10-11 00:16:57  Bike feeling tight, needs an oil and pump  "
      ]
     },
     "execution_count": 56,
     "metadata": {},
     "output_type": "execute_result"
    }
   ],
   "source": [
    "df.loc['2019-10-01':'2019-10-13']"
   ]
  },
  {
   "cell_type": "markdown",
   "metadata": {},
   "source": [
    "- To avoid a warning when the index is not sorted (so slicing might not return the results we actually want), we can sort first:"
   ]
  },
  {
   "cell_type": "code",
   "execution_count": 57,
   "metadata": {},
   "outputs": [
    {
     "data": {
      "text/html": [
       "<div>\n",
       "<style scoped>\n",
       "    .dataframe tbody tr th:only-of-type {\n",
       "        vertical-align: middle;\n",
       "    }\n",
       "\n",
       "    .dataframe tbody tr th {\n",
       "        vertical-align: top;\n",
       "    }\n",
       "\n",
       "    .dataframe thead th {\n",
       "        text-align: right;\n",
       "    }\n",
       "</style>\n",
       "<table border=\"1\" class=\"dataframe\">\n",
       "  <thead>\n",
       "    <tr style=\"text-align: right;\">\n",
       "      <th></th>\n",
       "      <th>Name</th>\n",
       "      <th>Type</th>\n",
       "      <th>Time</th>\n",
       "      <th>Distance</th>\n",
       "      <th>Comments</th>\n",
       "    </tr>\n",
       "    <tr>\n",
       "      <th>Date</th>\n",
       "      <th></th>\n",
       "      <th></th>\n",
       "      <th></th>\n",
       "      <th></th>\n",
       "      <th></th>\n",
       "    </tr>\n",
       "  </thead>\n",
       "  <tbody>\n",
       "    <tr>\n",
       "      <th>2019-10-01 00:15:07</th>\n",
       "      <td>Afternoon Ride</td>\n",
       "      <td>Ride</td>\n",
       "      <td>1732</td>\n",
       "      <td>NaN</td>\n",
       "      <td>Legs feeling strong!</td>\n",
       "    </tr>\n",
       "    <tr>\n",
       "      <th>2019-10-01 13:45:55</th>\n",
       "      <td>Morning Ride</td>\n",
       "      <td>Ride</td>\n",
       "      <td>2222</td>\n",
       "      <td>12.82</td>\n",
       "      <td>Beautiful morning! Feeling fit</td>\n",
       "    </tr>\n",
       "    <tr>\n",
       "      <th>2019-10-02 00:13:09</th>\n",
       "      <td>Afternoon Ride</td>\n",
       "      <td>Ride</td>\n",
       "      <td>1756</td>\n",
       "      <td>NaN</td>\n",
       "      <td>A little tired today but good weather</td>\n",
       "    </tr>\n",
       "    <tr>\n",
       "      <th>2019-10-02 13:46:06</th>\n",
       "      <td>Morning Ride</td>\n",
       "      <td>Ride</td>\n",
       "      <td>2134</td>\n",
       "      <td>13.06</td>\n",
       "      <td>Bit tired today but good weather</td>\n",
       "    </tr>\n",
       "    <tr>\n",
       "      <th>2019-10-03 00:45:22</th>\n",
       "      <td>Afternoon Ride</td>\n",
       "      <td>Ride</td>\n",
       "      <td>1724</td>\n",
       "      <td>12.52</td>\n",
       "      <td>Feeling good</td>\n",
       "    </tr>\n",
       "    <tr>\n",
       "      <th>2019-10-03 13:47:36</th>\n",
       "      <td>Morning Ride</td>\n",
       "      <td>Ride</td>\n",
       "      <td>2182</td>\n",
       "      <td>12.68</td>\n",
       "      <td>Wet road</td>\n",
       "    </tr>\n",
       "    <tr>\n",
       "      <th>2019-10-04 01:08:08</th>\n",
       "      <td>Afternoon Ride</td>\n",
       "      <td>Ride</td>\n",
       "      <td>1870</td>\n",
       "      <td>12.63</td>\n",
       "      <td>Very tired, riding into the wind</td>\n",
       "    </tr>\n",
       "    <tr>\n",
       "      <th>2019-10-09 13:55:40</th>\n",
       "      <td>Morning Ride</td>\n",
       "      <td>Ride</td>\n",
       "      <td>2149</td>\n",
       "      <td>12.70</td>\n",
       "      <td>Really cold! But feeling good</td>\n",
       "    </tr>\n",
       "    <tr>\n",
       "      <th>2019-10-10 00:10:31</th>\n",
       "      <td>Afternoon Ride</td>\n",
       "      <td>Ride</td>\n",
       "      <td>1841</td>\n",
       "      <td>12.59</td>\n",
       "      <td>Feeling good after a holiday break!</td>\n",
       "    </tr>\n",
       "    <tr>\n",
       "      <th>2019-10-10 13:47:14</th>\n",
       "      <td>Morning Ride</td>\n",
       "      <td>Ride</td>\n",
       "      <td>2463</td>\n",
       "      <td>12.79</td>\n",
       "      <td>Stopped for photo of sunrise</td>\n",
       "    </tr>\n",
       "    <tr>\n",
       "      <th>2019-10-11 00:16:57</th>\n",
       "      <td>Afternoon Ride</td>\n",
       "      <td>Ride</td>\n",
       "      <td>1843</td>\n",
       "      <td>11.79</td>\n",
       "      <td>Bike feeling tight, needs an oil and pump</td>\n",
       "    </tr>\n",
       "  </tbody>\n",
       "</table>\n",
       "</div>"
      ],
      "text/plain": [
       "                               Name  Type  Time  Distance  \\\n",
       "Date                                                        \n",
       "2019-10-01 00:15:07  Afternoon Ride  Ride  1732       NaN   \n",
       "2019-10-01 13:45:55    Morning Ride  Ride  2222     12.82   \n",
       "2019-10-02 00:13:09  Afternoon Ride  Ride  1756       NaN   \n",
       "2019-10-02 13:46:06    Morning Ride  Ride  2134     13.06   \n",
       "2019-10-03 00:45:22  Afternoon Ride  Ride  1724     12.52   \n",
       "2019-10-03 13:47:36    Morning Ride  Ride  2182     12.68   \n",
       "2019-10-04 01:08:08  Afternoon Ride  Ride  1870     12.63   \n",
       "2019-10-09 13:55:40    Morning Ride  Ride  2149     12.70   \n",
       "2019-10-10 00:10:31  Afternoon Ride  Ride  1841     12.59   \n",
       "2019-10-10 13:47:14    Morning Ride  Ride  2463     12.79   \n",
       "2019-10-11 00:16:57  Afternoon Ride  Ride  1843     11.79   \n",
       "\n",
       "                                                      Comments  \n",
       "Date                                                            \n",
       "2019-10-01 00:15:07                       Legs feeling strong!  \n",
       "2019-10-01 13:45:55             Beautiful morning! Feeling fit  \n",
       "2019-10-02 00:13:09      A little tired today but good weather  \n",
       "2019-10-02 13:46:06           Bit tired today but good weather  \n",
       "2019-10-03 00:45:22                               Feeling good  \n",
       "2019-10-03 13:47:36                                   Wet road  \n",
       "2019-10-04 01:08:08           Very tired, riding into the wind  \n",
       "2019-10-09 13:55:40              Really cold! But feeling good  \n",
       "2019-10-10 00:10:31        Feeling good after a holiday break!  \n",
       "2019-10-10 13:47:14               Stopped for photo of sunrise  \n",
       "2019-10-11 00:16:57  Bike feeling tight, needs an oil and pump  "
      ]
     },
     "execution_count": 57,
     "metadata": {},
     "output_type": "execute_result"
    }
   ],
   "source": [
    "df.sort_index().loc['2019-10-01':'2019-10-13']"
   ]
  },
  {
   "cell_type": "markdown",
   "metadata": {},
   "source": [
    "- And for getting all results between two times of a day, use `df.between_time()`:"
   ]
  },
  {
   "cell_type": "code",
   "execution_count": 58,
   "metadata": {},
   "outputs": [
    {
     "data": {
      "text/html": [
       "<div>\n",
       "<style scoped>\n",
       "    .dataframe tbody tr th:only-of-type {\n",
       "        vertical-align: middle;\n",
       "    }\n",
       "\n",
       "    .dataframe tbody tr th {\n",
       "        vertical-align: top;\n",
       "    }\n",
       "\n",
       "    .dataframe thead th {\n",
       "        text-align: right;\n",
       "    }\n",
       "</style>\n",
       "<table border=\"1\" class=\"dataframe\">\n",
       "  <thead>\n",
       "    <tr style=\"text-align: right;\">\n",
       "      <th></th>\n",
       "      <th>Name</th>\n",
       "      <th>Type</th>\n",
       "      <th>Time</th>\n",
       "      <th>Distance</th>\n",
       "      <th>Comments</th>\n",
       "    </tr>\n",
       "    <tr>\n",
       "      <th>Date</th>\n",
       "      <th></th>\n",
       "      <th></th>\n",
       "      <th></th>\n",
       "      <th></th>\n",
       "      <th></th>\n",
       "    </tr>\n",
       "  </thead>\n",
       "  <tbody>\n",
       "    <tr>\n",
       "      <th>2019-09-10 00:13:04</th>\n",
       "      <td>Afternoon Ride</td>\n",
       "      <td>Ride</td>\n",
       "      <td>2084</td>\n",
       "      <td>12.62</td>\n",
       "      <td>Rain</td>\n",
       "    </tr>\n",
       "    <tr>\n",
       "      <th>2019-09-11 00:23:50</th>\n",
       "      <td>Afternoon Ride</td>\n",
       "      <td>Ride</td>\n",
       "      <td>1863</td>\n",
       "      <td>12.52</td>\n",
       "      <td>Wet road but nice weather</td>\n",
       "    </tr>\n",
       "    <tr>\n",
       "      <th>2019-09-12 00:28:05</th>\n",
       "      <td>Afternoon Ride</td>\n",
       "      <td>Ride</td>\n",
       "      <td>1891</td>\n",
       "      <td>12.48</td>\n",
       "      <td>Tired by the end of the week</td>\n",
       "    </tr>\n",
       "    <tr>\n",
       "      <th>2019-09-17 00:15:47</th>\n",
       "      <td>Afternoon Ride</td>\n",
       "      <td>Ride</td>\n",
       "      <td>1973</td>\n",
       "      <td>12.45</td>\n",
       "      <td>Legs feeling strong!</td>\n",
       "    </tr>\n",
       "    <tr>\n",
       "      <th>2019-09-18 00:15:52</th>\n",
       "      <td>Afternoon Ride</td>\n",
       "      <td>Ride</td>\n",
       "      <td>2101</td>\n",
       "      <td>12.48</td>\n",
       "      <td>Pumped up tires</td>\n",
       "    </tr>\n",
       "    <tr>\n",
       "      <th>2019-09-19 00:30:01</th>\n",
       "      <td>Afternoon Ride</td>\n",
       "      <td>Ride</td>\n",
       "      <td>48062</td>\n",
       "      <td>12.48</td>\n",
       "      <td>Feeling good</td>\n",
       "    </tr>\n",
       "    <tr>\n",
       "      <th>2019-09-24 00:35:42</th>\n",
       "      <td>Afternoon Ride</td>\n",
       "      <td>Ride</td>\n",
       "      <td>2076</td>\n",
       "      <td>12.47</td>\n",
       "      <td>Oiled chain, bike feels smooth</td>\n",
       "    </tr>\n",
       "    <tr>\n",
       "      <th>2019-09-25 00:07:21</th>\n",
       "      <td>Afternoon Ride</td>\n",
       "      <td>Ride</td>\n",
       "      <td>1775</td>\n",
       "      <td>12.10</td>\n",
       "      <td>Feeling really tired</td>\n",
       "    </tr>\n",
       "    <tr>\n",
       "      <th>2019-09-26 00:13:33</th>\n",
       "      <td>Afternoon Ride</td>\n",
       "      <td>Ride</td>\n",
       "      <td>1860</td>\n",
       "      <td>12.52</td>\n",
       "      <td>raining</td>\n",
       "    </tr>\n",
       "    <tr>\n",
       "      <th>2019-10-01 00:15:07</th>\n",
       "      <td>Afternoon Ride</td>\n",
       "      <td>Ride</td>\n",
       "      <td>1732</td>\n",
       "      <td>NaN</td>\n",
       "      <td>Legs feeling strong!</td>\n",
       "    </tr>\n",
       "    <tr>\n",
       "      <th>2019-10-02 00:13:09</th>\n",
       "      <td>Afternoon Ride</td>\n",
       "      <td>Ride</td>\n",
       "      <td>1756</td>\n",
       "      <td>NaN</td>\n",
       "      <td>A little tired today but good weather</td>\n",
       "    </tr>\n",
       "    <tr>\n",
       "      <th>2019-10-03 00:45:22</th>\n",
       "      <td>Afternoon Ride</td>\n",
       "      <td>Ride</td>\n",
       "      <td>1724</td>\n",
       "      <td>12.52</td>\n",
       "      <td>Feeling good</td>\n",
       "    </tr>\n",
       "    <tr>\n",
       "      <th>2019-10-10 00:10:31</th>\n",
       "      <td>Afternoon Ride</td>\n",
       "      <td>Ride</td>\n",
       "      <td>1841</td>\n",
       "      <td>12.59</td>\n",
       "      <td>Feeling good after a holiday break!</td>\n",
       "    </tr>\n",
       "    <tr>\n",
       "      <th>2019-10-11 00:16:57</th>\n",
       "      <td>Afternoon Ride</td>\n",
       "      <td>Ride</td>\n",
       "      <td>1843</td>\n",
       "      <td>11.79</td>\n",
       "      <td>Bike feeling tight, needs an oil and pump</td>\n",
       "    </tr>\n",
       "  </tbody>\n",
       "</table>\n",
       "</div>"
      ],
      "text/plain": [
       "                               Name  Type   Time  Distance  \\\n",
       "Date                                                         \n",
       "2019-09-10 00:13:04  Afternoon Ride  Ride   2084     12.62   \n",
       "2019-09-11 00:23:50  Afternoon Ride  Ride   1863     12.52   \n",
       "2019-09-12 00:28:05  Afternoon Ride  Ride   1891     12.48   \n",
       "2019-09-17 00:15:47  Afternoon Ride  Ride   1973     12.45   \n",
       "2019-09-18 00:15:52  Afternoon Ride  Ride   2101     12.48   \n",
       "2019-09-19 00:30:01  Afternoon Ride  Ride  48062     12.48   \n",
       "2019-09-24 00:35:42  Afternoon Ride  Ride   2076     12.47   \n",
       "2019-09-25 00:07:21  Afternoon Ride  Ride   1775     12.10   \n",
       "2019-09-26 00:13:33  Afternoon Ride  Ride   1860     12.52   \n",
       "2019-10-01 00:15:07  Afternoon Ride  Ride   1732       NaN   \n",
       "2019-10-02 00:13:09  Afternoon Ride  Ride   1756       NaN   \n",
       "2019-10-03 00:45:22  Afternoon Ride  Ride   1724     12.52   \n",
       "2019-10-10 00:10:31  Afternoon Ride  Ride   1841     12.59   \n",
       "2019-10-11 00:16:57  Afternoon Ride  Ride   1843     11.79   \n",
       "\n",
       "                                                      Comments  \n",
       "Date                                                            \n",
       "2019-09-10 00:13:04                                       Rain  \n",
       "2019-09-11 00:23:50                  Wet road but nice weather  \n",
       "2019-09-12 00:28:05               Tired by the end of the week  \n",
       "2019-09-17 00:15:47                       Legs feeling strong!  \n",
       "2019-09-18 00:15:52                            Pumped up tires  \n",
       "2019-09-19 00:30:01                               Feeling good  \n",
       "2019-09-24 00:35:42             Oiled chain, bike feels smooth  \n",
       "2019-09-25 00:07:21                       Feeling really tired  \n",
       "2019-09-26 00:13:33                                    raining  \n",
       "2019-10-01 00:15:07                       Legs feeling strong!  \n",
       "2019-10-02 00:13:09      A little tired today but good weather  \n",
       "2019-10-03 00:45:22                               Feeling good  \n",
       "2019-10-10 00:10:31        Feeling good after a holiday break!  \n",
       "2019-10-11 00:16:57  Bike feeling tight, needs an oil and pump  "
      ]
     },
     "execution_count": 58,
     "metadata": {},
     "output_type": "execute_result"
    }
   ],
   "source": [
    "df.between_time('00:00', '01:00')"
   ]
  },
  {
   "cell_type": "markdown",
   "metadata": {},
   "source": [
    "- For more complicated filtering, we may have to **decompose** our timeseries, as we'll shown in the next section"
   ]
  },
  {
   "cell_type": "markdown",
   "metadata": {},
   "source": [
    "### Manipulating Datetimes"
   ]
  },
  {
   "cell_type": "markdown",
   "metadata": {},
   "source": [
    "#### Decomposition"
   ]
  },
  {
   "cell_type": "markdown",
   "metadata": {},
   "source": [
    "- We can easily decompose our timeseries into its constituent components\n",
    "- There are [many attributes](https://pandas.pydata.org/pandas-docs/stable/user_guide/timeseries.html#time-date-components) that define these constituents"
   ]
  },
  {
   "cell_type": "code",
   "execution_count": 59,
   "metadata": {},
   "outputs": [
    {
     "data": {
      "text/plain": [
       "Int64Index([2019, 2019, 2019, 2019, 2019, 2019, 2019, 2019, 2019, 2019, 2019,\n",
       "            2019, 2019, 2019, 2019, 2019, 2019, 2019, 2019, 2019, 2019, 2019,\n",
       "            2019, 2019, 2019, 2019, 2019, 2019, 2019, 2019, 2019, 2019, 2019],\n",
       "           dtype='int64', name='Date')"
      ]
     },
     "execution_count": 59,
     "metadata": {},
     "output_type": "execute_result"
    }
   ],
   "source": [
    "df.index.year"
   ]
  },
  {
   "cell_type": "code",
   "execution_count": 60,
   "metadata": {},
   "outputs": [
    {
     "data": {
      "text/plain": [
       "Int64Index([ 4, 18, 50, 19,  5, 48, 47, 34, 53, 52,  1,  9,  5, 41, 42, 24, 21,\n",
       "            41, 33, 43, 18, 52,  7, 55,  9,  6, 22, 36,  8, 40, 31, 14, 57],\n",
       "           dtype='int64', name='Date')"
      ]
     },
     "execution_count": 60,
     "metadata": {},
     "output_type": "execute_result"
    }
   ],
   "source": [
    "df.index.second"
   ]
  },
  {
   "cell_type": "code",
   "execution_count": 61,
   "metadata": {},
   "outputs": [
    {
     "data": {
      "text/plain": [
       "Int64Index([1, 1, 2, 2, 3, 0, 1, 1, 2, 2, 3, 3, 4, 0, 1, 1, 2, 2, 3, 3, 4, 0,\n",
       "            1, 1, 2, 2, 3, 3, 4, 2, 3, 3, 4],\n",
       "           dtype='int64', name='Date')"
      ]
     },
     "execution_count": 61,
     "metadata": {},
     "output_type": "execute_result"
    }
   ],
   "source": [
    "df.index.weekday"
   ]
  },
  {
   "cell_type": "markdown",
   "metadata": {},
   "source": [
    "- As well as methods we can use:"
   ]
  },
  {
   "cell_type": "code",
   "execution_count": 62,
   "metadata": {},
   "outputs": [
    {
     "data": {
      "text/plain": [
       "Index(['Tuesday', 'Tuesday', 'Wednesday', 'Wednesday', 'Thursday', 'Monday',\n",
       "       'Tuesday', 'Tuesday', 'Wednesday', 'Wednesday', 'Thursday', 'Thursday',\n",
       "       'Friday', 'Monday', 'Tuesday', 'Tuesday', 'Wednesday', 'Wednesday',\n",
       "       'Thursday', 'Thursday', 'Friday', 'Monday', 'Tuesday', 'Tuesday',\n",
       "       'Wednesday', 'Wednesday', 'Thursday', 'Thursday', 'Friday', 'Wednesday',\n",
       "       'Thursday', 'Thursday', 'Friday'],\n",
       "      dtype='object', name='Date')"
      ]
     },
     "execution_count": 62,
     "metadata": {},
     "output_type": "execute_result"
    }
   ],
   "source": [
    "df.index.day_name()"
   ]
  },
  {
   "cell_type": "code",
   "execution_count": 63,
   "metadata": {},
   "outputs": [
    {
     "data": {
      "text/plain": [
       "Index(['September', 'September', 'September', 'September', 'September',\n",
       "       'September', 'September', 'September', 'September', 'September',\n",
       "       'September', 'September', 'September', 'September', 'September',\n",
       "       'September', 'September', 'September', 'September', 'September',\n",
       "       'September', 'September', 'October', 'October', 'October', 'October',\n",
       "       'October', 'October', 'October', 'October', 'October', 'October',\n",
       "       'October'],\n",
       "      dtype='object', name='Date')"
      ]
     },
     "execution_count": 63,
     "metadata": {},
     "output_type": "execute_result"
    }
   ],
   "source": [
    "df.index.month_name()"
   ]
  },
  {
   "cell_type": "markdown",
   "metadata": {},
   "source": [
    "- Note that if you're operating on a Series rather than a DatetimeIndex object, you can access this functionality through the `.dt` attribute"
   ]
  },
  {
   "cell_type": "code",
   "execution_count": 64,
   "metadata": {
    "tags": [
     "raises-exception"
    ]
   },
   "outputs": [
    {
     "ename": "AttributeError",
     "evalue": "'Series' object has no attribute 'year'",
     "output_type": "error",
     "traceback": [
      "\u001b[0;31m---------------------------------------------------------------------------\u001b[0m",
      "\u001b[0;31mAttributeError\u001b[0m                            Traceback (most recent call last)",
      "Cell \u001b[0;32mIn [64], line 2\u001b[0m\n\u001b[1;32m      1\u001b[0m s \u001b[38;5;241m=\u001b[39m pd\u001b[38;5;241m.\u001b[39mSeries(pd\u001b[38;5;241m.\u001b[39mdate_range(\u001b[38;5;124m'\u001b[39m\u001b[38;5;124m2011-12-29\u001b[39m\u001b[38;5;124m'\u001b[39m, \u001b[38;5;124m'\u001b[39m\u001b[38;5;124m2011-12-31\u001b[39m\u001b[38;5;124m'\u001b[39m))\n\u001b[0;32m----> 2\u001b[0m s\u001b[38;5;241m.\u001b[39myear\n",
      "File \u001b[0;32m~/opt/miniconda3/envs/dsci511/lib/python3.10/site-packages/pandas/core/generic.py:5907\u001b[0m, in \u001b[0;36mNDFrame.__getattr__\u001b[0;34m(self, name)\u001b[0m\n\u001b[1;32m   5900\u001b[0m \u001b[39mif\u001b[39;00m (\n\u001b[1;32m   5901\u001b[0m     name \u001b[39mnot\u001b[39;00m \u001b[39min\u001b[39;00m \u001b[39mself\u001b[39m\u001b[39m.\u001b[39m_internal_names_set\n\u001b[1;32m   5902\u001b[0m     \u001b[39mand\u001b[39;00m name \u001b[39mnot\u001b[39;00m \u001b[39min\u001b[39;00m \u001b[39mself\u001b[39m\u001b[39m.\u001b[39m_metadata\n\u001b[1;32m   5903\u001b[0m     \u001b[39mand\u001b[39;00m name \u001b[39mnot\u001b[39;00m \u001b[39min\u001b[39;00m \u001b[39mself\u001b[39m\u001b[39m.\u001b[39m_accessors\n\u001b[1;32m   5904\u001b[0m     \u001b[39mand\u001b[39;00m \u001b[39mself\u001b[39m\u001b[39m.\u001b[39m_info_axis\u001b[39m.\u001b[39m_can_hold_identifiers_and_holds_name(name)\n\u001b[1;32m   5905\u001b[0m ):\n\u001b[1;32m   5906\u001b[0m     \u001b[39mreturn\u001b[39;00m \u001b[39mself\u001b[39m[name]\n\u001b[0;32m-> 5907\u001b[0m \u001b[39mreturn\u001b[39;00m \u001b[39mobject\u001b[39;49m\u001b[39m.\u001b[39;49m\u001b[39m__getattribute__\u001b[39;49m(\u001b[39mself\u001b[39;49m, name)\n",
      "\u001b[0;31mAttributeError\u001b[0m: 'Series' object has no attribute 'year'"
     ]
    }
   ],
   "source": [
    "s = pd.Series(pd.date_range('2011-12-29', '2011-12-31'))\n",
    "s.year  # raises error"
   ]
  },
  {
   "cell_type": "code",
   "execution_count": null,
   "metadata": {},
   "outputs": [],
   "source": [
    "s.dt.year  # works"
   ]
  },
  {
   "cell_type": "markdown",
   "metadata": {},
   "source": [
    "#### Resampling and aggregating"
   ]
  },
  {
   "cell_type": "markdown",
   "metadata": {},
   "source": [
    "- One of the most common operations you will want do when working with time series is resampling the time series to a coarser/finer/regular resolution\n",
    "- For example, you may want to resample daily data to weekly data\n",
    "- We can do that with the `.resample()` method\n",
    "- For example, let's resample the irregular cycling timeseries to a regular 12-hourly series"
   ]
  },
  {
   "cell_type": "code",
   "execution_count": null,
   "metadata": {},
   "outputs": [],
   "source": [
    "df"
   ]
  },
  {
   "cell_type": "code",
   "execution_count": null,
   "metadata": {},
   "outputs": [],
   "source": [
    "df.index"
   ]
  },
  {
   "cell_type": "code",
   "execution_count": null,
   "metadata": {},
   "outputs": [],
   "source": [
    "df.resample('1D')"
   ]
  },
  {
   "cell_type": "markdown",
   "metadata": {},
   "source": [
    "- `Resampler` objects are very similar to `groupby` objects we saw in the previous lecture\n",
    "- We can even access the resampled \"groups\" using `.groups`"
   ]
  },
  {
   "cell_type": "code",
   "execution_count": null,
   "metadata": {},
   "outputs": [],
   "source": [
    "df.resample('1D').groups"
   ]
  },
  {
   "cell_type": "markdown",
   "metadata": {},
   "source": [
    "- We need to apply an aggregating function on our grouped timeseries, just like we did with `groupby` objects last lecture"
   ]
  },
  {
   "cell_type": "code",
   "execution_count": null,
   "metadata": {},
   "outputs": [],
   "source": [
    "dfr = df.resample('1D').mean()\n",
    "dfr"
   ]
  },
  {
   "cell_type": "markdown",
   "metadata": {},
   "source": [
    "- There's quite a few `NaN`s in there?\n",
    "- There is no riding data for some days"
   ]
  },
  {
   "cell_type": "code",
   "execution_count": null,
   "metadata": {},
   "outputs": [],
   "source": [
    "dfr['Weekday'] = dfr.index.day_name()\n",
    "dfr.head(10)"
   ]
  },
  {
   "cell_type": "markdown",
   "metadata": {},
   "source": [
    "- Pandas support \"business time\" operations and format codes in all the timeseries functions we've seen so far\n",
    "- I don't have time to talk about them all but you can check out [the documentation](https://pandas.pydata.org/pandas-docs/stable/user_guide/timeseries.html) for more info\n",
    "- Let's specify business days here to get rid of those weekends"
   ]
  },
  {
   "cell_type": "code",
   "execution_count": null,
   "metadata": {},
   "outputs": [],
   "source": [
    "dfr = df.resample('1B').mean(numeric_only=True)  # 'B' is business day\n",
    "dfr['Weekday'] = dfr.index.day_name()\n",
    "dfr.head(10)"
   ]
  },
  {
   "cell_type": "markdown",
   "metadata": {},
   "source": [
    "## Hierarchical indexing (OPTIONAL)"
   ]
  },
  {
   "cell_type": "markdown",
   "metadata": {},
   "source": [
    "- In R you have/will learn about nested dataframes, that is, dataframes within dataframes\n",
    "- The pandas equivalent is **hierarchical indexing**, sometimes called \"multi-indexing\" or \"stacked indexing\"\n",
    "- The idea is to facilitate the storage of high dimensional data in a 2D dataframe"
   ]
  },
  {
   "cell_type": "markdown",
   "metadata": {},
   "source": [
    "![](img/pandas_stacking.gif)\n",
    "\n",
    "Source: [Giphy](https://giphy.com/gifs/panda-playing-QoCoLo2opwUW4)"
   ]
  },
  {
   "cell_type": "markdown",
   "metadata": {},
   "source": [
    "### Creating a hierarchical index"
   ]
  },
  {
   "cell_type": "markdown",
   "metadata": {},
   "source": [
    "- Let's start with a motivating example\n",
    "- Say you want to track how many courses each MDS instructor taught over the years in a Pandas Series\n",
    "- We could use a tuple to make an appropriate index"
   ]
  },
  {
   "cell_type": "code",
   "execution_count": null,
   "metadata": {},
   "outputs": [],
   "source": [
    "index = [('Arman', 2020), ('Arman', 2021),\n",
    "         ('Mike', 2020), ('Mike', 2021),\n",
    "         ('Tiffany', 2018), ('Tiffany', 2020)]\n",
    "\n",
    "courses = [1, 3, 5, 5, 6, 3]\n",
    "\n",
    "s = pd.Series(courses, index=index)\n",
    "s"
   ]
  },
  {
   "cell_type": "markdown",
   "metadata": {},
   "source": [
    "- We can still kind of index this series:"
   ]
  },
  {
   "cell_type": "code",
   "execution_count": null,
   "metadata": {},
   "outputs": [],
   "source": [
    "s.loc[('Arman', 2020):('Arman', 2021)]"
   ]
  },
  {
   "cell_type": "markdown",
   "metadata": {},
   "source": [
    "- But if we wanted to get all of the values for 2020, we'd need to do some messy looping:"
   ]
  },
  {
   "cell_type": "code",
   "execution_count": null,
   "metadata": {},
   "outputs": [],
   "source": [
    "s[[i for i in s.index if i[1] == 2020]]"
   ]
  },
  {
   "cell_type": "markdown",
   "metadata": {},
   "source": [
    "- The better way to set up this problem is with a multi-index (\"hierarchical index\")\n",
    "- We can create a multi-index with `pd.MultiIndex.from_tuple()`\n",
    "- There are [other variations](https://pandas.pydata.org/pandas-docs/stable/reference/api/pandas.MultiIndex.html) of `.from_X` but tuple is most common"
   ]
  },
  {
   "cell_type": "code",
   "execution_count": null,
   "metadata": {},
   "outputs": [],
   "source": [
    "mi = pd.MultiIndex.from_tuples(index)\n",
    "mi"
   ]
  },
  {
   "cell_type": "code",
   "execution_count": null,
   "metadata": {},
   "outputs": [],
   "source": [
    "s = pd.Series(courses, index=mi)\n",
    "s"
   ]
  },
  {
   "cell_type": "markdown",
   "metadata": {},
   "source": [
    "- Now we can do more efficient and logical indexing"
   ]
  },
  {
   "cell_type": "code",
   "execution_count": null,
   "metadata": {},
   "outputs": [],
   "source": [
    "s.loc['Arman']"
   ]
  },
  {
   "cell_type": "code",
   "execution_count": null,
   "metadata": {},
   "outputs": [],
   "source": [
    "s.loc[:, 2020]"
   ]
  },
  {
   "cell_type": "code",
   "execution_count": null,
   "metadata": {},
   "outputs": [],
   "source": [
    "s.loc['Arman', 2021]"
   ]
  },
  {
   "cell_type": "markdown",
   "metadata": {},
   "source": [
    "- We could also create the index by passing iterables like a list of lists directly to the `index` argument, but I feel it's not as explicit or intutitive as using `pd.MultIndex`"
   ]
  },
  {
   "cell_type": "code",
   "execution_count": null,
   "metadata": {},
   "outputs": [],
   "source": [
    "mi = [['Arman', 'Arman', 'Mike', 'Mike', 'Tiffany', 'Tiffany'],\n",
    "      [ 2020,    2021,    2020,   2021,   2018,      2020]]\n",
    "\n",
    "courses = [1, 3, 5, 5, 6, 3]\n",
    "\n",
    "s = pd.Series(courses, index=mi)\n",
    "s"
   ]
  },
  {
   "cell_type": "markdown",
   "metadata": {},
   "source": [
    "### Stacking/unstacking"
   ]
  },
  {
   "cell_type": "markdown",
   "metadata": {},
   "source": [
    "- You might have noticed that we could also represent our multi-index series as a dataframe\n",
    "- Pandas noticed this too and provides the `.stack()` and `.unstack()` methods for switching between dataframes and multi-index series"
   ]
  },
  {
   "cell_type": "code",
   "execution_count": null,
   "metadata": {},
   "outputs": [],
   "source": [
    "s = s.unstack()\n",
    "s"
   ]
  },
  {
   "cell_type": "code",
   "execution_count": null,
   "metadata": {},
   "outputs": [],
   "source": [
    "s.stack()"
   ]
  },
  {
   "cell_type": "markdown",
   "metadata": {},
   "source": [
    "- We'll use this again a bit later"
   ]
  },
  {
   "cell_type": "markdown",
   "metadata": {},
   "source": [
    "### Using a hierarchical index"
   ]
  },
  {
   "cell_type": "markdown",
   "metadata": {},
   "source": [
    "- Observing the multi-index <-> dataframe equivalence above, you might wonder why we would even want multi-indices\n",
    "- Above, we were only dealing with 2D data, but a multi-index allows us to store any arbitrary number of dimensions"
   ]
  },
  {
   "cell_type": "code",
   "execution_count": null,
   "metadata": {},
   "outputs": [],
   "source": [
    "arman = pd.DataFrame({'Courses': [4, 6],\n",
    "                    'Students': [273, 342]},\n",
    "                    index = [2020, 2021])\n",
    "mike = pd.DataFrame({'Courses': [5, 5],\n",
    "                     'Students': [293, 420]},\n",
    "                     index = [2020, 2021])\n",
    "tiff = pd.DataFrame({'Courses': [6, 3],\n",
    "                     'Students': [363, 190]},\n",
    "                     index = [2018, 2020])"
   ]
  },
  {
   "cell_type": "markdown",
   "metadata": {},
   "source": [
    "- Here I have three 2D dataframes that I'd like to join together\n",
    "- There are so many ways you can do this, but I'm going to use `pd.concat()` and then specify the `keys` argument"
   ]
  },
  {
   "cell_type": "code",
   "execution_count": null,
   "metadata": {},
   "outputs": [],
   "source": [
    "s3 = pd.concat((arman, mike, tiff),\n",
    "               keys= ['Arman', 'Mike', 'Tiff'],\n",
    "               axis=0)\n",
    "s3"
   ]
  },
  {
   "cell_type": "markdown",
   "metadata": {},
   "source": [
    "- Now we have 3 dimensions of information in a single structure!\n",
    "- (Think of it as a nested dataframes)"
   ]
  },
  {
   "cell_type": "code",
   "execution_count": null,
   "metadata": {},
   "outputs": [],
   "source": [
    "s3.loc['Arman']"
   ]
  },
  {
   "cell_type": "code",
   "execution_count": null,
   "metadata": {},
   "outputs": [],
   "source": [
    "s3.loc['Arman', 2020]"
   ]
  },
  {
   "cell_type": "markdown",
   "metadata": {},
   "source": [
    "- We can access deeper levels in various ways:"
   ]
  },
  {
   "cell_type": "code",
   "execution_count": null,
   "metadata": {},
   "outputs": [],
   "source": [
    "s3.loc['Arman', 2020]['Courses']"
   ]
  },
  {
   "cell_type": "code",
   "execution_count": null,
   "metadata": {},
   "outputs": [],
   "source": [
    "s3.loc[('Arman', 2020), 'Courses']"
   ]
  },
  {
   "cell_type": "markdown",
   "metadata": {},
   "source": [
    "- If we name our index columns, we can also use `.query()`"
   ]
  },
  {
   "cell_type": "code",
   "execution_count": null,
   "metadata": {},
   "outputs": [],
   "source": [
    "s3 = s3.rename_axis(index=['Name', 'Year'])\n",
    "s3"
   ]
  },
  {
   "cell_type": "code",
   "execution_count": null,
   "metadata": {},
   "outputs": [],
   "source": [
    "s3.query('Year == 2021')"
   ]
  },
  {
   "cell_type": "markdown",
   "metadata": {},
   "source": [
    "- Or you might prefer the \"stacked\" version of our hierarchical index"
   ]
  },
  {
   "cell_type": "code",
   "execution_count": null,
   "metadata": {},
   "outputs": [],
   "source": [
    "s3.stack()"
   ]
  },
  {
   "cell_type": "code",
   "execution_count": null,
   "metadata": {},
   "outputs": [],
   "source": [
    "s3.stack().loc[('Arman', 2020, 'Courses')]"
   ]
  },
  {
   "cell_type": "markdown",
   "metadata": {},
   "source": [
    "- By the way, we can also use all the previous methods we've learned about on hierarchical dataframes"
   ]
  },
  {
   "cell_type": "code",
   "execution_count": null,
   "metadata": {},
   "outputs": [],
   "source": [
    "s3.sort_index(ascending=True)"
   ]
  },
  {
   "cell_type": "code",
   "execution_count": null,
   "metadata": {},
   "outputs": [],
   "source": [
    "s3.sort_values(by='Students')"
   ]
  },
  {
   "cell_type": "markdown",
   "metadata": {},
   "source": [
    "## Visualizing DataFrames"
   ]
  },
  {
   "cell_type": "markdown",
   "metadata": {},
   "source": [
    "- Pandas provides a `.plot()` method on Series and DataFrames\n",
    "- You'll learn more about this in DSCI 531\n",
    "- But I wanted to show it briefly here"
   ]
  },
  {
   "cell_type": "markdown",
   "metadata": {},
   "source": [
    "### Simple plots"
   ]
  },
  {
   "cell_type": "code",
   "execution_count": null,
   "metadata": {},
   "outputs": [],
   "source": [
    "df = pd.read_csv('data/cycling_data.csv', index_col=0, parse_dates=True).dropna()"
   ]
  },
  {
   "cell_type": "markdown",
   "metadata": {},
   "source": [
    "- Let's go ahead and make a plot of the distances I've ridden"
   ]
  },
  {
   "cell_type": "code",
   "execution_count": null,
   "metadata": {},
   "outputs": [],
   "source": [
    "%matplotlib inline\n",
    "%config InlineBackend.figure_formats = ['svg']"
   ]
  },
  {
   "cell_type": "code",
   "execution_count": null,
   "metadata": {},
   "outputs": [],
   "source": [
    "df['Distance'].plot.line()"
   ]
  },
  {
   "cell_type": "markdown",
   "metadata": {},
   "source": [
    "- Cumulative distance might be more informative"
   ]
  },
  {
   "cell_type": "code",
   "execution_count": null,
   "metadata": {},
   "outputs": [],
   "source": [
    "df['Distance'].cumsum().plot.line();"
   ]
  },
  {
   "cell_type": "markdown",
   "metadata": {},
   "source": [
    "- There are many configuration options for these plots whic build of `matplotlib`, which you'll learn in DSCI 531"
   ]
  },
  {
   "cell_type": "code",
   "execution_count": null,
   "metadata": {},
   "outputs": [],
   "source": [
    "df['Distance'].cumsum().plot.line(fontsize=8, linewidth=3, color='r', ylabel='km');"
   ]
  },
  {
   "cell_type": "markdown",
   "metadata": {},
   "source": [
    "- There are many other kinds of plots you can make too:\n",
    "\n",
    "|Method|Plot Type|\n",
    "|---|---|\n",
    "|`bar` or `barh` | bar plots|\n",
    "|`hist` | histogram|\n",
    "|`box` | boxplot|\n",
    "|`kde` or `density` | density plots|\n",
    "|`area` | area plots|\n",
    "|`scatter` | scatter plots|\n",
    "|`hexbin` | hexagonal bin plots|\n",
    "|`pie` | pie plots|"
   ]
  },
  {
   "cell_type": "markdown",
   "metadata": {},
   "source": [
    "### Pandas plotting"
   ]
  },
  {
   "cell_type": "markdown",
   "metadata": {},
   "source": [
    "- Pandas also supports a few more advanced plotting functions in the `pandas.plotting` module\n",
    "- You can view them in the [Pandas documentation](https://pandas.pydata.org/pandas-docs/stable/user_guide/visualization.html#plotting-tools) and we'll revisit them in DSCI 574"
   ]
  },
  {
   "cell_type": "code",
   "execution_count": null,
   "metadata": {},
   "outputs": [],
   "source": [
    "from pandas.plotting import scatter_matrix"
   ]
  },
  {
   "cell_type": "code",
   "execution_count": null,
   "metadata": {},
   "outputs": [],
   "source": [
    "scatter_matrix(df);"
   ]
  },
  {
   "cell_type": "markdown",
   "metadata": {},
   "source": [
    "- We have an outlier time in the data above, a time value of ~48,000\n",
    "- Let's remove it and re-plot"
   ]
  },
  {
   "cell_type": "code",
   "execution_count": null,
   "metadata": {},
   "outputs": [],
   "source": [
    "scatter_matrix(df.query('Time < 4000'), alpha=1);"
   ]
  }
 ],
 "metadata": {
  "kernelspec": {
   "display_name": "Python 3.10.6 ('dsci511')",
   "language": "python",
   "name": "python3"
  },
  "language_info": {
   "codemirror_mode": {
    "name": "ipython",
    "version": 3
   },
   "file_extension": ".py",
   "mimetype": "text/x-python",
   "name": "python",
   "nbconvert_exporter": "python",
   "pygments_lexer": "ipython3",
   "version": "3.10.6"
  },
  "toc": {
   "base_numbering": 1,
   "nav_menu": {},
   "number_sections": false,
   "sideBar": true,
   "skip_h1_title": true,
   "title_cell": "Lecture Outline",
   "title_sidebar": "Contents",
   "toc_cell": true,
   "toc_position": {
    "height": "calc(100% - 180px)",
    "left": "10px",
    "top": "150px",
    "width": "305.797px"
   },
   "toc_section_display": true,
   "toc_window_display": true
  },
  "vscode": {
   "interpreter": {
    "hash": "e48f8b1687318edbd5a2a918b592db3baee1b5f69ffdc30179f0c7d8337e101b"
   }
  }
 },
 "nbformat": 4,
 "nbformat_minor": 4
}
