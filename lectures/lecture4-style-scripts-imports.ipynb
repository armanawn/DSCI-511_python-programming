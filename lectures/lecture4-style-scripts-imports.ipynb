{
 "cells": [
  {
   "cell_type": "markdown",
   "metadata": {},
   "source": [
    "<img src=\"img/dsci511_header.png\" width=\"600\">"
   ]
  },
  {
   "cell_type": "markdown",
   "metadata": {},
   "source": [
    "# Lecture 4: Style guides, scripts, and imports"
   ]
  },
  {
   "cell_type": "markdown",
   "metadata": {},
   "source": [
    "## Lecture learning objectives"
   ]
  },
  {
   "cell_type": "markdown",
   "metadata": {},
   "source": [
    "- Describe why code style is important\n",
    "- Differentiate between the role of a linter like `flake8` and an autoformatter like `black`\n",
    "- Implement linting and formatting from the command line or within Jupyter or another IDE\n",
    "- Write a Python module (`.py` file) in VS Code or other IDE of your choice\n",
    "- Import installed or custom packages using the `import` syntax\n",
    "- Explain the notion of a reference in Python\n",
    "- Explain the notion of scoping in Python\n",
    "- Anticipate whether changing one variable will change another in Python\n",
    "- Anticipate whether a function changes the caller's version of an argument variable in Python\n",
    "- Select the appropriate choice between `==` and `is` in Python"
   ]
  },
  {
   "cell_type": "markdown",
   "metadata": {},
   "source": [
    "## Style guide"
   ]
  },
  {
   "cell_type": "markdown",
   "metadata": {},
   "source": [
    "![](https://imgs.xkcd.com/comics/code_quality.png)"
   ]
  },
  {
   "cell_type": "markdown",
   "metadata": {},
   "source": [
    "- It is incorrect to think that if your code works then you are done.\n",
    "\n",
    "- Code has two \"users\" - **the computer** (which turns it into machine instructions) and **humans**, who will likely read and/or modify the code in the future.\n",
    "- This section is about how to make your code suitable to that second audience, humans.\n",
    "- Styling is particularly important for sharing your code to other users (including your future self!)\n",
    "- Remember: \"Code is read much more often than it is written.\"\n",
    "- A PEP (Python Enhancement Proposal) is a design document providing information to the Python community, or describing a new feature for Python or its processes or environment ([source](https://www.python.org/dev/peps/pep-0001/#what-is-a-pep)).\n",
    "- There many PEPs covering different aspects of Python programming. For example, [PEP 257](https://www.python.org/dev/peps/pep-0257/) documents conventions for writing Python docstrings.\n",
    "- [PEP 8](https://www.python.org/dev/peps/pep-0008/) is the Python style guide"
   ]
  },
  {
   "cell_type": "code",
   "execution_count": 1,
   "metadata": {},
   "outputs": [
    {
     "name": "stdout",
     "output_type": "stream",
     "text": [
      "The Zen of Python, by Tim Peters\n",
      "\n",
      "Beautiful is better than ugly.\n",
      "Explicit is better than implicit.\n",
      "Simple is better than complex.\n",
      "Complex is better than complicated.\n",
      "Flat is better than nested.\n",
      "Sparse is better than dense.\n",
      "Readability counts.\n",
      "Special cases aren't special enough to break the rules.\n",
      "Although practicality beats purity.\n",
      "Errors should never pass silently.\n",
      "Unless explicitly silenced.\n",
      "In the face of ambiguity, refuse the temptation to guess.\n",
      "There should be one-- and preferably only one --obvious way to do it.\n",
      "Although that way may not be obvious at first unless you're Dutch.\n",
      "Now is better than never.\n",
      "Although never is often better than *right* now.\n",
      "If the implementation is hard to explain, it's a bad idea.\n",
      "If the implementation is easy to explain, it may be a good idea.\n",
      "Namespaces are one honking great idea -- let's do more of those!\n"
     ]
    }
   ],
   "source": [
    "import this"
   ]
  },
  {
   "cell_type": "markdown",
   "metadata": {},
   "source": [
    "### Highlights of PEP 8\n"
   ]
  },
  {
   "cell_type": "markdown",
   "metadata": {},
   "source": [
    "- Naming conventions:\n",
    "\n",
    "  * **Variables, functions, modules, packages**: Use lowercase words separated by underlines: `my_var`, `x`, `divide_by_three()`\n",
    "  \n",
    "  * **Classes**: Use _camel case_, no underscores: `MyClass`, `Regressor`, `ErrorHandler`\n",
    "\n",
    "- Line breaking:\n",
    "\n",
    "  * PEP 8 suggests 79 characters per line. However, lines can be broken when code is contained within `()`, `[]`, `{}`:\n",
    "\n",
    "```python\n",
    "def my_function(a, b, c, d,\n",
    "                e, f, g, h):\n",
    "    return None\n",
    "```\n",
    "  > Note: lines can also be broken by `\\`, but it is NOT recommended.\n",
    "  \n",
    "  * Lines should be broken before binary operators (e.g. `+` or `*`):\n",
    "\n",
    "```python\n",
    "total_energy = (potential\n",
    "                + kinetic\n",
    "                + internal\n",
    "                - friction)\n",
    "```\n",
    "- Closing parentheses, brackets, or braces:\n",
    "\n",
    "```python\n",
    "natural_numbers = [\n",
    "    1, 2, 3,\n",
    "    4, 5, 6,\n",
    "    7, 8, 9\n",
    "]\n",
    "\n",
    "negative_numbers = [\n",
    "    -6, -5, -4,\n",
    "    -3, -2, -1\n",
    "]\n",
    "```\n",
    "- Comments (more on this later): `#` of an inline comment should be preceded with 2 spaces, and followed by 1 space. Use inline comments sparingly. Don't explain the obvious.\n",
    "\n",
    "```python\n",
    "y = 100  # this is an inline comment\n",
    "```\n",
    "- Docstrings should be enclosed in double `\"\"\"`. Place the ending `\"\"\"` of a multiline docstring on a single line by itself.\n",
    "\n",
    "- Blank lines:\n",
    "\n",
    "```python\n",
    "temp_var = 10\n",
    "\n",
    "\n",
    "class FirstClass:\n",
    "\"\"\"Class docstrings go here.\"\"\"\n",
    "\n",
    "    def first_method(self):\n",
    "        \"\"\"Method docstrings go here.\"\"\"\"\n",
    "        return None\n",
    "\n",
    "    def second_method(self):\n",
    "        \"\"\"Method docstrings go here.\"\"\"\"\n",
    "        return None\n",
    "\n",
    "\n",
    "class SecondClass:\n",
    "  \"\"\"Class docstrings go here.\"\"\"\n",
    "    pass\n",
    "\n",
    "\n",
    "def top_level_func():\n",
    "  \"\"\"Function docstrings go here.\"\"\"\"\n",
    "    pass\n",
    "\n",
    "\n",
    "another_var = 20\n",
    "```\n",
    "- Whitespaces:\n",
    "  - Separate items of a list or tuple by one single space after the comma:\n",
    "  \n",
    "```python\n",
    "my_list = [1, 3, 5, 7, 11]\n",
    "\n",
    "```\n",
    "- Surround the following by single whitespaces on each side:\n",
    "\n",
    "  * Assignment operators, e.g. `=`, `+=`, `-=`, etc.\n",
    "\n",
    "  * Comparison operators, e.g. `<`, `<=`, `!=`, etc.\n",
    "\n",
    "- If there was more than one, surround the lowest priority operator with whitespaces.\n",
    "\n",
    "```python\n",
    "y = 154.2 + x\n",
    "w = 12*x + 0.4*z\n",
    "```\n",
    "> **Important**: DON'T use whitespaces when assigning argument values:\n",
    "> ```python\n",
    "> def my_func(default_n=100):\n",
    ">     pass\n",
    "> ```\n",
    "\n",
    "- Treat colons `:` as binary operators **when slicing lists or arrays**:\n",
    "\n",
    "```python\n",
    "my_list[n+1 : n+x : 3]\n",
    "my_list[n+1 ::]\n",
    "```\n",
    "- Use one single space after a colon **when defining key/value pairs in a dictionary**:\n",
    "\n",
    "```python\n",
    "my_dict = {\n",
    "    'name': 'Arman',\n",
    "    'teaches': 'DSCI 511'\n",
    "}\n",
    "```"
   ]
  },
  {
   "cell_type": "markdown",
   "metadata": {},
   "source": [
    "- For a detailed coverage of PEP 8 with various examples, see [this](https://realpython.com/python-pep8/)\n",
    "- There's lots to remember but luckily **linters** & **formatters** can help you adhere to uniform styling!"
   ]
  },
  {
   "cell_type": "markdown",
   "metadata": {
    "tags": []
   },
   "source": [
    "### Linters\n",
    "\n",
    "- **Linting**: highlights programmatic and stylistic problems in your Python source code.\n",
    "\n",
    "- Think of it like \"spell check\" in word processing software\n",
    "\n",
    "- Common linters: **pycodestyle**, **pylint**, **pyflakes**, **flake8**, etc.\n",
    "\n",
    "- Some linters only check for programming errors (e.g. pyflakes), whereas some others only verify styling (e.g. pycodestyle), and other ones doing both (e.g. pylint, flake8)\n",
    "\n",
    "- For descriptions of each of these linters, see [this](https://books.agiliq.com/projects/essential-python-tools/en/latest/linters.html)\n",
    "\n",
    "- If you've followed the [MDS installation guide](https://ubc-mds.github.io/resources_pages/installation_instructions/), you should have `jupyter-lsp` (LSP for Language Server Protocol) extension in your Jupyter Lab. By default, `jupyter-lsp` uses\n",
    "  * [Pyflakes](https://github.com/PyCQA/pyflakes) linter to detect various errors\n",
    "  * [pycodestyle](https://github.com/PyCQA/pycodestyle) linter for style checking\n",
    "  * [autopep8](https://github.com/hhatto/autopep8) for code formatting\n",
    " - `jupyter-lsp` automatically lints your code as you write it in Jupyter Lab cells.\n",
    " - We will also see how linters work in VS Code later."
   ]
  },
  {
   "cell_type": "markdown",
   "metadata": {
    "tags": []
   },
   "source": [
    "- You can also use linters on `.py` files\n",
    "- For example, you can install flake8 with:\n",
    "\n",
    "```bash\n",
    "conda install -c anaconda flake8\n",
    "```"
   ]
  },
  {
   "cell_type": "markdown",
   "metadata": {},
   "source": [
    "- `flake8` can be used from the command line to check files\n",
    "\n",
    "```bash\n",
    "flake8 <PATH_TO_FILE>\n",
    "```\n",
    "\n",
    "- You can execute shell commands in Jupyter by prepending a command with an exclamation mark `!`\n",
    "- I've included an example script called `bad_style.py` in the lectures folder, let's use `flake8` on that now:"
   ]
  },
  {
   "cell_type": "code",
   "execution_count": 2,
   "metadata": {},
   "outputs": [
    {
     "name": "stdout",
     "output_type": "stream",
     "text": [
      "bad_style.py:1:6: E201 whitespace after '{'\n",
      "bad_style.py:1:11: E231 missing whitespace after ':'\n",
      "bad_style.py:1:14: E231 missing whitespace after ','\n",
      "bad_style.py:1:18: E231 missing whitespace after ':'\n",
      "bad_style.py:2:1: E128 continuation line under-indented for visual indent\n",
      "bad_style.py:2:4: E231 missing whitespace after ':'\n",
      "bad_style.py:4:25: E128 continuation line under-indented for visual indent\n",
      "bad_style.py:5:10: E225 missing whitespace around operator\n",
      "bad_style.py:7:80: E501 line too long (119 > 79 characters)\n",
      "bad_style.py:8:2: E111 indentation is not a multiple of 4\n",
      "bad_style.py:10:2: E111 indentation is not a multiple of 4\n",
      "bad_style.py:11:2: E111 indentation is not a multiple of 4\n",
      "bad_style.py:12:2: E111 indentation is not a multiple of 4\n",
      "bad_style.py:13:15: E701 multiple statements on one line (colon)\n",
      "bad_style.py:13:36: E261 at least two spaces before inline comment\n",
      "bad_style.py:13:36: E262 inline comment should start with '# '\n",
      "bad_style.py:13:80: E501 line too long (84 > 79 characters)\n",
      "bad_style.py:14:1: E302 expected 2 blank lines, found 0\n",
      "bad_style.py:14:13: E201 whitespace after '('\n",
      "bad_style.py:14:25: E202 whitespace before ')'\n",
      "bad_style.py:15:3: E111 indentation is not a multiple of 4\n",
      "bad_style.py:15:8: E211 whitespace before '('\n",
      "bad_style.py:15:19: E202 whitespace before ')'\n",
      "bad_style.py:16:11: E271 multiple spaces after keyword\n",
      "bad_style.py:17:3: E301 expected 1 blank line, found 0\n",
      "bad_style.py:17:3: E111 indentation is not a multiple of 4\n",
      "bad_style.py:17:16: E231 missing whitespace after ','\n",
      "bad_style.py:18:7: E111 indentation is not a multiple of 4\n",
      "bad_style.py:20:1: E305 expected 2 blank lines after class or function definition, found 0\n",
      "bad_style.py:28:2: W292 no newline at end of file\n"
     ]
    }
   ],
   "source": [
    "!flake8 bad_style.py"
   ]
  },
  {
   "cell_type": "markdown",
   "metadata": {},
   "source": [
    "- Another popular linter is pylint, which can be installed with\n",
    "```bash\n",
    "conda install -c anaconda pylint\n",
    "```\n",
    "- You can run it in the same way as flake8:"
   ]
  },
  {
   "cell_type": "code",
   "execution_count": 3,
   "metadata": {},
   "outputs": [
    {
     "name": "stdout",
     "output_type": "stream",
     "text": [
      "************* Module bad_style\n",
      "bad_style.py:13:1: W0511: FIXME: https://github.com/python/black/issues/26 (fixme)\n",
      "bad_style.py:7:0: C0301: Line too long (119/100) (line-too-long)\n",
      "bad_style.py:8:0: W0311: Bad indentation. Found 1 spaces, expected 4 (bad-indentation)\n",
      "bad_style.py:10:0: W0311: Bad indentation. Found 1 spaces, expected 4 (bad-indentation)\n",
      "bad_style.py:11:0: W0311: Bad indentation. Found 1 spaces, expected 4 (bad-indentation)\n",
      "bad_style.py:12:0: W0311: Bad indentation. Found 1 spaces, expected 4 (bad-indentation)\n",
      "bad_style.py:13:0: C0325: Unnecessary parens after 'if' keyword (superfluous-parens)\n",
      "bad_style.py:15:0: W0311: Bad indentation. Found 2 spaces, expected 4 (bad-indentation)\n",
      "bad_style.py:16:0: W0311: Bad indentation. Found 4 spaces, expected 8 (bad-indentation)\n",
      "bad_style.py:17:0: W0311: Bad indentation. Found 2 spaces, expected 4 (bad-indentation)\n",
      "bad_style.py:18:0: W0311: Bad indentation. Found 6 spaces, expected 8 (bad-indentation)\n",
      "bad_style.py:28:0: C0304: Final newline missing (missing-final-newline)\n",
      "bad_style.py:1:0: C0114: Missing module docstring (missing-module-docstring)\n",
      "bad_style.py:5:0: C0103: Constant name \"condition\" doesn't conform to UPPER_CASE naming style (invalid-name)\n",
      "bad_style.py:8:1: C0103: Constant name \"z\" doesn't conform to UPPER_CASE naming style (invalid-name)\n",
      "bad_style.py:10:1: C0103: Constant name \"world\" doesn't conform to UPPER_CASE naming style (invalid-name)\n",
      "bad_style.py:11:1: C0103: Constant name \"a\" doesn't conform to UPPER_CASE naming style (invalid-name)\n",
      "bad_style.py:13:16: C0321: More than one statement on a single line (multiple-statements)\n",
      "bad_style.py:13:0: W1404: Implicit string concatenation found in assignment (implicit-str-concat)\n",
      "bad_style.py:13:16: C0103: Constant name \"y\" doesn't conform to UPPER_CASE naming style (invalid-name)\n",
      "bad_style.py:14:0: C0115: Missing class docstring (missing-class-docstring)\n",
      "bad_style.py:14:0: R0205: Class 'Foo' inherits from object, can be safely removed from bases in python3 (useless-object-inheritance)\n",
      "bad_style.py:15:2: C0103: Method name \"f\" doesn't conform to snake_case naming style (invalid-name)\n",
      "bad_style.py:15:2: C0116: Missing function or method docstring (missing-function-docstring)\n",
      "bad_style.py:15:2: R0201: Method could be a function (no-self-use)\n",
      "bad_style.py:17:14: W0621: Redefining name 'x' from outer scope (line 1) (redefined-outer-name)\n",
      "bad_style.py:17:16: W0621: Redefining name 'y' from outer scope (line 13) (redefined-outer-name)\n",
      "bad_style.py:17:2: C0103: Method name \"g\" doesn't conform to snake_case naming style (invalid-name)\n",
      "bad_style.py:17:2: C0103: Argument name \"x\" doesn't conform to snake_case naming style (invalid-name)\n",
      "bad_style.py:17:2: C0103: Argument name \"y\" doesn't conform to snake_case naming style (invalid-name)\n",
      "bad_style.py:17:2: C0116: Missing function or method docstring (missing-function-docstring)\n",
      "bad_style.py:17:14: W0613: Unused argument 'x' (unused-argument)\n",
      "bad_style.py:17:2: R0201: Method could be a function (no-self-use)\n",
      "\n",
      "--------------------------------------------------------------------\n",
      "Your code has been rated at -9.41/10 (previous run: -9.41/10, +0.00)\n",
      "\n",
      "\u001b[0m"
     ]
    }
   ],
   "source": [
    "!pylint bad_style.py"
   ]
  },
  {
   "cell_type": "markdown",
   "metadata": {
    "tags": []
   },
   "source": [
    "### Formatters\n",
    "\n",
    "- **Formatting**: restructures how code appears by applying specific rules for line spacing, indents, line length, etc.\n",
    "- Common linters: **autopep8**, **black**, **yapf**, etc.\n",
    "- For example, you can install [**black**](https://black.readthedocs.io/en/stable/?badge=stable) with"
   ]
  },
  {
   "cell_type": "code",
   "execution_count": null,
   "metadata": {},
   "outputs": [],
   "source": [
    "# !conda install -c conda-forge -y black  # uncomment to install"
   ]
  },
  {
   "cell_type": "markdown",
   "metadata": {},
   "source": [
    "- `black` can also be used from the command line to format your files:\n",
    "\n",
    "```bash\n",
    "black <PATH_TO_FILE> --check\n",
    "```\n",
    "\n",
    "- The `--check` argument just checks if your code conforms to black style but doesn't reformat it in place, if you want your file reformatted, remove the argument."
   ]
  },
  {
   "cell_type": "code",
   "execution_count": null,
   "metadata": {},
   "outputs": [
    {
     "name": "stdout",
     "output_type": "stream",
     "text": [
      "\u001b[1mwould reformat bad_style.py\u001b[0m\n",
      "\u001b[1mOh no! 💥 💔 💥\u001b[0m\n",
      "\u001b[1m1 file would be reformatted\u001b[0m.\u001b[0m\n"
     ]
    }
   ],
   "source": [
    "!black bad_style.py --check"
   ]
  },
  {
   "cell_type": "markdown",
   "metadata": {},
   "source": [
    "- You can instruct your IDE to use `black` to format your code automatically too (I'll show this in VSCode a little later)\n",
    "- There's also a great `black` [extension for JupyterLab](https://jupyterlab-code-formatter.readthedocs.io/en/latest/index.html) which I'll use to demonstrate `black` usage below:"
   ]
  },
  {
   "cell_type": "code",
   "execution_count": null,
   "metadata": {},
   "outputs": [],
   "source": [
    "# !conda install -c conda-forge jupyterlab_code_formatter -y  # uncomment to install"
   ]
  },
  {
   "cell_type": "markdown",
   "metadata": {},
   "source": [
    "- BEFORE FORMATTING:"
   ]
  },
  {
   "cell_type": "code",
   "execution_count": null,
   "metadata": {},
   "outputs": [],
   "source": [
    "x = {  'a':37,'b':42,\n",
    "'c':927}\n",
    "very_long_variable_name = {'field': 1,\n",
    "                        'is_debug': True}\n",
    "condition=True\n",
    "\n",
    "if very_long_variable_name is not None and very_long_variable_name[\"field\"] > 0 or very_long_variable_name['is_debug']:\n",
    " z = 'hello '+'world'\n",
    "else:\n",
    " world = 'world'\n",
    " a = 'hello {}'.format(world)\n",
    " f = rf'hello {world}'\n",
    "if (condition): y = 'hello ''world'#FIXME: https://github.com/python/black/issues/26\n",
    "class Foo  (     object  ):\n",
    "  def f    (self   ):\n",
    "    return       37*-2\n",
    "  def g(self, x,y=42):\n",
    "      return y\n",
    "# fmt: off\n",
    "custom_formatting = [\n",
    "    0,  1,  2,\n",
    "    3,  4,  5\n",
    "]\n",
    "# fmt: on\n",
    "regular_formatting = [\n",
    "    0,  1,  2,\n",
    "    3,  4,  5\n",
    "]"
   ]
  },
  {
   "cell_type": "markdown",
   "metadata": {},
   "source": [
    "- AFTER FORMATTING (if you have the extension installed in JupyterLab: `Edit` -> `Apply Black Formatter`)\n",
    "- Note how you can toggle formatting on or off in your code using the `# fmt: off`/`# fmt: on` tags"
   ]
  },
  {
   "cell_type": "code",
   "execution_count": null,
   "metadata": {},
   "outputs": [],
   "source": [
    "x = {\"a\": 37, \"b\": 42, \"c\": 927}\n",
    "very_long_variable_name = {\"field\": 1, \"is_debug\": True}\n",
    "condition = True\n",
    "\n",
    "if (\n",
    "    very_long_variable_name is not None\n",
    "    and very_long_variable_name[\"field\"] > 0\n",
    "    or very_long_variable_name[\"is_debug\"]\n",
    "):\n",
    "    z = \"hello \" + \"world\"\n",
    "else:\n",
    "    world = \"world\"\n",
    "    a = \"hello {}\".format(world)\n",
    "    f = rf\"hello {world}\"\n",
    "if condition:\n",
    "    y = \"hello \" \"world\"  # FIXME: https://github.com/python/black/issues/26\n",
    "\n",
    "\n",
    "class Foo(object):\n",
    "    def f(self):\n",
    "        return 37 * -2\n",
    "\n",
    "    def g(self, x, y=42):\n",
    "        return y\n",
    "\n",
    "\n",
    "# fmt: off\n",
    "custom_formatting = [\n",
    "    0,  1,  2,\n",
    "    3,  4,  5\n",
    "]\n",
    "# fmt: on\n",
    "regular_formatting = [0, 1, 2, 3, 4, 5]"
   ]
  },
  {
   "cell_type": "markdown",
   "metadata": {},
   "source": [
    "### Guidelines that cannot be checked automatically\n",
    "\n",
    "- Variable names should use underscores (PEP 8), but also need to make sense.\n",
    "  - e.g. `spin_times` is a reasonable variable name\n",
    "  - `my_list_of_thingies` adheres to PEP 8 but is NOT a reasonable variable name\n",
    "  - same for `lst`---fine for explaining a concept, but not as part of a script that will be reused\n",
    "  \n",
    "- DRY (we talked about this last week)\n",
    "- Magic numbers\n",
    "- Comments"
   ]
  },
  {
   "cell_type": "markdown",
   "metadata": {},
   "source": [
    "### Magic numbers"
   ]
  },
  {
   "cell_type": "markdown",
   "metadata": {},
   "source": [
    "- \"[Magic numbers](https://en.wikipedia.org/wiki/Magic_number_(programming))\" refer to the use of numbers directly wihtin source code that probably *should* be replaced with meaningfully, named constants"
   ]
  },
  {
   "cell_type": "code",
   "execution_count": null,
   "metadata": {},
   "outputs": [],
   "source": [
    "# Here \"4\" is a \"magic number\"\n",
    "\n",
    "def num_labs(num_weeks):\n",
    "    \"\"\"Compute the number of labs and MDS student attends per week.\"\"\"\n",
    "    return num_weeks * 4"
   ]
  },
  {
   "cell_type": "markdown",
   "metadata": {},
   "source": [
    "- In this function, the `num_weeks` you pass in will always be multipled by 4, you have no control\n",
    "- And if you did want to change how the function works, you'd have to go into the source code and change the number 4"
   ]
  },
  {
   "cell_type": "code",
   "execution_count": null,
   "metadata": {},
   "outputs": [],
   "source": [
    "# Better\n",
    "def num_labs(num_weeks, labs_per_week=4):\n",
    "    \"\"\"Compute the number of labs and MDS student attends per week.\"\"\"\n",
    "    return num_weeks * labs_per_week"
   ]
  },
  {
   "cell_type": "code",
   "execution_count": null,
   "metadata": {},
   "outputs": [],
   "source": [
    "# Also fine but I don't do this as much\n",
    "LABS_PER_WEEK = 4\n",
    "\n",
    "def num_labs(num_weeks):\n",
    "    \"\"\"Compute the number of labs and MDS student attends per week.\"\"\"\n",
    "    return num_weeks * LABS_PER_WEEK"
   ]
  },
  {
   "cell_type": "markdown",
   "metadata": {},
   "source": [
    "- In the above, `LABS_PER_WEEK` is being set as a \"global constant\"\n",
    "- So, why avoid magic numbers?\n",
    "\n",
    "1. They make the code hard to read. Once you give the number a name, the code is much clearer.\n",
    "2. You may need to use them in multiple places, in which case you'd be violating DRY."
   ]
  },
  {
   "cell_type": "markdown",
   "metadata": {},
   "source": [
    "- The worst situation:"
   ]
  },
  {
   "cell_type": "code",
   "execution_count": null,
   "metadata": {},
   "outputs": [],
   "source": [
    "def num_labs(num_weeks):\n",
    "    \"\"\"Compute the number of labs and MDS student attends per week.\"\"\"\n",
    "    return num_weeks * 4\n",
    "\n",
    "def num_wheels(num_cars):\n",
    "    \"\"\"Compute the number of wheels in a collection of num_cars cars.\"\"\"\n",
    "    return num_cars * 4"
   ]
  },
  {
   "cell_type": "markdown",
   "metadata": {},
   "source": [
    "- And then one day MDS students take 3 labs per week so you, or someone else, goes and changes all the 4's to 3's:"
   ]
  },
  {
   "cell_type": "code",
   "execution_count": null,
   "metadata": {},
   "outputs": [],
   "source": [
    "def num_labs(num_weeks):\n",
    "    \"\"\"Compute the number of labs and MDS student attends per week.\"\"\"\n",
    "    return num_weeks * 3\n",
    "\n",
    "def num_wheels(num_cars):\n",
    "    \"\"\"Compute the number of wheels in a collection of num_cars cars.\"\"\"\n",
    "    return num_cars * 3"
   ]
  },
  {
   "cell_type": "markdown",
   "metadata": {},
   "source": [
    "- That's bad..."
   ]
  },
  {
   "cell_type": "markdown",
   "metadata": {},
   "source": [
    "### Comments\n",
    "\n",
    "- Comments are important for understanding your code.\n",
    "- While docstrings cover what a function _does_, your comments will help document _how_ your code achieves its goal.\n",
    "- **Block Comments**: each line of a block comment should start with a `#` followed by a single space and should be indented to the same level as the code it precedes.\n",
    "- Generally, comments should not be unnecessarily verbose or just state the obvious, as this can be distracting and can actually make your code more difficult to read!"
   ]
  },
  {
   "cell_type": "markdown",
   "metadata": {},
   "source": [
    "- Here is an example of a reasonable comment:"
   ]
  },
  {
   "cell_type": "code",
   "execution_count": null,
   "metadata": {},
   "outputs": [],
   "source": [
    "def random_walker(T):\n",
    "    x = 0\n",
    "    y = 0\n",
    "\n",
    "    for i in range(T):\n",
    "        \n",
    "        # Generate a random number between 0 and 1.\n",
    "        # Then, go right, left, up or down if the number\n",
    "        # is in the interval [0,0.25), [0.25,0.5),\n",
    "        # [0.5,0.75) or [0.75,1) respectively.\n",
    "        \n",
    "        r = random()\n",
    "        if r < 0.25:\n",
    "            x += 1      # Go right\n",
    "        elif r < 0.5:\n",
    "            x -= 1      # Go left\n",
    "        elif r < 0.75:\n",
    "            y += 1      # Go up\n",
    "        else:\n",
    "            y -= 1      # Go down\n",
    "\n",
    "        print((x, y))\n",
    "\n",
    "    return x**2 + y**2"
   ]
  },
  {
   "cell_type": "markdown",
   "metadata": {},
   "source": [
    "- Here are some **BAD EXAMPLES** of comments, because they are unnecessary or poorly formatted:"
   ]
  },
  {
   "cell_type": "code",
   "execution_count": null,
   "metadata": {},
   "outputs": [],
   "source": [
    "def random_walker(T):\n",
    "    # intalize coords\n",
    "    x = 0\n",
    "    y = 0\n",
    "\n",
    "    for i in range(T):# loop T times\n",
    "        r = random()\n",
    "        if r < 0.25:\n",
    "            x += 1  # go right\n",
    "        elif r < 0.5:\n",
    "            x -= 1  # go left\n",
    "        elif r < 0.75:\n",
    "            y += 1       # go up\n",
    "        else:\n",
    "            y -= 1\n",
    "\n",
    "        # Print the location\n",
    "        print((x, y))\n",
    "\n",
    "    # In Python, the ** operator means exponentiation.\n",
    "    return x ** 2 + y ** 2"
   ]
  },
  {
   "cell_type": "markdown",
   "metadata": {},
   "source": [
    "## Python scripts"
   ]
  },
  {
   "cell_type": "markdown",
   "metadata": {},
   "source": [
    "- Jupyter is a fantastic data science tool which allows you to code and create visualizations alongside text and images to create narratives\n",
    "- However, as your project grows, eventually you're going to need to create python scripts, `.py` files\n",
    "- `.py` files are also called \"modules\" in Python and may contain functions, classes, variables, and/or runnable code\n",
    "- I typically start my projects in Jupyter, and then begin to offload my functions, classes, scripts, etc to `.py` files as I formalize, structure and streamline my code"
   ]
  },
  {
   "cell_type": "markdown",
   "metadata": {},
   "source": [
    "### IDEs\n",
    "\n",
    "- You don't need any special software to write Python modules, you can write your code using any text editor and just save your file with a `.py` extension.\n",
    "- But software exists to make your life much easier!\n",
    "- IDE stands for \"integrated development environment\" and refers to software that provides comprehensive functionality for code development (e.g., compiling, debugging, formatting, testing, linting, etc). \n",
    "- In my experience the most popular out-of-the-box Python IDEs are [PyCharm](https://www.jetbrains.com/pycharm/) and [Spyder](https://www.spyder-ide.org/)\n",
    "- There are also many editors available that can be customized with extensions to act as Python IDEs, e.g., [VS Code](https://code.visualstudio.com/), [Atom](https://atom.io/), [Sublime Text](https://www.sublimetext.com/)\n",
    "- The benefit of these customizable editors is that they are light-weight and you can choose only the extensions you really need (as opposed to downloading a big, full-blown IDE like PyCharm).\n",
    "- The one we'll be using in MDS is [VS Code](https://code.visualstudio.com/), which you should already have set up with necessary extensions per the [MDS installation guide](https://ubc-mds.github.io/resources_pages/installation_instructions/)."
   ]
  },
  {
   "cell_type": "markdown",
   "metadata": {},
   "source": [
    "## Importing"
   ]
  },
  {
   "cell_type": "markdown",
   "metadata": {},
   "source": [
    "- Python can access code in another module by the process of importing it\n",
    "- This is done using the `import` statement, which you've probably seen a few times already\n",
    "- Importing will be discussed more in detail in DSCI 524 and you can read all about it in the [Python documentation](https://docs.python.org/3/reference/import.html) but for now, it's easiest to see it in action"
   ]
  },
  {
   "cell_type": "markdown",
   "metadata": {},
   "source": [
    "### Ways of importing things\n",
    "\n",
    "- Let's `import` the code we wrote previously in VS Code so that we can use it here\n",
    "- We can import our `.py` file (our module) simply by:"
   ]
  },
  {
   "cell_type": "code",
   "execution_count": 5,
   "metadata": {},
   "outputs": [],
   "source": [
    "import wallet"
   ]
  },
  {
   "cell_type": "markdown",
   "metadata": {},
   "source": [
    "- We can take a look at all the useable parts of that module by typing `dir(wallet)`:"
   ]
  },
  {
   "cell_type": "code",
   "execution_count": 6,
   "metadata": {},
   "outputs": [
    {
     "data": {
      "text/plain": [
       "['InsufficientCashError',\n",
       " 'Wallet',\n",
       " '__builtins__',\n",
       " '__cached__',\n",
       " '__doc__',\n",
       " '__file__',\n",
       " '__loader__',\n",
       " '__name__',\n",
       " '__package__',\n",
       " '__spec__']"
      ]
     },
     "execution_count": 6,
     "metadata": {},
     "output_type": "execute_result"
    }
   ],
   "source": [
    "dir(wallet)"
   ]
  },
  {
   "cell_type": "markdown",
   "metadata": {},
   "source": [
    "- Or in Jupyter, you can just type `wallet.` and then press tab to see what the autocomplete gives you!"
   ]
  },
  {
   "cell_type": "markdown",
   "metadata": {},
   "source": [
    "- We can import a package using an alias with the `as` keyword:"
   ]
  },
  {
   "cell_type": "code",
   "execution_count": 7,
   "metadata": {},
   "outputs": [],
   "source": [
    "import wallet as w"
   ]
  },
  {
   "cell_type": "code",
   "execution_count": 8,
   "metadata": {},
   "outputs": [
    {
     "data": {
      "text/plain": [
       "<wallet.Wallet at 0x7feb6831e520>"
      ]
     },
     "execution_count": 8,
     "metadata": {},
     "output_type": "execute_result"
    }
   ],
   "source": [
    "w.Wallet(100)"
   ]
  },
  {
   "cell_type": "code",
   "execution_count": 9,
   "metadata": {},
   "outputs": [
    {
     "data": {
      "text/plain": [
       "wallet.InsufficientCashError()"
      ]
     },
     "execution_count": 9,
     "metadata": {},
     "output_type": "execute_result"
    }
   ],
   "source": [
    "w.InsufficientCashError()"
   ]
  },
  {
   "cell_type": "markdown",
   "metadata": {},
   "source": [
    "- And we can import just a specific function/class/variable from our module:"
   ]
  },
  {
   "cell_type": "code",
   "execution_count": 10,
   "metadata": {},
   "outputs": [],
   "source": [
    "from wallet import Wallet"
   ]
  },
  {
   "cell_type": "code",
   "execution_count": 11,
   "metadata": {},
   "outputs": [
    {
     "data": {
      "text/plain": [
       "<wallet.Wallet at 0x7feb6831e550>"
      ]
     },
     "execution_count": 11,
     "metadata": {},
     "output_type": "execute_result"
    }
   ],
   "source": [
    "Wallet(100)  # now I can refer to it without the module name prefix"
   ]
  },
  {
   "cell_type": "markdown",
   "metadata": {},
   "source": [
    "- You can even mix up all these methods:"
   ]
  },
  {
   "cell_type": "code",
   "execution_count": 12,
   "metadata": {},
   "outputs": [],
   "source": [
    "from wallet import Wallet as w"
   ]
  },
  {
   "cell_type": "code",
   "execution_count": 13,
   "metadata": {},
   "outputs": [
    {
     "data": {
      "text/plain": [
       "<wallet.Wallet at 0x7feb6831e280>"
      ]
     },
     "execution_count": 13,
     "metadata": {},
     "output_type": "execute_result"
    }
   ],
   "source": [
    "w(100)"
   ]
  },
  {
   "cell_type": "markdown",
   "metadata": {},
   "source": [
    "- It's also possible to import everything in a module, though this is generally NOT recommended:"
   ]
  },
  {
   "cell_type": "code",
   "execution_count": 14,
   "metadata": {},
   "outputs": [],
   "source": [
    "from wallet import *"
   ]
  },
  {
   "cell_type": "code",
   "execution_count": 15,
   "metadata": {},
   "outputs": [
    {
     "data": {
      "text/plain": [
       "<wallet.Wallet at 0x7feb6831e040>"
      ]
     },
     "execution_count": 15,
     "metadata": {},
     "output_type": "execute_result"
    }
   ],
   "source": [
    "Wallet(100)"
   ]
  },
  {
   "cell_type": "code",
   "execution_count": 16,
   "metadata": {},
   "outputs": [
    {
     "data": {
      "text/plain": [
       "wallet.InsufficientCashError()"
      ]
     },
     "execution_count": 16,
     "metadata": {},
     "output_type": "execute_result"
    }
   ],
   "source": [
    "InsufficientCashError()"
   ]
  },
  {
   "cell_type": "markdown",
   "metadata": {},
   "source": [
    "#### Importing functions from outside your working directory"
   ]
  },
  {
   "cell_type": "markdown",
   "metadata": {},
   "source": [
    "- I could do `import wallet` above because `wallet.py` is in my current working directory\n",
    "- But there are a few extra steps needed if it is in a different location\n",
    "- I've included a script called `hello.py` in the `data/` folder of this repository\n",
    "- All it has in it is:\n",
    "\n",
    "```python\n",
    "PLANET = \"Earth\"\n",
    "\n",
    "\n",
    "def hello_world():\n",
    "    print(f\"Hello {PLANET}!\")\n",
    "```\n",
    "\n",
    "- But unfortunately I can't do this:"
   ]
  },
  {
   "cell_type": "code",
   "execution_count": 17,
   "metadata": {
    "tags": [
     "raises-exception"
    ]
   },
   "outputs": [
    {
     "ename": "ModuleNotFoundError",
     "evalue": "No module named 'hello'",
     "output_type": "error",
     "traceback": [
      "\u001b[0;31m---------------------------------------------------------------------------\u001b[0m",
      "\u001b[0;31mModuleNotFoundError\u001b[0m                       Traceback (most recent call last)",
      "\u001b[0;32m<ipython-input-17-20bbd0c111a6>\u001b[0m in \u001b[0;36m<module>\u001b[0;34m\u001b[0m\n\u001b[0;32m----> 1\u001b[0;31m \u001b[0;32mfrom\u001b[0m \u001b[0mhello\u001b[0m \u001b[0;32mimport\u001b[0m \u001b[0mhello_world\u001b[0m\u001b[0;34m\u001b[0m\u001b[0;34m\u001b[0m\u001b[0m\n\u001b[0m",
      "\u001b[0;31mModuleNotFoundError\u001b[0m: No module named 'hello'"
     ]
    }
   ],
   "source": [
    "from hello import hello_world"
   ]
  },
  {
   "cell_type": "markdown",
   "metadata": {},
   "source": [
    "- What I need to do is add this directory location to the paths that Python searches through when looking to import something\n",
    "- I usually do this using the `sys` module:"
   ]
  },
  {
   "cell_type": "code",
   "execution_count": 18,
   "metadata": {},
   "outputs": [
    {
     "data": {
      "text/plain": [
       "['/Users/arman_awn/Documents/MDS/repos/DSCI_511_py-prog_instructors/lectures',\n",
       " '/Users/arman_awn/opt/miniconda3/lib/python39.zip',\n",
       " '/Users/arman_awn/opt/miniconda3/lib/python3.9',\n",
       " '/Users/arman_awn/opt/miniconda3/lib/python3.9/lib-dynload',\n",
       " '',\n",
       " '/Users/arman_awn/opt/miniconda3/lib/python3.9/site-packages',\n",
       " '/Users/arman_awn/Documents/MDS/repos/GitHubLMS/src/github3-py',\n",
       " '/Users/arman_awn/opt/miniconda3/lib/python3.9/site-packages/IPython/extensions',\n",
       " '/Users/arman_awn/.ipython',\n",
       " 'data/']"
      ]
     },
     "execution_count": 18,
     "metadata": {},
     "output_type": "execute_result"
    }
   ],
   "source": [
    "import sys\n",
    "sys.path.append('data/')\n",
    "sys.path  # display the current paths Python is looking through"
   ]
  },
  {
   "cell_type": "markdown",
   "metadata": {},
   "source": [
    "- See that `data/` is now a valid path \n",
    "- So now I can import from `hello.py`"
   ]
  },
  {
   "cell_type": "code",
   "execution_count": 19,
   "metadata": {},
   "outputs": [],
   "source": [
    "from hello import hello_world, PLANET"
   ]
  },
  {
   "cell_type": "code",
   "execution_count": 20,
   "metadata": {},
   "outputs": [
    {
     "data": {
      "text/plain": [
       "'Earth'"
      ]
     },
     "execution_count": 20,
     "metadata": {},
     "output_type": "execute_result"
    }
   ],
   "source": [
    "PLANET  # note that I can import variable defined in a .py file!"
   ]
  },
  {
   "cell_type": "code",
   "execution_count": 21,
   "metadata": {},
   "outputs": [
    {
     "name": "stdout",
     "output_type": "stream",
     "text": [
      "Hello Earth!\n"
     ]
    }
   ],
   "source": [
    "hello_world()"
   ]
  },
  {
   "cell_type": "markdown",
   "metadata": {},
   "source": [
    "### Packages"
   ]
  },
  {
   "cell_type": "markdown",
   "metadata": {},
   "source": [
    "- As your code gets more complex, grows in modules, and you wish to share it, you'll want to turn it into a Python package\n",
    "- Packages are logical collections of modules that can be easily imported\n",
    "- You'll learn about packages in DSCI 524 and will even create your own!\n",
    "- In the meantime, feel free to take a look at the [py-pkgs book](https://ubc-mds.github.io/py-pkgs/) written by former and present MDS faculty.\n",
    "- For now, we'll be using other people's packages popular data science packages, specifically, next lecture we'll look at `numpy`: \"the fundamental package for scientific computing with Python\""
   ]
  },
  {
   "cell_type": "markdown",
   "metadata": {},
   "source": [
    "#### Importing installed packages"
   ]
  },
  {
   "cell_type": "markdown",
   "metadata": {},
   "source": [
    "- In the next few lectures we'll be using the `numpy` and `pandas` packages which you installed in the [MDS installation guide](https://ubc-mds.github.io/resources_pages/install_ds_stack_mac/)\n",
    "- When you installed those, they were put in a location on your computer that Python already knows about, so we can simply import them at will"
   ]
  },
  {
   "cell_type": "code",
   "execution_count": 22,
   "metadata": {},
   "outputs": [],
   "source": [
    "import numpy as np"
   ]
  },
  {
   "cell_type": "code",
   "execution_count": 23,
   "metadata": {},
   "outputs": [
    {
     "data": {
      "text/plain": [
       "array([1, 2, 3])"
      ]
     },
     "execution_count": 23,
     "metadata": {},
     "output_type": "execute_result"
    }
   ],
   "source": [
    "np.array([1, 2, 3])"
   ]
  },
  {
   "cell_type": "code",
   "execution_count": 24,
   "metadata": {},
   "outputs": [
    {
     "data": {
      "text/plain": [
       "array([9, 3, 7])"
      ]
     },
     "execution_count": 24,
     "metadata": {},
     "output_type": "execute_result"
    }
   ],
   "source": [
    "np.random.randint(0, 10, 3)"
   ]
  },
  {
   "cell_type": "markdown",
   "metadata": {},
   "source": [
    "- There are plenty of packages that come with the [Python Standard Library](https://docs.python.org/3/library/) - these do not require installation with `conda` and you'll come across them throughout your data science journey, I'll show one example, `random`, below\n",
    "- But for more advanced stuff you'll to install and use packages like `numpy`, `pandas` and others\n",
    "- If you need some specific functionality, make sure you check if there's a package for it (there often is!)\n",
    "- For example, one functionality I often want is a progress bar when looping over a `for` loop:\n",
    "- This is available in the [tqdm package](https://github.com/tqdm/tqdm):"
   ]
  },
  {
   "cell_type": "code",
   "execution_count": 25,
   "metadata": {},
   "outputs": [
    {
     "name": "stderr",
     "output_type": "stream",
     "text": [
      "100%|██████████| 20/20 [00:02<00:00,  9.45it/s]\n"
     ]
    }
   ],
   "source": [
    "from tqdm import tqdm\n",
    "import time\n",
    "\n",
    "for i in tqdm(range(20)):\n",
    "    time.sleep(0.1)\n",
    "    i ** 2"
   ]
  },
  {
   "cell_type": "markdown",
   "metadata": {},
   "source": [
    "### Some annoying facts of life"
   ]
  },
  {
   "cell_type": "markdown",
   "metadata": {},
   "source": [
    "- Sometimes, the module and the function you want to import might have the same name:"
   ]
  },
  {
   "cell_type": "code",
   "execution_count": 26,
   "metadata": {},
   "outputs": [],
   "source": [
    "import random  # this module is in the standard library!"
   ]
  },
  {
   "cell_type": "code",
   "execution_count": 27,
   "metadata": {},
   "outputs": [
    {
     "data": {
      "text/plain": [
       "0.253043028518654"
      ]
     },
     "execution_count": 27,
     "metadata": {},
     "output_type": "execute_result"
    }
   ],
   "source": [
    "random.random()"
   ]
  },
  {
   "cell_type": "code",
   "execution_count": 28,
   "metadata": {},
   "outputs": [],
   "source": [
    "from random import random"
   ]
  },
  {
   "cell_type": "code",
   "execution_count": 29,
   "metadata": {},
   "outputs": [
    {
     "data": {
      "text/plain": [
       "0.8026848867404112"
      ]
     },
     "execution_count": 29,
     "metadata": {},
     "output_type": "execute_result"
    }
   ],
   "source": [
    "random()"
   ]
  },
  {
   "cell_type": "markdown",
   "metadata": {},
   "source": [
    "- Sometimes you may need to explicitly import submodules to use them\n",
    "- This is because some large packages don't import all contained modules automatically, they need to be imported directly:"
   ]
  },
  {
   "cell_type": "code",
   "execution_count": 30,
   "metadata": {},
   "outputs": [],
   "source": [
    "# !conda install -y scipy  # uncomment to install scipy"
   ]
  },
  {
   "cell_type": "code",
   "execution_count": 31,
   "metadata": {},
   "outputs": [],
   "source": [
    "import scipy"
   ]
  },
  {
   "cell_type": "code",
   "execution_count": 32,
   "metadata": {
    "tags": [
     "raises-exception"
    ]
   },
   "outputs": [
    {
     "ename": "AttributeError",
     "evalue": "module 'scipy' has no attribute 'stats'",
     "output_type": "error",
     "traceback": [
      "\u001b[0;31m---------------------------------------------------------------------------\u001b[0m",
      "\u001b[0;31mAttributeError\u001b[0m                            Traceback (most recent call last)",
      "\u001b[0;32m<ipython-input-32-d2e1a58f1dd7>\u001b[0m in \u001b[0;36m<module>\u001b[0;34m\u001b[0m\n\u001b[0;32m----> 1\u001b[0;31m \u001b[0mscipy\u001b[0m\u001b[0;34m.\u001b[0m\u001b[0mstats\u001b[0m\u001b[0;34m\u001b[0m\u001b[0;34m\u001b[0m\u001b[0m\n\u001b[0m",
      "\u001b[0;31mAttributeError\u001b[0m: module 'scipy' has no attribute 'stats'"
     ]
    }
   ],
   "source": [
    "scipy.stats"
   ]
  },
  {
   "cell_type": "code",
   "execution_count": 33,
   "metadata": {},
   "outputs": [],
   "source": [
    "import scipy.stats"
   ]
  },
  {
   "cell_type": "code",
   "execution_count": 34,
   "metadata": {},
   "outputs": [
    {
     "data": {
      "text/plain": [
       "<module 'scipy.stats' from '/Users/arman_awn/opt/miniconda3/lib/python3.9/site-packages/scipy/stats/__init__.py'>"
      ]
     },
     "execution_count": 34,
     "metadata": {},
     "output_type": "execute_result"
    }
   ],
   "source": [
    "scipy.stats"
   ]
  },
  {
   "cell_type": "markdown",
   "metadata": {},
   "source": [
    "- Finally, the import name and the install may not necessarily match (this is rare though)\n",
    "- scikit-learn (Python's main machine learning library) is a good example, it is installed with (you'll install this in DSCI 571):\n",
    "\n",
    "```\n",
    "conda install scikit-learn\n",
    "```\n",
    "- But is imported with `import sklearn` 🤷‍♂️"
   ]
  },
  {
   "cell_type": "markdown",
   "metadata": {},
   "source": [
    "## Intriguing behaviour in Python"
   ]
  },
  {
   "cell_type": "markdown",
   "metadata": {},
   "source": [
    "### References"
   ]
  },
  {
   "cell_type": "markdown",
   "metadata": {},
   "source": [
    "- What do you think the code below will print?"
   ]
  },
  {
   "cell_type": "code",
   "execution_count": 35,
   "metadata": {
    "collapsed": false,
    "jupyter": {
     "outputs_hidden": false
    }
   },
   "outputs": [
    {
     "data": {
      "text/plain": [
       "100"
      ]
     },
     "execution_count": 35,
     "metadata": {},
     "output_type": "execute_result"
    }
   ],
   "source": [
    "x = 100\n",
    "y = x\n",
    "x = 2\n",
    "y"
   ]
  },
  {
   "cell_type": "markdown",
   "metadata": {},
   "source": [
    "- And how about the next one?"
   ]
  },
  {
   "cell_type": "code",
   "execution_count": 36,
   "metadata": {},
   "outputs": [
    {
     "data": {
      "text/plain": [
       "[2]"
      ]
     },
     "execution_count": 36,
     "metadata": {},
     "output_type": "execute_result"
    }
   ],
   "source": [
    "x = [100]\n",
    "y = x\n",
    "x[0] = 2\n",
    "y"
   ]
  },
  {
   "cell_type": "markdown",
   "metadata": {},
   "source": [
    "- In Python, the list `x` is a **reference** to an object in the computer's memory. \n",
    "- When you set `y = x` these two variables now refer to the same object in the memory - the one that `x` referred to.\n",
    "- Setting `x[0] = 2` modifies the object in memory. So `x` and `y` are both modified. \n",
    "  - It makes no different if you set `x[0] = 2` or `y[0] = 2`, both modify the same place in the memory.\n",
    "- However, some basic built-in types `int`, `float`, `bool` etc are _exceptions_ to this logic:\n",
    "  - When you set `y = x` it actually copies the value `1`, so `x` and `y` are decoupled.\n",
    "  - Thus, the list example is actually the typical case, the integer example is the \"special\" case.\n",
    "- Analogy:\n",
    "  - I share a Dropbox folder (or git repo) with you, and you modify it -- I sent you _the location of the stuff_ (this is like the list case)\n",
    "  - I send you an email with a file attached, you download it and modify the file -- I sent you _the stuff itself_ (this is like the integer case)\n",
    "- [This article](https://realpython.com/pointers-in-python/#names-in-python) does a great job of explaining all this in detail if you'd like to know more\n",
    "- What do you think will happen here:"
   ]
  },
  {
   "cell_type": "code",
   "execution_count": 37,
   "metadata": {},
   "outputs": [
    {
     "data": {
      "text/plain": [
       "[100]"
      ]
     },
     "execution_count": 37,
     "metadata": {},
     "output_type": "execute_result"
    }
   ],
   "source": [
    "x = [100]\n",
    "y = x\n",
    "x = [2]  # before we had x[0] = 2\n",
    "y"
   ]
  },
  {
   "cell_type": "markdown",
   "metadata": {},
   "source": [
    "- Here we are not modifying the contents of `x`, we are setting `x` to refer to a new list `[2]`. In fact, we are re-creating `x`."
   ]
  },
  {
   "cell_type": "markdown",
   "metadata": {},
   "source": [
    "### Additional weirdness"
   ]
  },
  {
   "cell_type": "markdown",
   "metadata": {},
   "source": [
    "- We can use `id()` to return the unique id of an object in memory"
   ]
  },
  {
   "cell_type": "code",
   "execution_count": 38,
   "metadata": {},
   "outputs": [
    {
     "name": "stdout",
     "output_type": "stream",
     "text": [
      "x has the value: [ 6  7  8  9 10], id: 140649198052816\n",
      "y has the value: [1 2 3 4 5], id: 140649041174960\n"
     ]
    }
   ],
   "source": [
    "x = np.array([1, 2, 3, 4, 5])  # this is a numpy array which we'll see next lecture\n",
    "y = x\n",
    "x = x + 5\n",
    "\n",
    "print(f\"x has the value: {x}, id: {id(x)}\")\n",
    "print(f\"y has the value: {y}, id: {id(y)}\")"
   ]
  },
  {
   "cell_type": "code",
   "execution_count": 39,
   "metadata": {},
   "outputs": [
    {
     "name": "stdout",
     "output_type": "stream",
     "text": [
      "x has the value: [ 6  7  8  9 10], id: 140648099805104\n",
      "y has the value: [ 6  7  8  9 10], id: 140648099805104\n"
     ]
    }
   ],
   "source": [
    "x = np.array([1, 2, 3, 4, 5])\n",
    "y = x\n",
    "x += 5\n",
    "\n",
    "print(f\"x has the value: {x}, id: {id(x)}\")\n",
    "print(f\"y has the value: {y}, id: {id(y)}\")"
   ]
  },
  {
   "cell_type": "markdown",
   "metadata": {},
   "source": [
    "- So, it turns out `x += 5` is not identical `x = x + 5`.\n",
    "- `x += 5` modifies the contents of `x`.\n",
    "- `x = x + 5` first assigns `x + 5` to a new array of the same size, and then overwrites the name `x` with a reference to this new array."
   ]
  },
  {
   "cell_type": "markdown",
   "metadata": {},
   "source": [
    "- **But there's good news**: we don't need to memorize special rules for calling functions. \n",
    "- Copying happens with `int`, `float`, `bool`, (maybe some other ones I'm forgetting?),  the rest is \"by reference\"\n",
    "- Now you see why we care if objects are mutable or immutable... passing around a reference can be dangerous!\n",
    "- **General rule**: if you do `x = ...` then you're not modifying the original, but if you do `x.SOMETHING = y` or `x[SOMETHING] = y` or `x += y` then you probably are."
   ]
  },
  {
   "cell_type": "markdown",
   "metadata": {},
   "source": [
    "### `copy` and `deepcopy`"
   ]
  },
  {
   "cell_type": "markdown",
   "metadata": {},
   "source": [
    "- We can force the certain copying behaviour using the `.copy()` method of lists if we want to"
   ]
  },
  {
   "cell_type": "code",
   "execution_count": 40,
   "metadata": {
    "collapsed": false,
    "jupyter": {
     "outputs_hidden": false
    }
   },
   "outputs": [
    {
     "data": {
      "text/plain": [
       "[2]"
      ]
     },
     "execution_count": 40,
     "metadata": {},
     "output_type": "execute_result"
    }
   ],
   "source": [
    "x = [100]\n",
    "y = x\n",
    "x[0] = 2\n",
    "y"
   ]
  },
  {
   "cell_type": "code",
   "execution_count": 41,
   "metadata": {},
   "outputs": [
    {
     "data": {
      "text/plain": [
       "[100]"
      ]
     },
     "execution_count": 41,
     "metadata": {},
     "output_type": "execute_result"
    }
   ],
   "source": [
    "x = [100]\n",
    "y = x.copy()  # We \"copied\" x and saved that new object as y\n",
    "x[0] = 2\n",
    "y"
   ]
  },
  {
   "cell_type": "markdown",
   "metadata": {},
   "source": [
    "- Ok, so what do you think will happen here?"
   ]
  },
  {
   "cell_type": "code",
   "execution_count": 42,
   "metadata": {
    "collapsed": false,
    "jupyter": {
     "outputs_hidden": false
    }
   },
   "outputs": [
    {
     "name": "stdout",
     "output_type": "stream",
     "text": [
      "After .copy():\n",
      "[[1], [2, 99], [3, 'hi']]\n",
      "[[1], [2, 99], [3, 'hi']]\n"
     ]
    }
   ],
   "source": [
    "x = [[1], [2, 99], [3, \"hi\"]]  # a list of lists\n",
    "\n",
    "y = x.copy()\n",
    "print(\"After .copy():\")\n",
    "print(x)\n",
    "print(y)"
   ]
  },
  {
   "cell_type": "code",
   "execution_count": 43,
   "metadata": {
    "collapsed": false,
    "jupyter": {
     "outputs_hidden": false
    }
   },
   "outputs": [
    {
     "name": "stdout",
     "output_type": "stream",
     "text": [
      "\n",
      "After modifying x:\n",
      "[['pikachu'], [2, 99], [3, 'hi']]\n",
      "[['pikachu'], [2, 99], [3, 'hi']]\n"
     ]
    }
   ],
   "source": [
    "x[0][0] = \"pikachu\"\n",
    "print(\"\")\n",
    "print(\"After modifying x:\")\n",
    "print(x)\n",
    "print(y)"
   ]
  },
  {
   "cell_type": "markdown",
   "metadata": {},
   "source": [
    "- But wait.. we used `.copy()`, why are `x` and `y` both changed in the latter example?\n",
    "- `.copy()` makes the _containers_ different, i.e., only the outer list. \n",
    "- But the outer lists contain references to objects which were not copied!\n",
    "- This is what happens after `y = x.copy()`:\n",
    "\n",
    "![](img/copy.png)"
   ]
  },
  {
   "cell_type": "markdown",
   "metadata": {},
   "source": [
    "- We can use `is` to tell apart these scenarios (as opposed to `==`)\n",
    "- `is` tells us if two objects are referring to the same object in memory, while `==` tells us if their contents are the same"
   ]
  },
  {
   "cell_type": "code",
   "execution_count": 44,
   "metadata": {},
   "outputs": [
    {
     "data": {
      "text/plain": [
       "True"
      ]
     },
     "execution_count": 44,
     "metadata": {},
     "output_type": "execute_result"
    }
   ],
   "source": [
    "x == y # they are both lists containing the same lists"
   ]
  },
  {
   "cell_type": "code",
   "execution_count": 45,
   "metadata": {},
   "outputs": [
    {
     "data": {
      "text/plain": [
       "False"
      ]
     },
     "execution_count": 45,
     "metadata": {},
     "output_type": "execute_result"
    }
   ],
   "source": [
    "x is y # but they are not the *same* lists of lists"
   ]
  },
  {
   "cell_type": "markdown",
   "metadata": {},
   "source": [
    "- So, by that logic we should be able to append to `y` without affecting `x`"
   ]
  },
  {
   "cell_type": "code",
   "execution_count": 46,
   "metadata": {},
   "outputs": [
    {
     "name": "stdout",
     "output_type": "stream",
     "text": [
      "[['pikachu'], [2, 99], [3, 'hi']]\n",
      "[['pikachu'], [2, 99], [3, 'hi'], 5]\n"
     ]
    }
   ],
   "source": [
    "y.append(5)\n",
    "\n",
    "print(x)\n",
    "print(y)"
   ]
  },
  {
   "cell_type": "code",
   "execution_count": 47,
   "metadata": {},
   "outputs": [
    {
     "data": {
      "text/plain": [
       "False"
      ]
     },
     "execution_count": 47,
     "metadata": {},
     "output_type": "execute_result"
    }
   ],
   "source": [
    "x == y"
   ]
  },
  {
   "cell_type": "markdown",
   "metadata": {},
   "source": [
    "- That makes sense, as weird as it seems:\n",
    "\n",
    "![](img/copy-append.png)"
   ]
  },
  {
   "cell_type": "markdown",
   "metadata": {},
   "source": [
    "- In short, `copy` only copies **one level down**.\n",
    "- What if we want to copy everything? i.e., even the inner lists in our outer list...\n",
    "- Enter our friend `deepcopy` from the `copy` package (which is part of the standard library):"
   ]
  },
  {
   "cell_type": "code",
   "execution_count": 48,
   "metadata": {
    "collapsed": false,
    "jupyter": {
     "outputs_hidden": false
    }
   },
   "outputs": [
    {
     "name": "stdout",
     "output_type": "stream",
     "text": [
      "[['pikachu'], [2, 99], [3, 'hi']]\n",
      "[[1], [2, 99], [3, 'hi']]\n"
     ]
    }
   ],
   "source": [
    "import copy\n",
    "\n",
    "x = [[1], [2, 99], [3, \"hi\"]]\n",
    "\n",
    "y = copy.deepcopy(x)\n",
    "\n",
    "x[0][0] = \"pikachu\"\n",
    "print(x)\n",
    "print(y)"
   ]
  },
  {
   "cell_type": "markdown",
   "metadata": {},
   "source": [
    "![](img/deep-copy.png)"
   ]
  },
  {
   "cell_type": "markdown",
   "metadata": {},
   "source": [
    "- Find a whole compilation of more intriguing behaviour in Python [here](https://github.com/satwikkansal/wtfpython/blob/master/README.md)!"
   ]
  }
 ],
 "metadata": {
  "kernelspec": {
   "display_name": "Python 3.10.6 64-bit",
   "language": "python",
   "name": "python3"
  },
  "language_info": {
   "codemirror_mode": {
    "name": "ipython",
    "version": 3
   },
   "file_extension": ".py",
   "mimetype": "text/x-python",
   "name": "python",
   "nbconvert_exporter": "python",
   "pygments_lexer": "ipython3",
   "version": "3.10.6"
  },
  "toc": {
   "base_numbering": 1,
   "nav_menu": {},
   "number_sections": false,
   "sideBar": true,
   "skip_h1_title": true,
   "title_cell": "Lecture Outline",
   "title_sidebar": "Contents",
   "toc_cell": true,
   "toc_position": {},
   "toc_section_display": true,
   "toc_window_display": true
  },
  "vscode": {
   "interpreter": {
    "hash": "b0fa6594d8f4cbf19f97940f81e996739fb7646882a419484c72d19e05852a7e"
   }
  }
 },
 "nbformat": 4,
 "nbformat_minor": 4
}
