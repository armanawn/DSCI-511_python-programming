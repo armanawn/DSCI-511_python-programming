{
 "cells": [
  {
   "cell_type": "code",
   "execution_count": null,
   "metadata": {
    "deletable": false,
    "editable": false
   },
   "outputs": [],
   "source": [
    "# Initialize Otter\n",
    "import otter\n",
    "grader = otter.Notebook(\"lab1.ipynb\")"
   ]
  },
  {
   "cell_type": "markdown",
   "metadata": {},
   "source": [
    "<img src=\"img/dsci511_header.png\" width=\"600\">"
   ]
  },
  {
   "cell_type": "markdown",
   "metadata": {},
   "source": [
    "# Lab 1: Python basics, loops & functions"
   ]
  },
  {
   "cell_type": "code",
   "execution_count": null,
   "metadata": {},
   "outputs": [],
   "source": [
    "import numpy as np\n",
    "from random import random"
   ]
  },
  {
   "cell_type": "markdown",
   "metadata": {},
   "source": [
    "## Instructions\n",
    "rubric={mechanics:4}"
   ]
  },
  {
   "cell_type": "markdown",
   "metadata": {},
   "source": [
    "Follow the [general lab instructions](https://ubc-mds.github.io/resources_pages/general_lab_instructions/)."
   ]
  },
  {
   "cell_type": "markdown",
   "metadata": {},
   "source": [
    "## Exercise 1: Warming up"
   ]
  },
  {
   "cell_type": "markdown",
   "metadata": {},
   "source": [
    "### 1.1\n",
    "rubric={autograde:1}"
   ]
  },
  {
   "cell_type": "markdown",
   "metadata": {},
   "source": [
    "Given the list `numbers` below, use a `for` loop and `if/else` statement that squares the even numbers, and cubes the odd numbers in `numbers`."
   ]
  },
  {
   "cell_type": "code",
   "execution_count": null,
   "metadata": {
    "tags": []
   },
   "outputs": [],
   "source": [
    "numbers = [1, 4, 7, 10]\n",
    "\n",
    "\n",
    "def q1_1(input_list):\n",
    "    ..."
   ]
  },
  {
   "cell_type": "code",
   "execution_count": null,
   "metadata": {
    "deletable": false,
    "editable": false
   },
   "outputs": [],
   "source": [
    "grader.check(\"q1_1\")"
   ]
  },
  {
   "cell_type": "markdown",
   "metadata": {},
   "source": [
    "### 1.2\n",
    "rubric={autograde:1}"
   ]
  },
  {
   "cell_type": "markdown",
   "metadata": {},
   "source": [
    "Given this `sentence`: _\"Make this sentence more Pythonic!\"_, do the following:\n",
    "\n",
    "1. Make all letters lowercase; \n",
    "2. Replace spaces with underscores (`_`);\n",
    "3. Remove these punctuation marks: `!`, `?`, `,` (comma), `'` (apostrophe)\n",
    "\n",
    "`sentence` should look like this:\n",
    "\n",
    "```python\n",
    ">>> q1_2(sentence)\n",
    "'make_this_sentence_more_pythonic'\n",
    "```"
   ]
  },
  {
   "cell_type": "code",
   "execution_count": null,
   "metadata": {
    "tags": []
   },
   "outputs": [],
   "source": [
    "sentence = \"Make this sentence more Pythonic!\"\n",
    "\n",
    "\n",
    "def q1_2(s):\n",
    "    ..."
   ]
  },
  {
   "cell_type": "code",
   "execution_count": null,
   "metadata": {
    "deletable": false,
    "editable": false
   },
   "outputs": [],
   "source": [
    "grader.check(\"q1_2\")"
   ]
  },
  {
   "cell_type": "markdown",
   "metadata": {},
   "source": [
    "### 1.3\n",
    "rubric={autograde:1}"
   ]
  },
  {
   "cell_type": "markdown",
   "metadata": {},
   "source": [
    "Combine all the values (not the keys) of the dictionary `d` given below into a single list. Your final list should contain a string, a list, and a float respectively and look like this:\n",
    "\n",
    "```python\n",
    ">>> q1_3(d)\n",
    "['MDS 2021', [4, 2, 1], 3.141]\n",
    "```"
   ]
  },
  {
   "cell_type": "code",
   "execution_count": null,
   "metadata": {
    "tags": []
   },
   "outputs": [],
   "source": [
    "d = {\"a\": \"MDS 2021\",\n",
    "     \"b\": [4, 2, 1],\n",
    "     \"c\": 3.141}\n",
    "\n",
    "\n",
    "def q1_3(dictionary):\n",
    "    ..."
   ]
  },
  {
   "cell_type": "code",
   "execution_count": null,
   "metadata": {
    "deletable": false,
    "editable": false
   },
   "outputs": [],
   "source": [
    "grader.check(\"q1_3\")"
   ]
  },
  {
   "cell_type": "markdown",
   "metadata": {},
   "source": [
    "### 1.4\n",
    "rubric={autograde:1}"
   ]
  },
  {
   "cell_type": "markdown",
   "metadata": {},
   "source": [
    "Write a function that removes all duplicate items of a list, sorts the list in ascending order, and finally returns it. The output of your function should look like this:\n",
    "\n",
    "```python\n",
    ">>> q1_4(messy_list)\n",
    "[1, 2, 3, 4, 5, 6]\n",
    "```\n",
    "\n",
    "**Hint:** What is a Python datatype that helps to eliminate duplicates?"
   ]
  },
  {
   "cell_type": "code",
   "execution_count": null,
   "metadata": {
    "tags": []
   },
   "outputs": [],
   "source": [
    "messy_list = [1, 1, 1, 2, 3, 4, 5, 5, 5, 6]\n",
    "\n",
    "\n",
    "def q1_4(input_list):\n",
    "    ..."
   ]
  },
  {
   "cell_type": "code",
   "execution_count": null,
   "metadata": {
    "deletable": false,
    "editable": false
   },
   "outputs": [],
   "source": [
    "grader.check(\"q1_4\")"
   ]
  },
  {
   "cell_type": "markdown",
   "metadata": {},
   "source": [
    "## Exercise 2"
   ]
  },
  {
   "cell_type": "markdown",
   "metadata": {},
   "source": [
    "### 2.1\n",
    "rubric={autograde:2}"
   ]
  },
  {
   "cell_type": "markdown",
   "metadata": {},
   "source": [
    "Write a program that finds the minimum and maximum values stored inside a list of numerical values. An example list is given to you below.\n",
    "\n",
    "**Note:** Do not use Python built-in functions to find the minimum and maximum values."
   ]
  },
  {
   "cell_type": "code",
   "execution_count": null,
   "metadata": {
    "tags": []
   },
   "outputs": [],
   "source": [
    "numbers = [123, 4, 323, -0.3, 5, 15, -9, -100, 0, 5]\n",
    "\n",
    "\n",
    "def q2_1(lst):\n",
    "    ..."
   ]
  },
  {
   "cell_type": "code",
   "execution_count": null,
   "metadata": {
    "deletable": false,
    "editable": false
   },
   "outputs": [],
   "source": [
    "grader.check(\"q2_1\")"
   ]
  },
  {
   "cell_type": "markdown",
   "metadata": {},
   "source": [
    "### 2.2\n",
    "rubric={autograde:1}"
   ]
  },
  {
   "cell_type": "markdown",
   "metadata": {},
   "source": [
    "Write a program that inserts the values of a given list into another list at a particular index.\n",
    "\n",
    "Example:\n",
    "\n",
    "```python\n",
    "base_list = [123, 4, 323, -0.3, 5, 15, -9, -100, 0, 5]\n",
    "x = ['MDS', 'UBC']\n",
    "p = 6\n",
    "\n",
    "q2_3(base_list, x, p)\n",
    "```\n",
    "should give:\n",
    "```python\n",
    "[123, 4, 323, -0.3, 5, 15, 'MDS', 'UBC', -9, -100, 0, 5]\n",
    "```"
   ]
  },
  {
   "cell_type": "code",
   "execution_count": null,
   "metadata": {
    "tags": []
   },
   "outputs": [],
   "source": [
    "base_list = [123, 4, 323, -0.3, 5, 15, -9, -100, 0, 5]\n",
    "x = ['MDS', 'UBC']\n",
    "p = 6\n",
    "\n",
    "\n",
    "def q2_2(lst, insr, pos):\n",
    "    ..."
   ]
  },
  {
   "cell_type": "code",
   "execution_count": null,
   "metadata": {
    "deletable": false,
    "editable": false
   },
   "outputs": [],
   "source": [
    "grader.check(\"q2_2\")"
   ]
  },
  {
   "cell_type": "markdown",
   "metadata": {},
   "source": [
    "### 2.3 (OPTIONAL)\n",
    "rubric={autograde:1}"
   ]
  },
  {
   "cell_type": "markdown",
   "metadata": {},
   "source": [
    "Write a program that combines two already-sorted lists, such that the resulting combined list:\n",
    "- is also sorted, and\n",
    "- it contains every item in both initial lists (duplicates included).\n",
    "\n",
    "**Note:** You cannot use Python built-in functions such as `sorted()`.\n",
    "\n",
    "**Hint:** Compare items from both lists one by one, then copy the smaller one to a new output list. Once an item is copied to the output list, you don't need to check that item again."
   ]
  },
  {
   "cell_type": "code",
   "execution_count": null,
   "metadata": {
    "tags": []
   },
   "outputs": [],
   "source": [
    "list1 = [-1.5, 1, 5, 100]\n",
    "list2 = [-1, 3, 56, 100, 120, 122]\n",
    "\n",
    "\n",
    "def q2_3(lst1, lst2):\n",
    "    output = []\n",
    "    i = j = 0\n",
    "    \n",
    "    ..."
   ]
  },
  {
   "cell_type": "code",
   "execution_count": null,
   "metadata": {
    "deletable": false,
    "editable": false
   },
   "outputs": [],
   "source": [
    "grader.check(\"q2_3\")"
   ]
  },
  {
   "cell_type": "markdown",
   "metadata": {},
   "source": [
    "### 2.4\n",
    "rubric={autograde:1}"
   ]
  },
  {
   "cell_type": "markdown",
   "metadata": {},
   "source": [
    "The object `nested_list` below contains three lists as its elements. Write a nested loop to \"flatten\" `nested_list`, and store the result in a variable named `flat_list`.\n",
    "\n",
    "Note that:\n",
    "- By \"flatten\", we mean that all elements of the `nested_list` are extracted and placed in `flat_list`, without having nested lists anymore.\n",
    "- You can assume that the nesting depth is 1, i.e. all lists within `nested_list` are themselves flat.\n",
    "\n",
    "Example:\n",
    "```python\n",
    ">>> nested_list = [['Arman', 'MDS', 3.2], [78, 87], ['a', 'b']]\n",
    ">>> q2_4(nested_list)\n",
    "['Arman', 'MDS', 3.2, 78, 87, 'a', 'b']\n",
    "```"
   ]
  },
  {
   "cell_type": "code",
   "execution_count": null,
   "metadata": {
    "tags": []
   },
   "outputs": [],
   "source": [
    "nested_list = [[\"Alexi\", \"Mike\", \"Florencia\"],\n",
    "               [34, 32, 30],\n",
    "               [\"Strawberry\", \"Chocoloate\", \"Salted Caramel\"]]\n",
    "\n",
    "\n",
    "def q2_4(nested):\n",
    "    flat_list = []\n",
    "    ...\n",
    "    return flat_list"
   ]
  },
  {
   "cell_type": "code",
   "execution_count": null,
   "metadata": {
    "deletable": false,
    "editable": false
   },
   "outputs": [],
   "source": [
    "grader.check(\"q2_4\")"
   ]
  },
  {
   "cell_type": "markdown",
   "metadata": {},
   "source": [
    "## Exercise 3: Finding roots of functions\n",
    "rubric={autograde:2}"
   ]
  },
  {
   "cell_type": "markdown",
   "metadata": {},
   "source": [
    "The *bisection* method is a numerical technique to find the root of a function by successively halving the interval containing the root, until a desired accuracy is reached.\n",
    "\n",
    "The goal in this exercise is to write a Python function that implements the bisection method, given the mathematical function, an interval containing the root, and a desired accuracy.\n",
    "\n",
    "Consider a function $f(x)$ which is known to change sign over the interval $a \\leq x \\leq b$. Given that the function is continuous, $f(x_0) = 0$ for some $x_0$. $x_0$ is called the *root* of the function.\n",
    "\n",
    "Here are the steps involved in the bisection method:\n",
    "\n",
    "> - Set $x_r = a$ as initial guess\n",
    "> - While $\\vert f(x_r) \\vert \\geq \\epsilon$:\n",
    ">   - Set $x_r = (a + b) / 2$.\n",
    ">   - If $f(x_r) = 0$ return $x_r$,\n",
    ">     - Otherwise if $f(a) \\cdot f(x_r) \\lt 0$, set $b = x_r$,\n",
    ">     - Else set $a = x_r$.\n",
    ">   - Repeat.\n",
    "\n",
    "Note that $\\epsilon$ is an arbitrary small positive value close to 0. We can make $f(x)$ as close to zero as practically possible by choosing smaller values of $\\epsilon$.\n",
    "\n",
    "A quadratic function, i.e. $f(x) = x^2 - 4$ with known roots at $x_r = \\{-2, 2\\}$ is defined for you as an example. You can also test your program with any other mathematical function that you happen to know the location of its root(s)."
   ]
  },
  {
   "cell_type": "code",
   "execution_count": null,
   "metadata": {
    "tags": []
   },
   "outputs": [],
   "source": [
    "def func(x):\n",
    "    return x**2 - 4\n",
    "\n",
    "\n",
    "left, right = 0, 10\n",
    "eps = 1e-10\n",
    "\n",
    "\n",
    "def q3(f, a, b):\n",
    "    ..."
   ]
  },
  {
   "cell_type": "code",
   "execution_count": null,
   "metadata": {
    "deletable": false,
    "editable": false
   },
   "outputs": [],
   "source": [
    "grader.check(\"q3\")"
   ]
  },
  {
   "cell_type": "markdown",
   "metadata": {},
   "source": [
    "## Exercise 4: Working with strings"
   ]
  },
  {
   "cell_type": "markdown",
   "metadata": {},
   "source": [
    "### 4.1\n",
    "rubric={autograde:2}"
   ]
  },
  {
   "cell_type": "markdown",
   "metadata": {},
   "source": [
    "Write a function that returns (as a tuple) the total number of words, alphabet letters, and characters stored in a variable such as `text`.\n",
    "\n",
    "You can assume that a word is any sequence of alphabetic characters separated from others by a `\" \"`, i.e. a space character.\n",
    "\n",
    "**Hint:** Check out the `.isalpha()` method (see [docs](https://docs.python.org/3/library/stdtypes.html#string-methods)) for detecting alphabet letters."
   ]
  },
  {
   "cell_type": "code",
   "execution_count": null,
   "metadata": {
    "tags": []
   },
   "outputs": [],
   "source": [
    "# Excerpt from https://www.ibm.com/cloud/learn/data-science-introduction\n",
    "text = \"Data science is considered a discipline, while data scientists are the practitioners within that field. Data scientists are not necessarily directly responsible for all the processes involved in the data science lifecycle. For example, data pipelines are typically handled by data engineers, but the data scientist may make recommendations about what sort of data is useful or required. While data scientists can build machine learning models, scaling these efforts at a larger level requires more software engineering skills to optimize a program to run more quickly. As a result, it’s common for a data scientist to partner with machine learning engineers to scale machine learning models. Data scientist responsibilities can commonly overlap with a data analyst, particularly with exploratory data analysis and data visualization. However, a data scientist’s skillset is typically broader than the average data analyst. Comparatively speaking, data scientist leverage common programming languages, such as R and Python, to conduct more statistical inference and data visualization.\""
   ]
  },
  {
   "cell_type": "code",
   "execution_count": null,
   "metadata": {
    "tags": []
   },
   "outputs": [],
   "source": [
    "def q4_1(txt):\n",
    "    ..."
   ]
  },
  {
   "cell_type": "code",
   "execution_count": null,
   "metadata": {
    "deletable": false,
    "editable": false
   },
   "outputs": [],
   "source": [
    "grader.check(\"q4_1\")"
   ]
  },
  {
   "cell_type": "markdown",
   "metadata": {},
   "source": [
    "### 4.2: Word counting\n",
    "rubric={autograde:2}"
   ]
  },
  {
   "cell_type": "markdown",
   "metadata": {},
   "source": [
    "Write a program that counts the total number of occurences of each word in a given string variable, such as `text` as given below. The output of the `q4_2()` function (which contains your program) should be a dictionary that looks like this:\n",
    "\n",
    "```python\n",
    "{\n",
    "    'is': 12,\n",
    "    'the': 30,\n",
    "    'MDS': 3,\n",
    "    ...\n",
    "}\n",
    "```\n",
    "\n",
    "You can assume that each word is a sequence of characters separated from others by a `\" \"`, i.e. a space character\n",
    "\n",
    "**Note:** You can't use the `.count()` method. You need to do the counting yourself."
   ]
  },
  {
   "cell_type": "code",
   "execution_count": null,
   "metadata": {
    "tags": []
   },
   "outputs": [],
   "source": [
    "# Excerpt from https://www.ibm.com/cloud/learn/data-science-introduction\n",
    "text = \"Data science is considered a discipline, while data scientists are the practitioners within that field. Data scientists are not necessarily directly responsible for all the processes involved in the data science lifecycle. For example, data pipelines are typically handled by data engineers, but the data scientist may make recommendations about what sort of data is useful or required. While data scientists can build machine learning models, scaling these efforts at a larger level requires more software engineering skills to optimize a program to run more quickly. As a result, it’s common for a data scientist to partner with machine learning engineers to scale machine learning models. Data scientist responsibilities can commonly overlap with a data analyst, particularly with exploratory data analysis and data visualization. However, a data scientist’s skillset is typically broader than the average data analyst. Comparatively speaking, data scientist leverage common programming languages, such as R and Python, to conduct more statistical inference and data visualization.\""
   ]
  },
  {
   "cell_type": "code",
   "execution_count": null,
   "metadata": {
    "tags": []
   },
   "outputs": [],
   "source": [
    "def q4_2(txt):\n",
    "    ..."
   ]
  },
  {
   "cell_type": "code",
   "execution_count": null,
   "metadata": {
    "deletable": false,
    "editable": false
   },
   "outputs": [],
   "source": [
    "grader.check(\"q4_2\")"
   ]
  },
  {
   "cell_type": "markdown",
   "metadata": {},
   "source": [
    "### 4.3 (OPTIONAL): Ranking word counts\n",
    "rubric={autograde:1}"
   ]
  },
  {
   "cell_type": "markdown",
   "metadata": {},
   "source": [
    "Write a program that sorts the output of the `q4_2()` function from the previous question, and returns the top 10 most repeated words in a string variable such as `text`.\n",
    "\n",
    "The output of your `q4_3()` function should be a list of tuples like the following:\n",
    "\n",
    "```python\n",
    "[\n",
    "    ('the', 30),\n",
    "    ('is', 12),\n",
    "    ('MDS', 3),\n",
    "    ...\n",
    "]\n",
    "```\n",
    "\n",
    "**Hint:** Look into the `key=` parameter of the `sorted()` function."
   ]
  },
  {
   "cell_type": "code",
   "execution_count": null,
   "metadata": {
    "tags": []
   },
   "outputs": [],
   "source": [
    "def q4_3(txt):\n",
    "    ..."
   ]
  },
  {
   "cell_type": "markdown",
   "metadata": {},
   "source": [
    "### 4.4\n",
    "rubric={autograde:2}"
   ]
  },
  {
   "cell_type": "markdown",
   "metadata": {},
   "source": [
    "Writing readable and consistent docstrings are important for documenting your code, but also for helping other applications/software read and parse your documentation (for example, how Jupyter renders a docstring to html and displays it when you use `shift + tab`). Your task is to write a function called `parse_docstring(function)` that accepts another function as an argument, and returns a list of the passed function input arguments.\n",
    "\n",
    "As an example, recall the `make_palindrome()` function from Lecture 2:"
   ]
  },
  {
   "cell_type": "code",
   "execution_count": null,
   "metadata": {},
   "outputs": [],
   "source": [
    "def make_palindrome(string):\n",
    "    \"\"\"Turns the string into a palindrome by concatenating \n",
    "    it with a reversed version of itself.\n",
    "\n",
    "    Parameters\n",
    "    ----------\n",
    "    string : str\n",
    "        The string to turn into a palindrome.\n",
    "\n",
    "    Returns\n",
    "    -------\n",
    "    str\n",
    "        string concatenated with a reversed version of string\n",
    "\n",
    "    Examples\n",
    "    --------\n",
    "    >>> make_palindrome('arman')\n",
    "    'armannamra'\n",
    "    \"\"\"\n",
    "    return string + string[::-1]"
   ]
  },
  {
   "cell_type": "markdown",
   "metadata": {},
   "source": [
    "Your function should behave as follows:\n",
    "\n",
    "```python\n",
    "parse_docstring(make_palindrome)\n",
    "# gives:\n",
    "[\"string\"]\n",
    "```\n",
    "\n",
    "Here are some other examples:\n",
    "\n",
    "```python\n",
    "import numpy as np\n",
    "parse_docstring(np.arange)\n",
    "# gives:\n",
    "['start', 'stop', 'step', 'dtype', 'like']\n",
    "\n",
    "parse_docstring(np.array)\n",
    "# gives:\n",
    "['object', 'dtype', 'copy', 'order', 'subok', 'ndmin', 'like']\n",
    "```\n",
    "\n",
    "**Hint**: You can read a function's docstring as a string using `docstring = function.__doc__`. Then take a look at `docstring` and look for patterns you can use to extract input arguments using string methods (see [docs](https://docs.python.org/3/library/stdtypes.html#string-methods))."
   ]
  },
  {
   "cell_type": "code",
   "execution_count": null,
   "metadata": {
    "tags": []
   },
   "outputs": [],
   "source": [
    "def q4_4(function):\n",
    "    ..."
   ]
  },
  {
   "cell_type": "code",
   "execution_count": null,
   "metadata": {
    "deletable": false,
    "editable": false
   },
   "outputs": [],
   "source": [
    "grader.check(\"q4_4\")"
   ]
  },
  {
   "cell_type": "markdown",
   "metadata": {},
   "source": [
    "## Exercise 5 (OPTIONAL): Python Picasso"
   ]
  },
  {
   "cell_type": "markdown",
   "metadata": {},
   "source": [
    "### 5.1\n",
    "rubric={accuracy:1}"
   ]
  },
  {
   "cell_type": "markdown",
   "metadata": {},
   "source": [
    "You're an up-and-coming abstract artist that uses Python to print artwork to your computer screen. Your artwork mostly involves printing the characters `*`, `O`, and `-` in various patterns.\n",
    "\n",
    "Write a function `line_art(n)` that returns `n` (non white space) characters with the following conditions:\n",
    "\n",
    "- The first and last character are printed as `*`;\n",
    "- Every odd character is printed as `-`;\n",
    "- Every even character is printed as `O` (the letter);\n",
    "- Each character is separated by a space ` `.\n",
    "\n",
    "You can assume that `n > 3`.\n",
    "\n",
    "For example:\n",
    "\n",
    "```python\n",
    ">>> print(line_art(11))\n",
    "* O - O - O - O - O *\n",
    ">>> print(line_art(3))\n",
    "* O *\n",
    "```\n",
    "\n",
    "**Hint**: One way to do this in a succinct way is to use a list comprehension together with an `if/else` statement to generate the `O`s and `*`s, and use `\"\".join(some_list)` to insert spaces as needed."
   ]
  },
  {
   "cell_type": "markdown",
   "metadata": {},
   "source": [
    "<!-- BEGIN QUESTION -->\n",
    "\n"
   ]
  },
  {
   "cell_type": "code",
   "execution_count": null,
   "metadata": {
    "tags": []
   },
   "outputs": [],
   "source": [
    "def line_art(n):\n",
    "    ...\n",
    "\n",
    "\n",
    "print(line_art(11))\n",
    "print(line_art(3))\n",
    "print(line_art(6))"
   ]
  },
  {
   "cell_type": "code",
   "execution_count": null,
   "metadata": {
    "deletable": false,
    "editable": false
   },
   "outputs": [],
   "source": [
    "grader.check(\"q5_1\")"
   ]
  },
  {
   "cell_type": "markdown",
   "metadata": {},
   "source": [
    "<!-- END QUESTION -->\n",
    "\n",
    "### 5.2\n",
    "rubric={accuracy:1}"
   ]
  },
  {
   "cell_type": "markdown",
   "metadata": {},
   "source": [
    "You're Python \"line art\" was a total hit and your customers are now asking for square art. Write a function `square_art(n)` that returns a square of \"artwork\" to the screen of size `n` rows and `n` columns, with the following conditions:\n",
    "\n",
    "- The border of the artwork must be `*`;\n",
    "- If the row and column numbers (assuming Pythonic numbering starting from 0) are both even, print `-`, otherwise print `O`.\n",
    "\n",
    "**Hint:** You'll need the new line escape character (`\\n`) somewhere!\n",
    "\n",
    "Here are two examples:\n",
    "\n",
    "```python\n",
    ">>> print(square_art(5))\n",
    "* * * * * \n",
    "* O O O *\n",
    "* O - O *\n",
    "* O O O *\n",
    "* * * * * \n",
    "\n",
    ">>> print(square_art(15))\n",
    "* * * * * * * * * * * * * * * \n",
    "* O O O O O O O O O O O O O *\n",
    "* O - O - O - O - O - O - O *\n",
    "* O O O O O O O O O O O O O *\n",
    "* O - O - O - O - O - O - O *\n",
    "* O O O O O O O O O O O O O *\n",
    "* O - O - O - O - O - O - O *\n",
    "* O O O O O O O O O O O O O *\n",
    "* O - O - O - O - O - O - O *\n",
    "* O O O O O O O O O O O O O *\n",
    "* O - O - O - O - O - O - O *\n",
    "* O O O O O O O O O O O O O *\n",
    "* O - O - O - O - O - O - O *\n",
    "* O O O O O O O O O O O O O *\n",
    "* * * * * * * * * * * * * * * \n",
    "```"
   ]
  },
  {
   "cell_type": "markdown",
   "metadata": {},
   "source": [
    "<!-- BEGIN QUESTION -->\n",
    "\n"
   ]
  },
  {
   "cell_type": "code",
   "execution_count": null,
   "metadata": {
    "tags": []
   },
   "outputs": [],
   "source": [
    "def square_art(n):\n",
    "    ...\n",
    "\n",
    "\n",
    "print(square_art(5))\n",
    "print(square_art(15))"
   ]
  },
  {
   "cell_type": "markdown",
   "metadata": {},
   "source": [
    "<!-- END QUESTION -->\n",
    "\n",
    "## Exercise 6: Simulating a random Walk in 2D\n",
    "rubric={accuracy:1, quality:1}"
   ]
  },
  {
   "cell_type": "markdown",
   "metadata": {},
   "source": [
    "An MDS student falls asleep during one of the DSCI 511 lectures 🥱, and begins sleepwalking randomly on UBC's campus. The student repeatedly takes random steps (one at a time) either north, east, south, or west, each with probability $ 25\\% $. How far will the student be from the classroom after $ T $ steps? \n",
    "\n",
    "Write a function `random_walker(T)` that takes an integer argument `T` and simulates the motion of this random sleepwalker for $ T $ steps. After each step, print the location of the random walker, treating the front door as the origin $ (0, 0) $. The function should also return the Euclidean distance as shown below from the origin **rounded to 2 decimal places** (hint: use the `round()` function):\n",
    "\n",
    "$$ \\text{distance} = \\sqrt{x^2+y^2} $$\n",
    "\n",
    "An example run is shown in the following image: \n",
    "\n",
    "![](img/random-walk.png)\n",
    "\n",
    "For the random part, you can generate a random number between $ 0 $ and $ 1 $ using `random()` (which we loaded at the top with `from random import random`). Then, to make something happen with $ 25\\% $ probability, you can check if this number is less than $ 0.25 $—if yes, step a direction, if not, is it less than $ 0.50 $? if yes, step a different direction, if not, etc.\n",
    "\n",
    "Here is an example output for one run of the code called with `random_walker(10)`.\n",
    "\n",
    "```python\n",
    ">>> random_walker(10)\n",
    "(0, -1)\n",
    "(-1, -1)\n",
    "(-1, -2)\n",
    "(-1, -3)\n",
    "(-1, -4)\n",
    "(-1, -5)\n",
    "(0, -5)\n",
    "(0, -6)\n",
    "(-1, -6)\n",
    "(-1, -7)\n",
    "7.07\n",
    "```\n",
    "\n",
    "**Note:** Don't forget to write docstring for your function.\n",
    "\n",
    "Attribution: This exercise adapted with permission from COS 126, [Conditionals and Loops](http://www.cs.princeton.edu/courses/archive/fall10/cos126/assignments/loops.html)."
   ]
  },
  {
   "cell_type": "code",
   "execution_count": null,
   "metadata": {},
   "outputs": [],
   "source": [
    "# example of generating a random number\n",
    "random()"
   ]
  },
  {
   "cell_type": "markdown",
   "metadata": {},
   "source": [
    "<!-- BEGIN QUESTION -->\n",
    "\n"
   ]
  },
  {
   "cell_type": "code",
   "execution_count": null,
   "metadata": {
    "tags": []
   },
   "outputs": [],
   "source": [
    "def random_walker(T):\n",
    "    ..."
   ]
  },
  {
   "cell_type": "code",
   "execution_count": null,
   "metadata": {
    "tags": []
   },
   "outputs": [],
   "source": [
    "random_walker(10)"
   ]
  },
  {
   "cell_type": "code",
   "execution_count": null,
   "metadata": {
    "tags": []
   },
   "outputs": [],
   "source": [
    "assert random_walker(3) >= 1, 'An odd number of steps can never results in distance < 1.'"
   ]
  },
  {
   "cell_type": "code",
   "execution_count": null,
   "metadata": {
    "tags": []
   },
   "outputs": [],
   "source": [
    "assert random_walker(3) <= 3, 'Distance from origin should always be <= sum of all steps.'"
   ]
  },
  {
   "cell_type": "markdown",
   "metadata": {},
   "source": [
    "<!-- END QUESTION -->\n",
    "\n"
   ]
  }
 ],
 "metadata": {
  "celltoolbar": "Create Assignment",
  "kernelspec": {
   "display_name": "Python 3.10.6 ('dsci511')",
   "language": "python",
   "name": "python3"
  },
  "language_info": {
   "codemirror_mode": {
    "name": "ipython",
    "version": 3
   },
   "file_extension": ".py",
   "mimetype": "text/x-python",
   "name": "python",
   "nbconvert_exporter": "python",
   "pygments_lexer": "ipython3"
  },
  "otter": {
   "OK_FORMAT": true,
   "tests": {
    "q1_1": {
     "name": "q1_1",
     "points": 1,
     "suites": [
      {
       "cases": [
        {
         "code": ">>> # TEST\n>>> assert q1_1(numbers) == [1, 16, 343, 100]\n",
         "hidden": false,
         "locked": false
        },
        {
         "code": ">>> # TEST\n>>> assert q1_1([4]) == [16]\n",
         "hidden": false,
         "locked": false
        },
        {
         "code": ">>> # TEST\n>>> assert q1_1([27]) == [19683]\n",
         "hidden": false,
         "locked": false
        }
       ],
       "scored": true,
       "setup": "",
       "teardown": "",
       "type": "doctest"
      }
     ]
    },
    "q1_2": {
     "name": "q1_2",
     "points": 1,
     "suites": [
      {
       "cases": [
        {
         "code": ">>> # TEST\n>>> assert q1_2(\"Make this sentence more Pythonic!\") == 'make_this_sentence_more_pythonic'\n",
         "hidden": false,
         "locked": false
        }
       ],
       "scored": true,
       "setup": "",
       "teardown": "",
       "type": "doctest"
      }
     ]
    },
    "q1_3": {
     "name": "q1_3",
     "points": 1,
     "suites": [
      {
       "cases": [
        {
         "code": ">>> # TEST\n>>> assert q1_3(d) == ['MDS 2021', [4, 2, 1], 3.141]\n",
         "hidden": false,
         "locked": false
        }
       ],
       "scored": true,
       "setup": "",
       "teardown": "",
       "type": "doctest"
      }
     ]
    },
    "q1_4": {
     "name": "q1_4",
     "points": 1,
     "suites": [
      {
       "cases": [
        {
         "code": ">>> # TEST\n>>> assert q1_4(messy_list) == [1, 2, 3, 4, 5, 6]\n",
         "hidden": false,
         "locked": false
        }
       ],
       "scored": true,
       "setup": "",
       "teardown": "",
       "type": "doctest"
      }
     ]
    },
    "q2_1": {
     "name": "q2_1",
     "points": 2,
     "suites": [
      {
       "cases": [
        {
         "code": ">>> # TEST\n>>> assert q2_1(numbers) == (min(numbers), max(numbers))\n",
         "hidden": false,
         "locked": false
        }
       ],
       "scored": true,
       "setup": "",
       "teardown": "",
       "type": "doctest"
      }
     ]
    },
    "q2_2": {
     "name": "q2_2",
     "points": 1,
     "suites": [
      {
       "cases": [
        {
         "code": ">>> # TEST\n>>> assert q2_2(base_list, x, p) == [123, 4, 323, -0.3, 5, 15, 'MDS', 'UBC', -9, -100, 0, 5]\n",
         "hidden": false,
         "locked": false
        }
       ],
       "scored": true,
       "setup": "",
       "teardown": "",
       "type": "doctest"
      }
     ]
    },
    "q2_3": {
     "name": "q2_3",
     "points": 1,
     "suites": [
      {
       "cases": [
        {
         "code": ">>> # TEST\n>>> assert q2_3(list1, list2) == sorted(list1 + list2)\n",
         "hidden": false,
         "locked": false
        },
        {
         "code": ">>> # TEST\n>>> assert q2_3([-5, 10, 50, 55], [0, 12, 20.1]) == sorted([-5, 10, 50, 55] + [0, 12, 20.1])\n",
         "hidden": false,
         "locked": false
        }
       ],
       "scored": true,
       "setup": "",
       "teardown": "",
       "type": "doctest"
      }
     ]
    },
    "q2_4": {
     "name": "q2_4",
     "points": 1,
     "suites": [
      {
       "cases": [
        {
         "code": ">>> # TEST\n>>> assert q2_4(nested_list) == ['Alexi', 'Mike', 'Florencia',\n...                              34, 32, 30, 'Strawberry',\n...                              'Chocoloate', 'Salted Caramel']\n",
         "hidden": false,
         "locked": false
        },
        {
         "code": ">>> # TEST\n>>> assert q2_4([['Arman', 'MDS', 3.2], [78, 87], ['a', 'b']]) == ['Arman', 'MDS',\n...                                                                3.2, 78, 87,\n...                                                                'a', 'b']\n",
         "hidden": false,
         "locked": false
        }
       ],
       "scored": true,
       "setup": "",
       "teardown": "",
       "type": "doctest"
      }
     ]
    },
    "q3": {
     "name": "q3",
     "points": 2,
     "suites": [
      {
       "cases": [
        {
         "code": ">>> # TEST\n>>> assert func(q3(func, left, right)) < 1e-10\n",
         "hidden": false,
         "locked": false
        },
        {
         "code": ">>> # TEST\n>>> def xsin(x): return x * np.sin(x)\n>>> assert xsin(q3(xsin, left, right)) < 1e-10\n",
         "hidden": false,
         "locked": false
        }
       ],
       "scored": true,
       "setup": "",
       "teardown": "",
       "type": "doctest"
      }
     ]
    },
    "q4_1": {
     "name": "q4_1",
     "points": 2,
     "suites": [
      {
       "cases": [
        {
         "code": ">>> # TEST\n>>> assert q4_1(text) == (158, 907, 1084)\n",
         "hidden": false,
         "locked": false
        }
       ],
       "scored": true,
       "setup": "",
       "teardown": "",
       "type": "doctest"
      }
     ]
    },
    "q4_2": {
     "name": "q4_2",
     "points": 2,
     "suites": [
      {
       "cases": [
        {
         "code": ">>> # TEST\n>>> string = 'this, this, is. is this this. is, is.'\n>>> assert q4_2(string)['is'] == 4 and q4_2(string)['this'] == 4\n",
         "hidden": false,
         "locked": false
        }
       ],
       "scored": true,
       "setup": "",
       "teardown": "",
       "type": "doctest"
      }
     ]
    },
    "q4_3": {
     "name": "q4_3",
     "points": 1,
     "suites": [
      {
       "cases": [],
       "scored": true,
       "setup": "",
       "teardown": "",
       "type": "doctest"
      }
     ]
    },
    "q4_4": {
     "name": "q4_4",
     "points": 2,
     "suites": [
      {
       "cases": [
        {
         "code": ">>> # TEST\n>>> assert q4_4(make_palindrome) == ['string']\n",
         "hidden": false,
         "locked": false
        },
        {
         "code": ">>> # TEST\n>>> assert q4_4(np.arange) == ['start', 'stop', 'step', 'dtype', 'like']\n",
         "hidden": false,
         "locked": false
        },
        {
         "code": ">>> # TEST\n>>> assert q4_4(np.array) == ['object', 'dtype', 'copy', 'order', 'subok', 'ndmin', 'like']\n",
         "hidden": false,
         "locked": false
        },
        {
         "code": ">>> # TEST\n>>> assert q4_4(np.zeros) == ['shape', 'dtype', 'order', 'like']\n",
         "hidden": false,
         "locked": false
        }
       ],
       "scored": true,
       "setup": "",
       "teardown": "",
       "type": "doctest"
      }
     ]
    },
    "q5_1": {
     "name": "q5_1",
     "points": null,
     "suites": [
      {
       "cases": [
        {
         "code": ">>> assert line_art(11) == '* O - O - O - O - O *'\n>>> assert line_art(8) == '* O - O - O - *'\n>>> assert line_art(5) == '* O - O *'\n>>> assert line_art(3) == '* O *'\n",
         "hidden": false,
         "locked": false
        }
       ],
       "scored": true,
       "setup": "",
       "teardown": "",
       "type": "doctest"
      }
     ]
    }
   }
  },
  "toc": {
   "base_numbering": 1,
   "nav_menu": {},
   "number_sections": false,
   "sideBar": true,
   "skip_h1_title": true,
   "title_cell": "Table of Contents",
   "title_sidebar": "Contents",
   "toc_cell": true,
   "toc_position": {},
   "toc_section_display": true,
   "toc_window_display": true
  },
  "vscode": {
   "interpreter": {
    "hash": "e48f8b1687318edbd5a2a918b592db3baee1b5f69ffdc30179f0c7d8337e101b"
   }
  }
 },
 "nbformat": 4,
 "nbformat_minor": 4
}
