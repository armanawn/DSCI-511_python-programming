{
 "cells": [
  {
   "cell_type": "code",
   "execution_count": null,
   "metadata": {
    "deletable": false,
    "editable": false
   },
   "outputs": [],
   "source": [
    "# Initialize Otter\n",
    "import otter\n",
    "grader = otter.Notebook(\"lab2.ipynb\")"
   ]
  },
  {
   "cell_type": "markdown",
   "metadata": {},
   "source": [
    "<img src=\"img/dsci511_header.png\" width=\"600\">"
   ]
  },
  {
   "cell_type": "markdown",
   "metadata": {},
   "source": [
    "# Lab 2: Object-oriented programming"
   ]
  },
  {
   "cell_type": "markdown",
   "metadata": {},
   "source": [
    "## Instructions\n",
    "rubric={mechanics:4}"
   ]
  },
  {
   "cell_type": "markdown",
   "metadata": {},
   "source": [
    "Follow the [general lab instructions](https://ubc-mds.github.io/resources_pages/general_lab_instructions/)."
   ]
  },
  {
   "cell_type": "code",
   "execution_count": null,
   "metadata": {},
   "outputs": [],
   "source": [
    "import numpy as np"
   ]
  },
  {
   "cell_type": "markdown",
   "metadata": {},
   "source": [
    "## Exercise 1\n",
    "\n",
    "- For all questions in this exercies, write at least 1 meaningful test for your methods (except for `__init__()` and `__str__()`).\n",
    "\n",
    "- For each class and each method, write a short one-line docstring to briefly explain what is done by a class or method. No special formatting, parameter listing, examples, etc. needed."
   ]
  },
  {
   "cell_type": "markdown",
   "metadata": {},
   "source": [
    "### 1.1\n",
    "\n",
    "rubric={autograde:1,accuracy:1,quality:1}"
   ]
  },
  {
   "cell_type": "markdown",
   "metadata": {},
   "source": [
    "Create a class that represents a grocery store with the following methods and attributes:\n",
    "\n",
    "**Class**:\n",
    "\n",
    "`Store(name: str, city: str)`\n",
    "\n",
    "Defines attributes `name: str` and `city: str`. Also defines at attribute `stock: dict` which is itself a dictionary and stores information about each stock item also as a dictionary. For example, `stock = {\"Bread\": {\"count\": 500, \"price\": 3.99}}`.\n",
    "\n",
    "**Methods**:\n",
    "\n",
    "- `add_to_stock(name: str, count: int, price: float) -> None`\n",
    "\n",
    "Adds stock item to `stock: dict`. If stock item already exists, it should add `count` to the existing count and update price to `price`. Otherwise, a new stock item `{name: {\"count\": count, \"price\": price}}` should be added to `stock: dict`.\n"
   ]
  },
  {
   "cell_type": "code",
   "execution_count": null,
   "metadata": {
    "tags": []
   },
   "outputs": [],
   "source": [
    "..."
   ]
  },
  {
   "cell_type": "markdown",
   "metadata": {},
   "source": [
    "Write your tests here:"
   ]
  },
  {
   "cell_type": "code",
   "execution_count": null,
   "metadata": {},
   "outputs": [],
   "source": []
  },
  {
   "cell_type": "code",
   "execution_count": null,
   "metadata": {
    "deletable": false,
    "editable": false
   },
   "outputs": [],
   "source": [
    "grader.check(\"q1_1\")"
   ]
  },
  {
   "cell_type": "markdown",
   "metadata": {},
   "source": [
    "### 1.2\n",
    "\n",
    "rubric={autograde:1,accuracy:1,quality:1}"
   ]
  },
  {
   "cell_type": "markdown",
   "metadata": {},
   "source": [
    "Rewrite your class to also implement the following method:\n",
    "\n",
    "- `remove_from_stock(name: str, count: int) -> None`\n",
    "\n",
    "Removes stock item from `stock: dict`. If stock item does not exist, a `KeyError` should be raised with a message of your choice (e.g. \"Item not in stock!\"). If existing item count is smaller than `count`, a `ValueError` should be raised with a message of your choice (e.g. \"Not enough items in stock!\"). Otherwise, item count should be decremented by `count`."
   ]
  },
  {
   "cell_type": "code",
   "execution_count": null,
   "metadata": {
    "tags": []
   },
   "outputs": [],
   "source": [
    "..."
   ]
  },
  {
   "cell_type": "markdown",
   "metadata": {},
   "source": [
    "Write your tests here:"
   ]
  },
  {
   "cell_type": "code",
   "execution_count": null,
   "metadata": {},
   "outputs": [],
   "source": []
  },
  {
   "cell_type": "code",
   "execution_count": null,
   "metadata": {
    "deletable": false,
    "editable": false
   },
   "outputs": [],
   "source": [
    "grader.check(\"q1_2\")"
   ]
  },
  {
   "cell_type": "markdown",
   "metadata": {},
   "source": [
    "### 1.3\n",
    "rubric={autograde:2,quality:1}"
   ]
  },
  {
   "cell_type": "markdown",
   "metadata": {},
   "source": [
    "Rewrite your class to also implement the following method:\n",
    "\n",
    "- `total_store_value() -> float`\n",
    "\n",
    "Returns the total value of a store given by $\\Sigma_{i} \\text{price}_i \\times \\text{count}_i$, where $i$ denotes each item in stock."
   ]
  },
  {
   "cell_type": "code",
   "execution_count": null,
   "metadata": {
    "tags": []
   },
   "outputs": [],
   "source": [
    "..."
   ]
  },
  {
   "cell_type": "markdown",
   "metadata": {},
   "source": [
    "Write your tests here:"
   ]
  },
  {
   "cell_type": "code",
   "execution_count": null,
   "metadata": {},
   "outputs": [],
   "source": []
  },
  {
   "cell_type": "code",
   "execution_count": null,
   "metadata": {
    "deletable": false,
    "editable": false
   },
   "outputs": [],
   "source": [
    "grader.check(\"q1_3\")"
   ]
  },
  {
   "cell_type": "markdown",
   "metadata": {},
   "source": [
    "### 1.4\n",
    "rubric={autograde:2,quality:1}"
   ]
  },
  {
   "cell_type": "markdown",
   "metadata": {},
   "source": [
    "Rewrite your class to also implement a `__str__()` method, such that when the store object is passed to `print()`, it shows the store name, a summary of stock items, and the total value of the store. Here is an example:\n",
    "\n",
    "```python\n",
    ">>> costco = Store(\"Costco\", \"Richmond\")\n",
    "\n",
    ">>> costco.add_to_stock(\"Detergent\", 320, 10.99)\n",
    ">>> costco.add_to_stock(\"TV\", 25, 400)\n",
    ">>> costco.add_to_stock(\"Shampoo\", 3400, 15.99)\n",
    ">>> costco.add_to_stock(\"Bread\", 2789, 4.99)\n",
    "\n",
    ">>> print(costco)\n",
    "```\n",
    "```output\n",
    "Store name: Costco\n",
    "-------------------\n",
    "Item | Price | Count\n",
    "-------------------\n",
    "Detergent       10.99   320\n",
    "TV                400    25\n",
    "Shampoo         15.99  3400\n",
    "Bread            4.99  2789\n",
    "\n",
    "Total store value: 81,799.91$\n",
    "```\n",
    "\n",
    "**Note:** It's not important how you format the output string. It's only important to have the required information in the output string in a fairly organized way (e.g. each item on a new line)\n",
    "\n",
    "**Hint:** To format the total value like I did, you can use `{var:,.2f}`."
   ]
  },
  {
   "cell_type": "code",
   "execution_count": null,
   "metadata": {
    "tags": []
   },
   "outputs": [],
   "source": [
    "..."
   ]
  },
  {
   "cell_type": "markdown",
   "metadata": {},
   "source": [
    "Write your tests here:"
   ]
  },
  {
   "cell_type": "code",
   "execution_count": null,
   "metadata": {},
   "outputs": [],
   "source": []
  },
  {
   "cell_type": "code",
   "execution_count": null,
   "metadata": {
    "deletable": false,
    "editable": false
   },
   "outputs": [],
   "source": [
    "grader.check(\"q1_4\")"
   ]
  },
  {
   "cell_type": "markdown",
   "metadata": {},
   "source": [
    "## Exercise 2\n",
    "\n",
    "- For all questions in this exercies, write at least 2 meaningful tests for your methods (except for `__init__()`).\n",
    "\n",
    "- **Unless stated otherwise:** For each class and each method, write a short one-line docstring to briefly explain what is done by a class or method. No special formatting, parameter listing, examples, etc. needed."
   ]
  },
  {
   "cell_type": "markdown",
   "metadata": {},
   "source": [
    "### 2.1\n",
    "\n",
    "rubric={autograde:1,accuracy:1,quality:1}"
   ]
  },
  {
   "cell_type": "markdown",
   "metadata": {},
   "source": [
    "Define a class called `Vector` that stores a vector of integer or floating point values. Your `Vector` class should flexible to receive any number of elements for the vector object.\n",
    "\n",
    "**Class**:\n",
    "\n",
    "`Vector(*args: int or float) -> None`\n",
    "\n",
    "Defines attribute `elements: list`, which is a list containing all values supplied through `*args`.\n",
    "\n",
    "Your class should only allow `int`s or `float`s as input; otherwise, it should raise a `TypeError` with an informative message (e.g. \"Vector elements can only be of type int or float.\").\n",
    "\n",
    "**Hint:** Use the built-in Python function `isinstance(obj, (class1, class2, ...)` to inspect input object types.\n",
    "\n",
    "**Note:** You can use `*args` as an argument to any function, in order to allow a variable number of arguments to your function. In this case, we're using `*args` since we don't know in advance how many elements our vector would store.\n",
    "\n",
    "**Methods**:\n",
    "- `magnitude() -> float`\n",
    "\n",
    "Takes in no arguments, and returns the Euclidean norm of the stored vector as given by $\\sqrt{\\Sigma_{i=0}^N i^2}$, where $N$ is the number of elements, and $i$ represents each element of the vector."
   ]
  },
  {
   "cell_type": "code",
   "execution_count": null,
   "metadata": {
    "tags": []
   },
   "outputs": [],
   "source": [
    "..."
   ]
  },
  {
   "cell_type": "markdown",
   "metadata": {},
   "source": [
    "Write your tests here:"
   ]
  },
  {
   "cell_type": "code",
   "execution_count": null,
   "metadata": {},
   "outputs": [],
   "source": []
  },
  {
   "cell_type": "code",
   "execution_count": null,
   "metadata": {
    "deletable": false,
    "editable": false
   },
   "outputs": [],
   "source": [
    "grader.check(\"q2_1\")"
   ]
  },
  {
   "cell_type": "markdown",
   "metadata": {},
   "source": [
    "### 2.2\n",
    "\n",
    "rubric={autograde:1,accuracy:1,quality:1}"
   ]
  },
  {
   "cell_type": "markdown",
   "metadata": {},
   "source": [
    "Based on your `Vector` class, write a `Vector2D` class to extend `Vector` for certain functionalities that are specific to two-dimensional vectors as follows:\n",
    "\n",
    "**Class**:\n",
    "\n",
    "`Vector2D(x: int or float, y: int or float) -> None`\n",
    "\n",
    "Also defines attributes `x: int or float` and `y: int or float` to explicitly store `x` and `y` components of a 2D vector.\n",
    "\n",
    "**Methods**:\n",
    "- `to_polar() -> (float, float)`\n",
    "\n",
    "Coverts Cartesian coordinates `x` and `y` in `Vector2D` to polar coordinates `r` and `theta` according to the following formula:\n",
    "\n",
    "$$\n",
    "\\begin{matrix}\n",
    "r &= \\sqrt{x^2 + y^2}\\\\\n",
    "\\theta &= \\arctan{y / x}\n",
    "\\end{matrix}\n",
    "$$\n",
    "\n",
    "**Note:** Use your `magnitude()` method inherited from `Vector` to compute `r`.\n",
    "\n",
    "**Hint:** Use `np.arctan()` to compute `theta`."
   ]
  },
  {
   "cell_type": "code",
   "execution_count": null,
   "metadata": {
    "tags": []
   },
   "outputs": [],
   "source": [
    "..."
   ]
  },
  {
   "cell_type": "markdown",
   "metadata": {},
   "source": [
    "Write your tests here:"
   ]
  },
  {
   "cell_type": "code",
   "execution_count": null,
   "metadata": {},
   "outputs": [],
   "source": []
  },
  {
   "cell_type": "markdown",
   "metadata": {},
   "source": [
    "### 2.3\n",
    "\n",
    "rubric={autograde:1,accuracy:1,quality:1}"
   ]
  },
  {
   "cell_type": "markdown",
   "metadata": {},
   "source": [
    "Rewrite your `Vector2D` class to also include the following method:\n",
    "\n",
    "\n",
    "**Methods**:\n",
    "- `rotate(alpha: float, inplace=False) -> Vector2D or None:`\n",
    "\n",
    "Rotates `Vector2D` by `alpha` (expressed in radians) to obtain new `x` and `y` according to the following formula:\n",
    "\n",
    "$$\n",
    "\\begin{matrix}\n",
    "x_{\\text{new}} = x \\cos{\\alpha} - y \\sin{\\alpha}\\\\\n",
    "y_{\\text{new}} = x \\sin{\\alpha} + y \\cos{\\alpha}\n",
    "\\end{matrix}\n",
    "$$\n",
    "\n",
    "- By default (when `inplace=False`), a new `Vector2D` should be returned with the new values of `x` and `y`.\n",
    "\n",
    "- When `inplace=True`, `x` and `y` attributes of the current object should be modified. Also, make sure that the `elements: list` attribute also reflects the new elements in this case.\n",
    "\n",
    "**Note:** Use your `magnitude()` method inherited from `Vector` to compute `r`.\n",
    "\n",
    "**Hint:** Use `np.arctan()` to compute `theta`."
   ]
  },
  {
   "cell_type": "code",
   "execution_count": null,
   "metadata": {
    "tags": []
   },
   "outputs": [],
   "source": [
    "..."
   ]
  },
  {
   "cell_type": "markdown",
   "metadata": {},
   "source": [
    "Write your tests here:"
   ]
  },
  {
   "cell_type": "code",
   "execution_count": null,
   "metadata": {},
   "outputs": [],
   "source": []
  },
  {
   "cell_type": "code",
   "execution_count": null,
   "metadata": {
    "deletable": false,
    "editable": false
   },
   "outputs": [],
   "source": [
    "grader.check(\"q2_3\")"
   ]
  },
  {
   "cell_type": "markdown",
   "metadata": {},
   "source": [
    "### 2.4\n",
    "\n",
    "rubric={autograde:1,accuracy:1,quality:1}"
   ]
  },
  {
   "cell_type": "markdown",
   "metadata": {},
   "source": [
    "A 2D vector should not contain more than 2 elements. Modify your `Vector2D` class such that it prevents creating a new object when more than 2 arguments are given, by raising an `AssertionError` with an informative message (e.g. \"A 2D vector cannot have more than 2 elements.\")\n",
    "\n",
    "**Note:** Write full docstring for the class and all methods according to the Scipy/Numpy style guide given [here](https://numpydoc.readthedocs.io/en/latest/format.html#overview)."
   ]
  },
  {
   "cell_type": "code",
   "execution_count": null,
   "metadata": {
    "tags": []
   },
   "outputs": [],
   "source": [
    "..."
   ]
  },
  {
   "cell_type": "markdown",
   "metadata": {},
   "source": [
    "Write your tests here:"
   ]
  },
  {
   "cell_type": "code",
   "execution_count": null,
   "metadata": {},
   "outputs": [],
   "source": []
  },
  {
   "cell_type": "code",
   "execution_count": null,
   "metadata": {
    "deletable": false,
    "editable": false
   },
   "outputs": [],
   "source": [
    "grader.check(\"q2_4\")"
   ]
  },
  {
   "cell_type": "markdown",
   "metadata": {},
   "source": [
    "## Exercise 3\n",
    "\n",
    "- For all questions in this exercies, write at least 2 meaningful tests for your methods (except for `__init__()`).\n",
    "\n",
    "- **Unless stated otherwise:** For each class and each method, write a short one-line docstring to briefly explain what is done by a class or method. No special formatting, parameter listing, examples, etc. needed."
   ]
  },
  {
   "cell_type": "markdown",
   "metadata": {},
   "source": [
    "### 3.1\n",
    "\n",
    "rubric={autograde:1,accuracy:1,quality:1}"
   ]
  },
  {
   "cell_type": "markdown",
   "metadata": {},
   "source": [
    "Right now, if you run\n",
    "\n",
    "```python\n",
    ">>> x = Vector2D(5.5, -8)\n",
    ">>> print(x)\n",
    "```\n",
    "\n",
    "you'll get an output like:\n",
    "\n",
    "```output\n",
    "<__main__.Vector2D object at 0x109511e40>\n",
    "```\n",
    "\n",
    "which is not very helpful for us to know what values the vector stores.\n",
    "\n",
    "Rewrite your `Vector2D` class such that it also implements a `__str__()` method, which gives the following output when printed:\n",
    "\n",
    "```python\n",
    ">>> print(x)\n",
    "```\n",
    "```output\n",
    "Vector2D: (x, y) = (5.5, -8)\n",
    "```"
   ]
  },
  {
   "cell_type": "code",
   "execution_count": null,
   "metadata": {
    "tags": []
   },
   "outputs": [],
   "source": [
    "..."
   ]
  },
  {
   "cell_type": "markdown",
   "metadata": {},
   "source": [
    "Write your tests here:"
   ]
  },
  {
   "cell_type": "code",
   "execution_count": null,
   "metadata": {},
   "outputs": [],
   "source": []
  },
  {
   "cell_type": "code",
   "execution_count": null,
   "metadata": {
    "deletable": false,
    "editable": false
   },
   "outputs": [],
   "source": [
    "grader.check(\"q3_1\")"
   ]
  },
  {
   "cell_type": "markdown",
   "metadata": {},
   "source": [
    "### 3.2\n",
    "\n",
    "rubric={autograde:1,accuracy:1,quality:1}"
   ]
  },
  {
   "cell_type": "markdown",
   "metadata": {},
   "source": [
    "Similar to previous question, now modify your base `Vector` class to show its stored elements when printed, as shown below:\n",
    "\n",
    "```python\n",
    ">>> print(Vector(0, 4.5, 1))\n",
    "```\n",
    "```output\n",
    "Vector = [0, 4.5, 1]\n",
    "```"
   ]
  },
  {
   "cell_type": "code",
   "execution_count": null,
   "metadata": {
    "tags": []
   },
   "outputs": [],
   "source": [
    "..."
   ]
  },
  {
   "cell_type": "markdown",
   "metadata": {},
   "source": [
    "Write your tests here:"
   ]
  },
  {
   "cell_type": "code",
   "execution_count": null,
   "metadata": {},
   "outputs": [],
   "source": []
  },
  {
   "cell_type": "code",
   "execution_count": null,
   "metadata": {
    "deletable": false,
    "editable": false
   },
   "outputs": [],
   "source": [
    "grader.check(\"q3_2\")"
   ]
  },
  {
   "cell_type": "markdown",
   "metadata": {},
   "source": [
    "### 3.3\n",
    "\n",
    "rubric={autograde:1,accuracy:1,quality:1}"
   ]
  },
  {
   "cell_type": "markdown",
   "metadata": {},
   "source": [
    "When working with numerical vectors, it is typically very useful to be able to do arithmetic operations with those vectors (e.g. addition, subtraction). Right now if you add two `Vector`s together as follows:\n",
    "\n",
    "```python\n",
    ">>> a = Vector(1, 1, 1)\n",
    ">>> b = Vector(10, 20, 30)\n",
    ">>> a + b\n",
    "```\n",
    "\n",
    "you'll get the following error:\n",
    "\n",
    "```output\n",
    "TypeError: unsupported operand type(s) for +: 'Vector' and 'Vector'\n",
    "```\n",
    "\n",
    "since Python doesn't know how to interpret the `+` operator between two `Vector`s.\n",
    "\n",
    "Look through the Python documentation on its data model [here](https://docs.python.org/3/reference/datamodel.html) to find the appropriate **dunder** (i.e. \"**d**ouble **under**score) methods that will help you enable addition (i.e. `+`) and subtraction (i.e. `i`) operations between two `Vectors`. Then rewrite your `Vector` class to implement these methods.\n",
    "\n",
    "**Hint:** Your *dunder* methods should return a value of type `Vector`."
   ]
  },
  {
   "cell_type": "code",
   "execution_count": null,
   "metadata": {
    "tags": []
   },
   "outputs": [],
   "source": [
    "..."
   ]
  },
  {
   "cell_type": "markdown",
   "metadata": {},
   "source": [
    "Write your tests here:"
   ]
  },
  {
   "cell_type": "code",
   "execution_count": null,
   "metadata": {},
   "outputs": [],
   "source": []
  },
  {
   "cell_type": "code",
   "execution_count": null,
   "metadata": {
    "deletable": false,
    "editable": false
   },
   "outputs": [],
   "source": [
    "grader.check(\"q3_3\")"
   ]
  },
  {
   "cell_type": "markdown",
   "metadata": {},
   "source": [
    "### 3.4\n",
    "\n",
    "rubric={autograde:1,accuracy:1,quality:1}"
   ]
  },
  {
   "cell_type": "markdown",
   "metadata": {},
   "source": [
    "Modify your class `Vector` to also allow for addition and subtraction with integers and floats. For example:\n",
    "\n",
    "```python\n",
    ">>> x = Vector(1, 2, 3) + 10.25\n",
    ">>> print(x)\n",
    "```\n",
    "\n",
    "should give\n",
    "\n",
    "```output\n",
    "Vector = [11.25, 12.25, 13.25]\n",
    "```\n",
    "\n",
    "**Note:** Adding (or subtracting) a float (or integer) to (from) a `Vector` now becomes an order-dependent operation. When you modify your code such that `Vector(1, 2, 3) + 10.25` and `Vector(1, 2, 3) - 10.25` works, there is one little step further that you can take to make `10.25 + Vector(1, 2, 3)` and `10.25 - Vector(1, 2, 3)` also work. Find the appropriate method [here](https://docs.python.org/3/reference/datamodel.html), and implement it in your code."
   ]
  },
  {
   "cell_type": "code",
   "execution_count": null,
   "metadata": {
    "tags": []
   },
   "outputs": [],
   "source": [
    "..."
   ]
  },
  {
   "cell_type": "markdown",
   "metadata": {},
   "source": [
    "Write your tests here:"
   ]
  },
  {
   "cell_type": "code",
   "execution_count": null,
   "metadata": {},
   "outputs": [],
   "source": []
  },
  {
   "cell_type": "code",
   "execution_count": null,
   "metadata": {
    "deletable": false,
    "editable": false
   },
   "outputs": [],
   "source": [
    "grader.check(\"q3_4\")"
   ]
  },
  {
   "cell_type": "markdown",
   "metadata": {},
   "source": [
    "### 3.5\n",
    "\n",
    "rubric={autograde:1,accuracy:1,quality:1}"
   ]
  },
  {
   "cell_type": "markdown",
   "metadata": {},
   "source": [
    "With your newly acquired knowledge of dunder methods, rewrite your class such that the `*` operator in `Vector(1, 2) * Vector(1, 2)` corresponds to the inner product between the two `Vector` objects."
   ]
  },
  {
   "cell_type": "code",
   "execution_count": null,
   "metadata": {
    "tags": []
   },
   "outputs": [],
   "source": [
    "..."
   ]
  },
  {
   "cell_type": "markdown",
   "metadata": {},
   "source": [
    "Write your tests here:"
   ]
  },
  {
   "cell_type": "code",
   "execution_count": null,
   "metadata": {},
   "outputs": [],
   "source": []
  },
  {
   "cell_type": "code",
   "execution_count": null,
   "metadata": {
    "deletable": false,
    "editable": false
   },
   "outputs": [],
   "source": [
    "grader.check(\"q3_5\")"
   ]
  },
  {
   "cell_type": "markdown",
   "metadata": {},
   "source": [
    "### 3.6 (OPTIONAL)\n",
    "\n",
    "rubric={sum(autograde,accuracy,quality):2.5% of total grade}"
   ]
  },
  {
   "cell_type": "markdown",
   "metadata": {},
   "source": [
    "Consider this scenario: you need to create a `Vector` containing one thousand 1s. It would certainly be very tedious to define such a `Vector` manually, which is why we would like to create an alternative constructor for our `Vector` class to accomodate similar scenarios.\n",
    "\n",
    "Rewrite your `Vector` class such that it's also equipped with 3 alternative ways (methods) to construct vectors:\n",
    "\n",
    "- `zeros(N: int) -> Vector`\n",
    "\n",
    "Creates a `Vector` object with `N` zeros.\n",
    "\n",
    "- `ones(N: int) -> Vector`\n",
    "\n",
    "Creates a `Vector` object with `N` ones.\n",
    "\n",
    "- `arange(stop: int, start: int = 0) -> Vector`\n",
    "\n",
    "Creates a `Vector` object with `N = stop - start` numbers between `start` (inclusive) and `stop` (exlusive).\n",
    "\n",
    "**Examples:**\n",
    "\n",
    "```python\n",
    ">>> x = Vector.ones(10)\n",
    ">>> print(x)\n",
    "```\n",
    "```output\n",
    "Vector = [1, 1, 1, 1, 1, 1, 1, 1, 1, 1]\n",
    "```\n",
    "\n",
    "```python\n",
    ">>> x = Vector.arange(10)\n",
    ">>> print(x)\n",
    "```\n",
    "```output\n",
    "Vector = [0, 1, 2, 3, 4, 5, 6, 7, 8, 9]\n",
    "```"
   ]
  },
  {
   "cell_type": "code",
   "execution_count": null,
   "metadata": {
    "tags": []
   },
   "outputs": [],
   "source": [
    "..."
   ]
  },
  {
   "cell_type": "markdown",
   "metadata": {},
   "source": [
    "Write your tests here:"
   ]
  },
  {
   "cell_type": "code",
   "execution_count": null,
   "metadata": {},
   "outputs": [],
   "source": []
  },
  {
   "cell_type": "code",
   "execution_count": null,
   "metadata": {
    "deletable": false,
    "editable": false
   },
   "outputs": [],
   "source": [
    "grader.check(\"q3_6\")"
   ]
  },
  {
   "cell_type": "markdown",
   "metadata": {},
   "source": [
    "## Exercise 4\n",
    "\n",
    "rubric={autograde:1,accuracy:1,quality:1}\n",
    "\n",
    "- Write at least 2 meaningful tests for your methods (except for `__init__()`).\n",
    "\n",
    "- Write full docstring for the class and all methods according to the Scipy/Numpy style guide given [here](https://numpydoc.readthedocs.io/en/latest/format.html#overview)."
   ]
  },
  {
   "cell_type": "markdown",
   "metadata": {},
   "source": [
    "The CSV (comma separated values) format is a very popular text file format for storing tabular data. In this format, each row is shown on a separate line, and columns are separated (delimited, so to speak) with commas (i.e. `,`), hence the name CSV. Usually, the first line of the file stores column names. Here is an example of the content of the `data.csv` file provided with this lab:\n",
    "\n",
    "```csv\n",
    "Name,Age,Height [cm],Weight [kg]\n",
    "Damien,41,174,73\n",
    "Peggy,29,168,52\n",
    "Anirudh,32,195,92\n",
    "Mike,19,187,77\n",
    "Celine,25,169,63\n",
    "Anthony,53,175,68\n",
    "```\n",
    "\n",
    "The goal here is to create a class called `CSV`, defining an object that stores the raw content of a CSV file, stores its shape, and also has convenient methods to retrieve any desired row, column, or item in the CSV file.\n",
    "\n",
    "A starter code is provided for your `CSV` class that reads the content of a CSV file. You are responsible for defining 1 attribute and 3 methods as follows:\n",
    "\n",
    "**Attributes:**\n",
    "\n",
    "- `shape: tuple(int)`\n",
    "\n",
    "A tuple of two integers indicating the size of CSV data in terms of number of rows and number of columns, respectively.\n",
    "\n",
    "**Methods**:\n",
    "\n",
    "- `get_row(i: int) -> list[str]`\n",
    "\n",
    "Returns the `i`th row (starting from 0) of the CSV file.\n",
    "\n",
    "- `get_column(j: int) -> list[str]`\n",
    "\n",
    "Returns the `j`th column (starting from 0) of the CSV file.\n",
    "\n",
    "- `get_item(i: int, j: int) -> str`\n",
    "\n",
    "Returns the item located at the `i`th row and `j`th column (starting from 0) of the CSV file."
   ]
  },
  {
   "cell_type": "code",
   "execution_count": null,
   "metadata": {
    "tags": []
   },
   "outputs": [],
   "source": [
    "class CSV:\n",
    "    \n",
    "    def __init__(self, filename):\n",
    "        self.text = self.read(filename)\n",
    "        self.shape = ...\n",
    "    \n",
    "    ...\n",
    "    def read(self, filename):\n",
    "        with open(filename, \"r\") as f:\n",
    "            return f.read()"
   ]
  },
  {
   "cell_type": "markdown",
   "metadata": {},
   "source": [
    "Write your tests here:"
   ]
  },
  {
   "cell_type": "code",
   "execution_count": null,
   "metadata": {},
   "outputs": [],
   "source": []
  },
  {
   "cell_type": "code",
   "execution_count": null,
   "metadata": {
    "deletable": false,
    "editable": false
   },
   "outputs": [],
   "source": [
    "grader.check(\"q4\")"
   ]
  },
  {
   "cell_type": "markdown",
   "metadata": {},
   "source": [
    "## Exercise 5 (OPTIONAL)\n",
    "\n",
    "rubric={sum(autograde,accuracy,quality):2.5% of total grade}\n",
    "\n",
    "- Write at least 2 meaningful tests for your methods (except for `__init__()`).\n",
    "\n",
    "- Write a short one-line docstring to briefly explain what is done by the class or each method. No special formatting, parameter listing, examples, etc. needed."
   ]
  },
  {
   "cell_type": "markdown",
   "metadata": {},
   "source": [
    "Object-oriented programming revolves around four important ideas (just in case you're wondering: abstraction, polymorphism, inheritance, and encapsulation or \"A PIE\"). Out of these ideas, the concept of inheritance gives us magical powers: it allows us to extend the functionality of existing classes, just as we've done in the previous exercises of this lab.\n",
    "\n",
    "To show you a demonstration of how useful this can be, consider this scenario:\n",
    "\n",
    "We love our good old python `list`s, but we might need some extra functionality for a special purpose that we have in mind. For example, if you have the following list:\n",
    "\n",
    "```python\n",
    "x = [1, 100, \"Beautiful \", 55, \"British \", 18.2, \"Columbia\", 2, \"🏔\", -4.5]\n",
    "```\n",
    "\n",
    "and run\n",
    "\n",
    "```python\n",
    ">>> sum(x)\n",
    "\n",
    "```\n",
    "\n",
    "you'll get an error saying\n",
    "\n",
    "```output\n",
    "TypeError: unsupported operand type(s) for +: 'int' and 'str'\n",
    "```\n",
    "\n",
    "since as we've learned before, Python doesn't know how to sum `int`s and `str`s (for good reasons, of course).\n",
    "\n",
    "Suppose that we'd like to be able to have an object that is similar to a Python `list`, with the difference that it now has a `sum()` method, which returns another list containing 1) the sum of all numbers in the list, and 2) a string that is the result of concatenating all strings in the list.\n",
    "\n",
    "Moreover, the `list` object in Python doesn't implement a method to compute the mean value of all numbers in the list. This is also something we would like to have.\n",
    "\n",
    "To achieve these goals, define a class called `NewList` with the following specifications:\n",
    "\n",
    "**Class**:\n",
    "\n",
    "`NewList(*args)`\n",
    "\n",
    "**Methods**:\n",
    "\n",
    "- `sum() -> list[float, str]`\n",
    "\n",
    "Returns a list containing the sum of all numerical values in the list at the 0th index, and the result of concatenating all strings in the list at the 1st index.\n",
    "\n",
    "- `mean() -> float`\n",
    "\n",
    "Returns the mean of all numerical values in the list.\n",
    "\n",
    "**Hint:** Use the built-in Python function `isinstance(obj, (class1, class2, ...)` to inspect input object types."
   ]
  },
  {
   "cell_type": "code",
   "execution_count": null,
   "metadata": {
    "tags": []
   },
   "outputs": [],
   "source": [
    "..."
   ]
  },
  {
   "cell_type": "markdown",
   "metadata": {},
   "source": [
    "Write your tests here:"
   ]
  },
  {
   "cell_type": "code",
   "execution_count": null,
   "metadata": {},
   "outputs": [],
   "source": []
  },
  {
   "cell_type": "code",
   "execution_count": null,
   "metadata": {
    "deletable": false,
    "editable": false
   },
   "outputs": [],
   "source": [
    "grader.check(\"q5\")"
   ]
  }
 ],
 "metadata": {
  "anaconda-cloud": {},
  "celltoolbar": "Create Assignment",
  "kernelspec": {
   "display_name": "Python 3.10.6 ('dsci511')",
   "language": "python",
   "name": "python3"
  },
  "language_info": {
   "codemirror_mode": {
    "name": "ipython",
    "version": 3
   },
   "file_extension": ".py",
   "mimetype": "text/x-python",
   "name": "python",
   "nbconvert_exporter": "python",
   "pygments_lexer": "ipython3"
  },
  "otter": {
   "OK_FORMAT": true,
   "tests": {
    "q1_1": {
     "name": "q1_1",
     "points": 1,
     "suites": [
      {
       "cases": [
        {
         "code": ">>> # TEST\n>>> store = Store(\"Costco\", \"Vancouver\")\n>>> store.add_to_stock(\"Toothbrush\", 20, 10)\n>>> store.add_to_stock(\"TV\", 100, 500)\n>>> \n>>> assert store.name == \"Costco\"\n>>> assert store.city == \"Vancouver\"\n>>> assert store.stock[\"TV\"] == {'count': 100, 'price': 500}\n>>> \n>>> store.add_to_stock(\"TV\", 15, 599)\n>>> assert store.stock[\"TV\"] == {'count': 115, 'price': 599}\n>>> \n",
         "hidden": false,
         "locked": false
        },
        {
         "code": ">>> # TEST\n>>> store = Store(\"Costco\", \"Vancouver\")\n>>> store.add_to_stock(\"Toothbrush\", 20, 10)\n>>> store.add_to_stock(\"TV\", 100, 500)\n>>> \n>>> assert store.stock[\"Toothbrush\"][\"count\"] == 20\n>>> assert store.stock[\"TV\"][\"price\"] == 500\n",
         "hidden": false,
         "locked": false
        }
       ],
       "scored": true,
       "setup": "",
       "teardown": "",
       "type": "doctest"
      }
     ]
    },
    "q1_2": {
     "name": "q1_2",
     "points": 1,
     "suites": [
      {
       "cases": [
        {
         "code": ">>> # TEST\n>>> store = Store(\"Costco\", \"Vancouver\")\n>>> store.add_to_stock(\"Toothbrush\", 20, 10)\n>>> store.add_to_stock(\"TV\", 100, 500)\n>>> store.remove_from_stock(\"Toothbrush\", 19)\n>>> \n>>> assert store.stock[\"Toothbrush\"][\"count\"] == 1\n",
         "hidden": false,
         "locked": false
        },
        {
         "code": ">>> # TEST\n>>> store = Store(\"Costco\", \"Vancouver\")\n>>> store.add_to_stock(\"Toothbrush\", 20, 10)\n>>> store.add_to_stock(\"TV\", 100, 500)\n>>> \n>>> import unittest\n>>> \n>>> class Test(unittest.TestCase):\n...     def test_raises(self):\n...         with self.assertRaises(KeyError):\n...            store.remove_from_stock(\"Bread\", 1000)\n...         with self.assertRaises(ValueError):\n...            store.remove_from_stock(\"TV\", 101)\n>>> \n>>> test = unittest.main(argv=[\"\"], verbosity=0, exit=False)\n...    \n>>> assert test.result.wasSuccessful()\n",
         "hidden": false,
         "locked": false
        }
       ],
       "scored": true,
       "setup": "",
       "teardown": "",
       "type": "doctest"
      }
     ]
    },
    "q1_3": {
     "name": "q1_3",
     "points": 1,
     "suites": [
      {
       "cases": [
        {
         "code": ">>> # TEST\n>>> store = Store(\"Costco\", \"Vancouver\")\n>>> store.add_to_stock(\"Toothbrush\", 1, 10)\n>>> store.add_to_stock(\"TV\", 10, 50)\n>>> \n>>> assert store.total_store_value() == 510\n",
         "hidden": false,
         "locked": false
        },
        {
         "code": ">>> # TEST\n>>> store = Store(\"Costco\", \"Vancouver\")\n>>> assert store.total_store_value() == 0\n",
         "hidden": false,
         "locked": false
        }
       ],
       "scored": true,
       "setup": "",
       "teardown": "",
       "type": "doctest"
      }
     ]
    },
    "q1_4": {
     "name": "q1_4",
     "points": 1,
     "suites": [
      {
       "cases": [
        {
         "code": ">>> # TEST\n>>> \n",
         "hidden": false,
         "locked": false
        },
        {
         "code": ">>> import re\n>>> \n>>> costco = Store(\"Costco\", \"Richmond\")\n>>> costco.add_to_stock(\"Detergent\", 320, 10.99)\n>>> costco.add_to_stock(\"TV\", 25, 400)\n>>> costco.add_to_stock(\"Shampoo\", 3400, 15.99)\n>>> costco.add_to_stock(\"Bread\", 2789, 4.99)\n>>> \n>>> assert re.search(r\"Detergent\\s+10.99\\s+320\", costco.__str__())\n>>> assert re.search(r\"Bread\\s+4.99\\s+2789\", costco.__str__())\n>>> assert re.search(r\"Total store value:\\s+81,*799.9.*\\$\", costco.__str__())\n",
         "hidden": false,
         "locked": false
        }
       ],
       "scored": true,
       "setup": "",
       "teardown": "",
       "type": "doctest"
      }
     ]
    },
    "q2_1": {
     "name": "q2_1",
     "points": 1,
     "suites": [
      {
       "cases": [
        {
         "code": ">>> # TEST\n>>> zeros = Vector(0, 0, 0)\n>>> ones = Vector(1, 1, 1)\n>>> assert zeros.elements == [0, 0, 0]\n>>> assert ones.elements == [1, 1, 1]\n",
         "hidden": false,
         "locked": false
        },
        {
         "code": ">>> # TEST\n>>> zeros = Vector(0, 0, 0)\n>>> ones = Vector(1, 1, 1)\n>>> assert zeros.magnitude() == 0\n>>> assert np.isclose(ones.magnitude(), np.sqrt(3))\n",
         "hidden": false,
         "locked": false
        },
        {
         "code": ">>> # TEST\n>>> import unittest\n>>> \n>>> class Test(unittest.TestCase):\n...     def test_raises(self):\n...         with self.assertRaises(TypeError):\n...             Vector(1, 2, \"MDS\")\n>>> \n>>> test = unittest.main(argv=[\"\"], verbosity=0, exit=False)\n>>> \n>>> assert test.result.wasSuccessful()\n",
         "hidden": false,
         "locked": false
        }
       ],
       "scored": true,
       "setup": "",
       "teardown": "",
       "type": "doctest"
      }
     ]
    },
    "q2_2": {
     "name": "q2_2",
     "points": 1,
     "suites": [
      {
       "cases": [],
       "scored": true,
       "setup": "",
       "teardown": "",
       "type": "doctest"
      }
     ]
    },
    "q2_3": {
     "name": "q2_3",
     "points": 1,
     "suites": [
      {
       "cases": [
        {
         "code": ">>> # TEST\n>>> e_x = Vector2D(1, 0)\n>>> e_x = e_x.rotate(np.pi / 4)\n>>> assert np.isclose(e_x.elements[0], e_x.elements[1])\n",
         "hidden": false,
         "locked": false
        },
        {
         "code": ">>> # TEST\n>>> e_x = Vector2D(1, 0)\n>>> e_x.rotate(np.pi / 2, inplace=True)\n>>> assert np.isclose(e_x.elements, Vector2D(0, 1).elements).all()\n",
         "hidden": false,
         "locked": false
        }
       ],
       "scored": true,
       "setup": "",
       "teardown": "",
       "type": "doctest"
      }
     ]
    },
    "q2_4": {
     "name": "q2_4",
     "points": 1,
     "suites": [
      {
       "cases": [
        {
         "code": ">>> # TEST\n>>> import unittest\n...         \n>>> class Test(unittest.TestCase):\n...     def test_raises(self):\n...         with self.assertRaises(AssertionError):\n...             Vector2D(1, 2, 3)\n>>> \n>>> test = unittest.main(argv=[\"\"], verbosity=0, exit=False)\n...     \n>>> assert test.result.wasSuccessful()\n",
         "hidden": false,
         "locked": false
        }
       ],
       "scored": true,
       "setup": "",
       "teardown": "",
       "type": "doctest"
      }
     ]
    },
    "q3_1": {
     "name": "q3_1",
     "points": 1,
     "suites": [
      {
       "cases": [
        {
         "code": ">>> # TEST\n>>> assert str(Vector2D(0, 100)) == f\"Vector2D: (x, y) = (0, 100)\"\n>>> assert str(Vector2D(1.5, -2/3)) == f\"Vector2D: (x, y) = (1.5, -0.666667)\"\n",
         "hidden": false,
         "locked": false
        }
       ],
       "scored": true,
       "setup": "",
       "teardown": "",
       "type": "doctest"
      }
     ]
    },
    "q3_2": {
     "name": "q3_2",
     "points": 1,
     "suites": [
      {
       "cases": [
        {
         "code": ">>> # TEST\n>>> assert str(Vector(100, 100)) == \"Vector = [100, 100]\"\n",
         "hidden": false,
         "locked": false
        },
        {
         "code": ">>> # TEST\n>>> assert str(Vector(1, 2, 3.5)) == \"Vector = [1, 2, 3.5]\"\n",
         "hidden": false,
         "locked": false
        }
       ],
       "scored": true,
       "setup": "",
       "teardown": "",
       "type": "doctest"
      }
     ]
    },
    "q3_3": {
     "name": "q3_3",
     "points": 1,
     "suites": [
      {
       "cases": [
        {
         "code": ">>> # TEST\n>>> a = Vector(1, 1, 1)\n>>> b = Vector(10, 20, 30)\n>>> \n>>> assert (a + b).elements == [11, 21, 31]\n",
         "hidden": false,
         "locked": false
        },
        {
         "code": ">>> # TEST\n>>> a = Vector(1, 1, 1)\n>>> b = Vector(10.5, 20, 30)\n>>> \n>>> assert (a - b).elements == [-9.5, -19, -29]\n",
         "hidden": false,
         "locked": false
        }
       ],
       "scored": true,
       "setup": "",
       "teardown": "",
       "type": "doctest"
      }
     ]
    },
    "q3_4": {
     "name": "q3_4",
     "points": 1,
     "suites": [
      {
       "cases": [
        {
         "code": ">>> # TEST\n>>> a = Vector(1, 2, 3)\n>>> assert (a + 100.5).elements == [101.5, 102.5, 103.5]\n",
         "hidden": false,
         "locked": false
        },
        {
         "code": ">>> # TEST\n>>> a = Vector(1, 2, 3)\n>>> assert (100.5 + a).elements == [101.5, 102.5, 103.5]\n",
         "hidden": false,
         "locked": false
        },
        {
         "code": ">>> # TEST\n>>> a = Vector(1, 2, 3)\n>>> assert (a - 100.5).elements == [-99.5, -98.5, -97.5]\n",
         "hidden": false,
         "locked": false
        },
        {
         "code": ">>> # TEST\n>>> a = Vector(1, 2, 3)\n>>> assert (100.5 - a).elements == [99.5, 98.5, 97.5]\n",
         "hidden": false,
         "locked": false
        }
       ],
       "scored": true,
       "setup": "",
       "teardown": "",
       "type": "doctest"
      }
     ]
    },
    "q3_5": {
     "name": "q3_5",
     "points": 1,
     "suites": [
      {
       "cases": [
        {
         "code": ">>> # TEST\n>>> a = Vector(1, 2, 3)\n>>> b = Vector(0, 0, 0)\n>>> \n>>> assert a * b == 0\n",
         "hidden": false,
         "locked": false
        },
        {
         "code": ">>> # TEST\n>>> a = Vector(1, 2, 3)\n>>> b = Vector(10, 20, 30)\n>>> \n>>> assert a * b == 140\n",
         "hidden": false,
         "locked": false
        }
       ],
       "scored": true,
       "setup": "",
       "teardown": "",
       "type": "doctest"
      }
     ]
    },
    "q3_6": {
     "name": "q3_6",
     "points": 1,
     "suites": [
      {
       "cases": [
        {
         "code": ">>> # TEST\n>>> assert Vector.zeros(10).elements == [0, 0, 0, 0, 0, 0, 0, 0, 0, 0]\n",
         "hidden": false,
         "locked": false
        },
        {
         "code": ">>> # TEST\n>>> assert Vector.ones(10).elements == [1, 1, 1, 1, 1, 1, 1, 1, 1, 1]\n",
         "hidden": false,
         "locked": false
        },
        {
         "code": ">>> # TEST\n>>> assert Vector.arange(10).elements == [0, 1, 2, 3, 4, 5, 6, 7, 8, 9]\n",
         "hidden": false,
         "locked": false
        }
       ],
       "scored": true,
       "setup": "",
       "teardown": "",
       "type": "doctest"
      }
     ]
    },
    "q4": {
     "name": "q4",
     "points": 1,
     "suites": [
      {
       "cases": [
        {
         "code": ">>> csv = CSV(\"data.csv\")\n>>> assert csv.get_row(1) == ['Damien', '41', '174', '73']\n",
         "hidden": false,
         "locked": false
        },
        {
         "code": ">>> csv = CSV(\"data.csv\")\n>>> assert csv.get_column(3) == ['Weight [kg]', '73', '52', '92', '77', '63', '68']\n",
         "hidden": false,
         "locked": false
        },
        {
         "code": ">>> csv = CSV(\"data.csv\")\n>>> assert csv.get_item(-1, 2) == '175'\n",
         "hidden": false,
         "locked": false
        }
       ],
       "scored": true,
       "setup": "",
       "teardown": "",
       "type": "doctest"
      }
     ]
    },
    "q5": {
     "name": "q5",
     "points": 1,
     "suites": [
      {
       "cases": [
        {
         "code": ">>> # TEST\n>>> a = NewList(1, 100, \"Beautiful \", \"British \", \"Columbia \", 2, \"🏔\", -3)\n>>> assert a.mean() == 25\n",
         "hidden": false,
         "locked": false
        },
        {
         "code": ">>> # TEST\n>>> a = NewList(-100, 100, \"Beautiful \", \"British \", \"Columbia \", \"🏔\")\n>>> assert a.mean() == 0\n",
         "hidden": false,
         "locked": false
        },
        {
         "code": ">>> # TEST\n>>> a = NewList(-100, 100, \"Beautiful \", \"British \", \"Columbia \", \"🏔\")\n>>> assert a.sum() == [0, \"Beautiful British Columbia 🏔\"]\n",
         "hidden": false,
         "locked": false
        }
       ],
       "scored": true,
       "setup": "",
       "teardown": "",
       "type": "doctest"
      }
     ]
    }
   }
  },
  "toc": {
   "base_numbering": 1,
   "nav_menu": {},
   "number_sections": false,
   "sideBar": true,
   "skip_h1_title": true,
   "title_cell": "Table of Contents",
   "title_sidebar": "Contents",
   "toc_cell": true,
   "toc_position": {},
   "toc_section_display": true,
   "toc_window_display": true
  },
  "vscode": {
   "interpreter": {
    "hash": "e48f8b1687318edbd5a2a918b592db3baee1b5f69ffdc30179f0c7d8337e101b"
   }
  }
 },
 "nbformat": 4,
 "nbformat_minor": 4
}
